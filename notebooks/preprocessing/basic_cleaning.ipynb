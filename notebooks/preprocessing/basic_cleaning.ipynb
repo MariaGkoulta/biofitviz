{
 "cells": [
  {
   "cell_type": "markdown",
   "metadata": {},
   "source": [
    "## Basic cleaning\n",
    "\n",
    "- Data from 2022\n",
    "- Keep only users that have both biometrics and exercise data\n",
    "- Drop records where we dont have a timestamp\n",
    "- Drop duplicates"
   ]
  },
  {
   "cell_type": "code",
   "execution_count": null,
   "metadata": {},
   "outputs": [],
   "source": [
    "import os\n",
    "import pandas as pd\n",
    "dataframes = {}\n",
    "data_folder = 'data/'\n",
    "for filename in os.listdir(data_folder):\n",
    "    if filename.endswith('.csv'):\n",
    "        file_path = os.path.join(data_folder, filename)\n",
    "        df = pd.read_csv(file_path)\n",
    "        dataframes[filename[:-4]] = df"
   ]
  },
  {
   "cell_type": "markdown",
   "metadata": {},
   "source": [
    "### Check ranges"
   ]
  },
  {
   "cell_type": "code",
   "execution_count": null,
   "metadata": {},
   "outputs": [
    {
     "name": "stdout",
     "output_type": "stream",
     "text": [
      "Time range for the combined dataframe: 2022-01-02 01:34:04.924000+00:00 to 2022-12-31 23:27:32.374000+00:00\n"
     ]
    }
   ],
   "source": [
    "biometrics = pd.concat([dataframes['bio1'], dataframes['bio2']])\n",
    "biometrics['MeasuredOnUTC'] = pd.to_datetime(biometrics['MeasuredOnUTC'], errors='coerce')\n",
    "biometrics = biometrics.dropna(subset=['MeasuredOnUTC'])\n",
    "time_range = (biometrics['MeasuredOnUTC'].min(), biometrics['MeasuredOnUTC'].max())\n",
    "print(f\"Time range for the combined dataframe: {time_range[0]} to {time_range[1]}\")"
   ]
  },
  {
   "cell_type": "code",
   "execution_count": null,
   "metadata": {},
   "outputs": [
    {
     "name": "stdout",
     "output_type": "stream",
     "text": [
      "Time range for the combined dataframe: 2022-01-02 00:00:45.421000+00:00 to 2022-12-31 23:59:42.223000+00:00\n"
     ]
    }
   ],
   "source": [
    "exercises = pd.concat([dataframes['ex1'], dataframes['ex2']])\n",
    "exercises['DoneOnUTC'] = pd.to_datetime(exercises['DoneOnUTC'], errors='coerce')\n",
    "exercises = exercises.dropna(subset=['DoneOnUTC'])\n",
    "time_range = (exercises['DoneOnUTC'].min(), exercises['DoneOnUTC'].max())\n",
    "print(f\"Time range for the combined dataframe: {time_range[0]} to {time_range[1]}\")"
   ]
  },
  {
   "cell_type": "markdown",
   "metadata": {},
   "source": [
    "### Keep only users for which we have both biometrics and exercise data"
   ]
  },
  {
   "cell_type": "code",
   "execution_count": null,
   "metadata": {},
   "outputs": [
    {
     "name": "stdout",
     "output_type": "stream",
     "text": [
      "Number of distinct users in exercises dataframe: 6360\n",
      "Number of distinct users in biometrics dataframe: 8312\n"
     ]
    }
   ],
   "source": [
    "distinct_users_exercises = exercises['CloudId'].nunique()\n",
    "print(f\"Number of distinct users in exercises dataframe: {distinct_users_exercises}\")\n",
    "distinct_users_biometrics = biometrics['CloudId'].nunique()\n",
    "print(f\"Number of distinct users in biometrics dataframe: {distinct_users_biometrics}\")\n",
    "common_users = set(biometrics['CloudId']).intersection(set(exercises['CloudId']))\n",
    "biometrics_common = biometrics[biometrics['CloudId'].isin(common_users)]\n",
    "exercises_common = exercises[exercises['CloudId'].isin(common_users)]\n",
    "num_common_users = len(common_users)\n",
    "print(f\"Number of common users in both dataframes: {num_common_users}\")\n",
    "biometrics_filtered = biometrics[biometrics['CloudId'].isin(common_users)]\n",
    "exercises_filtered = exercises[exercises['CloudId'].isin(common_users)]\n",
    "print(f\"Filtered biometrics dataframe shape: {biometrics_filtered.shape}\")\n",
    "print(f\"Filtered exercises dataframe shape: {exercises_filtered.shape}\")"
   ]
  },
  {
   "cell_type": "markdown",
   "metadata": {},
   "source": [
    "#### Drop duplicates"
   ]
  },
  {
   "cell_type": "code",
   "execution_count": null,
   "metadata": {},
   "outputs": [
    {
     "name": "stdout",
     "output_type": "stream",
     "text": [
      "biometrics_filtered shape after removing duplicates: (4889207, 7)\n",
      "exercises_filtered shape after removing duplicates: (3315940, 13)\n"
     ]
    }
   ],
   "source": [
    "biometrics_filtered = biometrics_filtered.drop_duplicates()\n",
    "exercises_filtered = exercises_filtered.drop_duplicates()\n",
    "exercises = exercises_filtered\n",
    "biometrics = biometrics_filtered\n",
    "print(f\"Updated exercises dataframe shape: {exercises.shape}\")\n",
    "print(f\"Updated biometrics dataframe shape: {biometrics.shape}\")\n",
    "print(exercises['CloudId'].nunique())\n",
    "print(biometrics['CloudId'].nunique())\n",
    "biometrics.to_csv('biometrics_cleaned.csv', index=False)\n",
    "exercises.to_csv('exercises_cleaned.csv', index=False)"
   ]
  }
 ],
 "metadata": {
  "kernelspec": {
   "display_name": "umap",
   "language": "python",
   "name": "python3"
  },
  "language_info": {
   "codemirror_mode": {
    "name": "ipython",
    "version": 3
   },
   "file_extension": ".py",
   "mimetype": "text/x-python",
   "name": "python",
   "nbconvert_exporter": "python",
   "pygments_lexer": "ipython3",
   "version": "3.10.15"
  }
 },
 "nbformat": 4,
 "nbformat_minor": 2
}
