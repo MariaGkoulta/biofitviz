{
 "cells": [
  {
   "cell_type": "markdown",
   "metadata": {},
   "source": [
    "## Contents\n",
    "\n",
    "This doesn't produce any file which will be used later\n",
    "\n",
    "- Keep only x states where we have the largest difference in biometrics\n",
    "- Implement the convex hull algorithm to plot the cluster areas"
   ]
  },
  {
   "cell_type": "code",
   "execution_count": 20,
   "metadata": {},
   "outputs": [],
   "source": [
    "import pandas as pd\n",
    "import numpy as np\n",
    "from sklearn.preprocessing import StandardScaler\n",
    "from sklearn.decomposition import PCA\n",
    "import matplotlib.pyplot as plt\n",
    "import seaborn as sns\n",
    "import plotly.express as px\n",
    "import plotly.graph_objects as go\n",
    "from scipy.spatial import Voronoi, voronoi_plot_2d\n",
    "from scipy.spatial import Voronoi, ConvexHull\n",
    "import plotly.graph_objects as go\n",
    "\n",
    "pd.set_option('display.max_columns', None)"
   ]
  },
  {
   "cell_type": "code",
   "execution_count": 21,
   "metadata": {},
   "outputs": [
    {
     "data": {
      "text/html": [
       "<div>\n",
       "<style scoped>\n",
       "    .dataframe tbody tr th:only-of-type {\n",
       "        vertical-align: middle;\n",
       "    }\n",
       "\n",
       "    .dataframe tbody tr th {\n",
       "        vertical-align: top;\n",
       "    }\n",
       "\n",
       "    .dataframe thead th {\n",
       "        text-align: right;\n",
       "    }\n",
       "</style>\n",
       "<table border=\"1\" class=\"dataframe\">\n",
       "  <thead>\n",
       "    <tr style=\"text-align: right;\">\n",
       "      <th></th>\n",
       "      <th>BMI</th>\n",
       "      <th>Degree Of Obesity Perc</th>\n",
       "      <th>Fat mass Perc</th>\n",
       "      <th>Intra Cellular Water</th>\n",
       "      <th>Left Arm Fat Perc</th>\n",
       "      <th>Left Leg Fat Perc</th>\n",
       "      <th>Right Arm Fat Perc</th>\n",
       "      <th>Right Leg Fat Perc</th>\n",
       "      <th>Standard Body Weight</th>\n",
       "      <th>Total Body Water Perc</th>\n",
       "      <th>Trunk Fat Perc</th>\n",
       "      <th>Visceral Fat Rating</th>\n",
       "      <th>Weight_per_height</th>\n",
       "      <th>Muscle Mass_per_height</th>\n",
       "      <th>Fat Free Mass_per_height</th>\n",
       "      <th>Bone Mass_per_height</th>\n",
       "      <th>Trunk Muscle Mass_per_height</th>\n",
       "      <th>Basal Metabolic Rate_per_age</th>\n",
       "      <th>Metabolic Age_per_age</th>\n",
       "      <th>Cluster</th>\n",
       "      <th>CloudId</th>\n",
       "      <th>MeasuredOnWeek</th>\n",
       "      <th>PCA1</th>\n",
       "      <th>PCA2</th>\n",
       "    </tr>\n",
       "  </thead>\n",
       "  <tbody>\n",
       "    <tr>\n",
       "      <th>20</th>\n",
       "      <td>25.9</td>\n",
       "      <td>17.7</td>\n",
       "      <td>16.4</td>\n",
       "      <td>26.1</td>\n",
       "      <td>13.1</td>\n",
       "      <td>18.2</td>\n",
       "      <td>14.4</td>\n",
       "      <td>19.1</td>\n",
       "      <td>59.2</td>\n",
       "      <td>60.8</td>\n",
       "      <td>15.3</td>\n",
       "      <td>5.0</td>\n",
       "      <td>0.425610</td>\n",
       "      <td>0.338415</td>\n",
       "      <td>0.356098</td>\n",
       "      <td>0.017683</td>\n",
       "      <td>0.185976</td>\n",
       "      <td>45.621622</td>\n",
       "      <td>0.675676</td>\n",
       "      <td>4</td>\n",
       "      <td>0022b439d0d622b758a0e9d0a8c8ea47c9d4f871</td>\n",
       "      <td>4</td>\n",
       "      <td>-1.617988</td>\n",
       "      <td>-0.211255</td>\n",
       "    </tr>\n",
       "    <tr>\n",
       "      <th>21</th>\n",
       "      <td>26.1</td>\n",
       "      <td>18.8</td>\n",
       "      <td>19.2</td>\n",
       "      <td>24.7</td>\n",
       "      <td>16.4</td>\n",
       "      <td>18.3</td>\n",
       "      <td>16.7</td>\n",
       "      <td>19.3</td>\n",
       "      <td>59.2</td>\n",
       "      <td>59.3</td>\n",
       "      <td>19.8</td>\n",
       "      <td>6.0</td>\n",
       "      <td>0.428659</td>\n",
       "      <td>0.328659</td>\n",
       "      <td>0.346341</td>\n",
       "      <td>0.017683</td>\n",
       "      <td>0.178049</td>\n",
       "      <td>44.621622</td>\n",
       "      <td>0.891892</td>\n",
       "      <td>3</td>\n",
       "      <td>0022b439d0d622b758a0e9d0a8c8ea47c9d4f871</td>\n",
       "      <td>12</td>\n",
       "      <td>-0.770443</td>\n",
       "      <td>-0.953107</td>\n",
       "    </tr>\n",
       "  </tbody>\n",
       "</table>\n",
       "</div>"
      ],
      "text/plain": [
       "     BMI  Degree Of Obesity Perc  Fat mass Perc  Intra Cellular Water  \\\n",
       "20  25.9                    17.7           16.4                  26.1   \n",
       "21  26.1                    18.8           19.2                  24.7   \n",
       "\n",
       "    Left Arm Fat Perc  Left Leg Fat Perc  Right Arm Fat Perc  \\\n",
       "20               13.1               18.2                14.4   \n",
       "21               16.4               18.3                16.7   \n",
       "\n",
       "    Right Leg Fat Perc  Standard Body Weight  Total Body Water Perc  \\\n",
       "20                19.1                  59.2                   60.8   \n",
       "21                19.3                  59.2                   59.3   \n",
       "\n",
       "    Trunk Fat Perc  Visceral Fat Rating  Weight_per_height  \\\n",
       "20            15.3                  5.0           0.425610   \n",
       "21            19.8                  6.0           0.428659   \n",
       "\n",
       "    Muscle Mass_per_height  Fat Free Mass_per_height  Bone Mass_per_height  \\\n",
       "20                0.338415                  0.356098              0.017683   \n",
       "21                0.328659                  0.346341              0.017683   \n",
       "\n",
       "    Trunk Muscle Mass_per_height  Basal Metabolic Rate_per_age  \\\n",
       "20                      0.185976                     45.621622   \n",
       "21                      0.178049                     44.621622   \n",
       "\n",
       "    Metabolic Age_per_age  Cluster                                   CloudId  \\\n",
       "20               0.675676        4  0022b439d0d622b758a0e9d0a8c8ea47c9d4f871   \n",
       "21               0.891892        3  0022b439d0d622b758a0e9d0a8c8ea47c9d4f871   \n",
       "\n",
       "    MeasuredOnWeek      PCA1      PCA2  \n",
       "20               4 -1.617988 -0.211255  \n",
       "21              12 -0.770443 -0.953107  "
      ]
     },
     "execution_count": 21,
     "metadata": {},
     "output_type": "execute_result"
    }
   ],
   "source": [
    "\n",
    "# read file produced from biometrics_clustering.ipynb\n",
    "bio = pd.read_pickle('../data_processed/biometrics_clustered_males.pkl')\n",
    "bio.head(2)"
   ]
  },
  {
   "cell_type": "markdown",
   "metadata": {},
   "source": [
    "### Keep only 4 states\n",
    "#### Methodology\n",
    "\n",
    "1. Calculate the absolute differences between consecutive measurements.\n",
    "2. Select the top N measurements with the largest changes.\n",
    "3. Ensure the first measurement is always included.\n",
    "\n"
   ]
  },
  {
   "cell_type": "code",
   "execution_count": 22,
   "metadata": {},
   "outputs": [],
   "source": [
    "NUMBER_OF_MEASUREMENTS = 5"
   ]
  },
  {
   "cell_type": "code",
   "execution_count": 23,
   "metadata": {},
   "outputs": [
    {
     "name": "stderr",
     "output_type": "stream",
     "text": [
      "/var/folders/3f/hpgbw8dd459305qvgctxmywc0000gn/T/ipykernel_35803/1406802884.py:23: DeprecationWarning:\n",
      "\n",
      "DataFrameGroupBy.apply operated on the grouping columns. This behavior is deprecated, and in a future version of pandas the grouping columns will be excluded from the operation. Either pass `include_groups=False` to exclude the groupings or explicitly select the grouping columns after groupby to silence this warning.\n",
      "\n"
     ]
    },
    {
     "data": {
      "text/html": [
       "<div>\n",
       "<style scoped>\n",
       "    .dataframe tbody tr th:only-of-type {\n",
       "        vertical-align: middle;\n",
       "    }\n",
       "\n",
       "    .dataframe tbody tr th {\n",
       "        vertical-align: top;\n",
       "    }\n",
       "\n",
       "    .dataframe thead th {\n",
       "        text-align: right;\n",
       "    }\n",
       "</style>\n",
       "<table border=\"1\" class=\"dataframe\">\n",
       "  <thead>\n",
       "    <tr style=\"text-align: right;\">\n",
       "      <th></th>\n",
       "      <th>BMI</th>\n",
       "      <th>Degree Of Obesity Perc</th>\n",
       "      <th>Fat mass Perc</th>\n",
       "      <th>Intra Cellular Water</th>\n",
       "      <th>Left Arm Fat Perc</th>\n",
       "      <th>Left Leg Fat Perc</th>\n",
       "      <th>Right Arm Fat Perc</th>\n",
       "      <th>Right Leg Fat Perc</th>\n",
       "      <th>Standard Body Weight</th>\n",
       "      <th>Total Body Water Perc</th>\n",
       "      <th>Trunk Fat Perc</th>\n",
       "      <th>Visceral Fat Rating</th>\n",
       "      <th>Weight_per_height</th>\n",
       "      <th>Muscle Mass_per_height</th>\n",
       "      <th>Fat Free Mass_per_height</th>\n",
       "      <th>Bone Mass_per_height</th>\n",
       "      <th>Trunk Muscle Mass_per_height</th>\n",
       "      <th>Basal Metabolic Rate_per_age</th>\n",
       "      <th>Metabolic Age_per_age</th>\n",
       "      <th>Cluster</th>\n",
       "      <th>CloudId</th>\n",
       "      <th>MeasuredOnWeek</th>\n",
       "      <th>PCA1</th>\n",
       "      <th>PCA2</th>\n",
       "    </tr>\n",
       "  </thead>\n",
       "  <tbody>\n",
       "    <tr>\n",
       "      <th>0</th>\n",
       "      <td>25.9</td>\n",
       "      <td>17.7</td>\n",
       "      <td>16.4</td>\n",
       "      <td>26.1</td>\n",
       "      <td>13.1</td>\n",
       "      <td>18.2</td>\n",
       "      <td>14.4</td>\n",
       "      <td>19.1</td>\n",
       "      <td>59.2</td>\n",
       "      <td>60.8</td>\n",
       "      <td>15.3</td>\n",
       "      <td>5.0</td>\n",
       "      <td>0.425610</td>\n",
       "      <td>0.338415</td>\n",
       "      <td>0.356098</td>\n",
       "      <td>0.017683</td>\n",
       "      <td>0.185976</td>\n",
       "      <td>45.621622</td>\n",
       "      <td>0.675676</td>\n",
       "      <td>4</td>\n",
       "      <td>0022b439d0d622b758a0e9d0a8c8ea47c9d4f871</td>\n",
       "      <td>4</td>\n",
       "      <td>-1.617988</td>\n",
       "      <td>-0.211255</td>\n",
       "    </tr>\n",
       "    <tr>\n",
       "      <th>1</th>\n",
       "      <td>26.1</td>\n",
       "      <td>18.8</td>\n",
       "      <td>19.2</td>\n",
       "      <td>24.7</td>\n",
       "      <td>16.4</td>\n",
       "      <td>18.3</td>\n",
       "      <td>16.7</td>\n",
       "      <td>19.3</td>\n",
       "      <td>59.2</td>\n",
       "      <td>59.3</td>\n",
       "      <td>19.8</td>\n",
       "      <td>6.0</td>\n",
       "      <td>0.428659</td>\n",
       "      <td>0.328659</td>\n",
       "      <td>0.346341</td>\n",
       "      <td>0.017683</td>\n",
       "      <td>0.178049</td>\n",
       "      <td>44.621622</td>\n",
       "      <td>0.891892</td>\n",
       "      <td>3</td>\n",
       "      <td>0022b439d0d622b758a0e9d0a8c8ea47c9d4f871</td>\n",
       "      <td>12</td>\n",
       "      <td>-0.770443</td>\n",
       "      <td>-0.953107</td>\n",
       "    </tr>\n",
       "    <tr>\n",
       "      <th>2</th>\n",
       "      <td>25.2</td>\n",
       "      <td>14.5</td>\n",
       "      <td>17.4</td>\n",
       "      <td>24.5</td>\n",
       "      <td>15.4</td>\n",
       "      <td>16.8</td>\n",
       "      <td>15.7</td>\n",
       "      <td>17.0</td>\n",
       "      <td>59.2</td>\n",
       "      <td>60.8</td>\n",
       "      <td>18.1</td>\n",
       "      <td>6.0</td>\n",
       "      <td>0.413415</td>\n",
       "      <td>0.324390</td>\n",
       "      <td>0.341463</td>\n",
       "      <td>0.017073</td>\n",
       "      <td>0.176220</td>\n",
       "      <td>43.864865</td>\n",
       "      <td>0.756757</td>\n",
       "      <td>4</td>\n",
       "      <td>0022b439d0d622b758a0e9d0a8c8ea47c9d4f871</td>\n",
       "      <td>16</td>\n",
       "      <td>-1.671386</td>\n",
       "      <td>-0.945742</td>\n",
       "    </tr>\n",
       "  </tbody>\n",
       "</table>\n",
       "</div>"
      ],
      "text/plain": [
       "    BMI  Degree Of Obesity Perc  Fat mass Perc  Intra Cellular Water  \\\n",
       "0  25.9                    17.7           16.4                  26.1   \n",
       "1  26.1                    18.8           19.2                  24.7   \n",
       "2  25.2                    14.5           17.4                  24.5   \n",
       "\n",
       "   Left Arm Fat Perc  Left Leg Fat Perc  Right Arm Fat Perc  \\\n",
       "0               13.1               18.2                14.4   \n",
       "1               16.4               18.3                16.7   \n",
       "2               15.4               16.8                15.7   \n",
       "\n",
       "   Right Leg Fat Perc  Standard Body Weight  Total Body Water Perc  \\\n",
       "0                19.1                  59.2                   60.8   \n",
       "1                19.3                  59.2                   59.3   \n",
       "2                17.0                  59.2                   60.8   \n",
       "\n",
       "   Trunk Fat Perc  Visceral Fat Rating  Weight_per_height  \\\n",
       "0            15.3                  5.0           0.425610   \n",
       "1            19.8                  6.0           0.428659   \n",
       "2            18.1                  6.0           0.413415   \n",
       "\n",
       "   Muscle Mass_per_height  Fat Free Mass_per_height  Bone Mass_per_height  \\\n",
       "0                0.338415                  0.356098              0.017683   \n",
       "1                0.328659                  0.346341              0.017683   \n",
       "2                0.324390                  0.341463              0.017073   \n",
       "\n",
       "   Trunk Muscle Mass_per_height  Basal Metabolic Rate_per_age  \\\n",
       "0                      0.185976                     45.621622   \n",
       "1                      0.178049                     44.621622   \n",
       "2                      0.176220                     43.864865   \n",
       "\n",
       "   Metabolic Age_per_age  Cluster                                   CloudId  \\\n",
       "0               0.675676        4  0022b439d0d622b758a0e9d0a8c8ea47c9d4f871   \n",
       "1               0.891892        3  0022b439d0d622b758a0e9d0a8c8ea47c9d4f871   \n",
       "2               0.756757        4  0022b439d0d622b758a0e9d0a8c8ea47c9d4f871   \n",
       "\n",
       "   MeasuredOnWeek      PCA1      PCA2  \n",
       "0               4 -1.617988 -0.211255  \n",
       "1              12 -0.770443 -0.953107  \n",
       "2              16 -1.671386 -0.945742  "
      ]
     },
     "execution_count": 23,
     "metadata": {},
     "output_type": "execute_result"
    }
   ],
   "source": [
    "\n",
    "def select_top_states(group):\n",
    "    # Ensure chronological order\n",
    "    group = group.sort_values(by='MeasuredOnWeek').reset_index(drop=True)\n",
    "    \n",
    "    # Calculate absolute differences between consecutive measurements for each column\n",
    "    diff_cols = [col for col in group.columns if col not in ['gender_m', 'gender_f', 'CloudId', 'MeasuredOnWeek', 'Cluster']]\n",
    "    group['Diff'] = group[diff_cols].diff().abs().sum(axis=1)\n",
    "    \n",
    "    # Always include the first measurement\n",
    "    indices = [0]\n",
    "    \n",
    "    # Select the top 3 measurements with the largest changes\n",
    "    if len(group) > 1:\n",
    "        largest_changes = group.iloc[1:].nlargest(NUMBER_OF_MEASUREMENTS - 1, 'Diff').index\n",
    "        indices.extend(largest_changes)\n",
    "    \n",
    "    # Sort indices to maintain chronological order\n",
    "    indices = sorted(indices)\n",
    "    \n",
    "    return group.loc[indices].drop(columns='Diff')\n",
    "\n",
    "# Apply the function to each user group\n",
    "reduced_bio = bio.groupby('CloudId').apply(select_top_states).reset_index(drop=True)\n",
    "\n",
    "reduced_bio.head(3)"
   ]
  },
  {
   "cell_type": "code",
   "execution_count": 24,
   "metadata": {},
   "outputs": [],
   "source": [
    "# store reduced_bio\n",
    "# reduced_bio.to_pickle('../data_cleaned/biometrics_m10_imputed_clustered_changes_reduced.pkl')"
   ]
  },
  {
   "cell_type": "code",
   "execution_count": 25,
   "metadata": {},
   "outputs": [
    {
     "data": {
      "application/vnd.plotly.v1+json": {
       "config": {
        "plotlyServerURL": "https://plot.ly"
       },
       "data": [
        {
         "line": {
          "shape": "spline"
         },
         "marker": {
          "color": [
           4,
           3,
           4,
           3,
           3
          ]
         },
         "mode": "lines+markers",
         "text": [
          "Cluster: 4",
          "Cluster: 3",
          "Cluster: 4",
          "Cluster: 3",
          "Cluster: 3"
         ],
         "type": "scatter",
         "x": [
          -1.6179877929155,
          -0.7704432722843588,
          -1.6713864630015587,
          -0.17181086183651728,
          -0.4490752717196766
         ],
         "y": [
          -0.21125468480113557,
          -0.9531071594917072,
          -0.9457422770306718,
          -0.7544765933375772,
          -0.30314291850397806
         ]
        },
        {
         "line": {
          "shape": "spline"
         },
         "marker": {
          "color": [
           1,
           1,
           1,
           4,
           1
          ]
         },
         "mode": "lines+markers",
         "text": [
          "Cluster: 1",
          "Cluster: 1",
          "Cluster: 1",
          "Cluster: 4",
          "Cluster: 1"
         ],
         "type": "scatter",
         "x": [
          -1.6882606158316016,
          -1.3969285344388152,
          -2.03036472171205,
          -1.9313627233155117,
          -2.7170107347518404
         ],
         "y": [
          0.7003933664558402,
          0.1970575469002732,
          0.5286084895003357,
          -0.14202774058720624,
          0.7035552860178348
         ]
        },
        {
         "line": {
          "shape": "spline"
         },
         "marker": {
          "color": [
           1,
           1,
           1,
           1,
           1
          ]
         },
         "mode": "lines+markers",
         "text": [
          "Cluster: 1",
          "Cluster: 1",
          "Cluster: 1",
          "Cluster: 1",
          "Cluster: 1"
         ],
         "type": "scatter",
         "x": [
          -1.1420967242214524,
          -2.072579180998745,
          -2.3878918386794257,
          0.07330383817455423,
          0.04283418827499713
         ],
         "y": [
          2.0942188603457286,
          2.9187631438951454,
          3.2737888863590907,
          2.4496870968069984,
          2.1553898788464623
         ]
        },
        {
         "line": {
          "shape": "spline"
         },
         "marker": {
          "color": [
           0,
           3,
           3,
           0,
           0
          ]
         },
         "mode": "lines+markers",
         "text": [
          "Cluster: 0",
          "Cluster: 3",
          "Cluster: 3",
          "Cluster: 0",
          "Cluster: 0"
         ],
         "type": "scatter",
         "x": [
          -1.0934533190447893,
          -0.3809996434035997,
          -0.474081153454898,
          -0.2706415490173161,
          -0.8512139823395121
         ],
         "y": [
          -1.854170494651736,
          -1.9556229361376347,
          -1.809309474951033,
          -1.5782260316511805,
          -1.7857888985371426
         ]
        },
        {
         "line": {
          "shape": "spline"
         },
         "marker": {
          "color": [
           3,
           3,
           1,
           2,
           1
          ]
         },
         "mode": "lines+markers",
         "text": [
          "Cluster: 3",
          "Cluster: 3",
          "Cluster: 1",
          "Cluster: 2",
          "Cluster: 1"
         ],
         "type": "scatter",
         "x": [
          1.1619653910260719,
          0.11876167259255525,
          -0.25956861118096136,
          1.1777021058841015,
          0.1921319763358316
         ],
         "y": [
          -0.5228791990753143,
          0.0947481538495558,
          1.0046839596250916,
          0.43666889457986346,
          1.3340118048905973
         ]
        },
        {
         "line": {
          "shape": "spline"
         },
         "marker": {
          "color": [
           0,
           4,
           4,
           4,
           4
          ]
         },
         "mode": "lines+markers",
         "text": [
          "Cluster: 0",
          "Cluster: 4",
          "Cluster: 4",
          "Cluster: 4",
          "Cluster: 4"
         ],
         "type": "scatter",
         "x": [
          -1.9561455965892598,
          -4.604704553409218,
          -3.5347065665385915,
          -4.371354436772923,
          -3.883968800703136
         ],
         "y": [
          -0.9231605647964133,
          -0.5879105165122048,
          -0.9827595447314671,
          -0.3605483835653238,
          -0.8303300887613412
         ]
        },
        {
         "line": {
          "shape": "spline"
         },
         "marker": {
          "color": [
           0,
           0,
           0,
           1,
           0
          ]
         },
         "mode": "lines+markers",
         "text": [
          "Cluster: 0",
          "Cluster: 0",
          "Cluster: 0",
          "Cluster: 1",
          "Cluster: 0"
         ],
         "type": "scatter",
         "x": [
          0.6872404387504475,
          -0.0007781519997621704,
          -0.09605559318203644,
          -0.4213355676897706,
          0.5891011230921643
         ],
         "y": [
          3.356925844177842,
          3.25366518789086,
          4.3068262979368725,
          5.539889902891773,
          3.45201676095255
         ]
        },
        {
         "line": {
          "shape": "spline"
         },
         "marker": {
          "color": [
           3,
           4,
           4,
           4,
           4
          ]
         },
         "mode": "lines+markers",
         "text": [
          "Cluster: 3",
          "Cluster: 4",
          "Cluster: 4",
          "Cluster: 4",
          "Cluster: 4"
         ],
         "type": "scatter",
         "x": [
          -1.0742463809557015,
          -1.4598550518984914,
          -2.034664052967869,
          -3.238709268028239,
          -2.7113202502119655
         ],
         "y": [
          -0.8354307883436118,
          -0.587728543684248,
          -1.033818792747954,
          -0.2542100972778424,
          -0.7230917066532261
         ]
        },
        {
         "line": {
          "shape": "spline"
         },
         "marker": {
          "color": [
           0,
           0,
           1,
           1,
           0
          ]
         },
         "mode": "lines+markers",
         "text": [
          "Cluster: 0",
          "Cluster: 0",
          "Cluster: 1",
          "Cluster: 1",
          "Cluster: 0"
         ],
         "type": "scatter",
         "x": [
          0.08954108042915673,
          0.8969498517575655,
          -0.07261259030793943,
          -2.4427165831713267,
          0.2828292943667845
         ],
         "y": [
          0.4296557481887274,
          3.6209034878364625,
          1.193441106358166,
          0.9524419715983176,
          0.4275521041211918
         ]
        },
        {
         "line": {
          "shape": "spline"
         },
         "marker": {
          "color": [
           0,
           0,
           0,
           0,
           0
          ]
         },
         "mode": "lines+markers",
         "text": [
          "Cluster: 0",
          "Cluster: 0",
          "Cluster: 0",
          "Cluster: 0",
          "Cluster: 0"
         ],
         "type": "scatter",
         "x": [
          0.32216015409339144,
          0.08942588823853413,
          1.051133706441126,
          0.733989975656376,
          0.27759709757532186
         ],
         "y": [
          1.1815526450837615,
          1.7459704904912663,
          1.1554001077250138,
          1.3486608382606426,
          1.4363770234858175
         ]
        },
        {
         "line": {
          "shape": "spline"
         },
         "marker": {
          "color": [
           2,
           1,
           1,
           1,
           1
          ]
         },
         "mode": "lines+markers",
         "text": [
          "Cluster: 2",
          "Cluster: 1",
          "Cluster: 1",
          "Cluster: 1",
          "Cluster: 1"
         ],
         "type": "scatter",
         "x": [
          2.005234279508006,
          -0.7622678076616797,
          -0.12181986527560186,
          0.10547643462876855,
          0.24917031850614804
         ],
         "y": [
          3.041171526311606,
          4.299703193792492,
          3.807116744804502,
          4.364061737035861,
          4.070937476620378
         ]
        },
        {
         "line": {
          "shape": "spline"
         },
         "marker": {
          "color": [
           4,
           4,
           3,
           4,
           3
          ]
         },
         "mode": "lines+markers",
         "text": [
          "Cluster: 4",
          "Cluster: 4",
          "Cluster: 3",
          "Cluster: 4",
          "Cluster: 3"
         ],
         "type": "scatter",
         "x": [
          -2.2310475688848643,
          -2.557289100276976,
          1.6751448684727093,
          -2.4998672142914065,
          1.6751448684727093
         ],
         "y": [
          -0.8125052168064991,
          -0.9691458308373012,
          -0.3326464713701068,
          -0.5195725303272148,
          -0.3326464713701068
         ]
        },
        {
         "line": {
          "shape": "spline"
         },
         "marker": {
          "color": [
           5,
           2,
           5,
           5,
           5
          ]
         },
         "mode": "lines+markers",
         "text": [
          "Cluster: 5",
          "Cluster: 2",
          "Cluster: 5",
          "Cluster: 5",
          "Cluster: 5"
         ],
         "type": "scatter",
         "x": [
          5.337807278893919,
          4.585730765549927,
          5.299677784992957,
          6.017762472481582,
          6.8902440186023615
         ],
         "y": [
          -0.5140474405935797,
          0.1779077324570271,
          -0.32761678210460815,
          -0.20963150594581662,
          -0.5902567599431453
         ]
        },
        {
         "line": {
          "shape": "spline"
         },
         "marker": {
          "color": [
           5,
           5,
           2,
           2,
           2
          ]
         },
         "mode": "lines+markers",
         "text": [
          "Cluster: 5",
          "Cluster: 5",
          "Cluster: 2",
          "Cluster: 2",
          "Cluster: 2"
         ],
         "type": "scatter",
         "x": [
          5.753407051304437,
          5.321437125172808,
          4.935679838275202,
          3.243706337758251,
          4.55175859832383
         ],
         "y": [
          1.5131373648908983,
          1.1485753841795487,
          1.7835068145893713,
          1.7913420395817017,
          1.3942966717384109
         ]
        },
        {
         "line": {
          "shape": "spline"
         },
         "marker": {
          "color": [
           1,
           4,
           1,
           4,
           1
          ]
         },
         "mode": "lines+markers",
         "text": [
          "Cluster: 1",
          "Cluster: 4",
          "Cluster: 1",
          "Cluster: 4",
          "Cluster: 1"
         ],
         "type": "scatter",
         "x": [
          -1.9682076474825045,
          -1.4952958210000855,
          -2.2612909974398168,
          -1.6448024304132447,
          -2.2945422384908163
         ],
         "y": [
          0.1920251792289904,
          -0.29897685773053034,
          0.5576131426875816,
          -0.10969226900615474,
          0.35776870342460537
         ]
        },
        {
         "line": {
          "shape": "spline"
         },
         "marker": {
          "color": [
           1,
           1,
           1,
           1,
           1
          ]
         },
         "mode": "lines+markers",
         "text": [
          "Cluster: 1",
          "Cluster: 1",
          "Cluster: 1",
          "Cluster: 1",
          "Cluster: 1"
         ],
         "type": "scatter",
         "x": [
          -1.5495560496986507,
          0.28020438808808473,
          -0.09978002659902929,
          -0.2838864272069494,
          -1.1229033425482828
         ],
         "y": [
          3.609286495022128,
          2.8545440709338963,
          2.789811787681992,
          2.379726379664211,
          3.691239964214561
         ]
        },
        {
         "line": {
          "shape": "spline"
         },
         "marker": {
          "color": [
           4,
           4,
           4,
           4,
           1
          ]
         },
         "mode": "lines+markers",
         "text": [
          "Cluster: 4",
          "Cluster: 4",
          "Cluster: 4",
          "Cluster: 4",
          "Cluster: 1"
         ],
         "type": "scatter",
         "x": [
          -2.117180523599686,
          -3.2074798648377953,
          -2.0530485843147606,
          -1.338370960175173,
          -1.980678205334016
         ],
         "y": [
          0.05281012719118246,
          -0.5759669757345897,
          -0.1530895545140826,
          -0.33321698997899973,
          0.32618305032291456
         ]
        },
        {
         "line": {
          "shape": "spline"
         },
         "marker": {
          "color": [
           4,
           4,
           1,
           4,
           4
          ]
         },
         "mode": "lines+markers",
         "text": [
          "Cluster: 4",
          "Cluster: 4",
          "Cluster: 1",
          "Cluster: 4",
          "Cluster: 4"
         ],
         "type": "scatter",
         "x": [
          -3.2633470340484236,
          -3.1609932003973253,
          -3.9070894773662914,
          -3.9704387741398337,
          -3.381804474257284
         ],
         "y": [
          0.2930494331124385,
          0.3707235671758313,
          0.8491015137458576,
          0.6729851899271158,
          0.4112527046472985
         ]
        },
        {
         "line": {
          "shape": "spline"
         },
         "marker": {
          "color": [
           2,
           2,
           2,
           2,
           2
          ]
         },
         "mode": "lines+markers",
         "text": [
          "Cluster: 2",
          "Cluster: 2",
          "Cluster: 2",
          "Cluster: 2",
          "Cluster: 2"
         ],
         "type": "scatter",
         "x": [
          2.411976794026488,
          2.1950312216204155,
          2.6781681599877567,
          2.9353468135313383,
          1.5198395814896761
         ],
         "y": [
          0.5028734138417335,
          0.3953680397502208,
          -0.12783477925964948,
          0.1396482307803883,
          -0.04372577444997779
         ]
        },
        {
         "line": {
          "shape": "spline"
         },
         "marker": {
          "color": [
           2,
           2,
           3,
           3,
           2
          ]
         },
         "mode": "lines+markers",
         "text": [
          "Cluster: 2",
          "Cluster: 2",
          "Cluster: 3",
          "Cluster: 3",
          "Cluster: 2"
         ],
         "type": "scatter",
         "x": [
          1.845732396590479,
          0.9229112221666217,
          1.4087319331963746,
          1.2755504822694916,
          2.089686773679995
         ],
         "y": [
          0.12475092656327308,
          0.7148956477693078,
          -0.2746680094252441,
          -0.16427586935549388,
          0.20018157213966395
         ]
        },
        {
         "line": {
          "shape": "spline"
         },
         "marker": {
          "color": [
           4,
           4,
           4,
           3,
           3
          ]
         },
         "mode": "lines+markers",
         "text": [
          "Cluster: 4",
          "Cluster: 4",
          "Cluster: 4",
          "Cluster: 3",
          "Cluster: 3"
         ],
         "type": "scatter",
         "x": [
          -1.3991889082624271,
          -1.9957481336360554,
          -1.7176350427577505,
          -0.8865838889146427,
          -0.22276982072025217
         ],
         "y": [
          -2.371388850824815,
          -2.166731608750217,
          -2.1941327425784043,
          -2.4555621723016325,
          -2.574104039239149
         ]
        },
        {
         "line": {
          "shape": "spline"
         },
         "marker": {
          "color": [
           3,
           3,
           3,
           3,
           3
          ]
         },
         "mode": "lines+markers",
         "text": [
          "Cluster: 3",
          "Cluster: 3",
          "Cluster: 3",
          "Cluster: 3",
          "Cluster: 3"
         ],
         "type": "scatter",
         "x": [
          0.7835975037540076,
          -0.3038260639114889,
          -1.15275327548589,
          -0.45498151567346884,
          -1.1035331303212506
         ],
         "y": [
          -3.664694101394389,
          -2.5897681825153636,
          -1.686553589417844,
          -2.702778967516844,
          -1.7842112610806502
         ]
        },
        {
         "line": {
          "shape": "spline"
         },
         "marker": {
          "color": [
           5,
           5,
           5,
           5,
           5
          ]
         },
         "mode": "lines+markers",
         "text": [
          "Cluster: 5",
          "Cluster: 5",
          "Cluster: 5",
          "Cluster: 5",
          "Cluster: 5"
         ],
         "type": "scatter",
         "x": [
          3.969461733474267,
          4.604327727794135,
          4.235079671021225,
          3.953446096083059,
          3.863726912181501
         ],
         "y": [
          -0.25780056810474694,
          -0.8541370918818009,
          -0.7419675391599193,
          -0.2685137619408175,
          -0.6659167259300521
         ]
        },
        {
         "line": {
          "shape": "spline"
         },
         "marker": {
          "color": [
           2,
           2,
           3,
           2,
           2
          ]
         },
         "mode": "lines+markers",
         "text": [
          "Cluster: 2",
          "Cluster: 2",
          "Cluster: 3",
          "Cluster: 2",
          "Cluster: 2"
         ],
         "type": "scatter",
         "x": [
          1.2212927986739208,
          1.549818213973852,
          1.3393609179409967,
          2.2533908109088623,
          2.502688634544926
         ],
         "y": [
          0.263119494822008,
          0.01148647080131183,
          -0.39007853346645555,
          -0.40742137783965376,
          -0.7679259385714612
         ]
        },
        {
         "line": {
          "shape": "spline"
         },
         "marker": {
          "color": [
           3,
           3,
           3,
           3,
           4
          ]
         },
         "mode": "lines+markers",
         "text": [
          "Cluster: 3",
          "Cluster: 3",
          "Cluster: 3",
          "Cluster: 3",
          "Cluster: 4"
         ],
         "type": "scatter",
         "x": [
          -0.8576126508975697,
          -0.186353441030378,
          -1.272029373138847,
          -1.1276517906104346,
          -1.5214776077883996
         ],
         "y": [
          -1.6547769342825092,
          -2.4128215550727794,
          -2.544205361068634,
          -0.9524722325065481,
          -0.49167260228788107
         ]
        },
        {
         "line": {
          "shape": "spline"
         },
         "marker": {
          "color": [
           2,
           0,
           0,
           2,
           2
          ]
         },
         "mode": "lines+markers",
         "text": [
          "Cluster: 2",
          "Cluster: 0",
          "Cluster: 0",
          "Cluster: 2",
          "Cluster: 2"
         ],
         "type": "scatter",
         "x": [
          1.3676075486603356,
          0.9431207307716446,
          1.043086900588843,
          1.572896418206275,
          1.8052338505773633
         ],
         "y": [
          0.7098670478430316,
          1.566579446152208,
          1.1174948972677705,
          0.4304675524972284,
          0.8607171866069938
         ]
        },
        {
         "line": {
          "shape": "spline"
         },
         "marker": {
          "color": [
           3,
           1,
           3,
           3,
           3
          ]
         },
         "mode": "lines+markers",
         "text": [
          "Cluster: 3",
          "Cluster: 1",
          "Cluster: 3",
          "Cluster: 3",
          "Cluster: 3"
         ],
         "type": "scatter",
         "x": [
          -0.8162334822124367,
          -1.802062053691498,
          -0.5105814381873247,
          0.42070285662152734,
          0.2851725344782179
         ],
         "y": [
          -0.530479673842367,
          0.04554326229186739,
          -0.5700004630307391,
          -0.6453963373771996,
          -0.6371082466823755
         ]
        },
        {
         "line": {
          "shape": "spline"
         },
         "marker": {
          "color": [
           2,
           5,
           2,
           3,
           2
          ]
         },
         "mode": "lines+markers",
         "text": [
          "Cluster: 2",
          "Cluster: 5",
          "Cluster: 2",
          "Cluster: 3",
          "Cluster: 2"
         ],
         "type": "scatter",
         "x": [
          3.630970062911351,
          4.40032786580485,
          3.450687585334513,
          3.3302678479376207,
          4.138233168830043
         ],
         "y": [
          -1.1826067199622796,
          -1.9752820977273704,
          -1.1716289494488357,
          -1.5040172171682826,
          -1.3668061714406667
         ]
        },
        {
         "line": {
          "shape": "spline"
         },
         "marker": {
          "color": [
           2,
           2,
           3,
           3,
           3
          ]
         },
         "mode": "lines+markers",
         "text": [
          "Cluster: 2",
          "Cluster: 2",
          "Cluster: 3",
          "Cluster: 3",
          "Cluster: 3"
         ],
         "type": "scatter",
         "x": [
          1.7007206846277823,
          1.814771017372812,
          1.3814820149829667,
          0.6151580724038724,
          0.6895886463954182
         ],
         "y": [
          0.388411096794683,
          0.04879199726579919,
          -0.5210147303794046,
          -0.06406487870593669,
          0.19611350135360475
         ]
        },
        {
         "line": {
          "shape": "spline"
         },
         "marker": {
          "color": [
           2,
           2,
           2,
           5,
           2
          ]
         },
         "mode": "lines+markers",
         "text": [
          "Cluster: 2",
          "Cluster: 2",
          "Cluster: 2",
          "Cluster: 5",
          "Cluster: 2"
         ],
         "type": "scatter",
         "x": [
          4.7643269081245725,
          4.887035875753866,
          4.845152951927205,
          5.812008488454935,
          4.845152951927205
         ],
         "y": [
          1.9258127901355777,
          1.1955413652245217,
          1.1507226357974227,
          1.308854236466156,
          1.1507226357974227
         ]
        }
       ],
       "layout": {
        "legend": {
         "font": {
          "size": 12
         },
         "title": {
          "font": {
           "size": 16
          },
          "text": "Cluster"
         }
        },
        "showlegend": true,
        "template": {
         "data": {
          "bar": [
           {
            "error_x": {
             "color": "#2a3f5f"
            },
            "error_y": {
             "color": "#2a3f5f"
            },
            "marker": {
             "line": {
              "color": "#E5ECF6",
              "width": 0.5
             },
             "pattern": {
              "fillmode": "overlay",
              "size": 10,
              "solidity": 0.2
             }
            },
            "type": "bar"
           }
          ],
          "barpolar": [
           {
            "marker": {
             "line": {
              "color": "#E5ECF6",
              "width": 0.5
             },
             "pattern": {
              "fillmode": "overlay",
              "size": 10,
              "solidity": 0.2
             }
            },
            "type": "barpolar"
           }
          ],
          "carpet": [
           {
            "aaxis": {
             "endlinecolor": "#2a3f5f",
             "gridcolor": "white",
             "linecolor": "white",
             "minorgridcolor": "white",
             "startlinecolor": "#2a3f5f"
            },
            "baxis": {
             "endlinecolor": "#2a3f5f",
             "gridcolor": "white",
             "linecolor": "white",
             "minorgridcolor": "white",
             "startlinecolor": "#2a3f5f"
            },
            "type": "carpet"
           }
          ],
          "choropleth": [
           {
            "colorbar": {
             "outlinewidth": 0,
             "ticks": ""
            },
            "type": "choropleth"
           }
          ],
          "contour": [
           {
            "colorbar": {
             "outlinewidth": 0,
             "ticks": ""
            },
            "colorscale": [
             [
              0,
              "#0d0887"
             ],
             [
              0.1111111111111111,
              "#46039f"
             ],
             [
              0.2222222222222222,
              "#7201a8"
             ],
             [
              0.3333333333333333,
              "#9c179e"
             ],
             [
              0.4444444444444444,
              "#bd3786"
             ],
             [
              0.5555555555555556,
              "#d8576b"
             ],
             [
              0.6666666666666666,
              "#ed7953"
             ],
             [
              0.7777777777777778,
              "#fb9f3a"
             ],
             [
              0.8888888888888888,
              "#fdca26"
             ],
             [
              1,
              "#f0f921"
             ]
            ],
            "type": "contour"
           }
          ],
          "contourcarpet": [
           {
            "colorbar": {
             "outlinewidth": 0,
             "ticks": ""
            },
            "type": "contourcarpet"
           }
          ],
          "heatmap": [
           {
            "colorbar": {
             "outlinewidth": 0,
             "ticks": ""
            },
            "colorscale": [
             [
              0,
              "#0d0887"
             ],
             [
              0.1111111111111111,
              "#46039f"
             ],
             [
              0.2222222222222222,
              "#7201a8"
             ],
             [
              0.3333333333333333,
              "#9c179e"
             ],
             [
              0.4444444444444444,
              "#bd3786"
             ],
             [
              0.5555555555555556,
              "#d8576b"
             ],
             [
              0.6666666666666666,
              "#ed7953"
             ],
             [
              0.7777777777777778,
              "#fb9f3a"
             ],
             [
              0.8888888888888888,
              "#fdca26"
             ],
             [
              1,
              "#f0f921"
             ]
            ],
            "type": "heatmap"
           }
          ],
          "heatmapgl": [
           {
            "colorbar": {
             "outlinewidth": 0,
             "ticks": ""
            },
            "colorscale": [
             [
              0,
              "#0d0887"
             ],
             [
              0.1111111111111111,
              "#46039f"
             ],
             [
              0.2222222222222222,
              "#7201a8"
             ],
             [
              0.3333333333333333,
              "#9c179e"
             ],
             [
              0.4444444444444444,
              "#bd3786"
             ],
             [
              0.5555555555555556,
              "#d8576b"
             ],
             [
              0.6666666666666666,
              "#ed7953"
             ],
             [
              0.7777777777777778,
              "#fb9f3a"
             ],
             [
              0.8888888888888888,
              "#fdca26"
             ],
             [
              1,
              "#f0f921"
             ]
            ],
            "type": "heatmapgl"
           }
          ],
          "histogram": [
           {
            "marker": {
             "pattern": {
              "fillmode": "overlay",
              "size": 10,
              "solidity": 0.2
             }
            },
            "type": "histogram"
           }
          ],
          "histogram2d": [
           {
            "colorbar": {
             "outlinewidth": 0,
             "ticks": ""
            },
            "colorscale": [
             [
              0,
              "#0d0887"
             ],
             [
              0.1111111111111111,
              "#46039f"
             ],
             [
              0.2222222222222222,
              "#7201a8"
             ],
             [
              0.3333333333333333,
              "#9c179e"
             ],
             [
              0.4444444444444444,
              "#bd3786"
             ],
             [
              0.5555555555555556,
              "#d8576b"
             ],
             [
              0.6666666666666666,
              "#ed7953"
             ],
             [
              0.7777777777777778,
              "#fb9f3a"
             ],
             [
              0.8888888888888888,
              "#fdca26"
             ],
             [
              1,
              "#f0f921"
             ]
            ],
            "type": "histogram2d"
           }
          ],
          "histogram2dcontour": [
           {
            "colorbar": {
             "outlinewidth": 0,
             "ticks": ""
            },
            "colorscale": [
             [
              0,
              "#0d0887"
             ],
             [
              0.1111111111111111,
              "#46039f"
             ],
             [
              0.2222222222222222,
              "#7201a8"
             ],
             [
              0.3333333333333333,
              "#9c179e"
             ],
             [
              0.4444444444444444,
              "#bd3786"
             ],
             [
              0.5555555555555556,
              "#d8576b"
             ],
             [
              0.6666666666666666,
              "#ed7953"
             ],
             [
              0.7777777777777778,
              "#fb9f3a"
             ],
             [
              0.8888888888888888,
              "#fdca26"
             ],
             [
              1,
              "#f0f921"
             ]
            ],
            "type": "histogram2dcontour"
           }
          ],
          "mesh3d": [
           {
            "colorbar": {
             "outlinewidth": 0,
             "ticks": ""
            },
            "type": "mesh3d"
           }
          ],
          "parcoords": [
           {
            "line": {
             "colorbar": {
              "outlinewidth": 0,
              "ticks": ""
             }
            },
            "type": "parcoords"
           }
          ],
          "pie": [
           {
            "automargin": true,
            "type": "pie"
           }
          ],
          "scatter": [
           {
            "fillpattern": {
             "fillmode": "overlay",
             "size": 10,
             "solidity": 0.2
            },
            "type": "scatter"
           }
          ],
          "scatter3d": [
           {
            "line": {
             "colorbar": {
              "outlinewidth": 0,
              "ticks": ""
             }
            },
            "marker": {
             "colorbar": {
              "outlinewidth": 0,
              "ticks": ""
             }
            },
            "type": "scatter3d"
           }
          ],
          "scattercarpet": [
           {
            "marker": {
             "colorbar": {
              "outlinewidth": 0,
              "ticks": ""
             }
            },
            "type": "scattercarpet"
           }
          ],
          "scattergeo": [
           {
            "marker": {
             "colorbar": {
              "outlinewidth": 0,
              "ticks": ""
             }
            },
            "type": "scattergeo"
           }
          ],
          "scattergl": [
           {
            "marker": {
             "colorbar": {
              "outlinewidth": 0,
              "ticks": ""
             }
            },
            "type": "scattergl"
           }
          ],
          "scattermapbox": [
           {
            "marker": {
             "colorbar": {
              "outlinewidth": 0,
              "ticks": ""
             }
            },
            "type": "scattermapbox"
           }
          ],
          "scatterpolar": [
           {
            "marker": {
             "colorbar": {
              "outlinewidth": 0,
              "ticks": ""
             }
            },
            "type": "scatterpolar"
           }
          ],
          "scatterpolargl": [
           {
            "marker": {
             "colorbar": {
              "outlinewidth": 0,
              "ticks": ""
             }
            },
            "type": "scatterpolargl"
           }
          ],
          "scatterternary": [
           {
            "marker": {
             "colorbar": {
              "outlinewidth": 0,
              "ticks": ""
             }
            },
            "type": "scatterternary"
           }
          ],
          "surface": [
           {
            "colorbar": {
             "outlinewidth": 0,
             "ticks": ""
            },
            "colorscale": [
             [
              0,
              "#0d0887"
             ],
             [
              0.1111111111111111,
              "#46039f"
             ],
             [
              0.2222222222222222,
              "#7201a8"
             ],
             [
              0.3333333333333333,
              "#9c179e"
             ],
             [
              0.4444444444444444,
              "#bd3786"
             ],
             [
              0.5555555555555556,
              "#d8576b"
             ],
             [
              0.6666666666666666,
              "#ed7953"
             ],
             [
              0.7777777777777778,
              "#fb9f3a"
             ],
             [
              0.8888888888888888,
              "#fdca26"
             ],
             [
              1,
              "#f0f921"
             ]
            ],
            "type": "surface"
           }
          ],
          "table": [
           {
            "cells": {
             "fill": {
              "color": "#EBF0F8"
             },
             "line": {
              "color": "white"
             }
            },
            "header": {
             "fill": {
              "color": "#C8D4E3"
             },
             "line": {
              "color": "white"
             }
            },
            "type": "table"
           }
          ]
         },
         "layout": {
          "annotationdefaults": {
           "arrowcolor": "#2a3f5f",
           "arrowhead": 0,
           "arrowwidth": 1
          },
          "autotypenumbers": "strict",
          "coloraxis": {
           "colorbar": {
            "outlinewidth": 0,
            "ticks": ""
           }
          },
          "colorscale": {
           "diverging": [
            [
             0,
             "#8e0152"
            ],
            [
             0.1,
             "#c51b7d"
            ],
            [
             0.2,
             "#de77ae"
            ],
            [
             0.3,
             "#f1b6da"
            ],
            [
             0.4,
             "#fde0ef"
            ],
            [
             0.5,
             "#f7f7f7"
            ],
            [
             0.6,
             "#e6f5d0"
            ],
            [
             0.7,
             "#b8e186"
            ],
            [
             0.8,
             "#7fbc41"
            ],
            [
             0.9,
             "#4d9221"
            ],
            [
             1,
             "#276419"
            ]
           ],
           "sequential": [
            [
             0,
             "#0d0887"
            ],
            [
             0.1111111111111111,
             "#46039f"
            ],
            [
             0.2222222222222222,
             "#7201a8"
            ],
            [
             0.3333333333333333,
             "#9c179e"
            ],
            [
             0.4444444444444444,
             "#bd3786"
            ],
            [
             0.5555555555555556,
             "#d8576b"
            ],
            [
             0.6666666666666666,
             "#ed7953"
            ],
            [
             0.7777777777777778,
             "#fb9f3a"
            ],
            [
             0.8888888888888888,
             "#fdca26"
            ],
            [
             1,
             "#f0f921"
            ]
           ],
           "sequentialminus": [
            [
             0,
             "#0d0887"
            ],
            [
             0.1111111111111111,
             "#46039f"
            ],
            [
             0.2222222222222222,
             "#7201a8"
            ],
            [
             0.3333333333333333,
             "#9c179e"
            ],
            [
             0.4444444444444444,
             "#bd3786"
            ],
            [
             0.5555555555555556,
             "#d8576b"
            ],
            [
             0.6666666666666666,
             "#ed7953"
            ],
            [
             0.7777777777777778,
             "#fb9f3a"
            ],
            [
             0.8888888888888888,
             "#fdca26"
            ],
            [
             1,
             "#f0f921"
            ]
           ]
          },
          "colorway": [
           "#636efa",
           "#EF553B",
           "#00cc96",
           "#ab63fa",
           "#FFA15A",
           "#19d3f3",
           "#FF6692",
           "#B6E880",
           "#FF97FF",
           "#FECB52"
          ],
          "font": {
           "color": "#2a3f5f"
          },
          "geo": {
           "bgcolor": "white",
           "lakecolor": "white",
           "landcolor": "#E5ECF6",
           "showlakes": true,
           "showland": true,
           "subunitcolor": "white"
          },
          "hoverlabel": {
           "align": "left"
          },
          "hovermode": "closest",
          "mapbox": {
           "style": "light"
          },
          "paper_bgcolor": "white",
          "plot_bgcolor": "#E5ECF6",
          "polar": {
           "angularaxis": {
            "gridcolor": "white",
            "linecolor": "white",
            "ticks": ""
           },
           "bgcolor": "#E5ECF6",
           "radialaxis": {
            "gridcolor": "white",
            "linecolor": "white",
            "ticks": ""
           }
          },
          "scene": {
           "xaxis": {
            "backgroundcolor": "#E5ECF6",
            "gridcolor": "white",
            "gridwidth": 2,
            "linecolor": "white",
            "showbackground": true,
            "ticks": "",
            "zerolinecolor": "white"
           },
           "yaxis": {
            "backgroundcolor": "#E5ECF6",
            "gridcolor": "white",
            "gridwidth": 2,
            "linecolor": "white",
            "showbackground": true,
            "ticks": "",
            "zerolinecolor": "white"
           },
           "zaxis": {
            "backgroundcolor": "#E5ECF6",
            "gridcolor": "white",
            "gridwidth": 2,
            "linecolor": "white",
            "showbackground": true,
            "ticks": "",
            "zerolinecolor": "white"
           }
          },
          "shapedefaults": {
           "line": {
            "color": "#2a3f5f"
           }
          },
          "ternary": {
           "aaxis": {
            "gridcolor": "white",
            "linecolor": "white",
            "ticks": ""
           },
           "baxis": {
            "gridcolor": "white",
            "linecolor": "white",
            "ticks": ""
           },
           "bgcolor": "#E5ECF6",
           "caxis": {
            "gridcolor": "white",
            "linecolor": "white",
            "ticks": ""
           }
          },
          "title": {
           "x": 0.05
          },
          "xaxis": {
           "automargin": true,
           "gridcolor": "white",
           "linecolor": "white",
           "ticks": "",
           "title": {
            "standoff": 15
           },
           "zerolinecolor": "white",
           "zerolinewidth": 2
          },
          "yaxis": {
           "automargin": true,
           "gridcolor": "white",
           "linecolor": "white",
           "ticks": "",
           "title": {
            "standoff": 15
           },
           "zerolinecolor": "white",
           "zerolinewidth": 2
          }
         }
        },
        "title": {
         "text": "2D PCA Plot of User Data by Week with Temporal Evolution"
        },
        "xaxis": {
         "title": {
          "text": "PCA1"
         }
        },
        "yaxis": {
         "title": {
          "text": "PCA2"
         }
        }
       }
      }
     },
     "metadata": {},
     "output_type": "display_data"
    }
   ],
   "source": [
    "# Select a subset of unique CloudId values (e.g., the first 30 unique CloudIds)\n",
    "\n",
    "unique_cloud_ids = reduced_bio['CloudId'].unique()[:30]\n",
    "\n",
    "# Initialize a new figure\n",
    "fig = go.Figure()\n",
    "\n",
    "# Iterate over each selected CloudId and add a trace for each\n",
    "for cloud_id in unique_cloud_ids:\n",
    "    user_data = reduced_bio[reduced_bio['CloudId'] == cloud_id]\n",
    "    fig.add_trace(go.Scatter(\n",
    "        x=user_data['PCA1'],\n",
    "        y=user_data['PCA2'],\n",
    "        mode='lines+markers',\n",
    "        line_shape='spline',\n",
    "        text=user_data.apply(lambda row: '<br>'.join([f'{col}: {row[col]}' for col in ['Cluster']]), axis=1),\n",
    "        # text=user_data.apply(lambda row: '<br>'.join([f'{col}: {row[col]}' for col in ['Weight', 'Basal Metabolic Rate', 'Basal Metabolic Rate Score', 'Degree Of Obesity Perc', 'Cluster']]), axis=1),\n",
    "        # hoverinfo='text',\n",
    "        marker_color=user_data['Cluster'],  # Adjusted marker size and color by cluster\n",
    "        line=dict(shape='spline'),\n",
    "    ))\n",
    "\n",
    "fig.update_layout(\n",
    "    title='2D PCA Plot of User Data by Week with Temporal Evolution',\n",
    "    xaxis_title='PCA1',\n",
    "    yaxis_title='PCA2',\n",
    "    showlegend=True\n",
    ")\n",
    "\n",
    "# Add a legend to the plot\n",
    "fig.update_layout(\n",
    "    legend_title_text='Cluster',\n",
    "    legend_title_font_size=16,\n",
    "    legend_font_size=12\n",
    ")\n",
    "\n",
    "fig.show()"
   ]
  },
  {
   "cell_type": "markdown",
   "metadata": {},
   "source": [
    "### Algorithm for clusters background "
   ]
  },
  {
   "cell_type": "code",
   "execution_count": 26,
   "metadata": {},
   "outputs": [
    {
     "data": {
      "application/vnd.plotly.v1+json": {
       "config": {
        "plotlyServerURL": "https://plot.ly"
       },
       "data": [
        {
         "fill": "toself",
         "fillcolor": "hsl(0, 70%, 50%)",
         "hoverinfo": "skip",
         "line": {
          "color": "rgba(0,0,0,0)"
         },
         "showlegend": false,
         "type": "scatter",
         "x": [
          -0.09605559318203644,
          -1.9561455965892598,
          -1.0934533190447893,
          -0.8512139823395121,
          -0.2706415490173161,
          1.051133706441126,
          0.8969498517575655
         ],
         "y": [
          4.3068262979368725,
          -0.9231605647964133,
          -1.854170494651736,
          -1.7857888985371426,
          -1.5782260316511805,
          1.1554001077250138,
          3.6209034878364625
         ]
        },
        {
         "fill": "toself",
         "fillcolor": "hsl(40, 70%, 50%)",
         "hoverinfo": "skip",
         "line": {
          "color": "rgba(0,0,0,0)"
         },
         "showlegend": false,
         "type": "scatter",
         "x": [
          -2.3878918386794257,
          -2.7170107347518404,
          -1.3969285344388152,
          -0.25956861118096136,
          0.1921319763358316,
          0.07330383817455423,
          -0.4213355676897706
         ],
         "y": [
          3.2737888863590907,
          0.7035552860178348,
          0.1970575469002732,
          1.0046839596250916,
          1.3340118048905973,
          2.4496870968069984,
          5.539889902891773
         ]
        },
        {
         "fill": "toself",
         "fillcolor": "hsl(120, 70%, 50%)",
         "hoverinfo": "skip",
         "line": {
          "color": "rgba(0,0,0,0)"
         },
         "showlegend": false,
         "type": "scatter",
         "x": [
          -0.3809996434035997,
          1.1619653910260719,
          0.11876167259255525,
          -0.4490752717196766,
          -1.0742463809557015,
          -0.474081153454898
         ],
         "y": [
          -1.9556229361376347,
          -0.5228791990753143,
          0.0947481538495558,
          -0.30314291850397806,
          -0.8354307883436118,
          -1.809309474951033
         ]
        },
        {
         "fill": "toself",
         "fillcolor": "hsl(160, 70%, 50%)",
         "hoverinfo": "skip",
         "line": {
          "color": "rgba(0,0,0,0)"
         },
         "showlegend": false,
         "type": "scatter",
         "x": [
          -4.604704553409218,
          -3.5347065665385915,
          -2.034664052967869,
          -1.6713864630015587,
          -1.4598550518984914,
          -1.6179877929155,
          -1.9313627233155117,
          -3.238709268028239,
          -4.371354436772923
         ],
         "y": [
          -0.5879105165122048,
          -0.9827595447314671,
          -1.033818792747954,
          -0.9457422770306718,
          -0.587728543684248,
          -0.21125468480113557,
          -0.14202774058720624,
          -0.2542100972778424,
          -0.3605483835653238
         ]
        },
        {
         "line": {
          "shape": "spline"
         },
         "marker": {
          "color": [
           4,
           3,
           4,
           3,
           3
          ],
          "colorscale": [
           [
            0,
            "#440154"
           ],
           [
            0.1111111111111111,
            "#482878"
           ],
           [
            0.2222222222222222,
            "#3e4989"
           ],
           [
            0.3333333333333333,
            "#31688e"
           ],
           [
            0.4444444444444444,
            "#26828e"
           ],
           [
            0.5555555555555556,
            "#1f9e89"
           ],
           [
            0.6666666666666666,
            "#35b779"
           ],
           [
            0.7777777777777778,
            "#6ece58"
           ],
           [
            0.8888888888888888,
            "#b5de2b"
           ],
           [
            1,
            "#fde725"
           ]
          ],
          "size": 2
         },
         "mode": "lines+markers",
         "text": [
          "Cluster: 4",
          "Cluster: 3",
          "Cluster: 4",
          "Cluster: 3",
          "Cluster: 3"
         ],
         "type": "scatter",
         "x": [
          -1.6179877929155,
          -0.7704432722843588,
          -1.6713864630015587,
          -0.17181086183651728,
          -0.4490752717196766
         ],
         "y": [
          -0.21125468480113557,
          -0.9531071594917072,
          -0.9457422770306718,
          -0.7544765933375772,
          -0.30314291850397806
         ]
        },
        {
         "line": {
          "shape": "spline"
         },
         "marker": {
          "color": [
           1,
           1,
           1,
           4,
           1
          ],
          "colorscale": [
           [
            0,
            "#440154"
           ],
           [
            0.1111111111111111,
            "#482878"
           ],
           [
            0.2222222222222222,
            "#3e4989"
           ],
           [
            0.3333333333333333,
            "#31688e"
           ],
           [
            0.4444444444444444,
            "#26828e"
           ],
           [
            0.5555555555555556,
            "#1f9e89"
           ],
           [
            0.6666666666666666,
            "#35b779"
           ],
           [
            0.7777777777777778,
            "#6ece58"
           ],
           [
            0.8888888888888888,
            "#b5de2b"
           ],
           [
            1,
            "#fde725"
           ]
          ],
          "size": 2
         },
         "mode": "lines+markers",
         "text": [
          "Cluster: 1",
          "Cluster: 1",
          "Cluster: 1",
          "Cluster: 4",
          "Cluster: 1"
         ],
         "type": "scatter",
         "x": [
          -1.6882606158316016,
          -1.3969285344388152,
          -2.03036472171205,
          -1.9313627233155117,
          -2.7170107347518404
         ],
         "y": [
          0.7003933664558402,
          0.1970575469002732,
          0.5286084895003357,
          -0.14202774058720624,
          0.7035552860178348
         ]
        },
        {
         "line": {
          "shape": "spline"
         },
         "marker": {
          "color": [
           1,
           1,
           1,
           1,
           1
          ],
          "colorscale": [
           [
            0,
            "#440154"
           ],
           [
            0.1111111111111111,
            "#482878"
           ],
           [
            0.2222222222222222,
            "#3e4989"
           ],
           [
            0.3333333333333333,
            "#31688e"
           ],
           [
            0.4444444444444444,
            "#26828e"
           ],
           [
            0.5555555555555556,
            "#1f9e89"
           ],
           [
            0.6666666666666666,
            "#35b779"
           ],
           [
            0.7777777777777778,
            "#6ece58"
           ],
           [
            0.8888888888888888,
            "#b5de2b"
           ],
           [
            1,
            "#fde725"
           ]
          ],
          "size": 2
         },
         "mode": "lines+markers",
         "text": [
          "Cluster: 1",
          "Cluster: 1",
          "Cluster: 1",
          "Cluster: 1",
          "Cluster: 1"
         ],
         "type": "scatter",
         "x": [
          -1.1420967242214524,
          -2.072579180998745,
          -2.3878918386794257,
          0.07330383817455423,
          0.04283418827499713
         ],
         "y": [
          2.0942188603457286,
          2.9187631438951454,
          3.2737888863590907,
          2.4496870968069984,
          2.1553898788464623
         ]
        },
        {
         "line": {
          "shape": "spline"
         },
         "marker": {
          "color": [
           0,
           3,
           3,
           0,
           0
          ],
          "colorscale": [
           [
            0,
            "#440154"
           ],
           [
            0.1111111111111111,
            "#482878"
           ],
           [
            0.2222222222222222,
            "#3e4989"
           ],
           [
            0.3333333333333333,
            "#31688e"
           ],
           [
            0.4444444444444444,
            "#26828e"
           ],
           [
            0.5555555555555556,
            "#1f9e89"
           ],
           [
            0.6666666666666666,
            "#35b779"
           ],
           [
            0.7777777777777778,
            "#6ece58"
           ],
           [
            0.8888888888888888,
            "#b5de2b"
           ],
           [
            1,
            "#fde725"
           ]
          ],
          "size": 2
         },
         "mode": "lines+markers",
         "text": [
          "Cluster: 0",
          "Cluster: 3",
          "Cluster: 3",
          "Cluster: 0",
          "Cluster: 0"
         ],
         "type": "scatter",
         "x": [
          -1.0934533190447893,
          -0.3809996434035997,
          -0.474081153454898,
          -0.2706415490173161,
          -0.8512139823395121
         ],
         "y": [
          -1.854170494651736,
          -1.9556229361376347,
          -1.809309474951033,
          -1.5782260316511805,
          -1.7857888985371426
         ]
        },
        {
         "line": {
          "shape": "spline"
         },
         "marker": {
          "color": [
           3,
           3,
           1,
           2,
           1
          ],
          "colorscale": [
           [
            0,
            "#440154"
           ],
           [
            0.1111111111111111,
            "#482878"
           ],
           [
            0.2222222222222222,
            "#3e4989"
           ],
           [
            0.3333333333333333,
            "#31688e"
           ],
           [
            0.4444444444444444,
            "#26828e"
           ],
           [
            0.5555555555555556,
            "#1f9e89"
           ],
           [
            0.6666666666666666,
            "#35b779"
           ],
           [
            0.7777777777777778,
            "#6ece58"
           ],
           [
            0.8888888888888888,
            "#b5de2b"
           ],
           [
            1,
            "#fde725"
           ]
          ],
          "size": 2
         },
         "mode": "lines+markers",
         "text": [
          "Cluster: 3",
          "Cluster: 3",
          "Cluster: 1",
          "Cluster: 2",
          "Cluster: 1"
         ],
         "type": "scatter",
         "x": [
          1.1619653910260719,
          0.11876167259255525,
          -0.25956861118096136,
          1.1777021058841015,
          0.1921319763358316
         ],
         "y": [
          -0.5228791990753143,
          0.0947481538495558,
          1.0046839596250916,
          0.43666889457986346,
          1.3340118048905973
         ]
        },
        {
         "line": {
          "shape": "spline"
         },
         "marker": {
          "color": [
           0,
           4,
           4,
           4,
           4
          ],
          "colorscale": [
           [
            0,
            "#440154"
           ],
           [
            0.1111111111111111,
            "#482878"
           ],
           [
            0.2222222222222222,
            "#3e4989"
           ],
           [
            0.3333333333333333,
            "#31688e"
           ],
           [
            0.4444444444444444,
            "#26828e"
           ],
           [
            0.5555555555555556,
            "#1f9e89"
           ],
           [
            0.6666666666666666,
            "#35b779"
           ],
           [
            0.7777777777777778,
            "#6ece58"
           ],
           [
            0.8888888888888888,
            "#b5de2b"
           ],
           [
            1,
            "#fde725"
           ]
          ],
          "size": 2
         },
         "mode": "lines+markers",
         "text": [
          "Cluster: 0",
          "Cluster: 4",
          "Cluster: 4",
          "Cluster: 4",
          "Cluster: 4"
         ],
         "type": "scatter",
         "x": [
          -1.9561455965892598,
          -4.604704553409218,
          -3.5347065665385915,
          -4.371354436772923,
          -3.883968800703136
         ],
         "y": [
          -0.9231605647964133,
          -0.5879105165122048,
          -0.9827595447314671,
          -0.3605483835653238,
          -0.8303300887613412
         ]
        },
        {
         "line": {
          "shape": "spline"
         },
         "marker": {
          "color": [
           0,
           0,
           0,
           1,
           0
          ],
          "colorscale": [
           [
            0,
            "#440154"
           ],
           [
            0.1111111111111111,
            "#482878"
           ],
           [
            0.2222222222222222,
            "#3e4989"
           ],
           [
            0.3333333333333333,
            "#31688e"
           ],
           [
            0.4444444444444444,
            "#26828e"
           ],
           [
            0.5555555555555556,
            "#1f9e89"
           ],
           [
            0.6666666666666666,
            "#35b779"
           ],
           [
            0.7777777777777778,
            "#6ece58"
           ],
           [
            0.8888888888888888,
            "#b5de2b"
           ],
           [
            1,
            "#fde725"
           ]
          ],
          "size": 2
         },
         "mode": "lines+markers",
         "text": [
          "Cluster: 0",
          "Cluster: 0",
          "Cluster: 0",
          "Cluster: 1",
          "Cluster: 0"
         ],
         "type": "scatter",
         "x": [
          0.6872404387504475,
          -0.0007781519997621704,
          -0.09605559318203644,
          -0.4213355676897706,
          0.5891011230921643
         ],
         "y": [
          3.356925844177842,
          3.25366518789086,
          4.3068262979368725,
          5.539889902891773,
          3.45201676095255
         ]
        },
        {
         "line": {
          "shape": "spline"
         },
         "marker": {
          "color": [
           3,
           4,
           4,
           4,
           4
          ],
          "colorscale": [
           [
            0,
            "#440154"
           ],
           [
            0.1111111111111111,
            "#482878"
           ],
           [
            0.2222222222222222,
            "#3e4989"
           ],
           [
            0.3333333333333333,
            "#31688e"
           ],
           [
            0.4444444444444444,
            "#26828e"
           ],
           [
            0.5555555555555556,
            "#1f9e89"
           ],
           [
            0.6666666666666666,
            "#35b779"
           ],
           [
            0.7777777777777778,
            "#6ece58"
           ],
           [
            0.8888888888888888,
            "#b5de2b"
           ],
           [
            1,
            "#fde725"
           ]
          ],
          "size": 2
         },
         "mode": "lines+markers",
         "text": [
          "Cluster: 3",
          "Cluster: 4",
          "Cluster: 4",
          "Cluster: 4",
          "Cluster: 4"
         ],
         "type": "scatter",
         "x": [
          -1.0742463809557015,
          -1.4598550518984914,
          -2.034664052967869,
          -3.238709268028239,
          -2.7113202502119655
         ],
         "y": [
          -0.8354307883436118,
          -0.587728543684248,
          -1.033818792747954,
          -0.2542100972778424,
          -0.7230917066532261
         ]
        },
        {
         "line": {
          "shape": "spline"
         },
         "marker": {
          "color": [
           0,
           0,
           1,
           1,
           0
          ],
          "colorscale": [
           [
            0,
            "#440154"
           ],
           [
            0.1111111111111111,
            "#482878"
           ],
           [
            0.2222222222222222,
            "#3e4989"
           ],
           [
            0.3333333333333333,
            "#31688e"
           ],
           [
            0.4444444444444444,
            "#26828e"
           ],
           [
            0.5555555555555556,
            "#1f9e89"
           ],
           [
            0.6666666666666666,
            "#35b779"
           ],
           [
            0.7777777777777778,
            "#6ece58"
           ],
           [
            0.8888888888888888,
            "#b5de2b"
           ],
           [
            1,
            "#fde725"
           ]
          ],
          "size": 2
         },
         "mode": "lines+markers",
         "text": [
          "Cluster: 0",
          "Cluster: 0",
          "Cluster: 1",
          "Cluster: 1",
          "Cluster: 0"
         ],
         "type": "scatter",
         "x": [
          0.08954108042915673,
          0.8969498517575655,
          -0.07261259030793943,
          -2.4427165831713267,
          0.2828292943667845
         ],
         "y": [
          0.4296557481887274,
          3.6209034878364625,
          1.193441106358166,
          0.9524419715983176,
          0.4275521041211918
         ]
        },
        {
         "line": {
          "shape": "spline"
         },
         "marker": {
          "color": [
           0,
           0,
           0,
           0,
           0
          ],
          "colorscale": [
           [
            0,
            "#440154"
           ],
           [
            0.1111111111111111,
            "#482878"
           ],
           [
            0.2222222222222222,
            "#3e4989"
           ],
           [
            0.3333333333333333,
            "#31688e"
           ],
           [
            0.4444444444444444,
            "#26828e"
           ],
           [
            0.5555555555555556,
            "#1f9e89"
           ],
           [
            0.6666666666666666,
            "#35b779"
           ],
           [
            0.7777777777777778,
            "#6ece58"
           ],
           [
            0.8888888888888888,
            "#b5de2b"
           ],
           [
            1,
            "#fde725"
           ]
          ],
          "size": 2
         },
         "mode": "lines+markers",
         "text": [
          "Cluster: 0",
          "Cluster: 0",
          "Cluster: 0",
          "Cluster: 0",
          "Cluster: 0"
         ],
         "type": "scatter",
         "x": [
          0.32216015409339144,
          0.08942588823853413,
          1.051133706441126,
          0.733989975656376,
          0.27759709757532186
         ],
         "y": [
          1.1815526450837615,
          1.7459704904912663,
          1.1554001077250138,
          1.3486608382606426,
          1.4363770234858175
         ]
        }
       ],
       "layout": {
        "legend": {
         "font": {
          "size": 12
         },
         "title": {
          "font": {
           "size": 16
          },
          "text": "Cluster"
         }
        },
        "showlegend": true,
        "template": {
         "data": {
          "bar": [
           {
            "error_x": {
             "color": "#2a3f5f"
            },
            "error_y": {
             "color": "#2a3f5f"
            },
            "marker": {
             "line": {
              "color": "#E5ECF6",
              "width": 0.5
             },
             "pattern": {
              "fillmode": "overlay",
              "size": 10,
              "solidity": 0.2
             }
            },
            "type": "bar"
           }
          ],
          "barpolar": [
           {
            "marker": {
             "line": {
              "color": "#E5ECF6",
              "width": 0.5
             },
             "pattern": {
              "fillmode": "overlay",
              "size": 10,
              "solidity": 0.2
             }
            },
            "type": "barpolar"
           }
          ],
          "carpet": [
           {
            "aaxis": {
             "endlinecolor": "#2a3f5f",
             "gridcolor": "white",
             "linecolor": "white",
             "minorgridcolor": "white",
             "startlinecolor": "#2a3f5f"
            },
            "baxis": {
             "endlinecolor": "#2a3f5f",
             "gridcolor": "white",
             "linecolor": "white",
             "minorgridcolor": "white",
             "startlinecolor": "#2a3f5f"
            },
            "type": "carpet"
           }
          ],
          "choropleth": [
           {
            "colorbar": {
             "outlinewidth": 0,
             "ticks": ""
            },
            "type": "choropleth"
           }
          ],
          "contour": [
           {
            "colorbar": {
             "outlinewidth": 0,
             "ticks": ""
            },
            "colorscale": [
             [
              0,
              "#0d0887"
             ],
             [
              0.1111111111111111,
              "#46039f"
             ],
             [
              0.2222222222222222,
              "#7201a8"
             ],
             [
              0.3333333333333333,
              "#9c179e"
             ],
             [
              0.4444444444444444,
              "#bd3786"
             ],
             [
              0.5555555555555556,
              "#d8576b"
             ],
             [
              0.6666666666666666,
              "#ed7953"
             ],
             [
              0.7777777777777778,
              "#fb9f3a"
             ],
             [
              0.8888888888888888,
              "#fdca26"
             ],
             [
              1,
              "#f0f921"
             ]
            ],
            "type": "contour"
           }
          ],
          "contourcarpet": [
           {
            "colorbar": {
             "outlinewidth": 0,
             "ticks": ""
            },
            "type": "contourcarpet"
           }
          ],
          "heatmap": [
           {
            "colorbar": {
             "outlinewidth": 0,
             "ticks": ""
            },
            "colorscale": [
             [
              0,
              "#0d0887"
             ],
             [
              0.1111111111111111,
              "#46039f"
             ],
             [
              0.2222222222222222,
              "#7201a8"
             ],
             [
              0.3333333333333333,
              "#9c179e"
             ],
             [
              0.4444444444444444,
              "#bd3786"
             ],
             [
              0.5555555555555556,
              "#d8576b"
             ],
             [
              0.6666666666666666,
              "#ed7953"
             ],
             [
              0.7777777777777778,
              "#fb9f3a"
             ],
             [
              0.8888888888888888,
              "#fdca26"
             ],
             [
              1,
              "#f0f921"
             ]
            ],
            "type": "heatmap"
           }
          ],
          "heatmapgl": [
           {
            "colorbar": {
             "outlinewidth": 0,
             "ticks": ""
            },
            "colorscale": [
             [
              0,
              "#0d0887"
             ],
             [
              0.1111111111111111,
              "#46039f"
             ],
             [
              0.2222222222222222,
              "#7201a8"
             ],
             [
              0.3333333333333333,
              "#9c179e"
             ],
             [
              0.4444444444444444,
              "#bd3786"
             ],
             [
              0.5555555555555556,
              "#d8576b"
             ],
             [
              0.6666666666666666,
              "#ed7953"
             ],
             [
              0.7777777777777778,
              "#fb9f3a"
             ],
             [
              0.8888888888888888,
              "#fdca26"
             ],
             [
              1,
              "#f0f921"
             ]
            ],
            "type": "heatmapgl"
           }
          ],
          "histogram": [
           {
            "marker": {
             "pattern": {
              "fillmode": "overlay",
              "size": 10,
              "solidity": 0.2
             }
            },
            "type": "histogram"
           }
          ],
          "histogram2d": [
           {
            "colorbar": {
             "outlinewidth": 0,
             "ticks": ""
            },
            "colorscale": [
             [
              0,
              "#0d0887"
             ],
             [
              0.1111111111111111,
              "#46039f"
             ],
             [
              0.2222222222222222,
              "#7201a8"
             ],
             [
              0.3333333333333333,
              "#9c179e"
             ],
             [
              0.4444444444444444,
              "#bd3786"
             ],
             [
              0.5555555555555556,
              "#d8576b"
             ],
             [
              0.6666666666666666,
              "#ed7953"
             ],
             [
              0.7777777777777778,
              "#fb9f3a"
             ],
             [
              0.8888888888888888,
              "#fdca26"
             ],
             [
              1,
              "#f0f921"
             ]
            ],
            "type": "histogram2d"
           }
          ],
          "histogram2dcontour": [
           {
            "colorbar": {
             "outlinewidth": 0,
             "ticks": ""
            },
            "colorscale": [
             [
              0,
              "#0d0887"
             ],
             [
              0.1111111111111111,
              "#46039f"
             ],
             [
              0.2222222222222222,
              "#7201a8"
             ],
             [
              0.3333333333333333,
              "#9c179e"
             ],
             [
              0.4444444444444444,
              "#bd3786"
             ],
             [
              0.5555555555555556,
              "#d8576b"
             ],
             [
              0.6666666666666666,
              "#ed7953"
             ],
             [
              0.7777777777777778,
              "#fb9f3a"
             ],
             [
              0.8888888888888888,
              "#fdca26"
             ],
             [
              1,
              "#f0f921"
             ]
            ],
            "type": "histogram2dcontour"
           }
          ],
          "mesh3d": [
           {
            "colorbar": {
             "outlinewidth": 0,
             "ticks": ""
            },
            "type": "mesh3d"
           }
          ],
          "parcoords": [
           {
            "line": {
             "colorbar": {
              "outlinewidth": 0,
              "ticks": ""
             }
            },
            "type": "parcoords"
           }
          ],
          "pie": [
           {
            "automargin": true,
            "type": "pie"
           }
          ],
          "scatter": [
           {
            "fillpattern": {
             "fillmode": "overlay",
             "size": 10,
             "solidity": 0.2
            },
            "type": "scatter"
           }
          ],
          "scatter3d": [
           {
            "line": {
             "colorbar": {
              "outlinewidth": 0,
              "ticks": ""
             }
            },
            "marker": {
             "colorbar": {
              "outlinewidth": 0,
              "ticks": ""
             }
            },
            "type": "scatter3d"
           }
          ],
          "scattercarpet": [
           {
            "marker": {
             "colorbar": {
              "outlinewidth": 0,
              "ticks": ""
             }
            },
            "type": "scattercarpet"
           }
          ],
          "scattergeo": [
           {
            "marker": {
             "colorbar": {
              "outlinewidth": 0,
              "ticks": ""
             }
            },
            "type": "scattergeo"
           }
          ],
          "scattergl": [
           {
            "marker": {
             "colorbar": {
              "outlinewidth": 0,
              "ticks": ""
             }
            },
            "type": "scattergl"
           }
          ],
          "scattermapbox": [
           {
            "marker": {
             "colorbar": {
              "outlinewidth": 0,
              "ticks": ""
             }
            },
            "type": "scattermapbox"
           }
          ],
          "scatterpolar": [
           {
            "marker": {
             "colorbar": {
              "outlinewidth": 0,
              "ticks": ""
             }
            },
            "type": "scatterpolar"
           }
          ],
          "scatterpolargl": [
           {
            "marker": {
             "colorbar": {
              "outlinewidth": 0,
              "ticks": ""
             }
            },
            "type": "scatterpolargl"
           }
          ],
          "scatterternary": [
           {
            "marker": {
             "colorbar": {
              "outlinewidth": 0,
              "ticks": ""
             }
            },
            "type": "scatterternary"
           }
          ],
          "surface": [
           {
            "colorbar": {
             "outlinewidth": 0,
             "ticks": ""
            },
            "colorscale": [
             [
              0,
              "#0d0887"
             ],
             [
              0.1111111111111111,
              "#46039f"
             ],
             [
              0.2222222222222222,
              "#7201a8"
             ],
             [
              0.3333333333333333,
              "#9c179e"
             ],
             [
              0.4444444444444444,
              "#bd3786"
             ],
             [
              0.5555555555555556,
              "#d8576b"
             ],
             [
              0.6666666666666666,
              "#ed7953"
             ],
             [
              0.7777777777777778,
              "#fb9f3a"
             ],
             [
              0.8888888888888888,
              "#fdca26"
             ],
             [
              1,
              "#f0f921"
             ]
            ],
            "type": "surface"
           }
          ],
          "table": [
           {
            "cells": {
             "fill": {
              "color": "#EBF0F8"
             },
             "line": {
              "color": "white"
             }
            },
            "header": {
             "fill": {
              "color": "#C8D4E3"
             },
             "line": {
              "color": "white"
             }
            },
            "type": "table"
           }
          ]
         },
         "layout": {
          "annotationdefaults": {
           "arrowcolor": "#2a3f5f",
           "arrowhead": 0,
           "arrowwidth": 1
          },
          "autotypenumbers": "strict",
          "coloraxis": {
           "colorbar": {
            "outlinewidth": 0,
            "ticks": ""
           }
          },
          "colorscale": {
           "diverging": [
            [
             0,
             "#8e0152"
            ],
            [
             0.1,
             "#c51b7d"
            ],
            [
             0.2,
             "#de77ae"
            ],
            [
             0.3,
             "#f1b6da"
            ],
            [
             0.4,
             "#fde0ef"
            ],
            [
             0.5,
             "#f7f7f7"
            ],
            [
             0.6,
             "#e6f5d0"
            ],
            [
             0.7,
             "#b8e186"
            ],
            [
             0.8,
             "#7fbc41"
            ],
            [
             0.9,
             "#4d9221"
            ],
            [
             1,
             "#276419"
            ]
           ],
           "sequential": [
            [
             0,
             "#0d0887"
            ],
            [
             0.1111111111111111,
             "#46039f"
            ],
            [
             0.2222222222222222,
             "#7201a8"
            ],
            [
             0.3333333333333333,
             "#9c179e"
            ],
            [
             0.4444444444444444,
             "#bd3786"
            ],
            [
             0.5555555555555556,
             "#d8576b"
            ],
            [
             0.6666666666666666,
             "#ed7953"
            ],
            [
             0.7777777777777778,
             "#fb9f3a"
            ],
            [
             0.8888888888888888,
             "#fdca26"
            ],
            [
             1,
             "#f0f921"
            ]
           ],
           "sequentialminus": [
            [
             0,
             "#0d0887"
            ],
            [
             0.1111111111111111,
             "#46039f"
            ],
            [
             0.2222222222222222,
             "#7201a8"
            ],
            [
             0.3333333333333333,
             "#9c179e"
            ],
            [
             0.4444444444444444,
             "#bd3786"
            ],
            [
             0.5555555555555556,
             "#d8576b"
            ],
            [
             0.6666666666666666,
             "#ed7953"
            ],
            [
             0.7777777777777778,
             "#fb9f3a"
            ],
            [
             0.8888888888888888,
             "#fdca26"
            ],
            [
             1,
             "#f0f921"
            ]
           ]
          },
          "colorway": [
           "#636efa",
           "#EF553B",
           "#00cc96",
           "#ab63fa",
           "#FFA15A",
           "#19d3f3",
           "#FF6692",
           "#B6E880",
           "#FF97FF",
           "#FECB52"
          ],
          "font": {
           "color": "#2a3f5f"
          },
          "geo": {
           "bgcolor": "white",
           "lakecolor": "white",
           "landcolor": "#E5ECF6",
           "showlakes": true,
           "showland": true,
           "subunitcolor": "white"
          },
          "hoverlabel": {
           "align": "left"
          },
          "hovermode": "closest",
          "mapbox": {
           "style": "light"
          },
          "paper_bgcolor": "white",
          "plot_bgcolor": "#E5ECF6",
          "polar": {
           "angularaxis": {
            "gridcolor": "white",
            "linecolor": "white",
            "ticks": ""
           },
           "bgcolor": "#E5ECF6",
           "radialaxis": {
            "gridcolor": "white",
            "linecolor": "white",
            "ticks": ""
           }
          },
          "scene": {
           "xaxis": {
            "backgroundcolor": "#E5ECF6",
            "gridcolor": "white",
            "gridwidth": 2,
            "linecolor": "white",
            "showbackground": true,
            "ticks": "",
            "zerolinecolor": "white"
           },
           "yaxis": {
            "backgroundcolor": "#E5ECF6",
            "gridcolor": "white",
            "gridwidth": 2,
            "linecolor": "white",
            "showbackground": true,
            "ticks": "",
            "zerolinecolor": "white"
           },
           "zaxis": {
            "backgroundcolor": "#E5ECF6",
            "gridcolor": "white",
            "gridwidth": 2,
            "linecolor": "white",
            "showbackground": true,
            "ticks": "",
            "zerolinecolor": "white"
           }
          },
          "shapedefaults": {
           "line": {
            "color": "#2a3f5f"
           }
          },
          "ternary": {
           "aaxis": {
            "gridcolor": "white",
            "linecolor": "white",
            "ticks": ""
           },
           "baxis": {
            "gridcolor": "white",
            "linecolor": "white",
            "ticks": ""
           },
           "bgcolor": "#E5ECF6",
           "caxis": {
            "gridcolor": "white",
            "linecolor": "white",
            "ticks": ""
           }
          },
          "title": {
           "x": 0.05
          },
          "xaxis": {
           "automargin": true,
           "gridcolor": "white",
           "linecolor": "white",
           "ticks": "",
           "title": {
            "standoff": 15
           },
           "zerolinecolor": "white",
           "zerolinewidth": 2
          },
          "yaxis": {
           "automargin": true,
           "gridcolor": "white",
           "linecolor": "white",
           "ticks": "",
           "title": {
            "standoff": 15
           },
           "zerolinecolor": "white",
           "zerolinewidth": 2
          }
         }
        },
        "title": {
         "text": "2D PCA Plot of User Data by Week with Temporal Evolution"
        },
        "xaxis": {
         "title": {
          "text": "PCA1"
         }
        },
        "yaxis": {
         "title": {
          "text": "PCA2"
         }
        }
       }
      }
     },
     "metadata": {},
     "output_type": "display_data"
    }
   ],
   "source": [
    "\n",
    "\n",
    "# Select a subset of unique CloudId values (e.g., the first 10 unique CloudIds)\n",
    "unique_cloud_ids = reduced_bio['CloudId'].unique()[:10]\n",
    "\n",
    "# Initialize a new figure\n",
    "fig = go.Figure()\n",
    "\n",
    "# Collect all PCA points and their corresponding clusters\n",
    "points = []\n",
    "clusters = []\n",
    "for cloud_id in unique_cloud_ids:\n",
    "    user_data = reduced_bio[reduced_bio['CloudId'] == cloud_id]\n",
    "    points.extend(user_data[['PCA1', 'PCA2']].values)\n",
    "    clusters.extend(user_data['Cluster'].values)\n",
    "\n",
    "points = np.array(points)\n",
    "clusters = np.array(clusters)\n",
    "\n",
    "# Compute the Convex Hull for each cluster\n",
    "unique_clusters = np.unique(clusters)\n",
    "for cluster in unique_clusters:\n",
    "    cluster_points = points[clusters == cluster]\n",
    "    if len(cluster_points) >= 3:  # ConvexHull requires at least 3 points\n",
    "        hull = ConvexHull(cluster_points)\n",
    "        hull_points = cluster_points[hull.vertices]\n",
    "        fig.add_trace(go.Scatter(\n",
    "            x=hull_points[:, 0],\n",
    "            y=hull_points[:, 1],\n",
    "            fill='toself',\n",
    "            fillcolor=f'hsl({cluster * 40}, 70%, 50%)',\n",
    "            line=dict(color='rgba(0,0,0,0)'),\n",
    "            showlegend=False,\n",
    "            hoverinfo='skip'\n",
    "        ))\n",
    "\n",
    "# Plot the user trajectories\n",
    "for cloud_id in unique_cloud_ids:\n",
    "    user_data = reduced_bio[reduced_bio['CloudId'] == cloud_id]\n",
    "    fig.add_trace(go.Scatter(\n",
    "        x=user_data['PCA1'],\n",
    "        y=user_data['PCA2'],\n",
    "        mode='lines+markers',\n",
    "        line_shape='spline',\n",
    "        text=user_data.apply(lambda row: '<br>'.join([f'{col}: {row[col]}' for col in ['Cluster']]), axis=1),\n",
    "        marker=dict(size=2, color=user_data['Cluster'], colorscale='Viridis'),  # Set marker size to 6\n",
    "        line=dict(shape='spline'),\n",
    "    ))\n",
    "\n",
    "fig.update_layout(\n",
    "    title='2D PCA Plot of User Data by Week with Temporal Evolution',\n",
    "    xaxis_title='PCA1',\n",
    "    yaxis_title='PCA2',\n",
    "    showlegend=True\n",
    ")\n",
    "\n",
    "# Add a legend to the plot\n",
    "fig.update_layout(\n",
    "    legend_title_text='Cluster',\n",
    "    legend_title_font_size=16,\n",
    "    legend_font_size=12\n",
    ")\n",
    "\n",
    "fig.show()"
   ]
  },
  {
   "cell_type": "code",
   "execution_count": 14,
   "metadata": {},
   "outputs": [
    {
     "data": {
      "application/vnd.plotly.v1+json": {
       "config": {
        "plotlyServerURL": "https://plot.ly"
       },
       "data": [
        {
         "line": {
          "color": "hsl(120, 70%, 50%)",
          "shape": "spline"
         },
         "marker": {
          "color": 3,
          "colorscale": [
           [
            0,
            "#440154"
           ],
           [
            0.1111111111111111,
            "#482878"
           ],
           [
            0.2222222222222222,
            "#3e4989"
           ],
           [
            0.3333333333333333,
            "#31688e"
           ],
           [
            0.4444444444444444,
            "#26828e"
           ],
           [
            0.5555555555555556,
            "#1f9e89"
           ],
           [
            0.6666666666666666,
            "#35b779"
           ],
           [
            0.7777777777777778,
            "#6ece58"
           ],
           [
            0.8888888888888888,
            "#b5de2b"
           ],
           [
            1,
            "#fde725"
           ]
          ],
          "size": 6
         },
         "mode": "lines+markers",
         "name": "Cluster 3",
         "text": [
          "Cluster: 4",
          "Cluster: 3",
          "Cluster: 4",
          "Cluster: 3",
          "Cluster: 3"
         ],
         "type": "scatter",
         "x": [
          -1.6179877929155,
          -0.7704432722843588,
          -1.6713864630015587,
          -0.17181086183651728,
          -0.4490752717196766
         ],
         "y": [
          -0.21125468480113557,
          -0.9531071594917072,
          -0.9457422770306718,
          -0.7544765933375772,
          -0.30314291850397806
         ]
        },
        {
         "line": {
          "color": "hsl(120, 70%, 50%)",
          "shape": "spline"
         },
         "marker": {
          "color": 3,
          "colorscale": [
           [
            0,
            "#440154"
           ],
           [
            0.1111111111111111,
            "#482878"
           ],
           [
            0.2222222222222222,
            "#3e4989"
           ],
           [
            0.3333333333333333,
            "#31688e"
           ],
           [
            0.4444444444444444,
            "#26828e"
           ],
           [
            0.5555555555555556,
            "#1f9e89"
           ],
           [
            0.6666666666666666,
            "#35b779"
           ],
           [
            0.7777777777777778,
            "#6ece58"
           ],
           [
            0.8888888888888888,
            "#b5de2b"
           ],
           [
            1,
            "#fde725"
           ]
          ],
          "size": 6
         },
         "mode": "lines+markers",
         "name": "Cluster 3",
         "text": [
          "Cluster: 1",
          "Cluster: 1",
          "Cluster: 1",
          "Cluster: 4",
          "Cluster: 1"
         ],
         "type": "scatter",
         "x": [
          -1.6882606158316016,
          -1.3969285344388152,
          -2.03036472171205,
          -1.9313627233155117,
          -2.7170107347518404
         ],
         "y": [
          0.7003933664558402,
          0.1970575469002732,
          0.5286084895003357,
          -0.14202774058720624,
          0.7035552860178348
         ]
        },
        {
         "line": {
          "color": "hsl(200, 70%, 50%)",
          "shape": "spline"
         },
         "marker": {
          "color": 5,
          "colorscale": [
           [
            0,
            "#440154"
           ],
           [
            0.1111111111111111,
            "#482878"
           ],
           [
            0.2222222222222222,
            "#3e4989"
           ],
           [
            0.3333333333333333,
            "#31688e"
           ],
           [
            0.4444444444444444,
            "#26828e"
           ],
           [
            0.5555555555555556,
            "#1f9e89"
           ],
           [
            0.6666666666666666,
            "#35b779"
           ],
           [
            0.7777777777777778,
            "#6ece58"
           ],
           [
            0.8888888888888888,
            "#b5de2b"
           ],
           [
            1,
            "#fde725"
           ]
          ],
          "size": 6
         },
         "mode": "lines+markers",
         "name": "Cluster 5",
         "text": [
          "Cluster: 1",
          "Cluster: 1",
          "Cluster: 1",
          "Cluster: 1",
          "Cluster: 1"
         ],
         "type": "scatter",
         "x": [
          -1.1420967242214524,
          -2.072579180998745,
          -2.3878918386794257,
          0.07330383817455423,
          0.04283418827499713
         ],
         "y": [
          2.0942188603457286,
          2.9187631438951454,
          3.2737888863590907,
          2.4496870968069984,
          2.1553898788464623
         ]
        },
        {
         "line": {
          "color": "hsl(120, 70%, 50%)",
          "shape": "spline"
         },
         "marker": {
          "color": 3,
          "colorscale": [
           [
            0,
            "#440154"
           ],
           [
            0.1111111111111111,
            "#482878"
           ],
           [
            0.2222222222222222,
            "#3e4989"
           ],
           [
            0.3333333333333333,
            "#31688e"
           ],
           [
            0.4444444444444444,
            "#26828e"
           ],
           [
            0.5555555555555556,
            "#1f9e89"
           ],
           [
            0.6666666666666666,
            "#35b779"
           ],
           [
            0.7777777777777778,
            "#6ece58"
           ],
           [
            0.8888888888888888,
            "#b5de2b"
           ],
           [
            1,
            "#fde725"
           ]
          ],
          "size": 6
         },
         "mode": "lines+markers",
         "name": "Cluster 3",
         "text": [
          "Cluster: 0",
          "Cluster: 3",
          "Cluster: 3",
          "Cluster: 0",
          "Cluster: 0"
         ],
         "type": "scatter",
         "x": [
          -1.0934533190447893,
          -0.3809996434035997,
          -0.474081153454898,
          -0.2706415490173161,
          -0.8512139823395121
         ],
         "y": [
          -1.854170494651736,
          -1.9556229361376347,
          -1.809309474951033,
          -1.5782260316511805,
          -1.7857888985371426
         ]
        },
        {
         "line": {
          "color": "hsl(160, 70%, 50%)",
          "shape": "spline"
         },
         "marker": {
          "color": 4,
          "colorscale": [
           [
            0,
            "#440154"
           ],
           [
            0.1111111111111111,
            "#482878"
           ],
           [
            0.2222222222222222,
            "#3e4989"
           ],
           [
            0.3333333333333333,
            "#31688e"
           ],
           [
            0.4444444444444444,
            "#26828e"
           ],
           [
            0.5555555555555556,
            "#1f9e89"
           ],
           [
            0.6666666666666666,
            "#35b779"
           ],
           [
            0.7777777777777778,
            "#6ece58"
           ],
           [
            0.8888888888888888,
            "#b5de2b"
           ],
           [
            1,
            "#fde725"
           ]
          ],
          "size": 6
         },
         "mode": "lines+markers",
         "name": "Cluster 4",
         "text": [
          "Cluster: 3",
          "Cluster: 3",
          "Cluster: 1",
          "Cluster: 2",
          "Cluster: 1"
         ],
         "type": "scatter",
         "x": [
          1.1619653910260719,
          0.11876167259255525,
          -0.25956861118096136,
          1.1777021058841015,
          0.1921319763358316
         ],
         "y": [
          -0.5228791990753143,
          0.0947481538495558,
          1.0046839596250916,
          0.43666889457986346,
          1.3340118048905973
         ]
        },
        {
         "line": {
          "color": "hsl(120, 70%, 50%)",
          "shape": "spline"
         },
         "marker": {
          "color": 3,
          "colorscale": [
           [
            0,
            "#440154"
           ],
           [
            0.1111111111111111,
            "#482878"
           ],
           [
            0.2222222222222222,
            "#3e4989"
           ],
           [
            0.3333333333333333,
            "#31688e"
           ],
           [
            0.4444444444444444,
            "#26828e"
           ],
           [
            0.5555555555555556,
            "#1f9e89"
           ],
           [
            0.6666666666666666,
            "#35b779"
           ],
           [
            0.7777777777777778,
            "#6ece58"
           ],
           [
            0.8888888888888888,
            "#b5de2b"
           ],
           [
            1,
            "#fde725"
           ]
          ],
          "size": 6
         },
         "mode": "lines+markers",
         "name": "Cluster 3",
         "text": [
          "Cluster: 0",
          "Cluster: 4",
          "Cluster: 4",
          "Cluster: 4",
          "Cluster: 4"
         ],
         "type": "scatter",
         "x": [
          -1.9561455965892598,
          -4.604704553409218,
          -3.5347065665385915,
          -4.371354436772923,
          -3.883968800703136
         ],
         "y": [
          -0.9231605647964133,
          -0.5879105165122048,
          -0.9827595447314671,
          -0.3605483835653238,
          -0.8303300887613412
         ]
        },
        {
         "line": {
          "color": "hsl(200, 70%, 50%)",
          "shape": "spline"
         },
         "marker": {
          "color": 5,
          "colorscale": [
           [
            0,
            "#440154"
           ],
           [
            0.1111111111111111,
            "#482878"
           ],
           [
            0.2222222222222222,
            "#3e4989"
           ],
           [
            0.3333333333333333,
            "#31688e"
           ],
           [
            0.4444444444444444,
            "#26828e"
           ],
           [
            0.5555555555555556,
            "#1f9e89"
           ],
           [
            0.6666666666666666,
            "#35b779"
           ],
           [
            0.7777777777777778,
            "#6ece58"
           ],
           [
            0.8888888888888888,
            "#b5de2b"
           ],
           [
            1,
            "#fde725"
           ]
          ],
          "size": 6
         },
         "mode": "lines+markers",
         "name": "Cluster 5",
         "text": [
          "Cluster: 0",
          "Cluster: 0",
          "Cluster: 0",
          "Cluster: 1",
          "Cluster: 0"
         ],
         "type": "scatter",
         "x": [
          0.6872404387504475,
          -0.0007781519997621704,
          -0.09605559318203644,
          -0.4213355676897706,
          0.5891011230921643
         ],
         "y": [
          3.356925844177842,
          3.25366518789086,
          4.3068262979368725,
          5.539889902891773,
          3.45201676095255
         ]
        },
        {
         "line": {
          "color": "hsl(120, 70%, 50%)",
          "shape": "spline"
         },
         "marker": {
          "color": 3,
          "colorscale": [
           [
            0,
            "#440154"
           ],
           [
            0.1111111111111111,
            "#482878"
           ],
           [
            0.2222222222222222,
            "#3e4989"
           ],
           [
            0.3333333333333333,
            "#31688e"
           ],
           [
            0.4444444444444444,
            "#26828e"
           ],
           [
            0.5555555555555556,
            "#1f9e89"
           ],
           [
            0.6666666666666666,
            "#35b779"
           ],
           [
            0.7777777777777778,
            "#6ece58"
           ],
           [
            0.8888888888888888,
            "#b5de2b"
           ],
           [
            1,
            "#fde725"
           ]
          ],
          "size": 6
         },
         "mode": "lines+markers",
         "name": "Cluster 3",
         "text": [
          "Cluster: 3",
          "Cluster: 4",
          "Cluster: 4",
          "Cluster: 4",
          "Cluster: 4"
         ],
         "type": "scatter",
         "x": [
          -1.0742463809557015,
          -1.4598550518984914,
          -2.034664052967869,
          -3.238709268028239,
          -2.7113202502119655
         ],
         "y": [
          -0.8354307883436118,
          -0.587728543684248,
          -1.033818792747954,
          -0.2542100972778424,
          -0.7230917066532261
         ]
        },
        {
         "line": {
          "color": "hsl(120, 70%, 50%)",
          "shape": "spline"
         },
         "marker": {
          "color": 3,
          "colorscale": [
           [
            0,
            "#440154"
           ],
           [
            0.1111111111111111,
            "#482878"
           ],
           [
            0.2222222222222222,
            "#3e4989"
           ],
           [
            0.3333333333333333,
            "#31688e"
           ],
           [
            0.4444444444444444,
            "#26828e"
           ],
           [
            0.5555555555555556,
            "#1f9e89"
           ],
           [
            0.6666666666666666,
            "#35b779"
           ],
           [
            0.7777777777777778,
            "#6ece58"
           ],
           [
            0.8888888888888888,
            "#b5de2b"
           ],
           [
            1,
            "#fde725"
           ]
          ],
          "size": 6
         },
         "mode": "lines+markers",
         "name": "Cluster 3",
         "text": [
          "Cluster: 0",
          "Cluster: 0",
          "Cluster: 1",
          "Cluster: 1",
          "Cluster: 0"
         ],
         "type": "scatter",
         "x": [
          0.08954108042915673,
          0.8969498517575655,
          -0.07261259030793943,
          -2.4427165831713267,
          0.2828292943667845
         ],
         "y": [
          0.4296557481887274,
          3.6209034878364625,
          1.193441106358166,
          0.9524419715983176,
          0.4275521041211918
         ]
        },
        {
         "line": {
          "color": "hsl(160, 70%, 50%)",
          "shape": "spline"
         },
         "marker": {
          "color": 4,
          "colorscale": [
           [
            0,
            "#440154"
           ],
           [
            0.1111111111111111,
            "#482878"
           ],
           [
            0.2222222222222222,
            "#3e4989"
           ],
           [
            0.3333333333333333,
            "#31688e"
           ],
           [
            0.4444444444444444,
            "#26828e"
           ],
           [
            0.5555555555555556,
            "#1f9e89"
           ],
           [
            0.6666666666666666,
            "#35b779"
           ],
           [
            0.7777777777777778,
            "#6ece58"
           ],
           [
            0.8888888888888888,
            "#b5de2b"
           ],
           [
            1,
            "#fde725"
           ]
          ],
          "size": 6
         },
         "mode": "lines+markers",
         "name": "Cluster 4",
         "text": [
          "Cluster: 0",
          "Cluster: 0",
          "Cluster: 0",
          "Cluster: 0",
          "Cluster: 0"
         ],
         "type": "scatter",
         "x": [
          0.32216015409339144,
          0.08942588823853413,
          1.051133706441126,
          0.733989975656376,
          0.27759709757532186
         ],
         "y": [
          1.1815526450837615,
          1.7459704904912663,
          1.1554001077250138,
          1.3486608382606426,
          1.4363770234858175
         ]
        },
        {
         "line": {
          "color": "hsl(200, 70%, 50%)",
          "shape": "spline"
         },
         "marker": {
          "color": 5,
          "colorscale": [
           [
            0,
            "#440154"
           ],
           [
            0.1111111111111111,
            "#482878"
           ],
           [
            0.2222222222222222,
            "#3e4989"
           ],
           [
            0.3333333333333333,
            "#31688e"
           ],
           [
            0.4444444444444444,
            "#26828e"
           ],
           [
            0.5555555555555556,
            "#1f9e89"
           ],
           [
            0.6666666666666666,
            "#35b779"
           ],
           [
            0.7777777777777778,
            "#6ece58"
           ],
           [
            0.8888888888888888,
            "#b5de2b"
           ],
           [
            1,
            "#fde725"
           ]
          ],
          "size": 6
         },
         "mode": "lines+markers",
         "name": "Cluster 5",
         "text": [
          "Cluster: 2",
          "Cluster: 1",
          "Cluster: 1",
          "Cluster: 1",
          "Cluster: 1"
         ],
         "type": "scatter",
         "x": [
          2.005234279508006,
          -0.7622678076616797,
          -0.12181986527560186,
          0.10547643462876855,
          0.24917031850614804
         ],
         "y": [
          3.041171526311606,
          4.299703193792492,
          3.807116744804502,
          4.364061737035861,
          4.070937476620378
         ]
        },
        {
         "line": {
          "color": "hsl(120, 70%, 50%)",
          "shape": "spline"
         },
         "marker": {
          "color": 3,
          "colorscale": [
           [
            0,
            "#440154"
           ],
           [
            0.1111111111111111,
            "#482878"
           ],
           [
            0.2222222222222222,
            "#3e4989"
           ],
           [
            0.3333333333333333,
            "#31688e"
           ],
           [
            0.4444444444444444,
            "#26828e"
           ],
           [
            0.5555555555555556,
            "#1f9e89"
           ],
           [
            0.6666666666666666,
            "#35b779"
           ],
           [
            0.7777777777777778,
            "#6ece58"
           ],
           [
            0.8888888888888888,
            "#b5de2b"
           ],
           [
            1,
            "#fde725"
           ]
          ],
          "size": 6
         },
         "mode": "lines+markers",
         "name": "Cluster 3",
         "text": [
          "Cluster: 4",
          "Cluster: 4",
          "Cluster: 3",
          "Cluster: 4",
          "Cluster: 3"
         ],
         "type": "scatter",
         "x": [
          -2.2310475688848643,
          -2.557289100276976,
          1.6751448684727093,
          -2.4998672142914065,
          1.6751448684727093
         ],
         "y": [
          -0.8125052168064991,
          -0.9691458308373012,
          -0.3326464713701068,
          -0.5195725303272148,
          -0.3326464713701068
         ]
        },
        {
         "line": {
          "color": "hsl(80, 70%, 50%)",
          "shape": "spline"
         },
         "marker": {
          "color": 2,
          "colorscale": [
           [
            0,
            "#440154"
           ],
           [
            0.1111111111111111,
            "#482878"
           ],
           [
            0.2222222222222222,
            "#3e4989"
           ],
           [
            0.3333333333333333,
            "#31688e"
           ],
           [
            0.4444444444444444,
            "#26828e"
           ],
           [
            0.5555555555555556,
            "#1f9e89"
           ],
           [
            0.6666666666666666,
            "#35b779"
           ],
           [
            0.7777777777777778,
            "#6ece58"
           ],
           [
            0.8888888888888888,
            "#b5de2b"
           ],
           [
            1,
            "#fde725"
           ]
          ],
          "size": 6
         },
         "mode": "lines+markers",
         "name": "Cluster 2",
         "text": [
          "Cluster: 5",
          "Cluster: 2",
          "Cluster: 5",
          "Cluster: 5",
          "Cluster: 5"
         ],
         "type": "scatter",
         "x": [
          5.337807278893919,
          4.585730765549927,
          5.299677784992957,
          6.017762472481582,
          6.8902440186023615
         ],
         "y": [
          -0.5140474405935797,
          0.1779077324570271,
          -0.32761678210460815,
          -0.20963150594581662,
          -0.5902567599431453
         ]
        },
        {
         "line": {
          "color": "hsl(80, 70%, 50%)",
          "shape": "spline"
         },
         "marker": {
          "color": 2,
          "colorscale": [
           [
            0,
            "#440154"
           ],
           [
            0.1111111111111111,
            "#482878"
           ],
           [
            0.2222222222222222,
            "#3e4989"
           ],
           [
            0.3333333333333333,
            "#31688e"
           ],
           [
            0.4444444444444444,
            "#26828e"
           ],
           [
            0.5555555555555556,
            "#1f9e89"
           ],
           [
            0.6666666666666666,
            "#35b779"
           ],
           [
            0.7777777777777778,
            "#6ece58"
           ],
           [
            0.8888888888888888,
            "#b5de2b"
           ],
           [
            1,
            "#fde725"
           ]
          ],
          "size": 6
         },
         "mode": "lines+markers",
         "name": "Cluster 2",
         "text": [
          "Cluster: 5",
          "Cluster: 5",
          "Cluster: 2",
          "Cluster: 2",
          "Cluster: 2"
         ],
         "type": "scatter",
         "x": [
          5.753407051304437,
          5.321437125172808,
          4.935679838275202,
          3.243706337758251,
          4.55175859832383
         ],
         "y": [
          1.5131373648908983,
          1.1485753841795487,
          1.7835068145893713,
          1.7913420395817017,
          1.3942966717384109
         ]
        },
        {
         "line": {
          "color": "hsl(120, 70%, 50%)",
          "shape": "spline"
         },
         "marker": {
          "color": 3,
          "colorscale": [
           [
            0,
            "#440154"
           ],
           [
            0.1111111111111111,
            "#482878"
           ],
           [
            0.2222222222222222,
            "#3e4989"
           ],
           [
            0.3333333333333333,
            "#31688e"
           ],
           [
            0.4444444444444444,
            "#26828e"
           ],
           [
            0.5555555555555556,
            "#1f9e89"
           ],
           [
            0.6666666666666666,
            "#35b779"
           ],
           [
            0.7777777777777778,
            "#6ece58"
           ],
           [
            0.8888888888888888,
            "#b5de2b"
           ],
           [
            1,
            "#fde725"
           ]
          ],
          "size": 6
         },
         "mode": "lines+markers",
         "name": "Cluster 3",
         "text": [
          "Cluster: 1",
          "Cluster: 4",
          "Cluster: 1",
          "Cluster: 4",
          "Cluster: 1"
         ],
         "type": "scatter",
         "x": [
          -1.9682076474825045,
          -1.4952958210000855,
          -2.2612909974398168,
          -1.6448024304132447,
          -2.2945422384908163
         ],
         "y": [
          0.1920251792289904,
          -0.29897685773053034,
          0.5576131426875816,
          -0.10969226900615474,
          0.35776870342460537
         ]
        },
        {
         "line": {
          "color": "hsl(200, 70%, 50%)",
          "shape": "spline"
         },
         "marker": {
          "color": 5,
          "colorscale": [
           [
            0,
            "#440154"
           ],
           [
            0.1111111111111111,
            "#482878"
           ],
           [
            0.2222222222222222,
            "#3e4989"
           ],
           [
            0.3333333333333333,
            "#31688e"
           ],
           [
            0.4444444444444444,
            "#26828e"
           ],
           [
            0.5555555555555556,
            "#1f9e89"
           ],
           [
            0.6666666666666666,
            "#35b779"
           ],
           [
            0.7777777777777778,
            "#6ece58"
           ],
           [
            0.8888888888888888,
            "#b5de2b"
           ],
           [
            1,
            "#fde725"
           ]
          ],
          "size": 6
         },
         "mode": "lines+markers",
         "name": "Cluster 5",
         "text": [
          "Cluster: 1",
          "Cluster: 1",
          "Cluster: 1",
          "Cluster: 1",
          "Cluster: 1"
         ],
         "type": "scatter",
         "x": [
          -1.5495560496986507,
          0.28020438808808473,
          -0.09978002659902929,
          -0.2838864272069494,
          -1.1229033425482828
         ],
         "y": [
          3.609286495022128,
          2.8545440709338963,
          2.789811787681992,
          2.379726379664211,
          3.691239964214561
         ]
        },
        {
         "line": {
          "color": "hsl(120, 70%, 50%)",
          "shape": "spline"
         },
         "marker": {
          "color": 3,
          "colorscale": [
           [
            0,
            "#440154"
           ],
           [
            0.1111111111111111,
            "#482878"
           ],
           [
            0.2222222222222222,
            "#3e4989"
           ],
           [
            0.3333333333333333,
            "#31688e"
           ],
           [
            0.4444444444444444,
            "#26828e"
           ],
           [
            0.5555555555555556,
            "#1f9e89"
           ],
           [
            0.6666666666666666,
            "#35b779"
           ],
           [
            0.7777777777777778,
            "#6ece58"
           ],
           [
            0.8888888888888888,
            "#b5de2b"
           ],
           [
            1,
            "#fde725"
           ]
          ],
          "size": 6
         },
         "mode": "lines+markers",
         "name": "Cluster 3",
         "text": [
          "Cluster: 4",
          "Cluster: 4",
          "Cluster: 4",
          "Cluster: 4",
          "Cluster: 1"
         ],
         "type": "scatter",
         "x": [
          -2.117180523599686,
          -3.2074798648377953,
          -2.0530485843147606,
          -1.338370960175173,
          -1.980678205334016
         ],
         "y": [
          0.05281012719118246,
          -0.5759669757345897,
          -0.1530895545140826,
          -0.33321698997899973,
          0.32618305032291456
         ]
        },
        {
         "line": {
          "color": "hsl(120, 70%, 50%)",
          "shape": "spline"
         },
         "marker": {
          "color": 3,
          "colorscale": [
           [
            0,
            "#440154"
           ],
           [
            0.1111111111111111,
            "#482878"
           ],
           [
            0.2222222222222222,
            "#3e4989"
           ],
           [
            0.3333333333333333,
            "#31688e"
           ],
           [
            0.4444444444444444,
            "#26828e"
           ],
           [
            0.5555555555555556,
            "#1f9e89"
           ],
           [
            0.6666666666666666,
            "#35b779"
           ],
           [
            0.7777777777777778,
            "#6ece58"
           ],
           [
            0.8888888888888888,
            "#b5de2b"
           ],
           [
            1,
            "#fde725"
           ]
          ],
          "size": 6
         },
         "mode": "lines+markers",
         "name": "Cluster 3",
         "text": [
          "Cluster: 4",
          "Cluster: 4",
          "Cluster: 1",
          "Cluster: 4",
          "Cluster: 4"
         ],
         "type": "scatter",
         "x": [
          -3.2633470340484236,
          -3.1609932003973253,
          -3.9070894773662914,
          -3.9704387741398337,
          -3.381804474257284
         ],
         "y": [
          0.2930494331124385,
          0.3707235671758313,
          0.8491015137458576,
          0.6729851899271158,
          0.4112527046472985
         ]
        },
        {
         "line": {
          "color": "hsl(160, 70%, 50%)",
          "shape": "spline"
         },
         "marker": {
          "color": 4,
          "colorscale": [
           [
            0,
            "#440154"
           ],
           [
            0.1111111111111111,
            "#482878"
           ],
           [
            0.2222222222222222,
            "#3e4989"
           ],
           [
            0.3333333333333333,
            "#31688e"
           ],
           [
            0.4444444444444444,
            "#26828e"
           ],
           [
            0.5555555555555556,
            "#1f9e89"
           ],
           [
            0.6666666666666666,
            "#35b779"
           ],
           [
            0.7777777777777778,
            "#6ece58"
           ],
           [
            0.8888888888888888,
            "#b5de2b"
           ],
           [
            1,
            "#fde725"
           ]
          ],
          "size": 6
         },
         "mode": "lines+markers",
         "name": "Cluster 4",
         "text": [
          "Cluster: 2",
          "Cluster: 2",
          "Cluster: 2",
          "Cluster: 2",
          "Cluster: 2"
         ],
         "type": "scatter",
         "x": [
          2.411976794026488,
          2.1950312216204155,
          2.6781681599877567,
          2.9353468135313383,
          1.5198395814896761
         ],
         "y": [
          0.5028734138417335,
          0.3953680397502208,
          -0.12783477925964948,
          0.1396482307803883,
          -0.04372577444997779
         ]
        },
        {
         "line": {
          "color": "hsl(160, 70%, 50%)",
          "shape": "spline"
         },
         "marker": {
          "color": 4,
          "colorscale": [
           [
            0,
            "#440154"
           ],
           [
            0.1111111111111111,
            "#482878"
           ],
           [
            0.2222222222222222,
            "#3e4989"
           ],
           [
            0.3333333333333333,
            "#31688e"
           ],
           [
            0.4444444444444444,
            "#26828e"
           ],
           [
            0.5555555555555556,
            "#1f9e89"
           ],
           [
            0.6666666666666666,
            "#35b779"
           ],
           [
            0.7777777777777778,
            "#6ece58"
           ],
           [
            0.8888888888888888,
            "#b5de2b"
           ],
           [
            1,
            "#fde725"
           ]
          ],
          "size": 6
         },
         "mode": "lines+markers",
         "name": "Cluster 4",
         "text": [
          "Cluster: 2",
          "Cluster: 2",
          "Cluster: 3",
          "Cluster: 3",
          "Cluster: 2"
         ],
         "type": "scatter",
         "x": [
          1.845732396590479,
          0.9229112221666217,
          1.4087319331963746,
          1.2755504822694916,
          2.089686773679995
         ],
         "y": [
          0.12475092656327308,
          0.7148956477693078,
          -0.2746680094252441,
          -0.16427586935549388,
          0.20018157213966395
         ]
        },
        {
         "line": {
          "color": "hsl(120, 70%, 50%)",
          "shape": "spline"
         },
         "marker": {
          "color": 3,
          "colorscale": [
           [
            0,
            "#440154"
           ],
           [
            0.1111111111111111,
            "#482878"
           ],
           [
            0.2222222222222222,
            "#3e4989"
           ],
           [
            0.3333333333333333,
            "#31688e"
           ],
           [
            0.4444444444444444,
            "#26828e"
           ],
           [
            0.5555555555555556,
            "#1f9e89"
           ],
           [
            0.6666666666666666,
            "#35b779"
           ],
           [
            0.7777777777777778,
            "#6ece58"
           ],
           [
            0.8888888888888888,
            "#b5de2b"
           ],
           [
            1,
            "#fde725"
           ]
          ],
          "size": 6
         },
         "mode": "lines+markers",
         "name": "Cluster 3",
         "text": [
          "Cluster: 4",
          "Cluster: 4",
          "Cluster: 4",
          "Cluster: 3",
          "Cluster: 3"
         ],
         "type": "scatter",
         "x": [
          -1.3991889082624271,
          -1.9957481336360554,
          -1.7176350427577505,
          -0.8865838889146427,
          -0.22276982072025217
         ],
         "y": [
          -2.371388850824815,
          -2.166731608750217,
          -2.1941327425784043,
          -2.4555621723016325,
          -2.574104039239149
         ]
        },
        {
         "line": {
          "color": "hsl(120, 70%, 50%)",
          "shape": "spline"
         },
         "marker": {
          "color": 3,
          "colorscale": [
           [
            0,
            "#440154"
           ],
           [
            0.1111111111111111,
            "#482878"
           ],
           [
            0.2222222222222222,
            "#3e4989"
           ],
           [
            0.3333333333333333,
            "#31688e"
           ],
           [
            0.4444444444444444,
            "#26828e"
           ],
           [
            0.5555555555555556,
            "#1f9e89"
           ],
           [
            0.6666666666666666,
            "#35b779"
           ],
           [
            0.7777777777777778,
            "#6ece58"
           ],
           [
            0.8888888888888888,
            "#b5de2b"
           ],
           [
            1,
            "#fde725"
           ]
          ],
          "size": 6
         },
         "mode": "lines+markers",
         "name": "Cluster 3",
         "text": [
          "Cluster: 3",
          "Cluster: 3",
          "Cluster: 3",
          "Cluster: 3",
          "Cluster: 3"
         ],
         "type": "scatter",
         "x": [
          0.7835975037540076,
          -0.3038260639114889,
          -1.15275327548589,
          -0.45498151567346884,
          -1.1035331303212506
         ],
         "y": [
          -3.664694101394389,
          -2.5897681825153636,
          -1.686553589417844,
          -2.702778967516844,
          -1.7842112610806502
         ]
        },
        {
         "line": {
          "color": "hsl(40, 70%, 50%)",
          "shape": "spline"
         },
         "marker": {
          "color": 1,
          "colorscale": [
           [
            0,
            "#440154"
           ],
           [
            0.1111111111111111,
            "#482878"
           ],
           [
            0.2222222222222222,
            "#3e4989"
           ],
           [
            0.3333333333333333,
            "#31688e"
           ],
           [
            0.4444444444444444,
            "#26828e"
           ],
           [
            0.5555555555555556,
            "#1f9e89"
           ],
           [
            0.6666666666666666,
            "#35b779"
           ],
           [
            0.7777777777777778,
            "#6ece58"
           ],
           [
            0.8888888888888888,
            "#b5de2b"
           ],
           [
            1,
            "#fde725"
           ]
          ],
          "size": 6
         },
         "mode": "lines+markers",
         "name": "Cluster 1",
         "text": [
          "Cluster: 5",
          "Cluster: 5",
          "Cluster: 5",
          "Cluster: 5",
          "Cluster: 5"
         ],
         "type": "scatter",
         "x": [
          3.969461733474267,
          4.604327727794135,
          4.235079671021225,
          3.953446096083059,
          3.863726912181501
         ],
         "y": [
          -0.25780056810474694,
          -0.8541370918818009,
          -0.7419675391599193,
          -0.2685137619408175,
          -0.6659167259300521
         ]
        },
        {
         "line": {
          "color": "hsl(160, 70%, 50%)",
          "shape": "spline"
         },
         "marker": {
          "color": 4,
          "colorscale": [
           [
            0,
            "#440154"
           ],
           [
            0.1111111111111111,
            "#482878"
           ],
           [
            0.2222222222222222,
            "#3e4989"
           ],
           [
            0.3333333333333333,
            "#31688e"
           ],
           [
            0.4444444444444444,
            "#26828e"
           ],
           [
            0.5555555555555556,
            "#1f9e89"
           ],
           [
            0.6666666666666666,
            "#35b779"
           ],
           [
            0.7777777777777778,
            "#6ece58"
           ],
           [
            0.8888888888888888,
            "#b5de2b"
           ],
           [
            1,
            "#fde725"
           ]
          ],
          "size": 6
         },
         "mode": "lines+markers",
         "name": "Cluster 4",
         "text": [
          "Cluster: 2",
          "Cluster: 2",
          "Cluster: 3",
          "Cluster: 2",
          "Cluster: 2"
         ],
         "type": "scatter",
         "x": [
          1.2212927986739208,
          1.549818213973852,
          1.3393609179409967,
          2.2533908109088623,
          2.502688634544926
         ],
         "y": [
          0.263119494822008,
          0.01148647080131183,
          -0.39007853346645555,
          -0.40742137783965376,
          -0.7679259385714612
         ]
        },
        {
         "line": {
          "color": "hsl(120, 70%, 50%)",
          "shape": "spline"
         },
         "marker": {
          "color": 3,
          "colorscale": [
           [
            0,
            "#440154"
           ],
           [
            0.1111111111111111,
            "#482878"
           ],
           [
            0.2222222222222222,
            "#3e4989"
           ],
           [
            0.3333333333333333,
            "#31688e"
           ],
           [
            0.4444444444444444,
            "#26828e"
           ],
           [
            0.5555555555555556,
            "#1f9e89"
           ],
           [
            0.6666666666666666,
            "#35b779"
           ],
           [
            0.7777777777777778,
            "#6ece58"
           ],
           [
            0.8888888888888888,
            "#b5de2b"
           ],
           [
            1,
            "#fde725"
           ]
          ],
          "size": 6
         },
         "mode": "lines+markers",
         "name": "Cluster 3",
         "text": [
          "Cluster: 3",
          "Cluster: 3",
          "Cluster: 3",
          "Cluster: 3",
          "Cluster: 4"
         ],
         "type": "scatter",
         "x": [
          -0.8576126508975697,
          -0.186353441030378,
          -1.272029373138847,
          -1.1276517906104346,
          -1.5214776077883996
         ],
         "y": [
          -1.6547769342825092,
          -2.4128215550727794,
          -2.544205361068634,
          -0.9524722325065481,
          -0.49167260228788107
         ]
        },
        {
         "line": {
          "color": "hsl(160, 70%, 50%)",
          "shape": "spline"
         },
         "marker": {
          "color": 4,
          "colorscale": [
           [
            0,
            "#440154"
           ],
           [
            0.1111111111111111,
            "#482878"
           ],
           [
            0.2222222222222222,
            "#3e4989"
           ],
           [
            0.3333333333333333,
            "#31688e"
           ],
           [
            0.4444444444444444,
            "#26828e"
           ],
           [
            0.5555555555555556,
            "#1f9e89"
           ],
           [
            0.6666666666666666,
            "#35b779"
           ],
           [
            0.7777777777777778,
            "#6ece58"
           ],
           [
            0.8888888888888888,
            "#b5de2b"
           ],
           [
            1,
            "#fde725"
           ]
          ],
          "size": 6
         },
         "mode": "lines+markers",
         "name": "Cluster 4",
         "text": [
          "Cluster: 2",
          "Cluster: 0",
          "Cluster: 0",
          "Cluster: 2",
          "Cluster: 2"
         ],
         "type": "scatter",
         "x": [
          1.3676075486603356,
          0.9431207307716446,
          1.043086900588843,
          1.572896418206275,
          1.8052338505773633
         ],
         "y": [
          0.7098670478430316,
          1.566579446152208,
          1.1174948972677705,
          0.4304675524972284,
          0.8607171866069938
         ]
        },
        {
         "line": {
          "color": "hsl(120, 70%, 50%)",
          "shape": "spline"
         },
         "marker": {
          "color": 3,
          "colorscale": [
           [
            0,
            "#440154"
           ],
           [
            0.1111111111111111,
            "#482878"
           ],
           [
            0.2222222222222222,
            "#3e4989"
           ],
           [
            0.3333333333333333,
            "#31688e"
           ],
           [
            0.4444444444444444,
            "#26828e"
           ],
           [
            0.5555555555555556,
            "#1f9e89"
           ],
           [
            0.6666666666666666,
            "#35b779"
           ],
           [
            0.7777777777777778,
            "#6ece58"
           ],
           [
            0.8888888888888888,
            "#b5de2b"
           ],
           [
            1,
            "#fde725"
           ]
          ],
          "size": 6
         },
         "mode": "lines+markers",
         "name": "Cluster 3",
         "text": [
          "Cluster: 3",
          "Cluster: 1",
          "Cluster: 3",
          "Cluster: 3",
          "Cluster: 3"
         ],
         "type": "scatter",
         "x": [
          -0.8162334822124367,
          -1.802062053691498,
          -0.5105814381873247,
          0.42070285662152734,
          0.2851725344782179
         ],
         "y": [
          -0.530479673842367,
          0.04554326229186739,
          -0.5700004630307391,
          -0.6453963373771996,
          -0.6371082466823755
         ]
        },
        {
         "line": {
          "color": "hsl(40, 70%, 50%)",
          "shape": "spline"
         },
         "marker": {
          "color": 1,
          "colorscale": [
           [
            0,
            "#440154"
           ],
           [
            0.1111111111111111,
            "#482878"
           ],
           [
            0.2222222222222222,
            "#3e4989"
           ],
           [
            0.3333333333333333,
            "#31688e"
           ],
           [
            0.4444444444444444,
            "#26828e"
           ],
           [
            0.5555555555555556,
            "#1f9e89"
           ],
           [
            0.6666666666666666,
            "#35b779"
           ],
           [
            0.7777777777777778,
            "#6ece58"
           ],
           [
            0.8888888888888888,
            "#b5de2b"
           ],
           [
            1,
            "#fde725"
           ]
          ],
          "size": 6
         },
         "mode": "lines+markers",
         "name": "Cluster 1",
         "text": [
          "Cluster: 2",
          "Cluster: 5",
          "Cluster: 2",
          "Cluster: 3",
          "Cluster: 2"
         ],
         "type": "scatter",
         "x": [
          3.630970062911351,
          4.40032786580485,
          3.450687585334513,
          3.3302678479376207,
          4.138233168830043
         ],
         "y": [
          -1.1826067199622796,
          -1.9752820977273704,
          -1.1716289494488357,
          -1.5040172171682826,
          -1.3668061714406667
         ]
        },
        {
         "line": {
          "color": "hsl(160, 70%, 50%)",
          "shape": "spline"
         },
         "marker": {
          "color": 4,
          "colorscale": [
           [
            0,
            "#440154"
           ],
           [
            0.1111111111111111,
            "#482878"
           ],
           [
            0.2222222222222222,
            "#3e4989"
           ],
           [
            0.3333333333333333,
            "#31688e"
           ],
           [
            0.4444444444444444,
            "#26828e"
           ],
           [
            0.5555555555555556,
            "#1f9e89"
           ],
           [
            0.6666666666666666,
            "#35b779"
           ],
           [
            0.7777777777777778,
            "#6ece58"
           ],
           [
            0.8888888888888888,
            "#b5de2b"
           ],
           [
            1,
            "#fde725"
           ]
          ],
          "size": 6
         },
         "mode": "lines+markers",
         "name": "Cluster 4",
         "text": [
          "Cluster: 2",
          "Cluster: 2",
          "Cluster: 3",
          "Cluster: 3",
          "Cluster: 3"
         ],
         "type": "scatter",
         "x": [
          1.7007206846277823,
          1.814771017372812,
          1.3814820149829667,
          0.6151580724038724,
          0.6895886463954182
         ],
         "y": [
          0.388411096794683,
          0.04879199726579919,
          -0.5210147303794046,
          -0.06406487870593669,
          0.19611350135360475
         ]
        },
        {
         "line": {
          "color": "hsl(80, 70%, 50%)",
          "shape": "spline"
         },
         "marker": {
          "color": 2,
          "colorscale": [
           [
            0,
            "#440154"
           ],
           [
            0.1111111111111111,
            "#482878"
           ],
           [
            0.2222222222222222,
            "#3e4989"
           ],
           [
            0.3333333333333333,
            "#31688e"
           ],
           [
            0.4444444444444444,
            "#26828e"
           ],
           [
            0.5555555555555556,
            "#1f9e89"
           ],
           [
            0.6666666666666666,
            "#35b779"
           ],
           [
            0.7777777777777778,
            "#6ece58"
           ],
           [
            0.8888888888888888,
            "#b5de2b"
           ],
           [
            1,
            "#fde725"
           ]
          ],
          "size": 6
         },
         "mode": "lines+markers",
         "name": "Cluster 2",
         "text": [
          "Cluster: 2",
          "Cluster: 2",
          "Cluster: 2",
          "Cluster: 5",
          "Cluster: 2"
         ],
         "type": "scatter",
         "x": [
          4.7643269081245725,
          4.887035875753866,
          4.845152951927205,
          5.812008488454935,
          4.845152951927205
         ],
         "y": [
          1.9258127901355777,
          1.1955413652245217,
          1.1507226357974227,
          1.308854236466156,
          1.1507226357974227
         ]
        },
        {
         "line": {
          "color": "hsl(120, 70%, 50%)",
          "shape": "spline"
         },
         "marker": {
          "color": 3,
          "colorscale": [
           [
            0,
            "#440154"
           ],
           [
            0.1111111111111111,
            "#482878"
           ],
           [
            0.2222222222222222,
            "#3e4989"
           ],
           [
            0.3333333333333333,
            "#31688e"
           ],
           [
            0.4444444444444444,
            "#26828e"
           ],
           [
            0.5555555555555556,
            "#1f9e89"
           ],
           [
            0.6666666666666666,
            "#35b779"
           ],
           [
            0.7777777777777778,
            "#6ece58"
           ],
           [
            0.8888888888888888,
            "#b5de2b"
           ],
           [
            1,
            "#fde725"
           ]
          ],
          "size": 6
         },
         "mode": "lines+markers",
         "name": "Cluster 3",
         "text": [
          "Cluster: 1",
          "Cluster: 3",
          "Cluster: 1",
          "Cluster: 1",
          "Cluster: 3"
         ],
         "type": "scatter",
         "x": [
          -0.8071000444215508,
          -0.1030521408234492,
          -1.041940525725999,
          -2.4052816265202006,
          -0.8029479953037626
         ],
         "y": [
          0.8948049426494751,
          -0.36638286736530706,
          0.02435498001244412,
          0.9744480871267557,
          -0.5454146310969404
         ]
        },
        {
         "line": {
          "color": "hsl(160, 70%, 50%)",
          "shape": "spline"
         },
         "marker": {
          "color": 4,
          "colorscale": [
           [
            0,
            "#440154"
           ],
           [
            0.1111111111111111,
            "#482878"
           ],
           [
            0.2222222222222222,
            "#3e4989"
           ],
           [
            0.3333333333333333,
            "#31688e"
           ],
           [
            0.4444444444444444,
            "#26828e"
           ],
           [
            0.5555555555555556,
            "#1f9e89"
           ],
           [
            0.6666666666666666,
            "#35b779"
           ],
           [
            0.7777777777777778,
            "#6ece58"
           ],
           [
            0.8888888888888888,
            "#b5de2b"
           ],
           [
            1,
            "#fde725"
           ]
          ],
          "size": 6
         },
         "mode": "lines+markers",
         "name": "Cluster 4",
         "text": [
          "Cluster: 2",
          "Cluster: 2",
          "Cluster: 2",
          "Cluster: 2",
          "Cluster: 1"
         ],
         "type": "scatter",
         "x": [
          1.634474410341897,
          0.49364449103265673,
          1.8902860822310752,
          0.931805246102086,
          -0.08409433723742246
         ],
         "y": [
          1.4096881024213506,
          2.400951716335941,
          0.7199906072143999,
          1.5185884052847916,
          2.656971901899028
         ]
        },
        {
         "line": {
          "color": "hsl(120, 70%, 50%)",
          "shape": "spline"
         },
         "marker": {
          "color": 3,
          "colorscale": [
           [
            0,
            "#440154"
           ],
           [
            0.1111111111111111,
            "#482878"
           ],
           [
            0.2222222222222222,
            "#3e4989"
           ],
           [
            0.3333333333333333,
            "#31688e"
           ],
           [
            0.4444444444444444,
            "#26828e"
           ],
           [
            0.5555555555555556,
            "#1f9e89"
           ],
           [
            0.6666666666666666,
            "#35b779"
           ],
           [
            0.7777777777777778,
            "#6ece58"
           ],
           [
            0.8888888888888888,
            "#b5de2b"
           ],
           [
            1,
            "#fde725"
           ]
          ],
          "size": 6
         },
         "mode": "lines+markers",
         "name": "Cluster 3",
         "text": [
          "Cluster: 3",
          "Cluster: 1",
          "Cluster: 3",
          "Cluster: 3",
          "Cluster: 1"
         ],
         "type": "scatter",
         "x": [
          -0.32747284025960477,
          -1.6472384248124092,
          0.09888791196684005,
          -0.7842919746413347,
          -1.6472384248124092
         ],
         "y": [
          -0.9102821291652351,
          0.5534048723575535,
          -1.0822041289234894,
          0.015590103418997922,
          0.5534048723575535
         ]
        },
        {
         "line": {
          "color": "hsl(160, 70%, 50%)",
          "shape": "spline"
         },
         "marker": {
          "color": 4,
          "colorscale": [
           [
            0,
            "#440154"
           ],
           [
            0.1111111111111111,
            "#482878"
           ],
           [
            0.2222222222222222,
            "#3e4989"
           ],
           [
            0.3333333333333333,
            "#31688e"
           ],
           [
            0.4444444444444444,
            "#26828e"
           ],
           [
            0.5555555555555556,
            "#1f9e89"
           ],
           [
            0.6666666666666666,
            "#35b779"
           ],
           [
            0.7777777777777778,
            "#6ece58"
           ],
           [
            0.8888888888888888,
            "#b5de2b"
           ],
           [
            1,
            "#fde725"
           ]
          ],
          "size": 6
         },
         "mode": "lines+markers",
         "name": "Cluster 4",
         "text": [
          "Cluster: 0",
          "Cluster: 1",
          "Cluster: 2",
          "Cluster: 1",
          "Cluster: 2"
         ],
         "type": "scatter",
         "x": [
          0.7239152230518161,
          -0.6670059685767729,
          1.7468744703203096,
          -0.2851937864977976,
          1.9754524062442937
         ],
         "y": [
          1.8751155420269996,
          0.9160965801642401,
          1.9384959316307941,
          1.2430440013818356,
          1.9927421628178037
         ]
        },
        {
         "line": {
          "color": "hsl(120, 70%, 50%)",
          "shape": "spline"
         },
         "marker": {
          "color": 3,
          "colorscale": [
           [
            0,
            "#440154"
           ],
           [
            0.1111111111111111,
            "#482878"
           ],
           [
            0.2222222222222222,
            "#3e4989"
           ],
           [
            0.3333333333333333,
            "#31688e"
           ],
           [
            0.4444444444444444,
            "#26828e"
           ],
           [
            0.5555555555555556,
            "#1f9e89"
           ],
           [
            0.6666666666666666,
            "#35b779"
           ],
           [
            0.7777777777777778,
            "#6ece58"
           ],
           [
            0.8888888888888888,
            "#b5de2b"
           ],
           [
            1,
            "#fde725"
           ]
          ],
          "size": 6
         },
         "mode": "lines+markers",
         "name": "Cluster 3",
         "text": [
          "Cluster: 1",
          "Cluster: 1",
          "Cluster: 1",
          "Cluster: 1",
          "Cluster: 1"
         ],
         "type": "scatter",
         "x": [
          -0.18403836496702633,
          -0.08782187956645436,
          -2.6900278632793957,
          -3.821324816946094,
          -4.254854076531306
         ],
         "y": [
          1.8996814464493263,
          1.9124291768764348,
          1.9215338649333955,
          2.290245648057845,
          2.0866054129799245
         ]
        },
        {
         "line": {
          "color": "hsl(120, 70%, 50%)",
          "shape": "spline"
         },
         "marker": {
          "color": 3,
          "colorscale": [
           [
            0,
            "#440154"
           ],
           [
            0.1111111111111111,
            "#482878"
           ],
           [
            0.2222222222222222,
            "#3e4989"
           ],
           [
            0.3333333333333333,
            "#31688e"
           ],
           [
            0.4444444444444444,
            "#26828e"
           ],
           [
            0.5555555555555556,
            "#1f9e89"
           ],
           [
            0.6666666666666666,
            "#35b779"
           ],
           [
            0.7777777777777778,
            "#6ece58"
           ],
           [
            0.8888888888888888,
            "#b5de2b"
           ],
           [
            1,
            "#fde725"
           ]
          ],
          "size": 6
         },
         "mode": "lines+markers",
         "name": "Cluster 3",
         "text": [
          "Cluster: 4",
          "Cluster: 3",
          "Cluster: 4",
          "Cluster: 4",
          "Cluster: 4"
         ],
         "type": "scatter",
         "x": [
          -1.290131212895294,
          -1.0604086618324184,
          -1.1158940827775654,
          -1.7479099400464049,
          -2.2465137403673814
         ],
         "y": [
          -0.7313067596998094,
          -1.2449159593641541,
          -0.3669808195837489,
          -0.4807868592918032,
          -1.2874243987078537
         ]
        },
        {
         "line": {
          "color": "hsl(200, 70%, 50%)",
          "shape": "spline"
         },
         "marker": {
          "color": 5,
          "colorscale": [
           [
            0,
            "#440154"
           ],
           [
            0.1111111111111111,
            "#482878"
           ],
           [
            0.2222222222222222,
            "#3e4989"
           ],
           [
            0.3333333333333333,
            "#31688e"
           ],
           [
            0.4444444444444444,
            "#26828e"
           ],
           [
            0.5555555555555556,
            "#1f9e89"
           ],
           [
            0.6666666666666666,
            "#35b779"
           ],
           [
            0.7777777777777778,
            "#6ece58"
           ],
           [
            0.8888888888888888,
            "#b5de2b"
           ],
           [
            1,
            "#fde725"
           ]
          ],
          "size": 6
         },
         "mode": "lines+markers",
         "name": "Cluster 5",
         "text": [
          "Cluster: 0",
          "Cluster: 0",
          "Cluster: 1",
          "Cluster: 0",
          "Cluster: 0"
         ],
         "type": "scatter",
         "x": [
          -1.995453440842521,
          -1.4553918599178872,
          -0.9995400658715968,
          -1.1163040690375245,
          0.795767113382779
         ],
         "y": [
          3.2417593482605107,
          2.772470362787605,
          4.599489213925262,
          3.9514526496841724,
          2.9405944120402534
         ]
        },
        {
         "line": {
          "color": "hsl(120, 70%, 50%)",
          "shape": "spline"
         },
         "marker": {
          "color": 3,
          "colorscale": [
           [
            0,
            "#440154"
           ],
           [
            0.1111111111111111,
            "#482878"
           ],
           [
            0.2222222222222222,
            "#3e4989"
           ],
           [
            0.3333333333333333,
            "#31688e"
           ],
           [
            0.4444444444444444,
            "#26828e"
           ],
           [
            0.5555555555555556,
            "#1f9e89"
           ],
           [
            0.6666666666666666,
            "#35b779"
           ],
           [
            0.7777777777777778,
            "#6ece58"
           ],
           [
            0.8888888888888888,
            "#b5de2b"
           ],
           [
            1,
            "#fde725"
           ]
          ],
          "size": 6
         },
         "mode": "lines+markers",
         "name": "Cluster 3",
         "text": [
          "Cluster: 4",
          "Cluster: 4",
          "Cluster: 4",
          "Cluster: 1",
          "Cluster: 1"
         ],
         "type": "scatter",
         "x": [
          -1.5601854851352803,
          -2.219368549112432,
          -1.9775149145433453,
          -3.471268776358334,
          -3.4920807319584704
         ],
         "y": [
          -1.1671452317239934,
          -0.33998231983615695,
          -0.5787018939330182,
          1.0322753039939583,
          1.248964750136597
         ]
        },
        {
         "line": {
          "color": "hsl(120, 70%, 50%)",
          "shape": "spline"
         },
         "marker": {
          "color": 3,
          "colorscale": [
           [
            0,
            "#440154"
           ],
           [
            0.1111111111111111,
            "#482878"
           ],
           [
            0.2222222222222222,
            "#3e4989"
           ],
           [
            0.3333333333333333,
            "#31688e"
           ],
           [
            0.4444444444444444,
            "#26828e"
           ],
           [
            0.5555555555555556,
            "#1f9e89"
           ],
           [
            0.6666666666666666,
            "#35b779"
           ],
           [
            0.7777777777777778,
            "#6ece58"
           ],
           [
            0.8888888888888888,
            "#b5de2b"
           ],
           [
            1,
            "#fde725"
           ]
          ],
          "size": 6
         },
         "mode": "lines+markers",
         "name": "Cluster 3",
         "text": [
          "Cluster: 1",
          "Cluster: 1",
          "Cluster: 1",
          "Cluster: 1",
          "Cluster: 1"
         ],
         "type": "scatter",
         "x": [
          -3.3296215643532356,
          -2.1884967568465483,
          -2.2581998618602372,
          -2.9130976211406274,
          -2.4060391577811324
         ],
         "y": [
          0.779371346369272,
          0.6958138708413764,
          0.3993494702022268,
          1.0565470516147353,
          0.5157120499715675
         ]
        },
        {
         "line": {
          "color": "hsl(120, 70%, 50%)",
          "shape": "spline"
         },
         "marker": {
          "color": 3,
          "colorscale": [
           [
            0,
            "#440154"
           ],
           [
            0.1111111111111111,
            "#482878"
           ],
           [
            0.2222222222222222,
            "#3e4989"
           ],
           [
            0.3333333333333333,
            "#31688e"
           ],
           [
            0.4444444444444444,
            "#26828e"
           ],
           [
            0.5555555555555556,
            "#1f9e89"
           ],
           [
            0.6666666666666666,
            "#35b779"
           ],
           [
            0.7777777777777778,
            "#6ece58"
           ],
           [
            0.8888888888888888,
            "#b5de2b"
           ],
           [
            1,
            "#fde725"
           ]
          ],
          "size": 6
         },
         "mode": "lines+markers",
         "name": "Cluster 3",
         "text": [
          "Cluster: 4",
          "Cluster: 1",
          "Cluster: 4",
          "Cluster: 1",
          "Cluster: 3"
         ],
         "type": "scatter",
         "x": [
          -2.0771716392233834,
          -2.4067261409044387,
          -1.4937466837756954,
          -1.9737934048220709,
          -1.2110972697946365
         ],
         "y": [
          -0.1417609184615658,
          0.5918081433140986,
          -0.23907803877334655,
          0.1499829158164191,
          -0.2402961613832535
         ]
        },
        {
         "line": {
          "color": "hsl(120, 70%, 50%)",
          "shape": "spline"
         },
         "marker": {
          "color": 3,
          "colorscale": [
           [
            0,
            "#440154"
           ],
           [
            0.1111111111111111,
            "#482878"
           ],
           [
            0.2222222222222222,
            "#3e4989"
           ],
           [
            0.3333333333333333,
            "#31688e"
           ],
           [
            0.4444444444444444,
            "#26828e"
           ],
           [
            0.5555555555555556,
            "#1f9e89"
           ],
           [
            0.6666666666666666,
            "#35b779"
           ],
           [
            0.7777777777777778,
            "#6ece58"
           ],
           [
            0.8888888888888888,
            "#b5de2b"
           ],
           [
            1,
            "#fde725"
           ]
          ],
          "size": 6
         },
         "mode": "lines+markers",
         "name": "Cluster 3",
         "text": [
          "Cluster: 0",
          "Cluster: 0",
          "Cluster: 0",
          "Cluster: 0",
          "Cluster: 1"
         ],
         "type": "scatter",
         "x": [
          -2.9941812124080047,
          -2.779138121861923,
          -2.243816959028288,
          -2.3470713903066973,
          -3.1270568589471583
         ],
         "y": [
          1.1501609691198922,
          1.0679712209419332,
          1.3108753341634836,
          1.7429367041328028,
          1.4309667372638015
         ]
        },
        {
         "line": {
          "color": "hsl(40, 70%, 50%)",
          "shape": "spline"
         },
         "marker": {
          "color": 1,
          "colorscale": [
           [
            0,
            "#440154"
           ],
           [
            0.1111111111111111,
            "#482878"
           ],
           [
            0.2222222222222222,
            "#3e4989"
           ],
           [
            0.3333333333333333,
            "#31688e"
           ],
           [
            0.4444444444444444,
            "#26828e"
           ],
           [
            0.5555555555555556,
            "#1f9e89"
           ],
           [
            0.6666666666666666,
            "#35b779"
           ],
           [
            0.7777777777777778,
            "#6ece58"
           ],
           [
            0.8888888888888888,
            "#b5de2b"
           ],
           [
            1,
            "#fde725"
           ]
          ],
          "size": 6
         },
         "mode": "lines+markers",
         "name": "Cluster 1",
         "text": [
          "Cluster: 3",
          "Cluster: 5",
          "Cluster: 3",
          "Cluster: 3",
          "Cluster: 3"
         ],
         "type": "scatter",
         "x": [
          3.147573005916177,
          4.103903727083762,
          3.4126969748576976,
          2.7872256502556207,
          3.4439733385943727
         ],
         "y": [
          -1.515727996069699,
          -1.734911355300152,
          -1.6441311327957575,
          -1.5248028888447773,
          -1.6756893871551743
         ]
        },
        {
         "line": {
          "color": "hsl(200, 70%, 50%)",
          "shape": "spline"
         },
         "marker": {
          "color": 5,
          "colorscale": [
           [
            0,
            "#440154"
           ],
           [
            0.1111111111111111,
            "#482878"
           ],
           [
            0.2222222222222222,
            "#3e4989"
           ],
           [
            0.3333333333333333,
            "#31688e"
           ],
           [
            0.4444444444444444,
            "#26828e"
           ],
           [
            0.5555555555555556,
            "#1f9e89"
           ],
           [
            0.6666666666666666,
            "#35b779"
           ],
           [
            0.7777777777777778,
            "#6ece58"
           ],
           [
            0.8888888888888888,
            "#b5de2b"
           ],
           [
            1,
            "#fde725"
           ]
          ],
          "size": 6
         },
         "mode": "lines+markers",
         "name": "Cluster 5",
         "text": [
          "Cluster: 1",
          "Cluster: 3",
          "Cluster: 1",
          "Cluster: 5",
          "Cluster: 1"
         ],
         "type": "scatter",
         "x": [
          -1.1828143332329162,
          -0.011006756694121312,
          -2.9483919898899167,
          8.006500841880072,
          -2.875380930234254
         ],
         "y": [
          2.2096531717859365,
          -7.761801925957118,
          4.475895865354578,
          4.211977631948205,
          4.315513092233081
         ]
        },
        {
         "line": {
          "color": "hsl(120, 70%, 50%)",
          "shape": "spline"
         },
         "marker": {
          "color": 3,
          "colorscale": [
           [
            0,
            "#440154"
           ],
           [
            0.1111111111111111,
            "#482878"
           ],
           [
            0.2222222222222222,
            "#3e4989"
           ],
           [
            0.3333333333333333,
            "#31688e"
           ],
           [
            0.4444444444444444,
            "#26828e"
           ],
           [
            0.5555555555555556,
            "#1f9e89"
           ],
           [
            0.6666666666666666,
            "#35b779"
           ],
           [
            0.7777777777777778,
            "#6ece58"
           ],
           [
            0.8888888888888888,
            "#b5de2b"
           ],
           [
            1,
            "#fde725"
           ]
          ],
          "size": 6
         },
         "mode": "lines+markers",
         "name": "Cluster 3",
         "text": [
          "Cluster: 1",
          "Cluster: 1",
          "Cluster: 1",
          "Cluster: 1",
          "Cluster: 3"
         ],
         "type": "scatter",
         "x": [
          -0.37552510838319664,
          -1.229733647197193,
          -0.44355925080235276,
          -0.6615466401873369,
          0.11450803356921435
         ],
         "y": [
          0.5299406129076649,
          1.5221773394198712,
          0.8845316358041413,
          0.6644988073157702,
          0.148661131218452
         ]
        },
        {
         "line": {
          "color": "hsl(40, 70%, 50%)",
          "shape": "spline"
         },
         "marker": {
          "color": 1,
          "colorscale": [
           [
            0,
            "#440154"
           ],
           [
            0.1111111111111111,
            "#482878"
           ],
           [
            0.2222222222222222,
            "#3e4989"
           ],
           [
            0.3333333333333333,
            "#31688e"
           ],
           [
            0.4444444444444444,
            "#26828e"
           ],
           [
            0.5555555555555556,
            "#1f9e89"
           ],
           [
            0.6666666666666666,
            "#35b779"
           ],
           [
            0.7777777777777778,
            "#6ece58"
           ],
           [
            0.8888888888888888,
            "#b5de2b"
           ],
           [
            1,
            "#fde725"
           ]
          ],
          "size": 6
         },
         "mode": "lines+markers",
         "name": "Cluster 1",
         "text": [
          "Cluster: 3",
          "Cluster: 5",
          "Cluster: 2",
          "Cluster: 2",
          "Cluster: 2"
         ],
         "type": "scatter",
         "x": [
          3.6656892337843443,
          4.657841545011802,
          3.759470809202273,
          3.780755305743085,
          3.885218980693918
         ],
         "y": [
          -1.7914373065787172,
          -1.4123905354569484,
          -1.0174846376489055,
          -1.217213614058917,
          -0.9915107379259117
         ]
        },
        {
         "line": {
          "color": "hsl(160, 70%, 50%)",
          "shape": "spline"
         },
         "marker": {
          "color": 4,
          "colorscale": [
           [
            0,
            "#440154"
           ],
           [
            0.1111111111111111,
            "#482878"
           ],
           [
            0.2222222222222222,
            "#3e4989"
           ],
           [
            0.3333333333333333,
            "#31688e"
           ],
           [
            0.4444444444444444,
            "#26828e"
           ],
           [
            0.5555555555555556,
            "#1f9e89"
           ],
           [
            0.6666666666666666,
            "#35b779"
           ],
           [
            0.7777777777777778,
            "#6ece58"
           ],
           [
            0.8888888888888888,
            "#b5de2b"
           ],
           [
            1,
            "#fde725"
           ]
          ],
          "size": 6
         },
         "mode": "lines+markers",
         "name": "Cluster 4",
         "text": [
          "Cluster: 5",
          "Cluster: 2",
          "Cluster: 2",
          "Cluster: 2",
          "Cluster: 2"
         ],
         "type": "scatter",
         "x": [
          5.025219185357513,
          3.7650828640035106,
          2.980736775916047,
          2.0859146184854698,
          1.7485231158348475
         ],
         "y": [
          -0.8096263523805461,
          -0.532782356463503,
          -0.16713702034794933,
          0.7479781719246168,
          1.21384026898003
         ]
        },
        {
         "line": {
          "color": "hsl(40, 70%, 50%)",
          "shape": "spline"
         },
         "marker": {
          "color": 1,
          "colorscale": [
           [
            0,
            "#440154"
           ],
           [
            0.1111111111111111,
            "#482878"
           ],
           [
            0.2222222222222222,
            "#3e4989"
           ],
           [
            0.3333333333333333,
            "#31688e"
           ],
           [
            0.4444444444444444,
            "#26828e"
           ],
           [
            0.5555555555555556,
            "#1f9e89"
           ],
           [
            0.6666666666666666,
            "#35b779"
           ],
           [
            0.7777777777777778,
            "#6ece58"
           ],
           [
            0.8888888888888888,
            "#b5de2b"
           ],
           [
            1,
            "#fde725"
           ]
          ],
          "size": 6
         },
         "mode": "lines+markers",
         "name": "Cluster 1",
         "text": [
          "Cluster: 5",
          "Cluster: 5",
          "Cluster: 5",
          "Cluster: 5",
          "Cluster: 3"
         ],
         "type": "scatter",
         "x": [
          4.1217521543820235,
          5.035111099508169,
          5.697611451865811,
          4.10137065131505,
          4.012195888043016
         ],
         "y": [
          -1.4007270446757007,
          -1.7533260370081634,
          -2.491326166478728,
          -1.4505806001711377,
          -2.203043832822204
         ]
        },
        {
         "line": {
          "color": "hsl(80, 70%, 50%)",
          "shape": "spline"
         },
         "marker": {
          "color": 2,
          "colorscale": [
           [
            0,
            "#440154"
           ],
           [
            0.1111111111111111,
            "#482878"
           ],
           [
            0.2222222222222222,
            "#3e4989"
           ],
           [
            0.3333333333333333,
            "#31688e"
           ],
           [
            0.4444444444444444,
            "#26828e"
           ],
           [
            0.5555555555555556,
            "#1f9e89"
           ],
           [
            0.6666666666666666,
            "#35b779"
           ],
           [
            0.7777777777777778,
            "#6ece58"
           ],
           [
            0.8888888888888888,
            "#b5de2b"
           ],
           [
            1,
            "#fde725"
           ]
          ],
          "size": 6
         },
         "mode": "lines+markers",
         "name": "Cluster 2",
         "text": [
          "Cluster: 5",
          "Cluster: 2",
          "Cluster: 2",
          "Cluster: 5",
          "Cluster: 5"
         ],
         "type": "scatter",
         "x": [
          6.647823938847349,
          6.0692952867706085,
          5.611622594837485,
          6.752365629328991,
          7.625776606002034
         ],
         "y": [
          3.6453456360622023,
          3.441611680177174,
          3.5412831947982726,
          3.5491769450655735,
          2.9797155334034815
         ]
        },
        {
         "line": {
          "color": "hsl(40, 70%, 50%)",
          "shape": "spline"
         },
         "marker": {
          "color": 1,
          "colorscale": [
           [
            0,
            "#440154"
           ],
           [
            0.1111111111111111,
            "#482878"
           ],
           [
            0.2222222222222222,
            "#3e4989"
           ],
           [
            0.3333333333333333,
            "#31688e"
           ],
           [
            0.4444444444444444,
            "#26828e"
           ],
           [
            0.5555555555555556,
            "#1f9e89"
           ],
           [
            0.6666666666666666,
            "#35b779"
           ],
           [
            0.7777777777777778,
            "#6ece58"
           ],
           [
            0.8888888888888888,
            "#b5de2b"
           ],
           [
            1,
            "#fde725"
           ]
          ],
          "size": 6
         },
         "mode": "lines+markers",
         "name": "Cluster 1",
         "text": [
          "Cluster: 5",
          "Cluster: 5",
          "Cluster: 5",
          "Cluster: 3",
          "Cluster: 3"
         ],
         "type": "scatter",
         "x": [
          4.882109008241514,
          6.882634749455423,
          4.737339344923012,
          3.4817997518552084,
          4.342100245649403
         ],
         "y": [
          -3.314934885670492,
          -4.778313954096587,
          -3.2034930496162604,
          -3.4756840677028134,
          -3.88733236475652
         ]
        },
        {
         "line": {
          "color": "hsl(120, 70%, 50%)",
          "shape": "spline"
         },
         "marker": {
          "color": 3,
          "colorscale": [
           [
            0,
            "#440154"
           ],
           [
            0.1111111111111111,
            "#482878"
           ],
           [
            0.2222222222222222,
            "#3e4989"
           ],
           [
            0.3333333333333333,
            "#31688e"
           ],
           [
            0.4444444444444444,
            "#26828e"
           ],
           [
            0.5555555555555556,
            "#1f9e89"
           ],
           [
            0.6666666666666666,
            "#35b779"
           ],
           [
            0.7777777777777778,
            "#6ece58"
           ],
           [
            0.8888888888888888,
            "#b5de2b"
           ],
           [
            1,
            "#fde725"
           ]
          ],
          "size": 6
         },
         "mode": "lines+markers",
         "name": "Cluster 3",
         "text": [
          "Cluster: 3",
          "Cluster: 1",
          "Cluster: 1",
          "Cluster: 1",
          "Cluster: 3"
         ],
         "type": "scatter",
         "x": [
          0.21757682431096267,
          -0.8104031999103812,
          -1.5350996296908097,
          -2.4290666256366737,
          0.29829493188996653
         ],
         "y": [
          0.26013439265941884,
          0.29336925580893514,
          0.5043918812820135,
          0.7622994451841605,
          0.3406624329785453
         ]
        }
       ],
       "layout": {
        "legend": {
         "font": {
          "size": 12
         },
         "title": {
          "font": {
           "size": 16
          },
          "text": "Cluster"
         }
        },
        "showlegend": true,
        "template": {
         "data": {
          "bar": [
           {
            "error_x": {
             "color": "#2a3f5f"
            },
            "error_y": {
             "color": "#2a3f5f"
            },
            "marker": {
             "line": {
              "color": "#E5ECF6",
              "width": 0.5
             },
             "pattern": {
              "fillmode": "overlay",
              "size": 10,
              "solidity": 0.2
             }
            },
            "type": "bar"
           }
          ],
          "barpolar": [
           {
            "marker": {
             "line": {
              "color": "#E5ECF6",
              "width": 0.5
             },
             "pattern": {
              "fillmode": "overlay",
              "size": 10,
              "solidity": 0.2
             }
            },
            "type": "barpolar"
           }
          ],
          "carpet": [
           {
            "aaxis": {
             "endlinecolor": "#2a3f5f",
             "gridcolor": "white",
             "linecolor": "white",
             "minorgridcolor": "white",
             "startlinecolor": "#2a3f5f"
            },
            "baxis": {
             "endlinecolor": "#2a3f5f",
             "gridcolor": "white",
             "linecolor": "white",
             "minorgridcolor": "white",
             "startlinecolor": "#2a3f5f"
            },
            "type": "carpet"
           }
          ],
          "choropleth": [
           {
            "colorbar": {
             "outlinewidth": 0,
             "ticks": ""
            },
            "type": "choropleth"
           }
          ],
          "contour": [
           {
            "colorbar": {
             "outlinewidth": 0,
             "ticks": ""
            },
            "colorscale": [
             [
              0,
              "#0d0887"
             ],
             [
              0.1111111111111111,
              "#46039f"
             ],
             [
              0.2222222222222222,
              "#7201a8"
             ],
             [
              0.3333333333333333,
              "#9c179e"
             ],
             [
              0.4444444444444444,
              "#bd3786"
             ],
             [
              0.5555555555555556,
              "#d8576b"
             ],
             [
              0.6666666666666666,
              "#ed7953"
             ],
             [
              0.7777777777777778,
              "#fb9f3a"
             ],
             [
              0.8888888888888888,
              "#fdca26"
             ],
             [
              1,
              "#f0f921"
             ]
            ],
            "type": "contour"
           }
          ],
          "contourcarpet": [
           {
            "colorbar": {
             "outlinewidth": 0,
             "ticks": ""
            },
            "type": "contourcarpet"
           }
          ],
          "heatmap": [
           {
            "colorbar": {
             "outlinewidth": 0,
             "ticks": ""
            },
            "colorscale": [
             [
              0,
              "#0d0887"
             ],
             [
              0.1111111111111111,
              "#46039f"
             ],
             [
              0.2222222222222222,
              "#7201a8"
             ],
             [
              0.3333333333333333,
              "#9c179e"
             ],
             [
              0.4444444444444444,
              "#bd3786"
             ],
             [
              0.5555555555555556,
              "#d8576b"
             ],
             [
              0.6666666666666666,
              "#ed7953"
             ],
             [
              0.7777777777777778,
              "#fb9f3a"
             ],
             [
              0.8888888888888888,
              "#fdca26"
             ],
             [
              1,
              "#f0f921"
             ]
            ],
            "type": "heatmap"
           }
          ],
          "heatmapgl": [
           {
            "colorbar": {
             "outlinewidth": 0,
             "ticks": ""
            },
            "colorscale": [
             [
              0,
              "#0d0887"
             ],
             [
              0.1111111111111111,
              "#46039f"
             ],
             [
              0.2222222222222222,
              "#7201a8"
             ],
             [
              0.3333333333333333,
              "#9c179e"
             ],
             [
              0.4444444444444444,
              "#bd3786"
             ],
             [
              0.5555555555555556,
              "#d8576b"
             ],
             [
              0.6666666666666666,
              "#ed7953"
             ],
             [
              0.7777777777777778,
              "#fb9f3a"
             ],
             [
              0.8888888888888888,
              "#fdca26"
             ],
             [
              1,
              "#f0f921"
             ]
            ],
            "type": "heatmapgl"
           }
          ],
          "histogram": [
           {
            "marker": {
             "pattern": {
              "fillmode": "overlay",
              "size": 10,
              "solidity": 0.2
             }
            },
            "type": "histogram"
           }
          ],
          "histogram2d": [
           {
            "colorbar": {
             "outlinewidth": 0,
             "ticks": ""
            },
            "colorscale": [
             [
              0,
              "#0d0887"
             ],
             [
              0.1111111111111111,
              "#46039f"
             ],
             [
              0.2222222222222222,
              "#7201a8"
             ],
             [
              0.3333333333333333,
              "#9c179e"
             ],
             [
              0.4444444444444444,
              "#bd3786"
             ],
             [
              0.5555555555555556,
              "#d8576b"
             ],
             [
              0.6666666666666666,
              "#ed7953"
             ],
             [
              0.7777777777777778,
              "#fb9f3a"
             ],
             [
              0.8888888888888888,
              "#fdca26"
             ],
             [
              1,
              "#f0f921"
             ]
            ],
            "type": "histogram2d"
           }
          ],
          "histogram2dcontour": [
           {
            "colorbar": {
             "outlinewidth": 0,
             "ticks": ""
            },
            "colorscale": [
             [
              0,
              "#0d0887"
             ],
             [
              0.1111111111111111,
              "#46039f"
             ],
             [
              0.2222222222222222,
              "#7201a8"
             ],
             [
              0.3333333333333333,
              "#9c179e"
             ],
             [
              0.4444444444444444,
              "#bd3786"
             ],
             [
              0.5555555555555556,
              "#d8576b"
             ],
             [
              0.6666666666666666,
              "#ed7953"
             ],
             [
              0.7777777777777778,
              "#fb9f3a"
             ],
             [
              0.8888888888888888,
              "#fdca26"
             ],
             [
              1,
              "#f0f921"
             ]
            ],
            "type": "histogram2dcontour"
           }
          ],
          "mesh3d": [
           {
            "colorbar": {
             "outlinewidth": 0,
             "ticks": ""
            },
            "type": "mesh3d"
           }
          ],
          "parcoords": [
           {
            "line": {
             "colorbar": {
              "outlinewidth": 0,
              "ticks": ""
             }
            },
            "type": "parcoords"
           }
          ],
          "pie": [
           {
            "automargin": true,
            "type": "pie"
           }
          ],
          "scatter": [
           {
            "fillpattern": {
             "fillmode": "overlay",
             "size": 10,
             "solidity": 0.2
            },
            "type": "scatter"
           }
          ],
          "scatter3d": [
           {
            "line": {
             "colorbar": {
              "outlinewidth": 0,
              "ticks": ""
             }
            },
            "marker": {
             "colorbar": {
              "outlinewidth": 0,
              "ticks": ""
             }
            },
            "type": "scatter3d"
           }
          ],
          "scattercarpet": [
           {
            "marker": {
             "colorbar": {
              "outlinewidth": 0,
              "ticks": ""
             }
            },
            "type": "scattercarpet"
           }
          ],
          "scattergeo": [
           {
            "marker": {
             "colorbar": {
              "outlinewidth": 0,
              "ticks": ""
             }
            },
            "type": "scattergeo"
           }
          ],
          "scattergl": [
           {
            "marker": {
             "colorbar": {
              "outlinewidth": 0,
              "ticks": ""
             }
            },
            "type": "scattergl"
           }
          ],
          "scattermapbox": [
           {
            "marker": {
             "colorbar": {
              "outlinewidth": 0,
              "ticks": ""
             }
            },
            "type": "scattermapbox"
           }
          ],
          "scatterpolar": [
           {
            "marker": {
             "colorbar": {
              "outlinewidth": 0,
              "ticks": ""
             }
            },
            "type": "scatterpolar"
           }
          ],
          "scatterpolargl": [
           {
            "marker": {
             "colorbar": {
              "outlinewidth": 0,
              "ticks": ""
             }
            },
            "type": "scatterpolargl"
           }
          ],
          "scatterternary": [
           {
            "marker": {
             "colorbar": {
              "outlinewidth": 0,
              "ticks": ""
             }
            },
            "type": "scatterternary"
           }
          ],
          "surface": [
           {
            "colorbar": {
             "outlinewidth": 0,
             "ticks": ""
            },
            "colorscale": [
             [
              0,
              "#0d0887"
             ],
             [
              0.1111111111111111,
              "#46039f"
             ],
             [
              0.2222222222222222,
              "#7201a8"
             ],
             [
              0.3333333333333333,
              "#9c179e"
             ],
             [
              0.4444444444444444,
              "#bd3786"
             ],
             [
              0.5555555555555556,
              "#d8576b"
             ],
             [
              0.6666666666666666,
              "#ed7953"
             ],
             [
              0.7777777777777778,
              "#fb9f3a"
             ],
             [
              0.8888888888888888,
              "#fdca26"
             ],
             [
              1,
              "#f0f921"
             ]
            ],
            "type": "surface"
           }
          ],
          "table": [
           {
            "cells": {
             "fill": {
              "color": "#EBF0F8"
             },
             "line": {
              "color": "white"
             }
            },
            "header": {
             "fill": {
              "color": "#C8D4E3"
             },
             "line": {
              "color": "white"
             }
            },
            "type": "table"
           }
          ]
         },
         "layout": {
          "annotationdefaults": {
           "arrowcolor": "#2a3f5f",
           "arrowhead": 0,
           "arrowwidth": 1
          },
          "autotypenumbers": "strict",
          "coloraxis": {
           "colorbar": {
            "outlinewidth": 0,
            "ticks": ""
           }
          },
          "colorscale": {
           "diverging": [
            [
             0,
             "#8e0152"
            ],
            [
             0.1,
             "#c51b7d"
            ],
            [
             0.2,
             "#de77ae"
            ],
            [
             0.3,
             "#f1b6da"
            ],
            [
             0.4,
             "#fde0ef"
            ],
            [
             0.5,
             "#f7f7f7"
            ],
            [
             0.6,
             "#e6f5d0"
            ],
            [
             0.7,
             "#b8e186"
            ],
            [
             0.8,
             "#7fbc41"
            ],
            [
             0.9,
             "#4d9221"
            ],
            [
             1,
             "#276419"
            ]
           ],
           "sequential": [
            [
             0,
             "#0d0887"
            ],
            [
             0.1111111111111111,
             "#46039f"
            ],
            [
             0.2222222222222222,
             "#7201a8"
            ],
            [
             0.3333333333333333,
             "#9c179e"
            ],
            [
             0.4444444444444444,
             "#bd3786"
            ],
            [
             0.5555555555555556,
             "#d8576b"
            ],
            [
             0.6666666666666666,
             "#ed7953"
            ],
            [
             0.7777777777777778,
             "#fb9f3a"
            ],
            [
             0.8888888888888888,
             "#fdca26"
            ],
            [
             1,
             "#f0f921"
            ]
           ],
           "sequentialminus": [
            [
             0,
             "#0d0887"
            ],
            [
             0.1111111111111111,
             "#46039f"
            ],
            [
             0.2222222222222222,
             "#7201a8"
            ],
            [
             0.3333333333333333,
             "#9c179e"
            ],
            [
             0.4444444444444444,
             "#bd3786"
            ],
            [
             0.5555555555555556,
             "#d8576b"
            ],
            [
             0.6666666666666666,
             "#ed7953"
            ],
            [
             0.7777777777777778,
             "#fb9f3a"
            ],
            [
             0.8888888888888888,
             "#fdca26"
            ],
            [
             1,
             "#f0f921"
            ]
           ]
          },
          "colorway": [
           "#636efa",
           "#EF553B",
           "#00cc96",
           "#ab63fa",
           "#FFA15A",
           "#19d3f3",
           "#FF6692",
           "#B6E880",
           "#FF97FF",
           "#FECB52"
          ],
          "font": {
           "color": "#2a3f5f"
          },
          "geo": {
           "bgcolor": "white",
           "lakecolor": "white",
           "landcolor": "#E5ECF6",
           "showlakes": true,
           "showland": true,
           "subunitcolor": "white"
          },
          "hoverlabel": {
           "align": "left"
          },
          "hovermode": "closest",
          "mapbox": {
           "style": "light"
          },
          "paper_bgcolor": "white",
          "plot_bgcolor": "#E5ECF6",
          "polar": {
           "angularaxis": {
            "gridcolor": "white",
            "linecolor": "white",
            "ticks": ""
           },
           "bgcolor": "#E5ECF6",
           "radialaxis": {
            "gridcolor": "white",
            "linecolor": "white",
            "ticks": ""
           }
          },
          "scene": {
           "xaxis": {
            "backgroundcolor": "#E5ECF6",
            "gridcolor": "white",
            "gridwidth": 2,
            "linecolor": "white",
            "showbackground": true,
            "ticks": "",
            "zerolinecolor": "white"
           },
           "yaxis": {
            "backgroundcolor": "#E5ECF6",
            "gridcolor": "white",
            "gridwidth": 2,
            "linecolor": "white",
            "showbackground": true,
            "ticks": "",
            "zerolinecolor": "white"
           },
           "zaxis": {
            "backgroundcolor": "#E5ECF6",
            "gridcolor": "white",
            "gridwidth": 2,
            "linecolor": "white",
            "showbackground": true,
            "ticks": "",
            "zerolinecolor": "white"
           }
          },
          "shapedefaults": {
           "line": {
            "color": "#2a3f5f"
           }
          },
          "ternary": {
           "aaxis": {
            "gridcolor": "white",
            "linecolor": "white",
            "ticks": ""
           },
           "baxis": {
            "gridcolor": "white",
            "linecolor": "white",
            "ticks": ""
           },
           "bgcolor": "#E5ECF6",
           "caxis": {
            "gridcolor": "white",
            "linecolor": "white",
            "ticks": ""
           }
          },
          "title": {
           "x": 0.05
          },
          "xaxis": {
           "automargin": true,
           "gridcolor": "white",
           "linecolor": "white",
           "ticks": "",
           "title": {
            "standoff": 15
           },
           "zerolinecolor": "white",
           "zerolinewidth": 2
          },
          "yaxis": {
           "automargin": true,
           "gridcolor": "white",
           "linecolor": "white",
           "ticks": "",
           "title": {
            "standoff": 15
           },
           "zerolinecolor": "white",
           "zerolinewidth": 2
          }
         }
        },
        "title": {
         "text": "2D PCA Plot of User Data by Week with Trajectory Clustering"
        },
        "xaxis": {
         "title": {
          "text": "PCA1"
         }
        },
        "yaxis": {
         "title": {
          "text": "PCA2"
         }
        }
       }
      }
     },
     "metadata": {},
     "output_type": "display_data"
    }
   ],
   "source": [
    "from scipy.cluster.hierarchy import linkage, fcluster\n",
    "from scipy.spatial.distance import pdist, squareform\n",
    "from fastdtw import fastdtw\n",
    "from scipy.spatial.distance import euclidean\n",
    "\n",
    "# Select a subset of unique CloudId values (e.g., the first 10 unique CloudIds)\n",
    "unique_cloud_ids = reduced_bio['CloudId'].unique()[:50]\n",
    "\n",
    "# Collect all user trajectories\n",
    "trajectories = []\n",
    "valid_cloud_ids = []\n",
    "for cloud_id in unique_cloud_ids:\n",
    "    user_data = reduced_bio[reduced_bio['CloudId'] == cloud_id]\n",
    "    trajectory = user_data[['PCA1', 'PCA2']].values\n",
    "    if len(trajectory) > 0:\n",
    "        trajectories.append(trajectory)\n",
    "        valid_cloud_ids.append(cloud_id)\n",
    "\n",
    "# Compute pairwise DTW distances\n",
    "n = len(trajectories)\n",
    "distance_matrix = np.zeros((n, n))\n",
    "for i in range(n):\n",
    "    for j in range(i + 1, n):\n",
    "        distance, path = fastdtw(trajectories[i], trajectories[j], dist=euclidean)\n",
    "        distance_matrix[i, j] = distance\n",
    "        distance_matrix[j, i] = distance\n",
    "\n",
    "# Perform hierarchical clustering\n",
    "Z = linkage(squareform(distance_matrix), method='ward')\n",
    "cluster_labels = fcluster(Z, t=5, criterion='maxclust')  # Adjust the number of clusters as needed\n",
    "\n",
    "# Initialize a new figure\n",
    "fig = go.Figure()\n",
    "\n",
    "# Plot the user trajectories with cluster colors\n",
    "for i, cloud_id in enumerate(valid_cloud_ids):\n",
    "    user_data = reduced_bio[reduced_bio['CloudId'] == cloud_id]\n",
    "    fig.add_trace(go.Scatter(\n",
    "        x=user_data['PCA1'],\n",
    "        y=user_data['PCA2'],\n",
    "        mode='lines+markers',\n",
    "        line_shape='spline',\n",
    "        text=user_data.apply(lambda row: '<br>'.join([f'{col}: {row[col]}' for col in ['Cluster']]), axis=1),\n",
    "        marker=dict(size=6, color=cluster_labels[i], colorscale='Viridis'),  # Set marker size to 6\n",
    "        line=dict(shape='spline', color=f'hsl({cluster_labels[i] * 40}, 70%, 50%)'),\n",
    "        name=f'Cluster {cluster_labels[i]}'\n",
    "    ))\n",
    "\n",
    "fig.update_layout(\n",
    "    title='2D PCA Plot of User Data by Week with Trajectory Clustering',\n",
    "    xaxis_title='PCA1',\n",
    "    yaxis_title='PCA2',\n",
    "    showlegend=True\n",
    ")\n",
    "\n",
    "# Add a legend to the plot\n",
    "fig.update_layout(\n",
    "    legend_title_text='Cluster',\n",
    "    legend_title_font_size=16,\n",
    "    legend_font_size=12\n",
    ")\n",
    "\n",
    "fig.show()"
   ]
  },
  {
   "cell_type": "code",
   "execution_count": 15,
   "metadata": {},
   "outputs": [
    {
     "data": {
      "application/vnd.plotly.v1+json": {
       "config": {
        "plotlyServerURL": "https://plot.ly"
       },
       "data": [
        {
         "line": {
          "color": "hsl(0, 70%, 50%)",
          "shape": "spline"
         },
         "marker": {
          "color": 0,
          "colorscale": [
           [
            0,
            "#440154"
           ],
           [
            0.1111111111111111,
            "#482878"
           ],
           [
            0.2222222222222222,
            "#3e4989"
           ],
           [
            0.3333333333333333,
            "#31688e"
           ],
           [
            0.4444444444444444,
            "#26828e"
           ],
           [
            0.5555555555555556,
            "#1f9e89"
           ],
           [
            0.6666666666666666,
            "#35b779"
           ],
           [
            0.7777777777777778,
            "#6ece58"
           ],
           [
            0.8888888888888888,
            "#b5de2b"
           ],
           [
            1,
            "#fde725"
           ]
          ],
          "size": 6
         },
         "mode": "lines+markers",
         "name": "Cluster 1",
         "type": "scatter",
         "x": [
          3.387215957950535,
          3.1814740169545126,
          2.765165360730337,
          3.2461846558169896,
          3.229738111786597
         ],
         "y": [
          -1.2375139280072138,
          -1.1403203328394504,
          -0.9057639847127529,
          -1.3858937583550714,
          -0.9273973677978278
         ]
        },
        {
         "line": {
          "color": "hsl(40, 70%, 50%)",
          "shape": "spline"
         },
         "marker": {
          "color": 1,
          "colorscale": [
           [
            0,
            "#440154"
           ],
           [
            0.1111111111111111,
            "#482878"
           ],
           [
            0.2222222222222222,
            "#3e4989"
           ],
           [
            0.3333333333333333,
            "#31688e"
           ],
           [
            0.4444444444444444,
            "#26828e"
           ],
           [
            0.5555555555555556,
            "#1f9e89"
           ],
           [
            0.6666666666666666,
            "#35b779"
           ],
           [
            0.7777777777777778,
            "#6ece58"
           ],
           [
            0.8888888888888888,
            "#b5de2b"
           ],
           [
            1,
            "#fde725"
           ]
          ],
          "size": 6
         },
         "mode": "lines+markers",
         "name": "Cluster 2",
         "type": "scatter",
         "x": [
          4.268294023515103,
          3.8811533473442883,
          4.510363199853549,
          4.86998244239264,
          4.112762290650389
         ],
         "y": [
          -2.7056131279555338,
          -2.5804566841966254,
          -2.719069644249276,
          -3.056225691621706,
          -2.772622683779452
         ]
        },
        {
         "line": {
          "color": "hsl(80, 70%, 50%)",
          "shape": "spline"
         },
         "marker": {
          "color": 2,
          "colorscale": [
           [
            0,
            "#440154"
           ],
           [
            0.1111111111111111,
            "#482878"
           ],
           [
            0.2222222222222222,
            "#3e4989"
           ],
           [
            0.3333333333333333,
            "#31688e"
           ],
           [
            0.4444444444444444,
            "#26828e"
           ],
           [
            0.5555555555555556,
            "#1f9e89"
           ],
           [
            0.6666666666666666,
            "#35b779"
           ],
           [
            0.7777777777777778,
            "#6ece58"
           ],
           [
            0.8888888888888888,
            "#b5de2b"
           ],
           [
            1,
            "#fde725"
           ]
          ],
          "size": 6
         },
         "mode": "lines+markers",
         "name": "Cluster 3",
         "type": "scatter",
         "x": [
          4.7599065671275,
          6.129046012713897,
          5.283053013000846,
          4.483281176504646,
          5.044542629262723
         ],
         "y": [
          -7.456870032032936,
          -9.347027476514402,
          -7.284672056920665,
          -6.999394067888999,
          -7.328191360142221
         ]
        },
        {
         "line": {
          "color": "hsl(120, 70%, 50%)",
          "shape": "spline"
         },
         "marker": {
          "color": 3,
          "colorscale": [
           [
            0,
            "#440154"
           ],
           [
            0.1111111111111111,
            "#482878"
           ],
           [
            0.2222222222222222,
            "#3e4989"
           ],
           [
            0.3333333333333333,
            "#31688e"
           ],
           [
            0.4444444444444444,
            "#26828e"
           ],
           [
            0.5555555555555556,
            "#1f9e89"
           ],
           [
            0.6666666666666666,
            "#35b779"
           ],
           [
            0.7777777777777778,
            "#6ece58"
           ],
           [
            0.8888888888888888,
            "#b5de2b"
           ],
           [
            1,
            "#fde725"
           ]
          ],
          "size": 6
         },
         "mode": "lines+markers",
         "name": "Cluster 4",
         "type": "scatter",
         "x": [
          7.547138418059981,
          6.844029873439315,
          6.065763695645981,
          6.486895910722188,
          5.89151498041283
         ],
         "y": [
          5.123824157186063,
          5.773125159496272,
          6.127004101794757,
          5.2961018079726045,
          5.455907357832571
         ]
        },
        {
         "line": {
          "color": "hsl(160, 70%, 50%)",
          "shape": "spline"
         },
         "marker": {
          "color": 4,
          "colorscale": [
           [
            0,
            "#440154"
           ],
           [
            0.1111111111111111,
            "#482878"
           ],
           [
            0.2222222222222222,
            "#3e4989"
           ],
           [
            0.3333333333333333,
            "#31688e"
           ],
           [
            0.4444444444444444,
            "#26828e"
           ],
           [
            0.5555555555555556,
            "#1f9e89"
           ],
           [
            0.6666666666666666,
            "#35b779"
           ],
           [
            0.7777777777777778,
            "#6ece58"
           ],
           [
            0.8888888888888888,
            "#b5de2b"
           ],
           [
            1,
            "#fde725"
           ]
          ],
          "size": 6
         },
         "mode": "lines+markers",
         "name": "Cluster 5",
         "type": "scatter",
         "x": [
          7.256767222067484,
          3.71260911429794,
          2.448051210688276,
          3.7094976218080977,
          1.2937439341284156
         ],
         "y": [
          0.850512962024052,
          4.804824824257446,
          7.411866486791601,
          3.4806779115337463,
          6.507805687114472
         ]
        },
        {
         "line": {
          "color": "hsl(200, 70%, 50%)",
          "shape": "spline"
         },
         "marker": {
          "color": 5,
          "colorscale": [
           [
            0,
            "#440154"
           ],
           [
            0.1111111111111111,
            "#482878"
           ],
           [
            0.2222222222222222,
            "#3e4989"
           ],
           [
            0.3333333333333333,
            "#31688e"
           ],
           [
            0.4444444444444444,
            "#26828e"
           ],
           [
            0.5555555555555556,
            "#1f9e89"
           ],
           [
            0.6666666666666666,
            "#35b779"
           ],
           [
            0.7777777777777778,
            "#6ece58"
           ],
           [
            0.8888888888888888,
            "#b5de2b"
           ],
           [
            1,
            "#fde725"
           ]
          ],
          "size": 6
         },
         "mode": "lines+markers",
         "name": "Cluster 6",
         "type": "scatter",
         "x": [
          2.1785278298272366,
          1.8593925056354272,
          2.0095463651395526,
          3.8632511981401527,
          3.752179333124848
         ],
         "y": [
          2.20996741755792,
          2.6842965027708905,
          2.4727623624967965,
          1.5859953507980833,
          2.0807244147164674
         ]
        },
        {
         "line": {
          "color": "hsl(240, 70%, 50%)",
          "shape": "spline"
         },
         "marker": {
          "color": 6,
          "colorscale": [
           [
            0,
            "#440154"
           ],
           [
            0.1111111111111111,
            "#482878"
           ],
           [
            0.2222222222222222,
            "#3e4989"
           ],
           [
            0.3333333333333333,
            "#31688e"
           ],
           [
            0.4444444444444444,
            "#26828e"
           ],
           [
            0.5555555555555556,
            "#1f9e89"
           ],
           [
            0.6666666666666666,
            "#35b779"
           ],
           [
            0.7777777777777778,
            "#6ece58"
           ],
           [
            0.8888888888888888,
            "#b5de2b"
           ],
           [
            1,
            "#fde725"
           ]
          ],
          "size": 6
         },
         "mode": "lines+markers",
         "name": "Cluster 7",
         "type": "scatter",
         "x": [
          5.362917868952979,
          4.74132686785727,
          4.887336493400296,
          5.0006688304944715,
          4.517694287438198
         ],
         "y": [
          0.3096086473312931,
          0.7068203944689712,
          0.6064640794092281,
          0.8041485075996272,
          0.49635720089934077
         ]
        },
        {
         "line": {
          "color": "hsl(280, 70%, 50%)",
          "shape": "spline"
         },
         "marker": {
          "color": 7,
          "colorscale": [
           [
            0,
            "#440154"
           ],
           [
            0.1111111111111111,
            "#482878"
           ],
           [
            0.2222222222222222,
            "#3e4989"
           ],
           [
            0.3333333333333333,
            "#31688e"
           ],
           [
            0.4444444444444444,
            "#26828e"
           ],
           [
            0.5555555555555556,
            "#1f9e89"
           ],
           [
            0.6666666666666666,
            "#35b779"
           ],
           [
            0.7777777777777778,
            "#6ece58"
           ],
           [
            0.8888888888888888,
            "#b5de2b"
           ],
           [
            1,
            "#fde725"
           ]
          ],
          "size": 6
         },
         "mode": "lines+markers",
         "name": "Cluster 8",
         "type": "scatter",
         "x": [
          6.971364364860093,
          6.299684313763504,
          5.549361233662609,
          4.581094208533719,
          5.3068027313978945
         ],
         "y": [
          2.1896971944514028,
          1.8790949468453715,
          2.3345975291949435,
          1.9221210288357575,
          2.1579507190506084
         ]
        },
        {
         "line": {
          "color": "hsl(320, 70%, 50%)",
          "shape": "spline"
         },
         "marker": {
          "color": 8,
          "colorscale": [
           [
            0,
            "#440154"
           ],
           [
            0.1111111111111111,
            "#482878"
           ],
           [
            0.2222222222222222,
            "#3e4989"
           ],
           [
            0.3333333333333333,
            "#31688e"
           ],
           [
            0.4444444444444444,
            "#26828e"
           ],
           [
            0.5555555555555556,
            "#1f9e89"
           ],
           [
            0.6666666666666666,
            "#35b779"
           ],
           [
            0.7777777777777778,
            "#6ece58"
           ],
           [
            0.8888888888888888,
            "#b5de2b"
           ],
           [
            1,
            "#fde725"
           ]
          ],
          "size": 6
         },
         "mode": "lines+markers",
         "name": "Cluster 9",
         "type": "scatter",
         "x": [
          1.845732396590479,
          0.9229112221666217,
          1.4087319331963746,
          1.2755504822694916,
          2.089686773679995
         ],
         "y": [
          0.12475092656327308,
          0.7148956477693078,
          -0.2746680094252441,
          -0.16427586935549388,
          0.20018157213966395
         ]
        },
        {
         "line": {
          "color": "hsl(360, 70%, 50%)",
          "shape": "spline"
         },
         "marker": {
          "color": 9,
          "colorscale": [
           [
            0,
            "#440154"
           ],
           [
            0.1111111111111111,
            "#482878"
           ],
           [
            0.2222222222222222,
            "#3e4989"
           ],
           [
            0.3333333333333333,
            "#31688e"
           ],
           [
            0.4444444444444444,
            "#26828e"
           ],
           [
            0.5555555555555556,
            "#1f9e89"
           ],
           [
            0.6666666666666666,
            "#35b779"
           ],
           [
            0.7777777777777778,
            "#6ece58"
           ],
           [
            0.8888888888888888,
            "#b5de2b"
           ],
           [
            1,
            "#fde725"
           ]
          ],
          "size": 6
         },
         "mode": "lines+markers",
         "name": "Cluster 10",
         "type": "scatter",
         "x": [
          1.0077539937722626,
          0.34337568970859544,
          0.9017148361150219,
          -0.15385318571855575,
          0.6477317955380694
         ],
         "y": [
          -0.23490378926585287,
          -0.21782541076744472,
          -0.6799399564183249,
          -0.4507047426259417,
          -0.5530835956757923
         ]
        },
        {
         "line": {
          "color": "hsl(400, 70%, 50%)",
          "shape": "spline"
         },
         "marker": {
          "color": 10,
          "colorscale": [
           [
            0,
            "#440154"
           ],
           [
            0.1111111111111111,
            "#482878"
           ],
           [
            0.2222222222222222,
            "#3e4989"
           ],
           [
            0.3333333333333333,
            "#31688e"
           ],
           [
            0.4444444444444444,
            "#26828e"
           ],
           [
            0.5555555555555556,
            "#1f9e89"
           ],
           [
            0.6666666666666666,
            "#35b779"
           ],
           [
            0.7777777777777778,
            "#6ece58"
           ],
           [
            0.8888888888888888,
            "#b5de2b"
           ],
           [
            1,
            "#fde725"
           ]
          ],
          "size": 6
         },
         "mode": "lines+markers",
         "name": "Cluster 11",
         "type": "scatter",
         "x": [
          0.5181599726323416,
          1.0888774834919779,
          0.20653157685911078,
          0.5837765047787673,
          1.104441480800159
         ],
         "y": [
          0.6103626819790793,
          0.09279325426492768,
          0.6711237091822632,
          0.5791117479424982,
          0.21506833773141892
         ]
        },
        {
         "line": {
          "color": "hsl(440, 70%, 50%)",
          "shape": "spline"
         },
         "marker": {
          "color": 11,
          "colorscale": [
           [
            0,
            "#440154"
           ],
           [
            0.1111111111111111,
            "#482878"
           ],
           [
            0.2222222222222222,
            "#3e4989"
           ],
           [
            0.3333333333333333,
            "#31688e"
           ],
           [
            0.4444444444444444,
            "#26828e"
           ],
           [
            0.5555555555555556,
            "#1f9e89"
           ],
           [
            0.6666666666666666,
            "#35b779"
           ],
           [
            0.7777777777777778,
            "#6ece58"
           ],
           [
            0.8888888888888888,
            "#b5de2b"
           ],
           [
            1,
            "#fde725"
           ]
          ],
          "size": 6
         },
         "mode": "lines+markers",
         "name": "Cluster 12",
         "type": "scatter",
         "x": [
          0.11159847734143256,
          0.7873486329219228,
          0.011336266315124565,
          -0.14968661719052037,
          -0.10453817861765455
         ],
         "y": [
          4.3631160179786965,
          3.289606429306232,
          4.294464424807986,
          4.131075059587948,
          2.7376377301636645
         ]
        },
        {
         "line": {
          "color": "hsl(480, 70%, 50%)",
          "shape": "spline"
         },
         "marker": {
          "color": 12,
          "colorscale": [
           [
            0,
            "#440154"
           ],
           [
            0.1111111111111111,
            "#482878"
           ],
           [
            0.2222222222222222,
            "#3e4989"
           ],
           [
            0.3333333333333333,
            "#31688e"
           ],
           [
            0.4444444444444444,
            "#26828e"
           ],
           [
            0.5555555555555556,
            "#1f9e89"
           ],
           [
            0.6666666666666666,
            "#35b779"
           ],
           [
            0.7777777777777778,
            "#6ece58"
           ],
           [
            0.8888888888888888,
            "#b5de2b"
           ],
           [
            1,
            "#fde725"
           ]
          ],
          "size": 6
         },
         "mode": "lines+markers",
         "name": "Cluster 13",
         "type": "scatter",
         "x": [
          0.6054338240675234,
          -0.6096963234608737,
          -0.1444253532407857,
          -0.8347991794968138,
          -1.4295066663752924
         ],
         "y": [
          2.6126978560405805,
          3.6427076364968536,
          3.8083695636240282,
          3.117410728403312,
          3.940758806755961
         ]
        },
        {
         "line": {
          "color": "hsl(520, 70%, 50%)",
          "shape": "spline"
         },
         "marker": {
          "color": 13,
          "colorscale": [
           [
            0,
            "#440154"
           ],
           [
            0.1111111111111111,
            "#482878"
           ],
           [
            0.2222222222222222,
            "#3e4989"
           ],
           [
            0.3333333333333333,
            "#31688e"
           ],
           [
            0.4444444444444444,
            "#26828e"
           ],
           [
            0.5555555555555556,
            "#1f9e89"
           ],
           [
            0.6666666666666666,
            "#35b779"
           ],
           [
            0.7777777777777778,
            "#6ece58"
           ],
           [
            0.8888888888888888,
            "#b5de2b"
           ],
           [
            1,
            "#fde725"
           ]
          ],
          "size": 6
         },
         "mode": "lines+markers",
         "name": "Cluster 14",
         "type": "scatter",
         "x": [
          -1.1828143332329162,
          -0.011006756694121312,
          -2.9483919898899167,
          8.006500841880072,
          -2.875380930234254
         ],
         "y": [
          2.2096531717859365,
          -7.761801925957118,
          4.475895865354578,
          4.211977631948205,
          4.315513092233081
         ]
        },
        {
         "line": {
          "color": "hsl(560, 70%, 50%)",
          "shape": "spline"
         },
         "marker": {
          "color": 14,
          "colorscale": [
           [
            0,
            "#440154"
           ],
           [
            0.1111111111111111,
            "#482878"
           ],
           [
            0.2222222222222222,
            "#3e4989"
           ],
           [
            0.3333333333333333,
            "#31688e"
           ],
           [
            0.4444444444444444,
            "#26828e"
           ],
           [
            0.5555555555555556,
            "#1f9e89"
           ],
           [
            0.6666666666666666,
            "#35b779"
           ],
           [
            0.7777777777777778,
            "#6ece58"
           ],
           [
            0.8888888888888888,
            "#b5de2b"
           ],
           [
            1,
            "#fde725"
           ]
          ],
          "size": 6
         },
         "mode": "lines+markers",
         "name": "Cluster 15",
         "type": "scatter",
         "x": [
          -1.1188382856433434,
          6.414668497052885,
          -2.652684755070055,
          -5.59917528526535,
          1.6918469984138207
         ],
         "y": [
          -0.4805141283864014,
          -0.4529848934450027,
          0.026474929535589563,
          -0.2752487750500329,
          3.5702034295777234
         ]
        },
        {
         "line": {
          "color": "hsl(600, 70%, 50%)",
          "shape": "spline"
         },
         "marker": {
          "color": 15,
          "colorscale": [
           [
            0,
            "#440154"
           ],
           [
            0.1111111111111111,
            "#482878"
           ],
           [
            0.2222222222222222,
            "#3e4989"
           ],
           [
            0.3333333333333333,
            "#31688e"
           ],
           [
            0.4444444444444444,
            "#26828e"
           ],
           [
            0.5555555555555556,
            "#1f9e89"
           ],
           [
            0.6666666666666666,
            "#35b779"
           ],
           [
            0.7777777777777778,
            "#6ece58"
           ],
           [
            0.8888888888888888,
            "#b5de2b"
           ],
           [
            1,
            "#fde725"
           ]
          ],
          "size": 6
         },
         "mode": "lines+markers",
         "name": "Cluster 16",
         "type": "scatter",
         "x": [
          0.3857156600119202,
          0.3854925232555177,
          -0.0019612240922388404,
          -0.48398012398058554,
          0.14283413063649308
         ],
         "y": [
          1.8999055172378911,
          2.4510494941110617,
          2.3134412528380635,
          2.2550210903363266,
          1.8979790258779277
         ]
        },
        {
         "line": {
          "color": "hsl(640, 70%, 50%)",
          "shape": "spline"
         },
         "marker": {
          "color": 16,
          "colorscale": [
           [
            0,
            "#440154"
           ],
           [
            0.1111111111111111,
            "#482878"
           ],
           [
            0.2222222222222222,
            "#3e4989"
           ],
           [
            0.3333333333333333,
            "#31688e"
           ],
           [
            0.4444444444444444,
            "#26828e"
           ],
           [
            0.5555555555555556,
            "#1f9e89"
           ],
           [
            0.6666666666666666,
            "#35b779"
           ],
           [
            0.7777777777777778,
            "#6ece58"
           ],
           [
            0.8888888888888888,
            "#b5de2b"
           ],
           [
            1,
            "#fde725"
           ]
          ],
          "size": 6
         },
         "mode": "lines+markers",
         "name": "Cluster 17",
         "type": "scatter",
         "x": [
          -1.6610245437752509,
          -2.0134279082440085,
          -1.8650987845248355,
          -2.1247318219244646,
          -1.3351378019187772
         ],
         "y": [
          -4.895403320673625,
          -4.5878548712180836,
          -4.682297530816256,
          -4.347707098893145,
          -4.699558807049459
         ]
        },
        {
         "line": {
          "color": "hsl(680, 70%, 50%)",
          "shape": "spline"
         },
         "marker": {
          "color": 17,
          "colorscale": [
           [
            0,
            "#440154"
           ],
           [
            0.1111111111111111,
            "#482878"
           ],
           [
            0.2222222222222222,
            "#3e4989"
           ],
           [
            0.3333333333333333,
            "#31688e"
           ],
           [
            0.4444444444444444,
            "#26828e"
           ],
           [
            0.5555555555555556,
            "#1f9e89"
           ],
           [
            0.6666666666666666,
            "#35b779"
           ],
           [
            0.7777777777777778,
            "#6ece58"
           ],
           [
            0.8888888888888888,
            "#b5de2b"
           ],
           [
            1,
            "#fde725"
           ]
          ],
          "size": 6
         },
         "mode": "lines+markers",
         "name": "Cluster 18",
         "type": "scatter",
         "x": [
          -1.842434026705319,
          -1.6807492848400245,
          -1.8105610770692842,
          -1.0990406159789845,
          -1.3606384851125226
         ],
         "y": [
          -2.4992602835811493,
          -2.499217221962535,
          -2.023851650914683,
          -2.6817456168612237,
          -2.5840155131111335
         ]
        },
        {
         "line": {
          "color": "hsl(720, 70%, 50%)",
          "shape": "spline"
         },
         "marker": {
          "color": 18,
          "colorscale": [
           [
            0,
            "#440154"
           ],
           [
            0.1111111111111111,
            "#482878"
           ],
           [
            0.2222222222222222,
            "#3e4989"
           ],
           [
            0.3333333333333333,
            "#31688e"
           ],
           [
            0.4444444444444444,
            "#26828e"
           ],
           [
            0.5555555555555556,
            "#1f9e89"
           ],
           [
            0.6666666666666666,
            "#35b779"
           ],
           [
            0.7777777777777778,
            "#6ece58"
           ],
           [
            0.8888888888888888,
            "#b5de2b"
           ],
           [
            1,
            "#fde725"
           ]
          ],
          "size": 6
         },
         "mode": "lines+markers",
         "name": "Cluster 19",
         "type": "scatter",
         "x": [
          0.5964374002035654,
          -0.930572032343551,
          -1.676890093920219,
          -0.5432786050162531,
          -0.7421753237894354
         ],
         "y": [
          -2.0364696680214447,
          -1.8835447228456215,
          -1.378043111630062,
          -2.085250090082825,
          -1.7014881692785049
         ]
        },
        {
         "line": {
          "color": "hsl(760, 70%, 50%)",
          "shape": "spline"
         },
         "marker": {
          "color": 19,
          "colorscale": [
           [
            0,
            "#440154"
           ],
           [
            0.1111111111111111,
            "#482878"
           ],
           [
            0.2222222222222222,
            "#3e4989"
           ],
           [
            0.3333333333333333,
            "#31688e"
           ],
           [
            0.4444444444444444,
            "#26828e"
           ],
           [
            0.5555555555555556,
            "#1f9e89"
           ],
           [
            0.6666666666666666,
            "#35b779"
           ],
           [
            0.7777777777777778,
            "#6ece58"
           ],
           [
            0.8888888888888888,
            "#b5de2b"
           ],
           [
            1,
            "#fde725"
           ]
          ],
          "size": 6
         },
         "mode": "lines+markers",
         "name": "Cluster 20",
         "type": "scatter",
         "x": [
          1.5982854114953882,
          -2.1643178509243914,
          2.034251555198943,
          -2.1643178509243914,
          1.5798339930358714
         ],
         "y": [
          -1.9233107250859114,
          1.0570080705458615,
          -2.2261386808458927,
          1.0570080705458615,
          -2.0691360906438936
         ]
        },
        {
         "line": {
          "color": "hsl(800, 70%, 50%)",
          "shape": "spline"
         },
         "marker": {
          "color": 20,
          "colorscale": [
           [
            0,
            "#440154"
           ],
           [
            0.1111111111111111,
            "#482878"
           ],
           [
            0.2222222222222222,
            "#3e4989"
           ],
           [
            0.3333333333333333,
            "#31688e"
           ],
           [
            0.4444444444444444,
            "#26828e"
           ],
           [
            0.5555555555555556,
            "#1f9e89"
           ],
           [
            0.6666666666666666,
            "#35b779"
           ],
           [
            0.7777777777777778,
            "#6ece58"
           ],
           [
            0.8888888888888888,
            "#b5de2b"
           ],
           [
            1,
            "#fde725"
           ]
          ],
          "size": 6
         },
         "mode": "lines+markers",
         "name": "Cluster 21",
         "type": "scatter",
         "x": [
          -0.9680882269830252,
          5.583941264689057,
          0.18000283306631756,
          5.9125298286382435,
          -3.177525434661118
         ],
         "y": [
          1.0419962640699052,
          -5.284131329574973,
          -0.27654994938088623,
          -3.2381688903446535,
          -3.850106124255063
         ]
        },
        {
         "line": {
          "color": "hsl(840, 70%, 50%)",
          "shape": "spline"
         },
         "marker": {
          "color": 21,
          "colorscale": [
           [
            0,
            "#440154"
           ],
           [
            0.1111111111111111,
            "#482878"
           ],
           [
            0.2222222222222222,
            "#3e4989"
           ],
           [
            0.3333333333333333,
            "#31688e"
           ],
           [
            0.4444444444444444,
            "#26828e"
           ],
           [
            0.5555555555555556,
            "#1f9e89"
           ],
           [
            0.6666666666666666,
            "#35b779"
           ],
           [
            0.7777777777777778,
            "#6ece58"
           ],
           [
            0.8888888888888888,
            "#b5de2b"
           ],
           [
            1,
            "#fde725"
           ]
          ],
          "size": 6
         },
         "mode": "lines+markers",
         "name": "Cluster 22",
         "type": "scatter",
         "x": [
          -3.2633470340484236,
          -3.1609932003973253,
          -3.9070894773662914,
          -3.9704387741398337,
          -3.381804474257284
         ],
         "y": [
          0.2930494331124385,
          0.3707235671758313,
          0.8491015137458576,
          0.6729851899271158,
          0.4112527046472985
         ]
        },
        {
         "line": {
          "color": "hsl(880, 70%, 50%)",
          "shape": "spline"
         },
         "marker": {
          "color": 22,
          "colorscale": [
           [
            0,
            "#440154"
           ],
           [
            0.1111111111111111,
            "#482878"
           ],
           [
            0.2222222222222222,
            "#3e4989"
           ],
           [
            0.3333333333333333,
            "#31688e"
           ],
           [
            0.4444444444444444,
            "#26828e"
           ],
           [
            0.5555555555555556,
            "#1f9e89"
           ],
           [
            0.6666666666666666,
            "#35b779"
           ],
           [
            0.7777777777777778,
            "#6ece58"
           ],
           [
            0.8888888888888888,
            "#b5de2b"
           ],
           [
            1,
            "#fde725"
           ]
          ],
          "size": 6
         },
         "mode": "lines+markers",
         "name": "Cluster 23",
         "type": "scatter",
         "x": [
          -4.7794333893436995,
          -5.235545852279669,
          -4.70119723561761,
          -5.191440655551226,
          -4.067598215715737
         ],
         "y": [
          0.8978364843297826,
          1.5975381461905347,
          0.8828640083298991,
          1.3254914738051469,
          0.7848476605770162
         ]
        },
        {
         "line": {
          "color": "hsl(920, 70%, 50%)",
          "shape": "spline"
         },
         "marker": {
          "color": 23,
          "colorscale": [
           [
            0,
            "#440154"
           ],
           [
            0.1111111111111111,
            "#482878"
           ],
           [
            0.2222222222222222,
            "#3e4989"
           ],
           [
            0.3333333333333333,
            "#31688e"
           ],
           [
            0.4444444444444444,
            "#26828e"
           ],
           [
            0.5555555555555556,
            "#1f9e89"
           ],
           [
            0.6666666666666666,
            "#35b779"
           ],
           [
            0.7777777777777778,
            "#6ece58"
           ],
           [
            0.8888888888888888,
            "#b5de2b"
           ],
           [
            1,
            "#fde725"
           ]
          ],
          "size": 6
         },
         "mode": "lines+markers",
         "name": "Cluster 24",
         "type": "scatter",
         "x": [
          0.6771745528587534,
          -1.4596891998750419,
          1.4503727073221815,
          1.4097737691626153,
          -6.333978605193296
         ],
         "y": [
          0.6507744755467534,
          1.3722157099841554,
          0.8541669134269393,
          1.187736020375232,
          -0.2851123402678512
         ]
        },
        {
         "line": {
          "color": "hsl(960, 70%, 50%)",
          "shape": "spline"
         },
         "marker": {
          "color": 24,
          "colorscale": [
           [
            0,
            "#440154"
           ],
           [
            0.1111111111111111,
            "#482878"
           ],
           [
            0.2222222222222222,
            "#3e4989"
           ],
           [
            0.3333333333333333,
            "#31688e"
           ],
           [
            0.4444444444444444,
            "#26828e"
           ],
           [
            0.5555555555555556,
            "#1f9e89"
           ],
           [
            0.6666666666666666,
            "#35b779"
           ],
           [
            0.7777777777777778,
            "#6ece58"
           ],
           [
            0.8888888888888888,
            "#b5de2b"
           ],
           [
            1,
            "#fde725"
           ]
          ],
          "size": 6
         },
         "mode": "lines+markers",
         "name": "Cluster 25",
         "type": "scatter",
         "x": [
          -0.09153424601979285,
          -2.270387572166955,
          -2.9388916366190636,
          -4.07089683450697,
          -3.7164876287291917
         ],
         "y": [
          0.5212134900477727,
          2.2387642875952807,
          2.6088166608503696,
          3.409580998767745,
          2.2671823369417736
         ]
        },
        {
         "line": {
          "color": "hsl(1000, 70%, 50%)",
          "shape": "spline"
         },
         "marker": {
          "color": 25,
          "colorscale": [
           [
            0,
            "#440154"
           ],
           [
            0.1111111111111111,
            "#482878"
           ],
           [
            0.2222222222222222,
            "#3e4989"
           ],
           [
            0.3333333333333333,
            "#31688e"
           ],
           [
            0.4444444444444444,
            "#26828e"
           ],
           [
            0.5555555555555556,
            "#1f9e89"
           ],
           [
            0.6666666666666666,
            "#35b779"
           ],
           [
            0.7777777777777778,
            "#6ece58"
           ],
           [
            0.8888888888888888,
            "#b5de2b"
           ],
           [
            1,
            "#fde725"
           ]
          ],
          "size": 6
         },
         "mode": "lines+markers",
         "name": "Cluster 26",
         "type": "scatter",
         "x": [
          -1.0937862218447312,
          -1.8263532783090242,
          -2.025624916693783,
          -2.74547124251474,
          -1.831318964550682
         ],
         "y": [
          1.0350192999863916,
          1.3407800023166025,
          0.9505688905823366,
          2.2548241498453017,
          1.599813727245115
         ]
        },
        {
         "line": {
          "color": "hsl(1040, 70%, 50%)",
          "shape": "spline"
         },
         "marker": {
          "color": 26,
          "colorscale": [
           [
            0,
            "#440154"
           ],
           [
            0.1111111111111111,
            "#482878"
           ],
           [
            0.2222222222222222,
            "#3e4989"
           ],
           [
            0.3333333333333333,
            "#31688e"
           ],
           [
            0.4444444444444444,
            "#26828e"
           ],
           [
            0.5555555555555556,
            "#1f9e89"
           ],
           [
            0.6666666666666666,
            "#35b779"
           ],
           [
            0.7777777777777778,
            "#6ece58"
           ],
           [
            0.8888888888888888,
            "#b5de2b"
           ],
           [
            1,
            "#fde725"
           ]
          ],
          "size": 6
         },
         "mode": "lines+markers",
         "name": "Cluster 27",
         "type": "scatter",
         "x": [
          -0.5286933544239835,
          -0.9725476971758255,
          -0.1652271631029469,
          -0.6948427857770859,
          -0.3635309217518024
         ],
         "y": [
          0.2564645805972989,
          1.1085084051184853,
          0.043299123119603954,
          1.0804850527103227,
          0.4323487815868805
         ]
        },
        {
         "line": {
          "color": "hsl(1080, 70%, 50%)",
          "shape": "spline"
         },
         "marker": {
          "color": 27,
          "colorscale": [
           [
            0,
            "#440154"
           ],
           [
            0.1111111111111111,
            "#482878"
           ],
           [
            0.2222222222222222,
            "#3e4989"
           ],
           [
            0.3333333333333333,
            "#31688e"
           ],
           [
            0.4444444444444444,
            "#26828e"
           ],
           [
            0.5555555555555556,
            "#1f9e89"
           ],
           [
            0.6666666666666666,
            "#35b779"
           ],
           [
            0.7777777777777778,
            "#6ece58"
           ],
           [
            0.8888888888888888,
            "#b5de2b"
           ],
           [
            1,
            "#fde725"
           ]
          ],
          "size": 6
         },
         "mode": "lines+markers",
         "name": "Cluster 28",
         "type": "scatter",
         "x": [
          -1.1016847237531981,
          -0.26706799916460877,
          -1.1294493264498375,
          -0.6377159628763716,
          0.20275427249792347
         ],
         "y": [
          -0.5443104936674135,
          -0.5311414878387076,
          -0.06942860286791461,
          -0.386895921753389,
          -0.7051342182608089
         ]
        },
        {
         "line": {
          "color": "hsl(1120, 70%, 50%)",
          "shape": "spline"
         },
         "marker": {
          "color": 28,
          "colorscale": [
           [
            0,
            "#440154"
           ],
           [
            0.1111111111111111,
            "#482878"
           ],
           [
            0.2222222222222222,
            "#3e4989"
           ],
           [
            0.3333333333333333,
            "#31688e"
           ],
           [
            0.4444444444444444,
            "#26828e"
           ],
           [
            0.5555555555555556,
            "#1f9e89"
           ],
           [
            0.6666666666666666,
            "#35b779"
           ],
           [
            0.7777777777777778,
            "#6ece58"
           ],
           [
            0.8888888888888888,
            "#b5de2b"
           ],
           [
            1,
            "#fde725"
           ]
          ],
          "size": 6
         },
         "mode": "lines+markers",
         "name": "Cluster 29",
         "type": "scatter",
         "x": [
          -1.837889919127857,
          -2.0318264860494235,
          -1.6489394726934925,
          -1.9742290250284564,
          -1.964728219849985
         ],
         "y": [
          -0.6822718989067919,
          -0.3955189229936111,
          -0.8803626281286626,
          -0.3737950251534667,
          -0.5297735920166611
         ]
        },
        {
         "line": {
          "color": "hsl(1160, 70%, 50%)",
          "shape": "spline"
         },
         "marker": {
          "color": 29,
          "colorscale": [
           [
            0,
            "#440154"
           ],
           [
            0.1111111111111111,
            "#482878"
           ],
           [
            0.2222222222222222,
            "#3e4989"
           ],
           [
            0.3333333333333333,
            "#31688e"
           ],
           [
            0.4444444444444444,
            "#26828e"
           ],
           [
            0.5555555555555556,
            "#1f9e89"
           ],
           [
            0.6666666666666666,
            "#35b779"
           ],
           [
            0.7777777777777778,
            "#6ece58"
           ],
           [
            0.8888888888888888,
            "#b5de2b"
           ],
           [
            1,
            "#fde725"
           ]
          ],
          "size": 6
         },
         "mode": "lines+markers",
         "name": "Cluster 30",
         "type": "scatter",
         "x": [
          -1.9093865758830009,
          -1.9065918132434876,
          -1.8688593303014918,
          -1.9065918132434876,
          -1.94899170192781
         ],
         "y": [
          0.07168049677049454,
          0.4543052343151222,
          -0.08263668621381448,
          0.4543052343151222,
          0.1539478479230116
         ]
        }
       ],
       "layout": {
        "legend": {
         "font": {
          "size": 12
         },
         "title": {
          "font": {
           "size": 16
          },
          "text": "Cluster"
         }
        },
        "showlegend": true,
        "template": {
         "data": {
          "bar": [
           {
            "error_x": {
             "color": "#2a3f5f"
            },
            "error_y": {
             "color": "#2a3f5f"
            },
            "marker": {
             "line": {
              "color": "#E5ECF6",
              "width": 0.5
             },
             "pattern": {
              "fillmode": "overlay",
              "size": 10,
              "solidity": 0.2
             }
            },
            "type": "bar"
           }
          ],
          "barpolar": [
           {
            "marker": {
             "line": {
              "color": "#E5ECF6",
              "width": 0.5
             },
             "pattern": {
              "fillmode": "overlay",
              "size": 10,
              "solidity": 0.2
             }
            },
            "type": "barpolar"
           }
          ],
          "carpet": [
           {
            "aaxis": {
             "endlinecolor": "#2a3f5f",
             "gridcolor": "white",
             "linecolor": "white",
             "minorgridcolor": "white",
             "startlinecolor": "#2a3f5f"
            },
            "baxis": {
             "endlinecolor": "#2a3f5f",
             "gridcolor": "white",
             "linecolor": "white",
             "minorgridcolor": "white",
             "startlinecolor": "#2a3f5f"
            },
            "type": "carpet"
           }
          ],
          "choropleth": [
           {
            "colorbar": {
             "outlinewidth": 0,
             "ticks": ""
            },
            "type": "choropleth"
           }
          ],
          "contour": [
           {
            "colorbar": {
             "outlinewidth": 0,
             "ticks": ""
            },
            "colorscale": [
             [
              0,
              "#0d0887"
             ],
             [
              0.1111111111111111,
              "#46039f"
             ],
             [
              0.2222222222222222,
              "#7201a8"
             ],
             [
              0.3333333333333333,
              "#9c179e"
             ],
             [
              0.4444444444444444,
              "#bd3786"
             ],
             [
              0.5555555555555556,
              "#d8576b"
             ],
             [
              0.6666666666666666,
              "#ed7953"
             ],
             [
              0.7777777777777778,
              "#fb9f3a"
             ],
             [
              0.8888888888888888,
              "#fdca26"
             ],
             [
              1,
              "#f0f921"
             ]
            ],
            "type": "contour"
           }
          ],
          "contourcarpet": [
           {
            "colorbar": {
             "outlinewidth": 0,
             "ticks": ""
            },
            "type": "contourcarpet"
           }
          ],
          "heatmap": [
           {
            "colorbar": {
             "outlinewidth": 0,
             "ticks": ""
            },
            "colorscale": [
             [
              0,
              "#0d0887"
             ],
             [
              0.1111111111111111,
              "#46039f"
             ],
             [
              0.2222222222222222,
              "#7201a8"
             ],
             [
              0.3333333333333333,
              "#9c179e"
             ],
             [
              0.4444444444444444,
              "#bd3786"
             ],
             [
              0.5555555555555556,
              "#d8576b"
             ],
             [
              0.6666666666666666,
              "#ed7953"
             ],
             [
              0.7777777777777778,
              "#fb9f3a"
             ],
             [
              0.8888888888888888,
              "#fdca26"
             ],
             [
              1,
              "#f0f921"
             ]
            ],
            "type": "heatmap"
           }
          ],
          "heatmapgl": [
           {
            "colorbar": {
             "outlinewidth": 0,
             "ticks": ""
            },
            "colorscale": [
             [
              0,
              "#0d0887"
             ],
             [
              0.1111111111111111,
              "#46039f"
             ],
             [
              0.2222222222222222,
              "#7201a8"
             ],
             [
              0.3333333333333333,
              "#9c179e"
             ],
             [
              0.4444444444444444,
              "#bd3786"
             ],
             [
              0.5555555555555556,
              "#d8576b"
             ],
             [
              0.6666666666666666,
              "#ed7953"
             ],
             [
              0.7777777777777778,
              "#fb9f3a"
             ],
             [
              0.8888888888888888,
              "#fdca26"
             ],
             [
              1,
              "#f0f921"
             ]
            ],
            "type": "heatmapgl"
           }
          ],
          "histogram": [
           {
            "marker": {
             "pattern": {
              "fillmode": "overlay",
              "size": 10,
              "solidity": 0.2
             }
            },
            "type": "histogram"
           }
          ],
          "histogram2d": [
           {
            "colorbar": {
             "outlinewidth": 0,
             "ticks": ""
            },
            "colorscale": [
             [
              0,
              "#0d0887"
             ],
             [
              0.1111111111111111,
              "#46039f"
             ],
             [
              0.2222222222222222,
              "#7201a8"
             ],
             [
              0.3333333333333333,
              "#9c179e"
             ],
             [
              0.4444444444444444,
              "#bd3786"
             ],
             [
              0.5555555555555556,
              "#d8576b"
             ],
             [
              0.6666666666666666,
              "#ed7953"
             ],
             [
              0.7777777777777778,
              "#fb9f3a"
             ],
             [
              0.8888888888888888,
              "#fdca26"
             ],
             [
              1,
              "#f0f921"
             ]
            ],
            "type": "histogram2d"
           }
          ],
          "histogram2dcontour": [
           {
            "colorbar": {
             "outlinewidth": 0,
             "ticks": ""
            },
            "colorscale": [
             [
              0,
              "#0d0887"
             ],
             [
              0.1111111111111111,
              "#46039f"
             ],
             [
              0.2222222222222222,
              "#7201a8"
             ],
             [
              0.3333333333333333,
              "#9c179e"
             ],
             [
              0.4444444444444444,
              "#bd3786"
             ],
             [
              0.5555555555555556,
              "#d8576b"
             ],
             [
              0.6666666666666666,
              "#ed7953"
             ],
             [
              0.7777777777777778,
              "#fb9f3a"
             ],
             [
              0.8888888888888888,
              "#fdca26"
             ],
             [
              1,
              "#f0f921"
             ]
            ],
            "type": "histogram2dcontour"
           }
          ],
          "mesh3d": [
           {
            "colorbar": {
             "outlinewidth": 0,
             "ticks": ""
            },
            "type": "mesh3d"
           }
          ],
          "parcoords": [
           {
            "line": {
             "colorbar": {
              "outlinewidth": 0,
              "ticks": ""
             }
            },
            "type": "parcoords"
           }
          ],
          "pie": [
           {
            "automargin": true,
            "type": "pie"
           }
          ],
          "scatter": [
           {
            "fillpattern": {
             "fillmode": "overlay",
             "size": 10,
             "solidity": 0.2
            },
            "type": "scatter"
           }
          ],
          "scatter3d": [
           {
            "line": {
             "colorbar": {
              "outlinewidth": 0,
              "ticks": ""
             }
            },
            "marker": {
             "colorbar": {
              "outlinewidth": 0,
              "ticks": ""
             }
            },
            "type": "scatter3d"
           }
          ],
          "scattercarpet": [
           {
            "marker": {
             "colorbar": {
              "outlinewidth": 0,
              "ticks": ""
             }
            },
            "type": "scattercarpet"
           }
          ],
          "scattergeo": [
           {
            "marker": {
             "colorbar": {
              "outlinewidth": 0,
              "ticks": ""
             }
            },
            "type": "scattergeo"
           }
          ],
          "scattergl": [
           {
            "marker": {
             "colorbar": {
              "outlinewidth": 0,
              "ticks": ""
             }
            },
            "type": "scattergl"
           }
          ],
          "scattermapbox": [
           {
            "marker": {
             "colorbar": {
              "outlinewidth": 0,
              "ticks": ""
             }
            },
            "type": "scattermapbox"
           }
          ],
          "scatterpolar": [
           {
            "marker": {
             "colorbar": {
              "outlinewidth": 0,
              "ticks": ""
             }
            },
            "type": "scatterpolar"
           }
          ],
          "scatterpolargl": [
           {
            "marker": {
             "colorbar": {
              "outlinewidth": 0,
              "ticks": ""
             }
            },
            "type": "scatterpolargl"
           }
          ],
          "scatterternary": [
           {
            "marker": {
             "colorbar": {
              "outlinewidth": 0,
              "ticks": ""
             }
            },
            "type": "scatterternary"
           }
          ],
          "surface": [
           {
            "colorbar": {
             "outlinewidth": 0,
             "ticks": ""
            },
            "colorscale": [
             [
              0,
              "#0d0887"
             ],
             [
              0.1111111111111111,
              "#46039f"
             ],
             [
              0.2222222222222222,
              "#7201a8"
             ],
             [
              0.3333333333333333,
              "#9c179e"
             ],
             [
              0.4444444444444444,
              "#bd3786"
             ],
             [
              0.5555555555555556,
              "#d8576b"
             ],
             [
              0.6666666666666666,
              "#ed7953"
             ],
             [
              0.7777777777777778,
              "#fb9f3a"
             ],
             [
              0.8888888888888888,
              "#fdca26"
             ],
             [
              1,
              "#f0f921"
             ]
            ],
            "type": "surface"
           }
          ],
          "table": [
           {
            "cells": {
             "fill": {
              "color": "#EBF0F8"
             },
             "line": {
              "color": "white"
             }
            },
            "header": {
             "fill": {
              "color": "#C8D4E3"
             },
             "line": {
              "color": "white"
             }
            },
            "type": "table"
           }
          ]
         },
         "layout": {
          "annotationdefaults": {
           "arrowcolor": "#2a3f5f",
           "arrowhead": 0,
           "arrowwidth": 1
          },
          "autotypenumbers": "strict",
          "coloraxis": {
           "colorbar": {
            "outlinewidth": 0,
            "ticks": ""
           }
          },
          "colorscale": {
           "diverging": [
            [
             0,
             "#8e0152"
            ],
            [
             0.1,
             "#c51b7d"
            ],
            [
             0.2,
             "#de77ae"
            ],
            [
             0.3,
             "#f1b6da"
            ],
            [
             0.4,
             "#fde0ef"
            ],
            [
             0.5,
             "#f7f7f7"
            ],
            [
             0.6,
             "#e6f5d0"
            ],
            [
             0.7,
             "#b8e186"
            ],
            [
             0.8,
             "#7fbc41"
            ],
            [
             0.9,
             "#4d9221"
            ],
            [
             1,
             "#276419"
            ]
           ],
           "sequential": [
            [
             0,
             "#0d0887"
            ],
            [
             0.1111111111111111,
             "#46039f"
            ],
            [
             0.2222222222222222,
             "#7201a8"
            ],
            [
             0.3333333333333333,
             "#9c179e"
            ],
            [
             0.4444444444444444,
             "#bd3786"
            ],
            [
             0.5555555555555556,
             "#d8576b"
            ],
            [
             0.6666666666666666,
             "#ed7953"
            ],
            [
             0.7777777777777778,
             "#fb9f3a"
            ],
            [
             0.8888888888888888,
             "#fdca26"
            ],
            [
             1,
             "#f0f921"
            ]
           ],
           "sequentialminus": [
            [
             0,
             "#0d0887"
            ],
            [
             0.1111111111111111,
             "#46039f"
            ],
            [
             0.2222222222222222,
             "#7201a8"
            ],
            [
             0.3333333333333333,
             "#9c179e"
            ],
            [
             0.4444444444444444,
             "#bd3786"
            ],
            [
             0.5555555555555556,
             "#d8576b"
            ],
            [
             0.6666666666666666,
             "#ed7953"
            ],
            [
             0.7777777777777778,
             "#fb9f3a"
            ],
            [
             0.8888888888888888,
             "#fdca26"
            ],
            [
             1,
             "#f0f921"
            ]
           ]
          },
          "colorway": [
           "#636efa",
           "#EF553B",
           "#00cc96",
           "#ab63fa",
           "#FFA15A",
           "#19d3f3",
           "#FF6692",
           "#B6E880",
           "#FF97FF",
           "#FECB52"
          ],
          "font": {
           "color": "#2a3f5f"
          },
          "geo": {
           "bgcolor": "white",
           "lakecolor": "white",
           "landcolor": "#E5ECF6",
           "showlakes": true,
           "showland": true,
           "subunitcolor": "white"
          },
          "hoverlabel": {
           "align": "left"
          },
          "hovermode": "closest",
          "mapbox": {
           "style": "light"
          },
          "paper_bgcolor": "white",
          "plot_bgcolor": "#E5ECF6",
          "polar": {
           "angularaxis": {
            "gridcolor": "white",
            "linecolor": "white",
            "ticks": ""
           },
           "bgcolor": "#E5ECF6",
           "radialaxis": {
            "gridcolor": "white",
            "linecolor": "white",
            "ticks": ""
           }
          },
          "scene": {
           "xaxis": {
            "backgroundcolor": "#E5ECF6",
            "gridcolor": "white",
            "gridwidth": 2,
            "linecolor": "white",
            "showbackground": true,
            "ticks": "",
            "zerolinecolor": "white"
           },
           "yaxis": {
            "backgroundcolor": "#E5ECF6",
            "gridcolor": "white",
            "gridwidth": 2,
            "linecolor": "white",
            "showbackground": true,
            "ticks": "",
            "zerolinecolor": "white"
           },
           "zaxis": {
            "backgroundcolor": "#E5ECF6",
            "gridcolor": "white",
            "gridwidth": 2,
            "linecolor": "white",
            "showbackground": true,
            "ticks": "",
            "zerolinecolor": "white"
           }
          },
          "shapedefaults": {
           "line": {
            "color": "#2a3f5f"
           }
          },
          "ternary": {
           "aaxis": {
            "gridcolor": "white",
            "linecolor": "white",
            "ticks": ""
           },
           "baxis": {
            "gridcolor": "white",
            "linecolor": "white",
            "ticks": ""
           },
           "bgcolor": "#E5ECF6",
           "caxis": {
            "gridcolor": "white",
            "linecolor": "white",
            "ticks": ""
           }
          },
          "title": {
           "x": 0.05
          },
          "xaxis": {
           "automargin": true,
           "gridcolor": "white",
           "linecolor": "white",
           "ticks": "",
           "title": {
            "standoff": 15
           },
           "zerolinecolor": "white",
           "zerolinewidth": 2
          },
          "yaxis": {
           "automargin": true,
           "gridcolor": "white",
           "linecolor": "white",
           "ticks": "",
           "title": {
            "standoff": 15
           },
           "zerolinecolor": "white",
           "zerolinewidth": 2
          }
         }
        },
        "title": {
         "text": "2D PCA Plot of User Data by Week with Representative Trajectories"
        },
        "xaxis": {
         "title": {
          "text": "PCA1"
         }
        },
        "yaxis": {
         "title": {
          "text": "PCA2"
         }
        }
       }
      }
     },
     "metadata": {},
     "output_type": "display_data"
    }
   ],
   "source": [
    "from scipy.cluster.hierarchy import linkage, fcluster\n",
    "from scipy.spatial.distance import pdist, squareform\n",
    "from fastdtw import fastdtw\n",
    "from scipy.spatial.distance import euclidean\n",
    "\n",
    "# Select a subset of unique CloudId values (e.g., the first 10 unique CloudIds)\n",
    "unique_cloud_ids = reduced_bio['CloudId'].unique()[:500]\n",
    "\n",
    "# Collect all user trajectories\n",
    "trajectories = []\n",
    "valid_cloud_ids = []\n",
    "for cloud_id in unique_cloud_ids:\n",
    "    user_data = reduced_bio[reduced_bio['CloudId'] == cloud_id]\n",
    "    trajectory = user_data[['PCA1', 'PCA2']].values\n",
    "    if len(trajectory) > 0:  # Filter out empty trajectories\n",
    "        trajectories.append(trajectory)\n",
    "        valid_cloud_ids.append(cloud_id)\n",
    "\n",
    "# Compute pairwise DTW distances\n",
    "n = len(trajectories)\n",
    "distance_matrix = np.zeros((n, n))\n",
    "for i in range(n):\n",
    "    for j in range(i + 1, n):\n",
    "        distance, path = fastdtw(trajectories[i], trajectories[j], dist=euclidean)\n",
    "        distance_matrix[i, j] = distance\n",
    "        distance_matrix[j, i] = distance\n",
    "\n",
    "# Perform hierarchical clustering\n",
    "Z = linkage(squareform(distance_matrix), method='ward')\n",
    "cluster_labels = fcluster(Z, t=30, criterion='maxclust')  # Adjust the number of clusters as needed\n",
    "\n",
    "# Compute representative trajectories (medoids)\n",
    "representative_trajectories = []\n",
    "for cluster in np.unique(cluster_labels):\n",
    "    cluster_indices = np.where(cluster_labels == cluster)[0]\n",
    "    cluster_trajectories = [trajectories[i] for i in cluster_indices]\n",
    "    \n",
    "    # Compute the medoid trajectory\n",
    "    medoid_index = np.argmin([np.sum([fastdtw(t1, t2, dist=euclidean)[0] for t2 in cluster_trajectories]) for t1 in cluster_trajectories])\n",
    "    representative_trajectories.append(cluster_trajectories[medoid_index])\n",
    "\n",
    "# Initialize a new figure\n",
    "fig = go.Figure()\n",
    "\n",
    "# Plot the representative trajectories with cluster colors\n",
    "for i, trajectory in enumerate(representative_trajectories):\n",
    "    fig.add_trace(go.Scatter(\n",
    "        x=trajectory[:, 0],\n",
    "        y=trajectory[:, 1],\n",
    "        mode='lines+markers',\n",
    "        line_shape='spline',\n",
    "        marker=dict(size=6, color=i, colorscale='Viridis'),  # Set marker size to 6\n",
    "        line=dict(shape='spline', color=f'hsl({i * 40}, 70%, 50%)'),\n",
    "        name=f'Cluster {i + 1}'\n",
    "    ))\n",
    "\n",
    "fig.update_layout(\n",
    "    title='2D PCA Plot of User Data by Week with Representative Trajectories',\n",
    "    xaxis_title='PCA1',\n",
    "    yaxis_title='PCA2',\n",
    "    showlegend=True\n",
    ")\n",
    "\n",
    "# Add a legend to the plot\n",
    "fig.update_layout(\n",
    "    legend_title_text='Cluster',\n",
    "    legend_title_font_size=16,\n",
    "    legend_font_size=12\n",
    ")\n",
    "\n",
    "fig.show()"
   ]
  }
 ],
 "metadata": {
  "kernelspec": {
   "display_name": "biofitviz",
   "language": "python",
   "name": "python3"
  },
  "language_info": {
   "codemirror_mode": {
    "name": "ipython",
    "version": 3
   },
   "file_extension": ".py",
   "mimetype": "text/x-python",
   "name": "python",
   "nbconvert_exporter": "python",
   "pygments_lexer": "ipython3",
   "version": "3.10.15"
  }
 },
 "nbformat": 4,
 "nbformat_minor": 2
}
