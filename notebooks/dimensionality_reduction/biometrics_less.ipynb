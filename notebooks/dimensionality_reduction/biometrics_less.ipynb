{
 "cells": [
  {
   "cell_type": "code",
   "execution_count": 1,
   "metadata": {},
   "outputs": [],
   "source": [
    "import pandas as pd\n",
    "import numpy as np\n",
    "from sklearn.preprocessing import StandardScaler\n",
    "from sklearn.decomposition import PCA\n",
    "import matplotlib.pyplot as plt\n",
    "import seaborn as sns\n",
    "import plotly.express as px\n",
    "import plotly.graph_objects as go\n",
    "from scipy.spatial import Voronoi, voronoi_plot_2d\n",
    "\n",
    "pd.set_option('display.max_columns', None)"
   ]
  },
  {
   "cell_type": "code",
   "execution_count": null,
   "metadata": {},
   "outputs": [],
   "source": [
    "\n",
    "# read file\n",
    "bio = pd.read_pickle('../data_cleaned/biometrics_m10_imputed_clustered_changes.pkl')"
   ]
  },
  {
   "cell_type": "markdown",
   "metadata": {},
   "source": [
    "### Keep only 4 states\n",
    "#### Methodology\n",
    "\n",
    "1. Calculate the absolute differences between consecutive measurements.\n",
    "2. Select the top N measurements with the largest changes.\n",
    "3. Ensure the first and last measurements are always included.\n",
    "\n"
   ]
  },
  {
   "cell_type": "code",
   "execution_count": null,
   "metadata": {},
   "outputs": [
    {
     "name": "stderr",
     "output_type": "stream",
     "text": [
      "/var/folders/3f/hpgbw8dd459305qvgctxmywc0000gn/T/ipykernel_40446/3558744107.py:24: DeprecationWarning:\n",
      "\n",
      "DataFrameGroupBy.apply operated on the grouping columns. This behavior is deprecated, and in a future version of pandas the grouping columns will be excluded from the operation. Either pass `include_groups=False` to exclude the groupings or explicitly select the grouping columns after groupby to silence this warning.\n",
      "\n"
     ]
    },
    {
     "data": {
      "text/html": [
       "<div>\n",
       "<style scoped>\n",
       "    .dataframe tbody tr th:only-of-type {\n",
       "        vertical-align: middle;\n",
       "    }\n",
       "\n",
       "    .dataframe tbody tr th {\n",
       "        vertical-align: top;\n",
       "    }\n",
       "\n",
       "    .dataframe thead th {\n",
       "        text-align: right;\n",
       "    }\n",
       "</style>\n",
       "<table border=\"1\" class=\"dataframe\">\n",
       "  <thead>\n",
       "    <tr style=\"text-align: right;\">\n",
       "      <th></th>\n",
       "      <th>Age</th>\n",
       "      <th>BMI</th>\n",
       "      <th>Basal Metabolic Rate</th>\n",
       "      <th>Bone Mass</th>\n",
       "      <th>Degree Of Obesity Perc</th>\n",
       "      <th>Extra Cellular Water Perc</th>\n",
       "      <th>Fat Free Mass</th>\n",
       "      <th>Fat mass Perc</th>\n",
       "      <th>Height</th>\n",
       "      <th>Intra Cellular Water</th>\n",
       "      <th>Left Arm Fat Perc</th>\n",
       "      <th>Left Leg Fat Perc</th>\n",
       "      <th>Metabolic Age</th>\n",
       "      <th>Muscle Mass</th>\n",
       "      <th>Muscle Mass Balance Arm</th>\n",
       "      <th>Muscle Mass Balance Leg</th>\n",
       "      <th>Right Arm Fat Perc</th>\n",
       "      <th>Right Leg Fat Perc</th>\n",
       "      <th>Standard Body Weight</th>\n",
       "      <th>Total Body Water Perc</th>\n",
       "      <th>Trunk Fat Perc</th>\n",
       "      <th>Trunk Muscle Mass</th>\n",
       "      <th>Visceral Fat Rating</th>\n",
       "      <th>Weight</th>\n",
       "      <th>gender_m</th>\n",
       "      <th>gender_f</th>\n",
       "      <th>CloudId</th>\n",
       "      <th>MeasuredOnWeek</th>\n",
       "      <th>Cluster</th>\n",
       "      <th>PCA1</th>\n",
       "      <th>PCA2</th>\n",
       "    </tr>\n",
       "  </thead>\n",
       "  <tbody>\n",
       "    <tr>\n",
       "      <th>0</th>\n",
       "      <td>56.0</td>\n",
       "      <td>29.60</td>\n",
       "      <td>1887.2</td>\n",
       "      <td>3.80</td>\n",
       "      <td>26.46</td>\n",
       "      <td>39.42</td>\n",
       "      <td>66.44</td>\n",
       "      <td>23.78</td>\n",
       "      <td>175.8</td>\n",
       "      <td>29.00</td>\n",
       "      <td>16.94</td>\n",
       "      <td>20.74</td>\n",
       "      <td>43.4</td>\n",
       "      <td>59.54</td>\n",
       "      <td>0.0</td>\n",
       "      <td>0.8</td>\n",
       "      <td>16.20</td>\n",
       "      <td>20.60</td>\n",
       "      <td>69.92</td>\n",
       "      <td>55.68</td>\n",
       "      <td>20.26</td>\n",
       "      <td>37.68</td>\n",
       "      <td>10.2</td>\n",
       "      <td>88.0</td>\n",
       "      <td>1.0</td>\n",
       "      <td>0.0</td>\n",
       "      <td>0015d65e3205deb6bb6a8f0d57cc48547918f0f2</td>\n",
       "      <td>10</td>\n",
       "      <td>0</td>\n",
       "      <td>-2.790102</td>\n",
       "      <td>1.563701</td>\n",
       "    </tr>\n",
       "    <tr>\n",
       "      <th>1</th>\n",
       "      <td>56.0</td>\n",
       "      <td>28.60</td>\n",
       "      <td>1956.8</td>\n",
       "      <td>3.60</td>\n",
       "      <td>28.72</td>\n",
       "      <td>38.42</td>\n",
       "      <td>67.36</td>\n",
       "      <td>22.24</td>\n",
       "      <td>176.6</td>\n",
       "      <td>27.44</td>\n",
       "      <td>16.02</td>\n",
       "      <td>21.00</td>\n",
       "      <td>44.2</td>\n",
       "      <td>58.70</td>\n",
       "      <td>0.6</td>\n",
       "      <td>0.2</td>\n",
       "      <td>14.88</td>\n",
       "      <td>21.32</td>\n",
       "      <td>67.92</td>\n",
       "      <td>53.36</td>\n",
       "      <td>23.94</td>\n",
       "      <td>35.22</td>\n",
       "      <td>11.0</td>\n",
       "      <td>87.0</td>\n",
       "      <td>1.0</td>\n",
       "      <td>0.0</td>\n",
       "      <td>0015d65e3205deb6bb6a8f0d57cc48547918f0f2</td>\n",
       "      <td>24</td>\n",
       "      <td>0</td>\n",
       "      <td>-2.506614</td>\n",
       "      <td>1.418270</td>\n",
       "    </tr>\n",
       "    <tr>\n",
       "      <th>2</th>\n",
       "      <td>56.0</td>\n",
       "      <td>31.72</td>\n",
       "      <td>1744.4</td>\n",
       "      <td>3.46</td>\n",
       "      <td>52.90</td>\n",
       "      <td>42.40</td>\n",
       "      <td>60.04</td>\n",
       "      <td>28.68</td>\n",
       "      <td>166.4</td>\n",
       "      <td>25.78</td>\n",
       "      <td>39.78</td>\n",
       "      <td>42.60</td>\n",
       "      <td>48.4</td>\n",
       "      <td>48.48</td>\n",
       "      <td>-0.2</td>\n",
       "      <td>0.4</td>\n",
       "      <td>38.90</td>\n",
       "      <td>42.86</td>\n",
       "      <td>55.76</td>\n",
       "      <td>48.18</td>\n",
       "      <td>34.10</td>\n",
       "      <td>28.96</td>\n",
       "      <td>9.6</td>\n",
       "      <td>85.2</td>\n",
       "      <td>1.0</td>\n",
       "      <td>0.0</td>\n",
       "      <td>0015d65e3205deb6bb6a8f0d57cc48547918f0f2</td>\n",
       "      <td>41</td>\n",
       "      <td>2</td>\n",
       "      <td>2.293639</td>\n",
       "      <td>3.707220</td>\n",
       "    </tr>\n",
       "    <tr>\n",
       "      <th>3</th>\n",
       "      <td>56.0</td>\n",
       "      <td>27.62</td>\n",
       "      <td>1917.4</td>\n",
       "      <td>3.78</td>\n",
       "      <td>20.74</td>\n",
       "      <td>39.40</td>\n",
       "      <td>66.78</td>\n",
       "      <td>22.32</td>\n",
       "      <td>176.2</td>\n",
       "      <td>28.62</td>\n",
       "      <td>17.14</td>\n",
       "      <td>20.94</td>\n",
       "      <td>47.0</td>\n",
       "      <td>58.44</td>\n",
       "      <td>0.6</td>\n",
       "      <td>0.8</td>\n",
       "      <td>16.06</td>\n",
       "      <td>20.68</td>\n",
       "      <td>72.58</td>\n",
       "      <td>55.22</td>\n",
       "      <td>24.58</td>\n",
       "      <td>35.00</td>\n",
       "      <td>11.0</td>\n",
       "      <td>87.5</td>\n",
       "      <td>1.0</td>\n",
       "      <td>0.0</td>\n",
       "      <td>0015d65e3205deb6bb6a8f0d57cc48547918f0f2</td>\n",
       "      <td>45</td>\n",
       "      <td>0</td>\n",
       "      <td>-2.641949</td>\n",
       "      <td>1.361404</td>\n",
       "    </tr>\n",
       "    <tr>\n",
       "      <th>4</th>\n",
       "      <td>63.0</td>\n",
       "      <td>24.70</td>\n",
       "      <td>1846.0</td>\n",
       "      <td>3.20</td>\n",
       "      <td>13.50</td>\n",
       "      <td>40.30</td>\n",
       "      <td>65.20</td>\n",
       "      <td>14.00</td>\n",
       "      <td>174.0</td>\n",
       "      <td>27.50</td>\n",
       "      <td>12.60</td>\n",
       "      <td>17.60</td>\n",
       "      <td>47.0</td>\n",
       "      <td>62.00</td>\n",
       "      <td>-1.0</td>\n",
       "      <td>1.0</td>\n",
       "      <td>13.00</td>\n",
       "      <td>17.00</td>\n",
       "      <td>66.60</td>\n",
       "      <td>61.90</td>\n",
       "      <td>10.70</td>\n",
       "      <td>35.80</td>\n",
       "      <td>9.0</td>\n",
       "      <td>74.8</td>\n",
       "      <td>1.0</td>\n",
       "      <td>0.0</td>\n",
       "      <td>0024a5d2cf20efc70369e4736d130e270618ce0a</td>\n",
       "      <td>3</td>\n",
       "      <td>5</td>\n",
       "      <td>-3.012908</td>\n",
       "      <td>-0.576501</td>\n",
       "    </tr>\n",
       "    <tr>\n",
       "      <th>5</th>\n",
       "      <td>63.0</td>\n",
       "      <td>25.00</td>\n",
       "      <td>1848.0</td>\n",
       "      <td>3.20</td>\n",
       "      <td>13.50</td>\n",
       "      <td>42.80</td>\n",
       "      <td>65.20</td>\n",
       "      <td>13.80</td>\n",
       "      <td>174.0</td>\n",
       "      <td>25.30</td>\n",
       "      <td>12.00</td>\n",
       "      <td>13.40</td>\n",
       "      <td>48.0</td>\n",
       "      <td>62.00</td>\n",
       "      <td>1.0</td>\n",
       "      <td>-1.0</td>\n",
       "      <td>10.10</td>\n",
       "      <td>15.00</td>\n",
       "      <td>66.60</td>\n",
       "      <td>58.50</td>\n",
       "      <td>14.00</td>\n",
       "      <td>33.90</td>\n",
       "      <td>8.0</td>\n",
       "      <td>75.6</td>\n",
       "      <td>1.0</td>\n",
       "      <td>0.0</td>\n",
       "      <td>0024a5d2cf20efc70369e4736d130e270618ce0a</td>\n",
       "      <td>31</td>\n",
       "      <td>4</td>\n",
       "      <td>-2.502473</td>\n",
       "      <td>-0.883911</td>\n",
       "    </tr>\n",
       "    <tr>\n",
       "      <th>6</th>\n",
       "      <td>63.0</td>\n",
       "      <td>24.40</td>\n",
       "      <td>1776.0</td>\n",
       "      <td>3.10</td>\n",
       "      <td>11.00</td>\n",
       "      <td>42.40</td>\n",
       "      <td>62.60</td>\n",
       "      <td>15.30</td>\n",
       "      <td>174.0</td>\n",
       "      <td>24.90</td>\n",
       "      <td>13.00</td>\n",
       "      <td>15.20</td>\n",
       "      <td>48.0</td>\n",
       "      <td>59.50</td>\n",
       "      <td>1.0</td>\n",
       "      <td>-2.0</td>\n",
       "      <td>10.40</td>\n",
       "      <td>17.20</td>\n",
       "      <td>66.60</td>\n",
       "      <td>58.50</td>\n",
       "      <td>15.30</td>\n",
       "      <td>32.70</td>\n",
       "      <td>8.0</td>\n",
       "      <td>73.9</td>\n",
       "      <td>1.0</td>\n",
       "      <td>0.0</td>\n",
       "      <td>0024a5d2cf20efc70369e4736d130e270618ce0a</td>\n",
       "      <td>37</td>\n",
       "      <td>4</td>\n",
       "      <td>-2.017589</td>\n",
       "      <td>-1.014583</td>\n",
       "    </tr>\n",
       "    <tr>\n",
       "      <th>7</th>\n",
       "      <td>63.0</td>\n",
       "      <td>24.40</td>\n",
       "      <td>1839.0</td>\n",
       "      <td>3.20</td>\n",
       "      <td>11.00</td>\n",
       "      <td>43.20</td>\n",
       "      <td>65.10</td>\n",
       "      <td>11.90</td>\n",
       "      <td>174.0</td>\n",
       "      <td>24.80</td>\n",
       "      <td>10.40</td>\n",
       "      <td>10.90</td>\n",
       "      <td>48.0</td>\n",
       "      <td>61.90</td>\n",
       "      <td>0.2</td>\n",
       "      <td>-2.0</td>\n",
       "      <td>9.60</td>\n",
       "      <td>13.50</td>\n",
       "      <td>66.60</td>\n",
       "      <td>59.10</td>\n",
       "      <td>12.30</td>\n",
       "      <td>33.90</td>\n",
       "      <td>7.0</td>\n",
       "      <td>73.9</td>\n",
       "      <td>1.0</td>\n",
       "      <td>0.0</td>\n",
       "      <td>0024a5d2cf20efc70369e4736d130e270618ce0a</td>\n",
       "      <td>45</td>\n",
       "      <td>4</td>\n",
       "      <td>-2.659034</td>\n",
       "      <td>-1.161355</td>\n",
       "    </tr>\n",
       "    <tr>\n",
       "      <th>8</th>\n",
       "      <td>38.0</td>\n",
       "      <td>27.00</td>\n",
       "      <td>1770.0</td>\n",
       "      <td>3.00</td>\n",
       "      <td>20.90</td>\n",
       "      <td>40.20</td>\n",
       "      <td>62.60</td>\n",
       "      <td>23.30</td>\n",
       "      <td>172.0</td>\n",
       "      <td>27.30</td>\n",
       "      <td>19.50</td>\n",
       "      <td>20.00</td>\n",
       "      <td>45.0</td>\n",
       "      <td>59.50</td>\n",
       "      <td>0.8</td>\n",
       "      <td>1.0</td>\n",
       "      <td>20.20</td>\n",
       "      <td>21.50</td>\n",
       "      <td>65.10</td>\n",
       "      <td>56.30</td>\n",
       "      <td>25.30</td>\n",
       "      <td>31.20</td>\n",
       "      <td>8.0</td>\n",
       "      <td>79.9</td>\n",
       "      <td>1.0</td>\n",
       "      <td>0.0</td>\n",
       "      <td>009f25b3ae8c7605c65c431bc94edd625d57386e</td>\n",
       "      <td>2</td>\n",
       "      <td>0</td>\n",
       "      <td>-1.556801</td>\n",
       "      <td>0.440451</td>\n",
       "    </tr>\n",
       "    <tr>\n",
       "      <th>9</th>\n",
       "      <td>38.0</td>\n",
       "      <td>27.00</td>\n",
       "      <td>1825.0</td>\n",
       "      <td>3.10</td>\n",
       "      <td>22.70</td>\n",
       "      <td>40.40</td>\n",
       "      <td>62.50</td>\n",
       "      <td>21.80</td>\n",
       "      <td>172.0</td>\n",
       "      <td>27.00</td>\n",
       "      <td>17.90</td>\n",
       "      <td>20.30</td>\n",
       "      <td>41.0</td>\n",
       "      <td>59.40</td>\n",
       "      <td>0.4</td>\n",
       "      <td>1.0</td>\n",
       "      <td>17.20</td>\n",
       "      <td>19.20</td>\n",
       "      <td>65.10</td>\n",
       "      <td>56.70</td>\n",
       "      <td>23.90</td>\n",
       "      <td>32.20</td>\n",
       "      <td>8.0</td>\n",
       "      <td>79.9</td>\n",
       "      <td>1.0</td>\n",
       "      <td>0.0</td>\n",
       "      <td>009f25b3ae8c7605c65c431bc94edd625d57386e</td>\n",
       "      <td>3</td>\n",
       "      <td>5</td>\n",
       "      <td>-1.789687</td>\n",
       "      <td>0.286895</td>\n",
       "    </tr>\n",
       "  </tbody>\n",
       "</table>\n",
       "</div>"
      ],
      "text/plain": [
       "    Age    BMI  Basal Metabolic Rate  Bone Mass  Degree Of Obesity Perc  \\\n",
       "0  56.0  29.60                1887.2       3.80                   26.46   \n",
       "1  56.0  28.60                1956.8       3.60                   28.72   \n",
       "2  56.0  31.72                1744.4       3.46                   52.90   \n",
       "3  56.0  27.62                1917.4       3.78                   20.74   \n",
       "4  63.0  24.70                1846.0       3.20                   13.50   \n",
       "5  63.0  25.00                1848.0       3.20                   13.50   \n",
       "6  63.0  24.40                1776.0       3.10                   11.00   \n",
       "7  63.0  24.40                1839.0       3.20                   11.00   \n",
       "8  38.0  27.00                1770.0       3.00                   20.90   \n",
       "9  38.0  27.00                1825.0       3.10                   22.70   \n",
       "\n",
       "   Extra Cellular Water Perc  Fat Free Mass  Fat mass Perc  Height  \\\n",
       "0                      39.42          66.44          23.78   175.8   \n",
       "1                      38.42          67.36          22.24   176.6   \n",
       "2                      42.40          60.04          28.68   166.4   \n",
       "3                      39.40          66.78          22.32   176.2   \n",
       "4                      40.30          65.20          14.00   174.0   \n",
       "5                      42.80          65.20          13.80   174.0   \n",
       "6                      42.40          62.60          15.30   174.0   \n",
       "7                      43.20          65.10          11.90   174.0   \n",
       "8                      40.20          62.60          23.30   172.0   \n",
       "9                      40.40          62.50          21.80   172.0   \n",
       "\n",
       "   Intra Cellular Water  Left Arm Fat Perc  Left Leg Fat Perc  Metabolic Age  \\\n",
       "0                 29.00              16.94              20.74           43.4   \n",
       "1                 27.44              16.02              21.00           44.2   \n",
       "2                 25.78              39.78              42.60           48.4   \n",
       "3                 28.62              17.14              20.94           47.0   \n",
       "4                 27.50              12.60              17.60           47.0   \n",
       "5                 25.30              12.00              13.40           48.0   \n",
       "6                 24.90              13.00              15.20           48.0   \n",
       "7                 24.80              10.40              10.90           48.0   \n",
       "8                 27.30              19.50              20.00           45.0   \n",
       "9                 27.00              17.90              20.30           41.0   \n",
       "\n",
       "   Muscle Mass  Muscle Mass Balance Arm  Muscle Mass Balance Leg  \\\n",
       "0        59.54                      0.0                      0.8   \n",
       "1        58.70                      0.6                      0.2   \n",
       "2        48.48                     -0.2                      0.4   \n",
       "3        58.44                      0.6                      0.8   \n",
       "4        62.00                     -1.0                      1.0   \n",
       "5        62.00                      1.0                     -1.0   \n",
       "6        59.50                      1.0                     -2.0   \n",
       "7        61.90                      0.2                     -2.0   \n",
       "8        59.50                      0.8                      1.0   \n",
       "9        59.40                      0.4                      1.0   \n",
       "\n",
       "   Right Arm Fat Perc  Right Leg Fat Perc  Standard Body Weight  \\\n",
       "0               16.20               20.60                 69.92   \n",
       "1               14.88               21.32                 67.92   \n",
       "2               38.90               42.86                 55.76   \n",
       "3               16.06               20.68                 72.58   \n",
       "4               13.00               17.00                 66.60   \n",
       "5               10.10               15.00                 66.60   \n",
       "6               10.40               17.20                 66.60   \n",
       "7                9.60               13.50                 66.60   \n",
       "8               20.20               21.50                 65.10   \n",
       "9               17.20               19.20                 65.10   \n",
       "\n",
       "   Total Body Water Perc  Trunk Fat Perc  Trunk Muscle Mass  \\\n",
       "0                  55.68           20.26              37.68   \n",
       "1                  53.36           23.94              35.22   \n",
       "2                  48.18           34.10              28.96   \n",
       "3                  55.22           24.58              35.00   \n",
       "4                  61.90           10.70              35.80   \n",
       "5                  58.50           14.00              33.90   \n",
       "6                  58.50           15.30              32.70   \n",
       "7                  59.10           12.30              33.90   \n",
       "8                  56.30           25.30              31.20   \n",
       "9                  56.70           23.90              32.20   \n",
       "\n",
       "   Visceral Fat Rating  Weight  gender_m  gender_f  \\\n",
       "0                 10.2    88.0       1.0       0.0   \n",
       "1                 11.0    87.0       1.0       0.0   \n",
       "2                  9.6    85.2       1.0       0.0   \n",
       "3                 11.0    87.5       1.0       0.0   \n",
       "4                  9.0    74.8       1.0       0.0   \n",
       "5                  8.0    75.6       1.0       0.0   \n",
       "6                  8.0    73.9       1.0       0.0   \n",
       "7                  7.0    73.9       1.0       0.0   \n",
       "8                  8.0    79.9       1.0       0.0   \n",
       "9                  8.0    79.9       1.0       0.0   \n",
       "\n",
       "                                    CloudId  MeasuredOnWeek  Cluster  \\\n",
       "0  0015d65e3205deb6bb6a8f0d57cc48547918f0f2              10        0   \n",
       "1  0015d65e3205deb6bb6a8f0d57cc48547918f0f2              24        0   \n",
       "2  0015d65e3205deb6bb6a8f0d57cc48547918f0f2              41        2   \n",
       "3  0015d65e3205deb6bb6a8f0d57cc48547918f0f2              45        0   \n",
       "4  0024a5d2cf20efc70369e4736d130e270618ce0a               3        5   \n",
       "5  0024a5d2cf20efc70369e4736d130e270618ce0a              31        4   \n",
       "6  0024a5d2cf20efc70369e4736d130e270618ce0a              37        4   \n",
       "7  0024a5d2cf20efc70369e4736d130e270618ce0a              45        4   \n",
       "8  009f25b3ae8c7605c65c431bc94edd625d57386e               2        0   \n",
       "9  009f25b3ae8c7605c65c431bc94edd625d57386e               3        5   \n",
       "\n",
       "       PCA1      PCA2  \n",
       "0 -2.790102  1.563701  \n",
       "1 -2.506614  1.418270  \n",
       "2  2.293639  3.707220  \n",
       "3 -2.641949  1.361404  \n",
       "4 -3.012908 -0.576501  \n",
       "5 -2.502473 -0.883911  \n",
       "6 -2.017589 -1.014583  \n",
       "7 -2.659034 -1.161355  \n",
       "8 -1.556801  0.440451  \n",
       "9 -1.789687  0.286895  "
      ]
     },
     "execution_count": 24,
     "metadata": {},
     "output_type": "execute_result"
    }
   ],
   "source": [
    "\n",
    "def select_top_states(group):\n",
    "    # Ensure chronological order\n",
    "    group = group.sort_values(by='MeasuredOnWeek').reset_index(drop=True)\n",
    "    \n",
    "    # Calculate absolute differences between consecutive measurements for each column\n",
    "    diff_cols = [col for col in group.columns if col not in ['gender_m', 'gender_f', 'CloudId', 'MeasuredOnWeek', 'Cluster']]\n",
    "    group['Diff'] = group[diff_cols].diff().abs().sum(axis=1)\n",
    "    \n",
    "    # Always include the first measurement\n",
    "    indices = [0]\n",
    "    \n",
    "    # Select the top 3 measurements with the largest changes\n",
    "    if len(group) > 1:\n",
    "        largest_changes = group.iloc[1:].nlargest(3, 'Diff').index\n",
    "        indices.extend(largest_changes)\n",
    "    \n",
    "    # Sort indices to maintain chronological order\n",
    "    indices = sorted(indices)\n",
    "    \n",
    "    return group.loc[indices].drop(columns='Diff')\n",
    "\n",
    "# Apply the function to each user group\n",
    "reduced_bio = bio.groupby('CloudId').apply(select_top_states).reset_index(drop=True)\n",
    "\n",
    "reduced_bio.head(10)"
   ]
  },
  {
   "cell_type": "code",
   "execution_count": 25,
   "metadata": {},
   "outputs": [
    {
     "data": {
      "application/vnd.plotly.v1+json": {
       "config": {
        "plotlyServerURL": "https://plot.ly"
       },
       "data": [
        {
         "line": {
          "shape": "spline"
         },
         "marker": {
          "color": [
           0,
           0,
           2,
           0
          ]
         },
         "mode": "lines+markers",
         "text": [
          "Cluster: 0",
          "Cluster: 0",
          "Cluster: 2",
          "Cluster: 0"
         ],
         "type": "scatter",
         "x": [
          -2.7901022417400725,
          -2.506613948763201,
          2.2936389895141964,
          -2.641948999885167
         ],
         "y": [
          1.5637010105684452,
          1.418269956037237,
          3.707220365116916,
          1.3614035618257576
         ]
        },
        {
         "line": {
          "shape": "spline"
         },
         "marker": {
          "color": [
           5,
           4,
           4,
           4
          ]
         },
         "mode": "lines+markers",
         "text": [
          "Cluster: 5",
          "Cluster: 4",
          "Cluster: 4",
          "Cluster: 4"
         ],
         "type": "scatter",
         "x": [
          -3.0129075239476273,
          -2.502472777154157,
          -2.0175891134972836,
          -2.6590338003467906
         ],
         "y": [
          -0.5765009988305069,
          -0.8839111722702927,
          -1.0145832836051605,
          -1.1613546595701403
         ]
        },
        {
         "line": {
          "shape": "spline"
         },
         "marker": {
          "color": [
           0,
           5,
           5,
           5
          ]
         },
         "mode": "lines+markers",
         "text": [
          "Cluster: 0",
          "Cluster: 5",
          "Cluster: 5",
          "Cluster: 5"
         ],
         "type": "scatter",
         "x": [
          -1.5568005283287039,
          -1.7896868752064756,
          -2.5765731687999054,
          -3.1604053269501455
         ],
         "y": [
          0.44045094159862114,
          0.28689517967304884,
          0.35385091774573296,
          0.6133729635482086
         ]
        },
        {
         "line": {
          "shape": "spline"
         },
         "marker": {
          "color": [
           5,
           5,
           5,
           5
          ]
         },
         "mode": "lines+markers",
         "text": [
          "Cluster: 5",
          "Cluster: 5",
          "Cluster: 5",
          "Cluster: 5"
         ],
         "type": "scatter",
         "x": [
          -1.8333760864435142,
          -2.017086434462901,
          -2.0076830791198153,
          -2.126814513490319
         ],
         "y": [
          0.16218094931429172,
          -0.27887505905923177,
          0.4388180960122351,
          0.42105267876267166
         ]
        },
        {
         "line": {
          "shape": "spline"
         },
         "marker": {
          "color": [
           4,
           4,
           3,
           4
          ]
         },
         "mode": "lines+markers",
         "text": [
          "Cluster: 4",
          "Cluster: 4",
          "Cluster: 3",
          "Cluster: 4"
         ],
         "type": "scatter",
         "x": [
          -0.6664360225823783,
          -1.2501470236686352,
          2.793684407885067,
          -0.059924433108662294
         ],
         "y": [
          -2.0875178552705878,
          -1.640922068630296,
          -0.04963011934351201,
          -1.6395090623212254
         ]
        },
        {
         "line": {
          "shape": "spline"
         },
         "marker": {
          "color": [
           4,
           5,
           1,
           4
          ]
         },
         "mode": "lines+markers",
         "text": [
          "Cluster: 4",
          "Cluster: 5",
          "Cluster: 1",
          "Cluster: 4"
         ],
         "type": "scatter",
         "x": [
          -2.2326157799685564,
          -3.940403249015623,
          -1.504023051482805,
          -1.9501637357798811
         ],
         "y": [
          -0.6323565677869798,
          0.8509821034635646,
          -0.1259794705760984,
          -1.236548146490316
         ]
        },
        {
         "line": {
          "shape": "spline"
         },
         "marker": {
          "color": [
           5,
           5,
           5,
           5
          ]
         },
         "mode": "lines+markers",
         "text": [
          "Cluster: 5",
          "Cluster: 5",
          "Cluster: 5",
          "Cluster: 5"
         ],
         "type": "scatter",
         "x": [
          -3.300642508884547,
          -3.5264201913543034,
          -3.048804602775785,
          -3.2044381640362576
         ],
         "y": [
          0.3323910513395358,
          0.3635635159192144,
          0.8568091040520883,
          0.6275493668647674
         ]
        },
        {
         "line": {
          "shape": "spline"
         },
         "marker": {
          "color": [
           2,
           2,
           3,
           3
          ]
         },
         "mode": "lines+markers",
         "text": [
          "Cluster: 2",
          "Cluster: 2",
          "Cluster: 3",
          "Cluster: 3"
         ],
         "type": "scatter",
         "x": [
          4.84326606071646,
          5.175923764851593,
          4.719832436265401,
          4.2304486727267925
         ],
         "y": [
          -0.6787905702892858,
          -0.2895155757418676,
          -0.854734233735862,
          -1.4012415384283616
         ]
        },
        {
         "line": {
          "shape": "spline"
         },
         "marker": {
          "color": [
           4,
           4,
           1,
           1
          ]
         },
         "mode": "lines+markers",
         "text": [
          "Cluster: 4",
          "Cluster: 4",
          "Cluster: 1",
          "Cluster: 1"
         ],
         "type": "scatter",
         "x": [
          0.06297687779650764,
          -0.007740101758613995,
          0.7966009373750039,
          0.23381135742555376
         ],
         "y": [
          -1.6878109007352449,
          -1.479715892995438,
          -0.912881771739591,
          -1.4118064012263452
         ]
        },
        {
         "line": {
          "shape": "spline"
         },
         "marker": {
          "color": [
           4,
           1,
           4,
           1
          ]
         },
         "mode": "lines+markers",
         "text": [
          "Cluster: 4",
          "Cluster: 1",
          "Cluster: 4",
          "Cluster: 1"
         ],
         "type": "scatter",
         "x": [
          -2.268266774622385,
          1.2087283537135862,
          -2.459797199020339,
          1.2087283537135862
         ],
         "y": [
          -1.2329927557755955,
          1.0593442408944225,
          -1.3011906747981004,
          1.0593442408944225
         ]
        },
        {
         "line": {
          "shape": "spline"
         },
         "marker": {
          "color": [
           2,
           3,
           3,
           3
          ]
         },
         "mode": "lines+markers",
         "text": [
          "Cluster: 2",
          "Cluster: 3",
          "Cluster: 3",
          "Cluster: 3"
         ],
         "type": "scatter",
         "x": [
          4.270697662124305,
          3.819100003830718,
          3.5999489169322194,
          3.4337976043923626
         ],
         "y": [
          0.9218772310552427,
          -0.41038952940469675,
          -0.6826917575181651,
          -0.9378594408001918
         ]
        },
        {
         "line": {
          "shape": "spline"
         },
         "marker": {
          "color": [
           5,
           4,
           5,
           5
          ]
         },
         "mode": "lines+markers",
         "text": [
          "Cluster: 5",
          "Cluster: 4",
          "Cluster: 5",
          "Cluster: 5"
         ],
         "type": "scatter",
         "x": [
          -3.1273949770717544,
          -2.9195493615449353,
          -4.355819393340638,
          -4.596356436978196
         ],
         "y": [
          0.34171346001956693,
          -1.1799209435907845,
          -0.516798181431977,
          -0.36502243994507927
         ]
        },
        {
         "line": {
          "shape": "spline"
         },
         "marker": {
          "color": [
           1,
           2,
           2,
           3
          ]
         },
         "mode": "lines+markers",
         "text": [
          "Cluster: 1",
          "Cluster: 2",
          "Cluster: 2",
          "Cluster: 3"
         ],
         "type": "scatter",
         "x": [
          1.8993410301410434,
          5.116266863254456,
          4.179129985637596,
          5.08465281345391
         ],
         "y": [
          -0.5127477024952805,
          -0.1345060889296456,
          0.84734124759129,
          -0.34589245185274486
         ]
        },
        {
         "line": {
          "shape": "spline"
         },
         "marker": {
          "color": [
           5,
           5,
           4,
           5
          ]
         },
         "mode": "lines+markers",
         "text": [
          "Cluster: 5",
          "Cluster: 5",
          "Cluster: 4",
          "Cluster: 5"
         ],
         "type": "scatter",
         "x": [
          -2.74651675284246,
          -3.0906128321587287,
          -2.879817862422635,
          -2.961786903560159
         ],
         "y": [
          -0.9829907712624949,
          -1.124739498313356,
          -1.176083482011425,
          -1.1170162361709874
         ]
        },
        {
         "line": {
          "shape": "spline"
         },
         "marker": {
          "color": [
           4,
           4,
           5,
           4
          ]
         },
         "mode": "lines+markers",
         "text": [
          "Cluster: 4",
          "Cluster: 4",
          "Cluster: 5",
          "Cluster: 4"
         ],
         "type": "scatter",
         "x": [
          -2.688268354782548,
          -2.4896289053073892,
          -2.850679477668891,
          -2.2932664244856644
         ],
         "y": [
          -1.298783305879643,
          -1.276831019440626,
          -1.1634076132850266,
          -0.8436734938559751
         ]
        },
        {
         "line": {
          "shape": "spline"
         },
         "marker": {
          "color": [
           3,
           3,
           3,
           4
          ]
         },
         "mode": "lines+markers",
         "text": [
          "Cluster: 3",
          "Cluster: 3",
          "Cluster: 3",
          "Cluster: 4"
         ],
         "type": "scatter",
         "x": [
          0.9203171610283879,
          0.5558959473234106,
          0.42294609819288137,
          -0.4947343705151465
         ],
         "y": [
          -3.699403102878939,
          -3.5065998536077325,
          -4.302234458313935,
          -4.733509518498092
         ]
        },
        {
         "line": {
          "shape": "spline"
         },
         "marker": {
          "color": [
           1,
           1,
           3,
           1
          ]
         },
         "mode": "lines+markers",
         "text": [
          "Cluster: 1",
          "Cluster: 1",
          "Cluster: 3",
          "Cluster: 1"
         ],
         "type": "scatter",
         "x": [
          1.1130723080106295,
          1.1130723080106295,
          5.497824268251537,
          1.1130723080106295
         ],
         "y": [
          -0.7346325781588989,
          -0.7346325781588989,
          -2.484264519829193,
          -0.7346325781588989
         ]
        },
        {
         "line": {
          "shape": "spline"
         },
         "marker": {
          "color": [
           0,
           0,
           0,
           0
          ]
         },
         "mode": "lines+markers",
         "text": [
          "Cluster: 0",
          "Cluster: 0",
          "Cluster: 0",
          "Cluster: 0"
         ],
         "type": "scatter",
         "x": [
          -1.9500505384461058,
          -2.4738883197301345,
          -2.234135346259603,
          -2.758863381099972
         ],
         "y": [
          2.5573888426266613,
          2.1110682691148464,
          1.7588240909563098,
          1.5645649659688614
         ]
        },
        {
         "line": {
          "shape": "spline"
         },
         "marker": {
          "color": [
           1,
           1,
           4,
           1
          ]
         },
         "mode": "lines+markers",
         "text": [
          "Cluster: 1",
          "Cluster: 1",
          "Cluster: 4",
          "Cluster: 1"
         ],
         "type": "scatter",
         "x": [
          -0.5420074591977754,
          0.809394194583546,
          -0.7233150345713545,
          -0.011049842976717903
         ],
         "y": [
          -1.095062313174023,
          0.24932153829422,
          -0.9047613108903081,
          -0.4829800895673723
         ]
        },
        {
         "line": {
          "shape": "spline"
         },
         "marker": {
          "color": [
           2,
           3,
           2,
           2
          ]
         },
         "mode": "lines+markers",
         "text": [
          "Cluster: 2",
          "Cluster: 3",
          "Cluster: 2",
          "Cluster: 2"
         ],
         "type": "scatter",
         "x": [
          3.8491501581975274,
          3.3235153950697214,
          3.9166317092003813,
          4.153205208367059
         ],
         "y": [
          -0.39496234742206054,
          -0.5497128835254506,
          -0.4271872517294899,
          0.09643588415665019
         ]
        },
        {
         "line": {
          "shape": "spline"
         },
         "marker": {
          "color": [
           3,
           3,
           3,
           2
          ]
         },
         "mode": "lines+markers",
         "text": [
          "Cluster: 3",
          "Cluster: 3",
          "Cluster: 3",
          "Cluster: 2"
         ],
         "type": "scatter",
         "x": [
          2.941526322255199,
          2.7779879546099715,
          2.5655437528510476,
          3.0417235438193573
         ],
         "y": [
          -0.635728155277811,
          -1.4053287473852696,
          -0.9725075596186024,
          -0.23264475473707932
         ]
        },
        {
         "line": {
          "shape": "spline"
         },
         "marker": {
          "color": [
           0,
           0,
           0,
           0
          ]
         },
         "mode": "lines+markers",
         "text": [
          "Cluster: 0",
          "Cluster: 0",
          "Cluster: 0",
          "Cluster: 0"
         ],
         "type": "scatter",
         "x": [
          -1.7728082298564412,
          -1.365597703699341,
          -1.8261834237840642,
          -1.4481951743576376
         ],
         "y": [
          1.3813553117919968,
          1.723160480550522,
          1.1954020009456114,
          1.519161865794156
         ]
        },
        {
         "line": {
          "shape": "spline"
         },
         "marker": {
          "color": [
           2,
           2,
           2,
           3
          ]
         },
         "mode": "lines+markers",
         "text": [
          "Cluster: 2",
          "Cluster: 2",
          "Cluster: 2",
          "Cluster: 3"
         ],
         "type": "scatter",
         "x": [
          5.979863861198508,
          5.879210059078695,
          5.499478879240312,
          5.398916359697401
         ],
         "y": [
          -0.7126538769397461,
          -1.0068191168917462,
          -0.9110248930626348,
          -0.9949669005628041
         ]
        },
        {
         "line": {
          "shape": "spline"
         },
         "marker": {
          "color": [
           0,
           0,
           0,
           0
          ]
         },
         "mode": "lines+markers",
         "text": [
          "Cluster: 0",
          "Cluster: 0",
          "Cluster: 0",
          "Cluster: 0"
         ],
         "type": "scatter",
         "x": [
          -2.1782981192887947,
          -2.1746265401931613,
          -2.0592533216601647,
          -2.109283582793942
         ],
         "y": [
          1.8845268813015421,
          1.8944016128453411,
          2.1750649778001714,
          1.1973632696298242
         ]
        },
        {
         "line": {
          "shape": "spline"
         },
         "marker": {
          "color": [
           4,
           5,
           4,
           4
          ]
         },
         "mode": "lines+markers",
         "text": [
          "Cluster: 4",
          "Cluster: 5",
          "Cluster: 4",
          "Cluster: 4"
         ],
         "type": "scatter",
         "x": [
          -3.4661026478289667,
          -4.12358018781588,
          -2.4308269293521723,
          -3.125668125010345
         ],
         "y": [
          -2.8407777039975852,
          -3.187176272890868,
          -2.5249870700511035,
          -2.912448612656788
         ]
        },
        {
         "line": {
          "shape": "spline"
         },
         "marker": {
          "color": [
           4,
           4,
           4,
           1
          ]
         },
         "mode": "lines+markers",
         "text": [
          "Cluster: 4",
          "Cluster: 4",
          "Cluster: 4",
          "Cluster: 1"
         ],
         "type": "scatter",
         "x": [
          -0.3927040094797971,
          -0.15680425009604926,
          -0.46092521130469993,
          0.22278393167814142
         ],
         "y": [
          -1.716850421114505,
          -1.776878988244571,
          -1.8978985416784981,
          -0.7638538548551954
         ]
        },
        {
         "line": {
          "shape": "spline"
         },
         "marker": {
          "color": [
           5,
           5,
           5,
           0
          ]
         },
         "mode": "lines+markers",
         "text": [
          "Cluster: 5",
          "Cluster: 5",
          "Cluster: 5",
          "Cluster: 0"
         ],
         "type": "scatter",
         "x": [
          -2.1533099472854786,
          -2.20408159430394,
          -1.6599367399635192,
          -1.6387393340833434
         ],
         "y": [
          0.8827578774596635,
          0.9844957730861617,
          0.6778933544862848,
          1.449426942624419
         ]
        },
        {
         "line": {
          "shape": "spline"
         },
         "marker": {
          "color": [
           1,
           2,
           1,
           2
          ]
         },
         "mode": "lines+markers",
         "text": [
          "Cluster: 1",
          "Cluster: 2",
          "Cluster: 1",
          "Cluster: 2"
         ],
         "type": "scatter",
         "x": [
          1.7641487444371395,
          4.2652146591725995,
          1.834768955714817,
          5.491119730491759
         ],
         "y": [
          0.8240908604718051,
          1.2632939619716304,
          0.6287763757571595,
          2.4558304560310225
         ]
        },
        {
         "line": {
          "shape": "spline"
         },
         "marker": {
          "color": [
           2,
           2,
           1,
           2
          ]
         },
         "mode": "lines+markers",
         "text": [
          "Cluster: 2",
          "Cluster: 2",
          "Cluster: 1",
          "Cluster: 2"
         ],
         "type": "scatter",
         "x": [
          4.052262244274939,
          2.69854232548001,
          0.4284210463788959,
          2.6918001617880707
         ],
         "y": [
          6.390601391462422,
          4.0965723552046995,
          1.4772996290745686,
          2.303668761890835
         ]
        },
        {
         "line": {
          "shape": "spline"
         },
         "marker": {
          "color": [
           0,
           0,
           0,
           0
          ]
         },
         "mode": "lines+markers",
         "text": [
          "Cluster: 0",
          "Cluster: 0",
          "Cluster: 0",
          "Cluster: 0"
         ],
         "type": "scatter",
         "x": [
          -2.439126224198962,
          -3.688587458956963,
          -2.240760979496467,
          -3.0319573925851415
         ],
         "y": [
          1.1874679879870615,
          1.509324766607667,
          1.5663557533664931,
          1.5451377081532347
         ]
        }
       ],
       "layout": {
        "legend": {
         "font": {
          "size": 12
         },
         "title": {
          "font": {
           "size": 16
          },
          "text": "Cluster"
         }
        },
        "showlegend": true,
        "template": {
         "data": {
          "bar": [
           {
            "error_x": {
             "color": "#2a3f5f"
            },
            "error_y": {
             "color": "#2a3f5f"
            },
            "marker": {
             "line": {
              "color": "#E5ECF6",
              "width": 0.5
             },
             "pattern": {
              "fillmode": "overlay",
              "size": 10,
              "solidity": 0.2
             }
            },
            "type": "bar"
           }
          ],
          "barpolar": [
           {
            "marker": {
             "line": {
              "color": "#E5ECF6",
              "width": 0.5
             },
             "pattern": {
              "fillmode": "overlay",
              "size": 10,
              "solidity": 0.2
             }
            },
            "type": "barpolar"
           }
          ],
          "carpet": [
           {
            "aaxis": {
             "endlinecolor": "#2a3f5f",
             "gridcolor": "white",
             "linecolor": "white",
             "minorgridcolor": "white",
             "startlinecolor": "#2a3f5f"
            },
            "baxis": {
             "endlinecolor": "#2a3f5f",
             "gridcolor": "white",
             "linecolor": "white",
             "minorgridcolor": "white",
             "startlinecolor": "#2a3f5f"
            },
            "type": "carpet"
           }
          ],
          "choropleth": [
           {
            "colorbar": {
             "outlinewidth": 0,
             "ticks": ""
            },
            "type": "choropleth"
           }
          ],
          "contour": [
           {
            "colorbar": {
             "outlinewidth": 0,
             "ticks": ""
            },
            "colorscale": [
             [
              0,
              "#0d0887"
             ],
             [
              0.1111111111111111,
              "#46039f"
             ],
             [
              0.2222222222222222,
              "#7201a8"
             ],
             [
              0.3333333333333333,
              "#9c179e"
             ],
             [
              0.4444444444444444,
              "#bd3786"
             ],
             [
              0.5555555555555556,
              "#d8576b"
             ],
             [
              0.6666666666666666,
              "#ed7953"
             ],
             [
              0.7777777777777778,
              "#fb9f3a"
             ],
             [
              0.8888888888888888,
              "#fdca26"
             ],
             [
              1,
              "#f0f921"
             ]
            ],
            "type": "contour"
           }
          ],
          "contourcarpet": [
           {
            "colorbar": {
             "outlinewidth": 0,
             "ticks": ""
            },
            "type": "contourcarpet"
           }
          ],
          "heatmap": [
           {
            "colorbar": {
             "outlinewidth": 0,
             "ticks": ""
            },
            "colorscale": [
             [
              0,
              "#0d0887"
             ],
             [
              0.1111111111111111,
              "#46039f"
             ],
             [
              0.2222222222222222,
              "#7201a8"
             ],
             [
              0.3333333333333333,
              "#9c179e"
             ],
             [
              0.4444444444444444,
              "#bd3786"
             ],
             [
              0.5555555555555556,
              "#d8576b"
             ],
             [
              0.6666666666666666,
              "#ed7953"
             ],
             [
              0.7777777777777778,
              "#fb9f3a"
             ],
             [
              0.8888888888888888,
              "#fdca26"
             ],
             [
              1,
              "#f0f921"
             ]
            ],
            "type": "heatmap"
           }
          ],
          "heatmapgl": [
           {
            "colorbar": {
             "outlinewidth": 0,
             "ticks": ""
            },
            "colorscale": [
             [
              0,
              "#0d0887"
             ],
             [
              0.1111111111111111,
              "#46039f"
             ],
             [
              0.2222222222222222,
              "#7201a8"
             ],
             [
              0.3333333333333333,
              "#9c179e"
             ],
             [
              0.4444444444444444,
              "#bd3786"
             ],
             [
              0.5555555555555556,
              "#d8576b"
             ],
             [
              0.6666666666666666,
              "#ed7953"
             ],
             [
              0.7777777777777778,
              "#fb9f3a"
             ],
             [
              0.8888888888888888,
              "#fdca26"
             ],
             [
              1,
              "#f0f921"
             ]
            ],
            "type": "heatmapgl"
           }
          ],
          "histogram": [
           {
            "marker": {
             "pattern": {
              "fillmode": "overlay",
              "size": 10,
              "solidity": 0.2
             }
            },
            "type": "histogram"
           }
          ],
          "histogram2d": [
           {
            "colorbar": {
             "outlinewidth": 0,
             "ticks": ""
            },
            "colorscale": [
             [
              0,
              "#0d0887"
             ],
             [
              0.1111111111111111,
              "#46039f"
             ],
             [
              0.2222222222222222,
              "#7201a8"
             ],
             [
              0.3333333333333333,
              "#9c179e"
             ],
             [
              0.4444444444444444,
              "#bd3786"
             ],
             [
              0.5555555555555556,
              "#d8576b"
             ],
             [
              0.6666666666666666,
              "#ed7953"
             ],
             [
              0.7777777777777778,
              "#fb9f3a"
             ],
             [
              0.8888888888888888,
              "#fdca26"
             ],
             [
              1,
              "#f0f921"
             ]
            ],
            "type": "histogram2d"
           }
          ],
          "histogram2dcontour": [
           {
            "colorbar": {
             "outlinewidth": 0,
             "ticks": ""
            },
            "colorscale": [
             [
              0,
              "#0d0887"
             ],
             [
              0.1111111111111111,
              "#46039f"
             ],
             [
              0.2222222222222222,
              "#7201a8"
             ],
             [
              0.3333333333333333,
              "#9c179e"
             ],
             [
              0.4444444444444444,
              "#bd3786"
             ],
             [
              0.5555555555555556,
              "#d8576b"
             ],
             [
              0.6666666666666666,
              "#ed7953"
             ],
             [
              0.7777777777777778,
              "#fb9f3a"
             ],
             [
              0.8888888888888888,
              "#fdca26"
             ],
             [
              1,
              "#f0f921"
             ]
            ],
            "type": "histogram2dcontour"
           }
          ],
          "mesh3d": [
           {
            "colorbar": {
             "outlinewidth": 0,
             "ticks": ""
            },
            "type": "mesh3d"
           }
          ],
          "parcoords": [
           {
            "line": {
             "colorbar": {
              "outlinewidth": 0,
              "ticks": ""
             }
            },
            "type": "parcoords"
           }
          ],
          "pie": [
           {
            "automargin": true,
            "type": "pie"
           }
          ],
          "scatter": [
           {
            "fillpattern": {
             "fillmode": "overlay",
             "size": 10,
             "solidity": 0.2
            },
            "type": "scatter"
           }
          ],
          "scatter3d": [
           {
            "line": {
             "colorbar": {
              "outlinewidth": 0,
              "ticks": ""
             }
            },
            "marker": {
             "colorbar": {
              "outlinewidth": 0,
              "ticks": ""
             }
            },
            "type": "scatter3d"
           }
          ],
          "scattercarpet": [
           {
            "marker": {
             "colorbar": {
              "outlinewidth": 0,
              "ticks": ""
             }
            },
            "type": "scattercarpet"
           }
          ],
          "scattergeo": [
           {
            "marker": {
             "colorbar": {
              "outlinewidth": 0,
              "ticks": ""
             }
            },
            "type": "scattergeo"
           }
          ],
          "scattergl": [
           {
            "marker": {
             "colorbar": {
              "outlinewidth": 0,
              "ticks": ""
             }
            },
            "type": "scattergl"
           }
          ],
          "scattermapbox": [
           {
            "marker": {
             "colorbar": {
              "outlinewidth": 0,
              "ticks": ""
             }
            },
            "type": "scattermapbox"
           }
          ],
          "scatterpolar": [
           {
            "marker": {
             "colorbar": {
              "outlinewidth": 0,
              "ticks": ""
             }
            },
            "type": "scatterpolar"
           }
          ],
          "scatterpolargl": [
           {
            "marker": {
             "colorbar": {
              "outlinewidth": 0,
              "ticks": ""
             }
            },
            "type": "scatterpolargl"
           }
          ],
          "scatterternary": [
           {
            "marker": {
             "colorbar": {
              "outlinewidth": 0,
              "ticks": ""
             }
            },
            "type": "scatterternary"
           }
          ],
          "surface": [
           {
            "colorbar": {
             "outlinewidth": 0,
             "ticks": ""
            },
            "colorscale": [
             [
              0,
              "#0d0887"
             ],
             [
              0.1111111111111111,
              "#46039f"
             ],
             [
              0.2222222222222222,
              "#7201a8"
             ],
             [
              0.3333333333333333,
              "#9c179e"
             ],
             [
              0.4444444444444444,
              "#bd3786"
             ],
             [
              0.5555555555555556,
              "#d8576b"
             ],
             [
              0.6666666666666666,
              "#ed7953"
             ],
             [
              0.7777777777777778,
              "#fb9f3a"
             ],
             [
              0.8888888888888888,
              "#fdca26"
             ],
             [
              1,
              "#f0f921"
             ]
            ],
            "type": "surface"
           }
          ],
          "table": [
           {
            "cells": {
             "fill": {
              "color": "#EBF0F8"
             },
             "line": {
              "color": "white"
             }
            },
            "header": {
             "fill": {
              "color": "#C8D4E3"
             },
             "line": {
              "color": "white"
             }
            },
            "type": "table"
           }
          ]
         },
         "layout": {
          "annotationdefaults": {
           "arrowcolor": "#2a3f5f",
           "arrowhead": 0,
           "arrowwidth": 1
          },
          "autotypenumbers": "strict",
          "coloraxis": {
           "colorbar": {
            "outlinewidth": 0,
            "ticks": ""
           }
          },
          "colorscale": {
           "diverging": [
            [
             0,
             "#8e0152"
            ],
            [
             0.1,
             "#c51b7d"
            ],
            [
             0.2,
             "#de77ae"
            ],
            [
             0.3,
             "#f1b6da"
            ],
            [
             0.4,
             "#fde0ef"
            ],
            [
             0.5,
             "#f7f7f7"
            ],
            [
             0.6,
             "#e6f5d0"
            ],
            [
             0.7,
             "#b8e186"
            ],
            [
             0.8,
             "#7fbc41"
            ],
            [
             0.9,
             "#4d9221"
            ],
            [
             1,
             "#276419"
            ]
           ],
           "sequential": [
            [
             0,
             "#0d0887"
            ],
            [
             0.1111111111111111,
             "#46039f"
            ],
            [
             0.2222222222222222,
             "#7201a8"
            ],
            [
             0.3333333333333333,
             "#9c179e"
            ],
            [
             0.4444444444444444,
             "#bd3786"
            ],
            [
             0.5555555555555556,
             "#d8576b"
            ],
            [
             0.6666666666666666,
             "#ed7953"
            ],
            [
             0.7777777777777778,
             "#fb9f3a"
            ],
            [
             0.8888888888888888,
             "#fdca26"
            ],
            [
             1,
             "#f0f921"
            ]
           ],
           "sequentialminus": [
            [
             0,
             "#0d0887"
            ],
            [
             0.1111111111111111,
             "#46039f"
            ],
            [
             0.2222222222222222,
             "#7201a8"
            ],
            [
             0.3333333333333333,
             "#9c179e"
            ],
            [
             0.4444444444444444,
             "#bd3786"
            ],
            [
             0.5555555555555556,
             "#d8576b"
            ],
            [
             0.6666666666666666,
             "#ed7953"
            ],
            [
             0.7777777777777778,
             "#fb9f3a"
            ],
            [
             0.8888888888888888,
             "#fdca26"
            ],
            [
             1,
             "#f0f921"
            ]
           ]
          },
          "colorway": [
           "#636efa",
           "#EF553B",
           "#00cc96",
           "#ab63fa",
           "#FFA15A",
           "#19d3f3",
           "#FF6692",
           "#B6E880",
           "#FF97FF",
           "#FECB52"
          ],
          "font": {
           "color": "#2a3f5f"
          },
          "geo": {
           "bgcolor": "white",
           "lakecolor": "white",
           "landcolor": "#E5ECF6",
           "showlakes": true,
           "showland": true,
           "subunitcolor": "white"
          },
          "hoverlabel": {
           "align": "left"
          },
          "hovermode": "closest",
          "mapbox": {
           "style": "light"
          },
          "paper_bgcolor": "white",
          "plot_bgcolor": "#E5ECF6",
          "polar": {
           "angularaxis": {
            "gridcolor": "white",
            "linecolor": "white",
            "ticks": ""
           },
           "bgcolor": "#E5ECF6",
           "radialaxis": {
            "gridcolor": "white",
            "linecolor": "white",
            "ticks": ""
           }
          },
          "scene": {
           "xaxis": {
            "backgroundcolor": "#E5ECF6",
            "gridcolor": "white",
            "gridwidth": 2,
            "linecolor": "white",
            "showbackground": true,
            "ticks": "",
            "zerolinecolor": "white"
           },
           "yaxis": {
            "backgroundcolor": "#E5ECF6",
            "gridcolor": "white",
            "gridwidth": 2,
            "linecolor": "white",
            "showbackground": true,
            "ticks": "",
            "zerolinecolor": "white"
           },
           "zaxis": {
            "backgroundcolor": "#E5ECF6",
            "gridcolor": "white",
            "gridwidth": 2,
            "linecolor": "white",
            "showbackground": true,
            "ticks": "",
            "zerolinecolor": "white"
           }
          },
          "shapedefaults": {
           "line": {
            "color": "#2a3f5f"
           }
          },
          "ternary": {
           "aaxis": {
            "gridcolor": "white",
            "linecolor": "white",
            "ticks": ""
           },
           "baxis": {
            "gridcolor": "white",
            "linecolor": "white",
            "ticks": ""
           },
           "bgcolor": "#E5ECF6",
           "caxis": {
            "gridcolor": "white",
            "linecolor": "white",
            "ticks": ""
           }
          },
          "title": {
           "x": 0.05
          },
          "xaxis": {
           "automargin": true,
           "gridcolor": "white",
           "linecolor": "white",
           "ticks": "",
           "title": {
            "standoff": 15
           },
           "zerolinecolor": "white",
           "zerolinewidth": 2
          },
          "yaxis": {
           "automargin": true,
           "gridcolor": "white",
           "linecolor": "white",
           "ticks": "",
           "title": {
            "standoff": 15
           },
           "zerolinecolor": "white",
           "zerolinewidth": 2
          }
         }
        },
        "title": {
         "text": "2D PCA Plot of User Data by Week with Temporal Evolution"
        },
        "xaxis": {
         "title": {
          "text": "PCA1"
         }
        },
        "yaxis": {
         "title": {
          "text": "PCA2"
         }
        }
       }
      }
     },
     "metadata": {},
     "output_type": "display_data"
    }
   ],
   "source": [
    "# Select a subset of unique CloudId values (e.g., the first 30 unique CloudIds)\n",
    "import plotly.graph_objects as go\n",
    "unique_cloud_ids = reduced_bio['CloudId'].unique()[:30]\n",
    "\n",
    "# Initialize a new figure\n",
    "fig = go.Figure()\n",
    "\n",
    "# Iterate over each selected CloudId and add a trace for each\n",
    "for cloud_id in unique_cloud_ids:\n",
    "    user_data = reduced_bio[reduced_bio['CloudId'] == cloud_id]\n",
    "    fig.add_trace(go.Scatter(\n",
    "        x=user_data['PCA1'],\n",
    "        y=user_data['PCA2'],\n",
    "        mode='lines+markers',\n",
    "        line_shape='spline',\n",
    "        text=user_data.apply(lambda row: '<br>'.join([f'{col}: {row[col]}' for col in ['Cluster']]), axis=1),\n",
    "        # text=user_data.apply(lambda row: '<br>'.join([f'{col}: {row[col]}' for col in ['Weight', 'Basal Metabolic Rate', 'Basal Metabolic Rate Score', 'Degree Of Obesity Perc', 'Cluster']]), axis=1),\n",
    "        # hoverinfo='text',\n",
    "        marker_color=user_data['Cluster'],  # Adjusted marker size and color by cluster\n",
    "        line=dict(shape='spline'),\n",
    "    ))\n",
    "\n",
    "fig.update_layout(\n",
    "    title='2D PCA Plot of User Data by Week with Temporal Evolution',\n",
    "    xaxis_title='PCA1',\n",
    "    yaxis_title='PCA2',\n",
    "    showlegend=True\n",
    ")\n",
    "\n",
    "# Add a legend to the plot\n",
    "fig.update_layout(\n",
    "    legend_title_text='Cluster',\n",
    "    legend_title_font_size=16,\n",
    "    legend_font_size=12\n",
    ")\n",
    "\n",
    "fig.show()"
   ]
  },
  {
   "cell_type": "markdown",
   "metadata": {},
   "source": [
    "### Algorithm for clusters background "
   ]
  },
  {
   "cell_type": "code",
   "execution_count": 26,
   "metadata": {},
   "outputs": [
    {
     "data": {
      "application/vnd.plotly.v1+json": {
       "config": {
        "plotlyServerURL": "https://plot.ly"
       },
       "data": [
        {
         "fill": "toself",
         "fillcolor": "hsl(0, 70%, 50%)",
         "hoverinfo": "skip",
         "line": {
          "color": "rgba(0,0,0,0)"
         },
         "showlegend": false,
         "type": "scatter",
         "x": [
          -2.506613948763201,
          -2.7901022417400725,
          -2.641948999885167,
          -1.5568005283287039
         ],
         "y": [
          1.418269956037237,
          1.5637010105684452,
          1.3614035618257576,
          0.44045094159862114
         ]
        },
        {
         "fill": "toself",
         "fillcolor": "hsl(40, 70%, 50%)",
         "hoverinfo": "skip",
         "line": {
          "color": "rgba(0,0,0,0)"
         },
         "showlegend": false,
         "type": "scatter",
         "x": [
          1.2087283537135862,
          -1.504023051482805,
          0.23381135742555376,
          0.7966009373750039
         ],
         "y": [
          1.0593442408944225,
          -0.1259794705760984,
          -1.4118064012263452,
          -0.912881771739591
         ]
        },
        {
         "fill": "toself",
         "fillcolor": "hsl(80, 70%, 50%)",
         "hoverinfo": "skip",
         "line": {
          "color": "rgba(0,0,0,0)"
         },
         "showlegend": false,
         "type": "scatter",
         "x": [
          5.175923764851593,
          2.2936389895141964,
          4.84326606071646
         ],
         "y": [
          -0.2895155757418676,
          3.707220365116916,
          -0.6787905702892858
         ]
        },
        {
         "fill": "toself",
         "fillcolor": "hsl(120, 70%, 50%)",
         "hoverinfo": "skip",
         "line": {
          "color": "rgba(0,0,0,0)"
         },
         "showlegend": false,
         "type": "scatter",
         "x": [
          4.719832436265401,
          2.793684407885067,
          4.2304486727267925
         ],
         "y": [
          -0.854734233735862,
          -0.04963011934351201,
          -1.4012415384283616
         ]
        },
        {
         "fill": "toself",
         "fillcolor": "hsl(160, 70%, 50%)",
         "hoverinfo": "skip",
         "line": {
          "color": "rgba(0,0,0,0)"
         },
         "showlegend": false,
         "type": "scatter",
         "x": [
          -0.6664360225823783,
          0.06297687779650764,
          -0.007740101758613995,
          -2.2326157799685564,
          -2.502472777154157,
          -2.6590338003467906,
          -2.459797199020339
         ],
         "y": [
          -2.0875178552705878,
          -1.6878109007352449,
          -1.479715892995438,
          -0.6323565677869798,
          -0.8839111722702927,
          -1.1613546595701403,
          -1.3011906747981004
         ]
        },
        {
         "fill": "toself",
         "fillcolor": "hsl(200, 70%, 50%)",
         "hoverinfo": "skip",
         "line": {
          "color": "rgba(0,0,0,0)"
         },
         "showlegend": false,
         "type": "scatter",
         "x": [
          -3.940403249015623,
          -3.0129075239476273,
          -2.017086434462901,
          -1.8333760864435142,
          -1.7896868752064756,
          -2.0076830791198153,
          -3.048804602775785
         ],
         "y": [
          0.8509821034635646,
          -0.5765009988305069,
          -0.27887505905923177,
          0.16218094931429172,
          0.28689517967304884,
          0.4388180960122351,
          0.8568091040520883
         ]
        },
        {
         "line": {
          "shape": "spline"
         },
         "marker": {
          "color": [
           0,
           0,
           2,
           0
          ],
          "colorscale": [
           [
            0,
            "#440154"
           ],
           [
            0.1111111111111111,
            "#482878"
           ],
           [
            0.2222222222222222,
            "#3e4989"
           ],
           [
            0.3333333333333333,
            "#31688e"
           ],
           [
            0.4444444444444444,
            "#26828e"
           ],
           [
            0.5555555555555556,
            "#1f9e89"
           ],
           [
            0.6666666666666666,
            "#35b779"
           ],
           [
            0.7777777777777778,
            "#6ece58"
           ],
           [
            0.8888888888888888,
            "#b5de2b"
           ],
           [
            1,
            "#fde725"
           ]
          ],
          "size": 2
         },
         "mode": "lines+markers",
         "text": [
          "Cluster: 0",
          "Cluster: 0",
          "Cluster: 2",
          "Cluster: 0"
         ],
         "type": "scatter",
         "x": [
          -2.7901022417400725,
          -2.506613948763201,
          2.2936389895141964,
          -2.641948999885167
         ],
         "y": [
          1.5637010105684452,
          1.418269956037237,
          3.707220365116916,
          1.3614035618257576
         ]
        },
        {
         "line": {
          "shape": "spline"
         },
         "marker": {
          "color": [
           5,
           4,
           4,
           4
          ],
          "colorscale": [
           [
            0,
            "#440154"
           ],
           [
            0.1111111111111111,
            "#482878"
           ],
           [
            0.2222222222222222,
            "#3e4989"
           ],
           [
            0.3333333333333333,
            "#31688e"
           ],
           [
            0.4444444444444444,
            "#26828e"
           ],
           [
            0.5555555555555556,
            "#1f9e89"
           ],
           [
            0.6666666666666666,
            "#35b779"
           ],
           [
            0.7777777777777778,
            "#6ece58"
           ],
           [
            0.8888888888888888,
            "#b5de2b"
           ],
           [
            1,
            "#fde725"
           ]
          ],
          "size": 2
         },
         "mode": "lines+markers",
         "text": [
          "Cluster: 5",
          "Cluster: 4",
          "Cluster: 4",
          "Cluster: 4"
         ],
         "type": "scatter",
         "x": [
          -3.0129075239476273,
          -2.502472777154157,
          -2.0175891134972836,
          -2.6590338003467906
         ],
         "y": [
          -0.5765009988305069,
          -0.8839111722702927,
          -1.0145832836051605,
          -1.1613546595701403
         ]
        },
        {
         "line": {
          "shape": "spline"
         },
         "marker": {
          "color": [
           0,
           5,
           5,
           5
          ],
          "colorscale": [
           [
            0,
            "#440154"
           ],
           [
            0.1111111111111111,
            "#482878"
           ],
           [
            0.2222222222222222,
            "#3e4989"
           ],
           [
            0.3333333333333333,
            "#31688e"
           ],
           [
            0.4444444444444444,
            "#26828e"
           ],
           [
            0.5555555555555556,
            "#1f9e89"
           ],
           [
            0.6666666666666666,
            "#35b779"
           ],
           [
            0.7777777777777778,
            "#6ece58"
           ],
           [
            0.8888888888888888,
            "#b5de2b"
           ],
           [
            1,
            "#fde725"
           ]
          ],
          "size": 2
         },
         "mode": "lines+markers",
         "text": [
          "Cluster: 0",
          "Cluster: 5",
          "Cluster: 5",
          "Cluster: 5"
         ],
         "type": "scatter",
         "x": [
          -1.5568005283287039,
          -1.7896868752064756,
          -2.5765731687999054,
          -3.1604053269501455
         ],
         "y": [
          0.44045094159862114,
          0.28689517967304884,
          0.35385091774573296,
          0.6133729635482086
         ]
        },
        {
         "line": {
          "shape": "spline"
         },
         "marker": {
          "color": [
           5,
           5,
           5,
           5
          ],
          "colorscale": [
           [
            0,
            "#440154"
           ],
           [
            0.1111111111111111,
            "#482878"
           ],
           [
            0.2222222222222222,
            "#3e4989"
           ],
           [
            0.3333333333333333,
            "#31688e"
           ],
           [
            0.4444444444444444,
            "#26828e"
           ],
           [
            0.5555555555555556,
            "#1f9e89"
           ],
           [
            0.6666666666666666,
            "#35b779"
           ],
           [
            0.7777777777777778,
            "#6ece58"
           ],
           [
            0.8888888888888888,
            "#b5de2b"
           ],
           [
            1,
            "#fde725"
           ]
          ],
          "size": 2
         },
         "mode": "lines+markers",
         "text": [
          "Cluster: 5",
          "Cluster: 5",
          "Cluster: 5",
          "Cluster: 5"
         ],
         "type": "scatter",
         "x": [
          -1.8333760864435142,
          -2.017086434462901,
          -2.0076830791198153,
          -2.126814513490319
         ],
         "y": [
          0.16218094931429172,
          -0.27887505905923177,
          0.4388180960122351,
          0.42105267876267166
         ]
        },
        {
         "line": {
          "shape": "spline"
         },
         "marker": {
          "color": [
           4,
           4,
           3,
           4
          ],
          "colorscale": [
           [
            0,
            "#440154"
           ],
           [
            0.1111111111111111,
            "#482878"
           ],
           [
            0.2222222222222222,
            "#3e4989"
           ],
           [
            0.3333333333333333,
            "#31688e"
           ],
           [
            0.4444444444444444,
            "#26828e"
           ],
           [
            0.5555555555555556,
            "#1f9e89"
           ],
           [
            0.6666666666666666,
            "#35b779"
           ],
           [
            0.7777777777777778,
            "#6ece58"
           ],
           [
            0.8888888888888888,
            "#b5de2b"
           ],
           [
            1,
            "#fde725"
           ]
          ],
          "size": 2
         },
         "mode": "lines+markers",
         "text": [
          "Cluster: 4",
          "Cluster: 4",
          "Cluster: 3",
          "Cluster: 4"
         ],
         "type": "scatter",
         "x": [
          -0.6664360225823783,
          -1.2501470236686352,
          2.793684407885067,
          -0.059924433108662294
         ],
         "y": [
          -2.0875178552705878,
          -1.640922068630296,
          -0.04963011934351201,
          -1.6395090623212254
         ]
        },
        {
         "line": {
          "shape": "spline"
         },
         "marker": {
          "color": [
           4,
           5,
           1,
           4
          ],
          "colorscale": [
           [
            0,
            "#440154"
           ],
           [
            0.1111111111111111,
            "#482878"
           ],
           [
            0.2222222222222222,
            "#3e4989"
           ],
           [
            0.3333333333333333,
            "#31688e"
           ],
           [
            0.4444444444444444,
            "#26828e"
           ],
           [
            0.5555555555555556,
            "#1f9e89"
           ],
           [
            0.6666666666666666,
            "#35b779"
           ],
           [
            0.7777777777777778,
            "#6ece58"
           ],
           [
            0.8888888888888888,
            "#b5de2b"
           ],
           [
            1,
            "#fde725"
           ]
          ],
          "size": 2
         },
         "mode": "lines+markers",
         "text": [
          "Cluster: 4",
          "Cluster: 5",
          "Cluster: 1",
          "Cluster: 4"
         ],
         "type": "scatter",
         "x": [
          -2.2326157799685564,
          -3.940403249015623,
          -1.504023051482805,
          -1.9501637357798811
         ],
         "y": [
          -0.6323565677869798,
          0.8509821034635646,
          -0.1259794705760984,
          -1.236548146490316
         ]
        },
        {
         "line": {
          "shape": "spline"
         },
         "marker": {
          "color": [
           5,
           5,
           5,
           5
          ],
          "colorscale": [
           [
            0,
            "#440154"
           ],
           [
            0.1111111111111111,
            "#482878"
           ],
           [
            0.2222222222222222,
            "#3e4989"
           ],
           [
            0.3333333333333333,
            "#31688e"
           ],
           [
            0.4444444444444444,
            "#26828e"
           ],
           [
            0.5555555555555556,
            "#1f9e89"
           ],
           [
            0.6666666666666666,
            "#35b779"
           ],
           [
            0.7777777777777778,
            "#6ece58"
           ],
           [
            0.8888888888888888,
            "#b5de2b"
           ],
           [
            1,
            "#fde725"
           ]
          ],
          "size": 2
         },
         "mode": "lines+markers",
         "text": [
          "Cluster: 5",
          "Cluster: 5",
          "Cluster: 5",
          "Cluster: 5"
         ],
         "type": "scatter",
         "x": [
          -3.300642508884547,
          -3.5264201913543034,
          -3.048804602775785,
          -3.2044381640362576
         ],
         "y": [
          0.3323910513395358,
          0.3635635159192144,
          0.8568091040520883,
          0.6275493668647674
         ]
        },
        {
         "line": {
          "shape": "spline"
         },
         "marker": {
          "color": [
           2,
           2,
           3,
           3
          ],
          "colorscale": [
           [
            0,
            "#440154"
           ],
           [
            0.1111111111111111,
            "#482878"
           ],
           [
            0.2222222222222222,
            "#3e4989"
           ],
           [
            0.3333333333333333,
            "#31688e"
           ],
           [
            0.4444444444444444,
            "#26828e"
           ],
           [
            0.5555555555555556,
            "#1f9e89"
           ],
           [
            0.6666666666666666,
            "#35b779"
           ],
           [
            0.7777777777777778,
            "#6ece58"
           ],
           [
            0.8888888888888888,
            "#b5de2b"
           ],
           [
            1,
            "#fde725"
           ]
          ],
          "size": 2
         },
         "mode": "lines+markers",
         "text": [
          "Cluster: 2",
          "Cluster: 2",
          "Cluster: 3",
          "Cluster: 3"
         ],
         "type": "scatter",
         "x": [
          4.84326606071646,
          5.175923764851593,
          4.719832436265401,
          4.2304486727267925
         ],
         "y": [
          -0.6787905702892858,
          -0.2895155757418676,
          -0.854734233735862,
          -1.4012415384283616
         ]
        },
        {
         "line": {
          "shape": "spline"
         },
         "marker": {
          "color": [
           4,
           4,
           1,
           1
          ],
          "colorscale": [
           [
            0,
            "#440154"
           ],
           [
            0.1111111111111111,
            "#482878"
           ],
           [
            0.2222222222222222,
            "#3e4989"
           ],
           [
            0.3333333333333333,
            "#31688e"
           ],
           [
            0.4444444444444444,
            "#26828e"
           ],
           [
            0.5555555555555556,
            "#1f9e89"
           ],
           [
            0.6666666666666666,
            "#35b779"
           ],
           [
            0.7777777777777778,
            "#6ece58"
           ],
           [
            0.8888888888888888,
            "#b5de2b"
           ],
           [
            1,
            "#fde725"
           ]
          ],
          "size": 2
         },
         "mode": "lines+markers",
         "text": [
          "Cluster: 4",
          "Cluster: 4",
          "Cluster: 1",
          "Cluster: 1"
         ],
         "type": "scatter",
         "x": [
          0.06297687779650764,
          -0.007740101758613995,
          0.7966009373750039,
          0.23381135742555376
         ],
         "y": [
          -1.6878109007352449,
          -1.479715892995438,
          -0.912881771739591,
          -1.4118064012263452
         ]
        },
        {
         "line": {
          "shape": "spline"
         },
         "marker": {
          "color": [
           4,
           1,
           4,
           1
          ],
          "colorscale": [
           [
            0,
            "#440154"
           ],
           [
            0.1111111111111111,
            "#482878"
           ],
           [
            0.2222222222222222,
            "#3e4989"
           ],
           [
            0.3333333333333333,
            "#31688e"
           ],
           [
            0.4444444444444444,
            "#26828e"
           ],
           [
            0.5555555555555556,
            "#1f9e89"
           ],
           [
            0.6666666666666666,
            "#35b779"
           ],
           [
            0.7777777777777778,
            "#6ece58"
           ],
           [
            0.8888888888888888,
            "#b5de2b"
           ],
           [
            1,
            "#fde725"
           ]
          ],
          "size": 2
         },
         "mode": "lines+markers",
         "text": [
          "Cluster: 4",
          "Cluster: 1",
          "Cluster: 4",
          "Cluster: 1"
         ],
         "type": "scatter",
         "x": [
          -2.268266774622385,
          1.2087283537135862,
          -2.459797199020339,
          1.2087283537135862
         ],
         "y": [
          -1.2329927557755955,
          1.0593442408944225,
          -1.3011906747981004,
          1.0593442408944225
         ]
        }
       ],
       "layout": {
        "legend": {
         "font": {
          "size": 12
         },
         "title": {
          "font": {
           "size": 16
          },
          "text": "Cluster"
         }
        },
        "showlegend": true,
        "template": {
         "data": {
          "bar": [
           {
            "error_x": {
             "color": "#2a3f5f"
            },
            "error_y": {
             "color": "#2a3f5f"
            },
            "marker": {
             "line": {
              "color": "#E5ECF6",
              "width": 0.5
             },
             "pattern": {
              "fillmode": "overlay",
              "size": 10,
              "solidity": 0.2
             }
            },
            "type": "bar"
           }
          ],
          "barpolar": [
           {
            "marker": {
             "line": {
              "color": "#E5ECF6",
              "width": 0.5
             },
             "pattern": {
              "fillmode": "overlay",
              "size": 10,
              "solidity": 0.2
             }
            },
            "type": "barpolar"
           }
          ],
          "carpet": [
           {
            "aaxis": {
             "endlinecolor": "#2a3f5f",
             "gridcolor": "white",
             "linecolor": "white",
             "minorgridcolor": "white",
             "startlinecolor": "#2a3f5f"
            },
            "baxis": {
             "endlinecolor": "#2a3f5f",
             "gridcolor": "white",
             "linecolor": "white",
             "minorgridcolor": "white",
             "startlinecolor": "#2a3f5f"
            },
            "type": "carpet"
           }
          ],
          "choropleth": [
           {
            "colorbar": {
             "outlinewidth": 0,
             "ticks": ""
            },
            "type": "choropleth"
           }
          ],
          "contour": [
           {
            "colorbar": {
             "outlinewidth": 0,
             "ticks": ""
            },
            "colorscale": [
             [
              0,
              "#0d0887"
             ],
             [
              0.1111111111111111,
              "#46039f"
             ],
             [
              0.2222222222222222,
              "#7201a8"
             ],
             [
              0.3333333333333333,
              "#9c179e"
             ],
             [
              0.4444444444444444,
              "#bd3786"
             ],
             [
              0.5555555555555556,
              "#d8576b"
             ],
             [
              0.6666666666666666,
              "#ed7953"
             ],
             [
              0.7777777777777778,
              "#fb9f3a"
             ],
             [
              0.8888888888888888,
              "#fdca26"
             ],
             [
              1,
              "#f0f921"
             ]
            ],
            "type": "contour"
           }
          ],
          "contourcarpet": [
           {
            "colorbar": {
             "outlinewidth": 0,
             "ticks": ""
            },
            "type": "contourcarpet"
           }
          ],
          "heatmap": [
           {
            "colorbar": {
             "outlinewidth": 0,
             "ticks": ""
            },
            "colorscale": [
             [
              0,
              "#0d0887"
             ],
             [
              0.1111111111111111,
              "#46039f"
             ],
             [
              0.2222222222222222,
              "#7201a8"
             ],
             [
              0.3333333333333333,
              "#9c179e"
             ],
             [
              0.4444444444444444,
              "#bd3786"
             ],
             [
              0.5555555555555556,
              "#d8576b"
             ],
             [
              0.6666666666666666,
              "#ed7953"
             ],
             [
              0.7777777777777778,
              "#fb9f3a"
             ],
             [
              0.8888888888888888,
              "#fdca26"
             ],
             [
              1,
              "#f0f921"
             ]
            ],
            "type": "heatmap"
           }
          ],
          "heatmapgl": [
           {
            "colorbar": {
             "outlinewidth": 0,
             "ticks": ""
            },
            "colorscale": [
             [
              0,
              "#0d0887"
             ],
             [
              0.1111111111111111,
              "#46039f"
             ],
             [
              0.2222222222222222,
              "#7201a8"
             ],
             [
              0.3333333333333333,
              "#9c179e"
             ],
             [
              0.4444444444444444,
              "#bd3786"
             ],
             [
              0.5555555555555556,
              "#d8576b"
             ],
             [
              0.6666666666666666,
              "#ed7953"
             ],
             [
              0.7777777777777778,
              "#fb9f3a"
             ],
             [
              0.8888888888888888,
              "#fdca26"
             ],
             [
              1,
              "#f0f921"
             ]
            ],
            "type": "heatmapgl"
           }
          ],
          "histogram": [
           {
            "marker": {
             "pattern": {
              "fillmode": "overlay",
              "size": 10,
              "solidity": 0.2
             }
            },
            "type": "histogram"
           }
          ],
          "histogram2d": [
           {
            "colorbar": {
             "outlinewidth": 0,
             "ticks": ""
            },
            "colorscale": [
             [
              0,
              "#0d0887"
             ],
             [
              0.1111111111111111,
              "#46039f"
             ],
             [
              0.2222222222222222,
              "#7201a8"
             ],
             [
              0.3333333333333333,
              "#9c179e"
             ],
             [
              0.4444444444444444,
              "#bd3786"
             ],
             [
              0.5555555555555556,
              "#d8576b"
             ],
             [
              0.6666666666666666,
              "#ed7953"
             ],
             [
              0.7777777777777778,
              "#fb9f3a"
             ],
             [
              0.8888888888888888,
              "#fdca26"
             ],
             [
              1,
              "#f0f921"
             ]
            ],
            "type": "histogram2d"
           }
          ],
          "histogram2dcontour": [
           {
            "colorbar": {
             "outlinewidth": 0,
             "ticks": ""
            },
            "colorscale": [
             [
              0,
              "#0d0887"
             ],
             [
              0.1111111111111111,
              "#46039f"
             ],
             [
              0.2222222222222222,
              "#7201a8"
             ],
             [
              0.3333333333333333,
              "#9c179e"
             ],
             [
              0.4444444444444444,
              "#bd3786"
             ],
             [
              0.5555555555555556,
              "#d8576b"
             ],
             [
              0.6666666666666666,
              "#ed7953"
             ],
             [
              0.7777777777777778,
              "#fb9f3a"
             ],
             [
              0.8888888888888888,
              "#fdca26"
             ],
             [
              1,
              "#f0f921"
             ]
            ],
            "type": "histogram2dcontour"
           }
          ],
          "mesh3d": [
           {
            "colorbar": {
             "outlinewidth": 0,
             "ticks": ""
            },
            "type": "mesh3d"
           }
          ],
          "parcoords": [
           {
            "line": {
             "colorbar": {
              "outlinewidth": 0,
              "ticks": ""
             }
            },
            "type": "parcoords"
           }
          ],
          "pie": [
           {
            "automargin": true,
            "type": "pie"
           }
          ],
          "scatter": [
           {
            "fillpattern": {
             "fillmode": "overlay",
             "size": 10,
             "solidity": 0.2
            },
            "type": "scatter"
           }
          ],
          "scatter3d": [
           {
            "line": {
             "colorbar": {
              "outlinewidth": 0,
              "ticks": ""
             }
            },
            "marker": {
             "colorbar": {
              "outlinewidth": 0,
              "ticks": ""
             }
            },
            "type": "scatter3d"
           }
          ],
          "scattercarpet": [
           {
            "marker": {
             "colorbar": {
              "outlinewidth": 0,
              "ticks": ""
             }
            },
            "type": "scattercarpet"
           }
          ],
          "scattergeo": [
           {
            "marker": {
             "colorbar": {
              "outlinewidth": 0,
              "ticks": ""
             }
            },
            "type": "scattergeo"
           }
          ],
          "scattergl": [
           {
            "marker": {
             "colorbar": {
              "outlinewidth": 0,
              "ticks": ""
             }
            },
            "type": "scattergl"
           }
          ],
          "scattermapbox": [
           {
            "marker": {
             "colorbar": {
              "outlinewidth": 0,
              "ticks": ""
             }
            },
            "type": "scattermapbox"
           }
          ],
          "scatterpolar": [
           {
            "marker": {
             "colorbar": {
              "outlinewidth": 0,
              "ticks": ""
             }
            },
            "type": "scatterpolar"
           }
          ],
          "scatterpolargl": [
           {
            "marker": {
             "colorbar": {
              "outlinewidth": 0,
              "ticks": ""
             }
            },
            "type": "scatterpolargl"
           }
          ],
          "scatterternary": [
           {
            "marker": {
             "colorbar": {
              "outlinewidth": 0,
              "ticks": ""
             }
            },
            "type": "scatterternary"
           }
          ],
          "surface": [
           {
            "colorbar": {
             "outlinewidth": 0,
             "ticks": ""
            },
            "colorscale": [
             [
              0,
              "#0d0887"
             ],
             [
              0.1111111111111111,
              "#46039f"
             ],
             [
              0.2222222222222222,
              "#7201a8"
             ],
             [
              0.3333333333333333,
              "#9c179e"
             ],
             [
              0.4444444444444444,
              "#bd3786"
             ],
             [
              0.5555555555555556,
              "#d8576b"
             ],
             [
              0.6666666666666666,
              "#ed7953"
             ],
             [
              0.7777777777777778,
              "#fb9f3a"
             ],
             [
              0.8888888888888888,
              "#fdca26"
             ],
             [
              1,
              "#f0f921"
             ]
            ],
            "type": "surface"
           }
          ],
          "table": [
           {
            "cells": {
             "fill": {
              "color": "#EBF0F8"
             },
             "line": {
              "color": "white"
             }
            },
            "header": {
             "fill": {
              "color": "#C8D4E3"
             },
             "line": {
              "color": "white"
             }
            },
            "type": "table"
           }
          ]
         },
         "layout": {
          "annotationdefaults": {
           "arrowcolor": "#2a3f5f",
           "arrowhead": 0,
           "arrowwidth": 1
          },
          "autotypenumbers": "strict",
          "coloraxis": {
           "colorbar": {
            "outlinewidth": 0,
            "ticks": ""
           }
          },
          "colorscale": {
           "diverging": [
            [
             0,
             "#8e0152"
            ],
            [
             0.1,
             "#c51b7d"
            ],
            [
             0.2,
             "#de77ae"
            ],
            [
             0.3,
             "#f1b6da"
            ],
            [
             0.4,
             "#fde0ef"
            ],
            [
             0.5,
             "#f7f7f7"
            ],
            [
             0.6,
             "#e6f5d0"
            ],
            [
             0.7,
             "#b8e186"
            ],
            [
             0.8,
             "#7fbc41"
            ],
            [
             0.9,
             "#4d9221"
            ],
            [
             1,
             "#276419"
            ]
           ],
           "sequential": [
            [
             0,
             "#0d0887"
            ],
            [
             0.1111111111111111,
             "#46039f"
            ],
            [
             0.2222222222222222,
             "#7201a8"
            ],
            [
             0.3333333333333333,
             "#9c179e"
            ],
            [
             0.4444444444444444,
             "#bd3786"
            ],
            [
             0.5555555555555556,
             "#d8576b"
            ],
            [
             0.6666666666666666,
             "#ed7953"
            ],
            [
             0.7777777777777778,
             "#fb9f3a"
            ],
            [
             0.8888888888888888,
             "#fdca26"
            ],
            [
             1,
             "#f0f921"
            ]
           ],
           "sequentialminus": [
            [
             0,
             "#0d0887"
            ],
            [
             0.1111111111111111,
             "#46039f"
            ],
            [
             0.2222222222222222,
             "#7201a8"
            ],
            [
             0.3333333333333333,
             "#9c179e"
            ],
            [
             0.4444444444444444,
             "#bd3786"
            ],
            [
             0.5555555555555556,
             "#d8576b"
            ],
            [
             0.6666666666666666,
             "#ed7953"
            ],
            [
             0.7777777777777778,
             "#fb9f3a"
            ],
            [
             0.8888888888888888,
             "#fdca26"
            ],
            [
             1,
             "#f0f921"
            ]
           ]
          },
          "colorway": [
           "#636efa",
           "#EF553B",
           "#00cc96",
           "#ab63fa",
           "#FFA15A",
           "#19d3f3",
           "#FF6692",
           "#B6E880",
           "#FF97FF",
           "#FECB52"
          ],
          "font": {
           "color": "#2a3f5f"
          },
          "geo": {
           "bgcolor": "white",
           "lakecolor": "white",
           "landcolor": "#E5ECF6",
           "showlakes": true,
           "showland": true,
           "subunitcolor": "white"
          },
          "hoverlabel": {
           "align": "left"
          },
          "hovermode": "closest",
          "mapbox": {
           "style": "light"
          },
          "paper_bgcolor": "white",
          "plot_bgcolor": "#E5ECF6",
          "polar": {
           "angularaxis": {
            "gridcolor": "white",
            "linecolor": "white",
            "ticks": ""
           },
           "bgcolor": "#E5ECF6",
           "radialaxis": {
            "gridcolor": "white",
            "linecolor": "white",
            "ticks": ""
           }
          },
          "scene": {
           "xaxis": {
            "backgroundcolor": "#E5ECF6",
            "gridcolor": "white",
            "gridwidth": 2,
            "linecolor": "white",
            "showbackground": true,
            "ticks": "",
            "zerolinecolor": "white"
           },
           "yaxis": {
            "backgroundcolor": "#E5ECF6",
            "gridcolor": "white",
            "gridwidth": 2,
            "linecolor": "white",
            "showbackground": true,
            "ticks": "",
            "zerolinecolor": "white"
           },
           "zaxis": {
            "backgroundcolor": "#E5ECF6",
            "gridcolor": "white",
            "gridwidth": 2,
            "linecolor": "white",
            "showbackground": true,
            "ticks": "",
            "zerolinecolor": "white"
           }
          },
          "shapedefaults": {
           "line": {
            "color": "#2a3f5f"
           }
          },
          "ternary": {
           "aaxis": {
            "gridcolor": "white",
            "linecolor": "white",
            "ticks": ""
           },
           "baxis": {
            "gridcolor": "white",
            "linecolor": "white",
            "ticks": ""
           },
           "bgcolor": "#E5ECF6",
           "caxis": {
            "gridcolor": "white",
            "linecolor": "white",
            "ticks": ""
           }
          },
          "title": {
           "x": 0.05
          },
          "xaxis": {
           "automargin": true,
           "gridcolor": "white",
           "linecolor": "white",
           "ticks": "",
           "title": {
            "standoff": 15
           },
           "zerolinecolor": "white",
           "zerolinewidth": 2
          },
          "yaxis": {
           "automargin": true,
           "gridcolor": "white",
           "linecolor": "white",
           "ticks": "",
           "title": {
            "standoff": 15
           },
           "zerolinecolor": "white",
           "zerolinewidth": 2
          }
         }
        },
        "title": {
         "text": "2D PCA Plot of User Data by Week with Temporal Evolution"
        },
        "xaxis": {
         "title": {
          "text": "PCA1"
         }
        },
        "yaxis": {
         "title": {
          "text": "PCA2"
         }
        }
       }
      }
     },
     "metadata": {},
     "output_type": "display_data"
    }
   ],
   "source": [
    "from scipy.spatial import Voronoi, ConvexHull\n",
    "\n",
    "# Select a subset of unique CloudId values (e.g., the first 10 unique CloudIds)\n",
    "unique_cloud_ids = reduced_bio['CloudId'].unique()[:10]\n",
    "\n",
    "# Initialize a new figure\n",
    "fig = go.Figure()\n",
    "\n",
    "# Collect all PCA points and their corresponding clusters\n",
    "points = []\n",
    "clusters = []\n",
    "for cloud_id in unique_cloud_ids:\n",
    "    user_data = reduced_bio[reduced_bio['CloudId'] == cloud_id]\n",
    "    points.extend(user_data[['PCA1', 'PCA2']].values)\n",
    "    clusters.extend(user_data['Cluster'].values)\n",
    "\n",
    "points = np.array(points)\n",
    "clusters = np.array(clusters)\n",
    "\n",
    "# Compute the Convex Hull for each cluster\n",
    "unique_clusters = np.unique(clusters)\n",
    "for cluster in unique_clusters:\n",
    "    cluster_points = points[clusters == cluster]\n",
    "    if len(cluster_points) >= 3:  # ConvexHull requires at least 3 points\n",
    "        hull = ConvexHull(cluster_points)\n",
    "        hull_points = cluster_points[hull.vertices]\n",
    "        fig.add_trace(go.Scatter(\n",
    "            x=hull_points[:, 0],\n",
    "            y=hull_points[:, 1],\n",
    "            fill='toself',\n",
    "            fillcolor=f'hsl({cluster * 40}, 70%, 50%)',\n",
    "            line=dict(color='rgba(0,0,0,0)'),\n",
    "            showlegend=False,\n",
    "            hoverinfo='skip'\n",
    "        ))\n",
    "\n",
    "# Plot the user trajectories\n",
    "for cloud_id in unique_cloud_ids:\n",
    "    user_data = reduced_bio[reduced_bio['CloudId'] == cloud_id]\n",
    "    fig.add_trace(go.Scatter(\n",
    "        x=user_data['PCA1'],\n",
    "        y=user_data['PCA2'],\n",
    "        mode='lines+markers',\n",
    "        line_shape='spline',\n",
    "        text=user_data.apply(lambda row: '<br>'.join([f'{col}: {row[col]}' for col in ['Cluster']]), axis=1),\n",
    "        marker=dict(size=2, color=user_data['Cluster'], colorscale='Viridis'),  # Set marker size to 6\n",
    "        line=dict(shape='spline'),\n",
    "    ))\n",
    "\n",
    "fig.update_layout(\n",
    "    title='2D PCA Plot of User Data by Week with Temporal Evolution',\n",
    "    xaxis_title='PCA1',\n",
    "    yaxis_title='PCA2',\n",
    "    showlegend=True\n",
    ")\n",
    "\n",
    "# Add a legend to the plot\n",
    "fig.update_layout(\n",
    "    legend_title_text='Cluster',\n",
    "    legend_title_font_size=16,\n",
    "    legend_font_size=12\n",
    ")\n",
    "\n",
    "fig.show()"
   ]
  },
  {
   "cell_type": "code",
   "execution_count": 27,
   "metadata": {},
   "outputs": [
    {
     "data": {
      "application/vnd.plotly.v1+json": {
       "config": {
        "plotlyServerURL": "https://plot.ly"
       },
       "data": [
        {
         "line": {
          "color": "hsl(80, 70%, 50%)",
          "shape": "spline"
         },
         "marker": {
          "color": 2,
          "colorscale": [
           [
            0,
            "#440154"
           ],
           [
            0.1111111111111111,
            "#482878"
           ],
           [
            0.2222222222222222,
            "#3e4989"
           ],
           [
            0.3333333333333333,
            "#31688e"
           ],
           [
            0.4444444444444444,
            "#26828e"
           ],
           [
            0.5555555555555556,
            "#1f9e89"
           ],
           [
            0.6666666666666666,
            "#35b779"
           ],
           [
            0.7777777777777778,
            "#6ece58"
           ],
           [
            0.8888888888888888,
            "#b5de2b"
           ],
           [
            1,
            "#fde725"
           ]
          ],
          "size": 6
         },
         "mode": "lines+markers",
         "name": "Cluster 2",
         "text": [
          "Cluster: 0",
          "Cluster: 0",
          "Cluster: 2",
          "Cluster: 0"
         ],
         "type": "scatter",
         "x": [
          -2.7901022417400725,
          -2.506613948763201,
          2.2936389895141964,
          -2.641948999885167
         ],
         "y": [
          1.5637010105684452,
          1.418269956037237,
          3.707220365116916,
          1.3614035618257576
         ]
        },
        {
         "line": {
          "color": "hsl(40, 70%, 50%)",
          "shape": "spline"
         },
         "marker": {
          "color": 1,
          "colorscale": [
           [
            0,
            "#440154"
           ],
           [
            0.1111111111111111,
            "#482878"
           ],
           [
            0.2222222222222222,
            "#3e4989"
           ],
           [
            0.3333333333333333,
            "#31688e"
           ],
           [
            0.4444444444444444,
            "#26828e"
           ],
           [
            0.5555555555555556,
            "#1f9e89"
           ],
           [
            0.6666666666666666,
            "#35b779"
           ],
           [
            0.7777777777777778,
            "#6ece58"
           ],
           [
            0.8888888888888888,
            "#b5de2b"
           ],
           [
            1,
            "#fde725"
           ]
          ],
          "size": 6
         },
         "mode": "lines+markers",
         "name": "Cluster 1",
         "text": [
          "Cluster: 5",
          "Cluster: 4",
          "Cluster: 4",
          "Cluster: 4"
         ],
         "type": "scatter",
         "x": [
          -3.0129075239476273,
          -2.502472777154157,
          -2.0175891134972836,
          -2.6590338003467906
         ],
         "y": [
          -0.5765009988305069,
          -0.8839111722702927,
          -1.0145832836051605,
          -1.1613546595701403
         ]
        },
        {
         "line": {
          "color": "hsl(80, 70%, 50%)",
          "shape": "spline"
         },
         "marker": {
          "color": 2,
          "colorscale": [
           [
            0,
            "#440154"
           ],
           [
            0.1111111111111111,
            "#482878"
           ],
           [
            0.2222222222222222,
            "#3e4989"
           ],
           [
            0.3333333333333333,
            "#31688e"
           ],
           [
            0.4444444444444444,
            "#26828e"
           ],
           [
            0.5555555555555556,
            "#1f9e89"
           ],
           [
            0.6666666666666666,
            "#35b779"
           ],
           [
            0.7777777777777778,
            "#6ece58"
           ],
           [
            0.8888888888888888,
            "#b5de2b"
           ],
           [
            1,
            "#fde725"
           ]
          ],
          "size": 6
         },
         "mode": "lines+markers",
         "name": "Cluster 2",
         "text": [
          "Cluster: 0",
          "Cluster: 5",
          "Cluster: 5",
          "Cluster: 5"
         ],
         "type": "scatter",
         "x": [
          -1.5568005283287039,
          -1.7896868752064756,
          -2.5765731687999054,
          -3.1604053269501455
         ],
         "y": [
          0.44045094159862114,
          0.28689517967304884,
          0.35385091774573296,
          0.6133729635482086
         ]
        },
        {
         "line": {
          "color": "hsl(80, 70%, 50%)",
          "shape": "spline"
         },
         "marker": {
          "color": 2,
          "colorscale": [
           [
            0,
            "#440154"
           ],
           [
            0.1111111111111111,
            "#482878"
           ],
           [
            0.2222222222222222,
            "#3e4989"
           ],
           [
            0.3333333333333333,
            "#31688e"
           ],
           [
            0.4444444444444444,
            "#26828e"
           ],
           [
            0.5555555555555556,
            "#1f9e89"
           ],
           [
            0.6666666666666666,
            "#35b779"
           ],
           [
            0.7777777777777778,
            "#6ece58"
           ],
           [
            0.8888888888888888,
            "#b5de2b"
           ],
           [
            1,
            "#fde725"
           ]
          ],
          "size": 6
         },
         "mode": "lines+markers",
         "name": "Cluster 2",
         "text": [
          "Cluster: 5",
          "Cluster: 5",
          "Cluster: 5",
          "Cluster: 5"
         ],
         "type": "scatter",
         "x": [
          -1.8333760864435142,
          -2.017086434462901,
          -2.0076830791198153,
          -2.126814513490319
         ],
         "y": [
          0.16218094931429172,
          -0.27887505905923177,
          0.4388180960122351,
          0.42105267876267166
         ]
        },
        {
         "line": {
          "color": "hsl(160, 70%, 50%)",
          "shape": "spline"
         },
         "marker": {
          "color": 4,
          "colorscale": [
           [
            0,
            "#440154"
           ],
           [
            0.1111111111111111,
            "#482878"
           ],
           [
            0.2222222222222222,
            "#3e4989"
           ],
           [
            0.3333333333333333,
            "#31688e"
           ],
           [
            0.4444444444444444,
            "#26828e"
           ],
           [
            0.5555555555555556,
            "#1f9e89"
           ],
           [
            0.6666666666666666,
            "#35b779"
           ],
           [
            0.7777777777777778,
            "#6ece58"
           ],
           [
            0.8888888888888888,
            "#b5de2b"
           ],
           [
            1,
            "#fde725"
           ]
          ],
          "size": 6
         },
         "mode": "lines+markers",
         "name": "Cluster 4",
         "text": [
          "Cluster: 4",
          "Cluster: 4",
          "Cluster: 3",
          "Cluster: 4"
         ],
         "type": "scatter",
         "x": [
          -0.6664360225823783,
          -1.2501470236686352,
          2.793684407885067,
          -0.059924433108662294
         ],
         "y": [
          -2.0875178552705878,
          -1.640922068630296,
          -0.04963011934351201,
          -1.6395090623212254
         ]
        },
        {
         "line": {
          "color": "hsl(40, 70%, 50%)",
          "shape": "spline"
         },
         "marker": {
          "color": 1,
          "colorscale": [
           [
            0,
            "#440154"
           ],
           [
            0.1111111111111111,
            "#482878"
           ],
           [
            0.2222222222222222,
            "#3e4989"
           ],
           [
            0.3333333333333333,
            "#31688e"
           ],
           [
            0.4444444444444444,
            "#26828e"
           ],
           [
            0.5555555555555556,
            "#1f9e89"
           ],
           [
            0.6666666666666666,
            "#35b779"
           ],
           [
            0.7777777777777778,
            "#6ece58"
           ],
           [
            0.8888888888888888,
            "#b5de2b"
           ],
           [
            1,
            "#fde725"
           ]
          ],
          "size": 6
         },
         "mode": "lines+markers",
         "name": "Cluster 1",
         "text": [
          "Cluster: 4",
          "Cluster: 5",
          "Cluster: 1",
          "Cluster: 4"
         ],
         "type": "scatter",
         "x": [
          -2.2326157799685564,
          -3.940403249015623,
          -1.504023051482805,
          -1.9501637357798811
         ],
         "y": [
          -0.6323565677869798,
          0.8509821034635646,
          -0.1259794705760984,
          -1.236548146490316
         ]
        },
        {
         "line": {
          "color": "hsl(80, 70%, 50%)",
          "shape": "spline"
         },
         "marker": {
          "color": 2,
          "colorscale": [
           [
            0,
            "#440154"
           ],
           [
            0.1111111111111111,
            "#482878"
           ],
           [
            0.2222222222222222,
            "#3e4989"
           ],
           [
            0.3333333333333333,
            "#31688e"
           ],
           [
            0.4444444444444444,
            "#26828e"
           ],
           [
            0.5555555555555556,
            "#1f9e89"
           ],
           [
            0.6666666666666666,
            "#35b779"
           ],
           [
            0.7777777777777778,
            "#6ece58"
           ],
           [
            0.8888888888888888,
            "#b5de2b"
           ],
           [
            1,
            "#fde725"
           ]
          ],
          "size": 6
         },
         "mode": "lines+markers",
         "name": "Cluster 2",
         "text": [
          "Cluster: 5",
          "Cluster: 5",
          "Cluster: 5",
          "Cluster: 5"
         ],
         "type": "scatter",
         "x": [
          -3.300642508884547,
          -3.5264201913543034,
          -3.048804602775785,
          -3.2044381640362576
         ],
         "y": [
          0.3323910513395358,
          0.3635635159192144,
          0.8568091040520883,
          0.6275493668647674
         ]
        },
        {
         "line": {
          "color": "hsl(120, 70%, 50%)",
          "shape": "spline"
         },
         "marker": {
          "color": 3,
          "colorscale": [
           [
            0,
            "#440154"
           ],
           [
            0.1111111111111111,
            "#482878"
           ],
           [
            0.2222222222222222,
            "#3e4989"
           ],
           [
            0.3333333333333333,
            "#31688e"
           ],
           [
            0.4444444444444444,
            "#26828e"
           ],
           [
            0.5555555555555556,
            "#1f9e89"
           ],
           [
            0.6666666666666666,
            "#35b779"
           ],
           [
            0.7777777777777778,
            "#6ece58"
           ],
           [
            0.8888888888888888,
            "#b5de2b"
           ],
           [
            1,
            "#fde725"
           ]
          ],
          "size": 6
         },
         "mode": "lines+markers",
         "name": "Cluster 3",
         "text": [
          "Cluster: 2",
          "Cluster: 2",
          "Cluster: 3",
          "Cluster: 3"
         ],
         "type": "scatter",
         "x": [
          4.84326606071646,
          5.175923764851593,
          4.719832436265401,
          4.2304486727267925
         ],
         "y": [
          -0.6787905702892858,
          -0.2895155757418676,
          -0.854734233735862,
          -1.4012415384283616
         ]
        },
        {
         "line": {
          "color": "hsl(160, 70%, 50%)",
          "shape": "spline"
         },
         "marker": {
          "color": 4,
          "colorscale": [
           [
            0,
            "#440154"
           ],
           [
            0.1111111111111111,
            "#482878"
           ],
           [
            0.2222222222222222,
            "#3e4989"
           ],
           [
            0.3333333333333333,
            "#31688e"
           ],
           [
            0.4444444444444444,
            "#26828e"
           ],
           [
            0.5555555555555556,
            "#1f9e89"
           ],
           [
            0.6666666666666666,
            "#35b779"
           ],
           [
            0.7777777777777778,
            "#6ece58"
           ],
           [
            0.8888888888888888,
            "#b5de2b"
           ],
           [
            1,
            "#fde725"
           ]
          ],
          "size": 6
         },
         "mode": "lines+markers",
         "name": "Cluster 4",
         "text": [
          "Cluster: 4",
          "Cluster: 4",
          "Cluster: 1",
          "Cluster: 1"
         ],
         "type": "scatter",
         "x": [
          0.06297687779650764,
          -0.007740101758613995,
          0.7966009373750039,
          0.23381135742555376
         ],
         "y": [
          -1.6878109007352449,
          -1.479715892995438,
          -0.912881771739591,
          -1.4118064012263452
         ]
        },
        {
         "line": {
          "color": "hsl(160, 70%, 50%)",
          "shape": "spline"
         },
         "marker": {
          "color": 4,
          "colorscale": [
           [
            0,
            "#440154"
           ],
           [
            0.1111111111111111,
            "#482878"
           ],
           [
            0.2222222222222222,
            "#3e4989"
           ],
           [
            0.3333333333333333,
            "#31688e"
           ],
           [
            0.4444444444444444,
            "#26828e"
           ],
           [
            0.5555555555555556,
            "#1f9e89"
           ],
           [
            0.6666666666666666,
            "#35b779"
           ],
           [
            0.7777777777777778,
            "#6ece58"
           ],
           [
            0.8888888888888888,
            "#b5de2b"
           ],
           [
            1,
            "#fde725"
           ]
          ],
          "size": 6
         },
         "mode": "lines+markers",
         "name": "Cluster 4",
         "text": [
          "Cluster: 4",
          "Cluster: 1",
          "Cluster: 4",
          "Cluster: 1"
         ],
         "type": "scatter",
         "x": [
          -2.268266774622385,
          1.2087283537135862,
          -2.459797199020339,
          1.2087283537135862
         ],
         "y": [
          -1.2329927557755955,
          1.0593442408944225,
          -1.3011906747981004,
          1.0593442408944225
         ]
        },
        {
         "line": {
          "color": "hsl(120, 70%, 50%)",
          "shape": "spline"
         },
         "marker": {
          "color": 3,
          "colorscale": [
           [
            0,
            "#440154"
           ],
           [
            0.1111111111111111,
            "#482878"
           ],
           [
            0.2222222222222222,
            "#3e4989"
           ],
           [
            0.3333333333333333,
            "#31688e"
           ],
           [
            0.4444444444444444,
            "#26828e"
           ],
           [
            0.5555555555555556,
            "#1f9e89"
           ],
           [
            0.6666666666666666,
            "#35b779"
           ],
           [
            0.7777777777777778,
            "#6ece58"
           ],
           [
            0.8888888888888888,
            "#b5de2b"
           ],
           [
            1,
            "#fde725"
           ]
          ],
          "size": 6
         },
         "mode": "lines+markers",
         "name": "Cluster 3",
         "text": [
          "Cluster: 2",
          "Cluster: 3",
          "Cluster: 3",
          "Cluster: 3"
         ],
         "type": "scatter",
         "x": [
          4.270697662124305,
          3.819100003830718,
          3.5999489169322194,
          3.4337976043923626
         ],
         "y": [
          0.9218772310552427,
          -0.41038952940469675,
          -0.6826917575181651,
          -0.9378594408001918
         ]
        },
        {
         "line": {
          "color": "hsl(80, 70%, 50%)",
          "shape": "spline"
         },
         "marker": {
          "color": 2,
          "colorscale": [
           [
            0,
            "#440154"
           ],
           [
            0.1111111111111111,
            "#482878"
           ],
           [
            0.2222222222222222,
            "#3e4989"
           ],
           [
            0.3333333333333333,
            "#31688e"
           ],
           [
            0.4444444444444444,
            "#26828e"
           ],
           [
            0.5555555555555556,
            "#1f9e89"
           ],
           [
            0.6666666666666666,
            "#35b779"
           ],
           [
            0.7777777777777778,
            "#6ece58"
           ],
           [
            0.8888888888888888,
            "#b5de2b"
           ],
           [
            1,
            "#fde725"
           ]
          ],
          "size": 6
         },
         "mode": "lines+markers",
         "name": "Cluster 2",
         "text": [
          "Cluster: 5",
          "Cluster: 4",
          "Cluster: 5",
          "Cluster: 5"
         ],
         "type": "scatter",
         "x": [
          -3.1273949770717544,
          -2.9195493615449353,
          -4.355819393340638,
          -4.596356436978196
         ],
         "y": [
          0.34171346001956693,
          -1.1799209435907845,
          -0.516798181431977,
          -0.36502243994507927
         ]
        },
        {
         "line": {
          "color": "hsl(120, 70%, 50%)",
          "shape": "spline"
         },
         "marker": {
          "color": 3,
          "colorscale": [
           [
            0,
            "#440154"
           ],
           [
            0.1111111111111111,
            "#482878"
           ],
           [
            0.2222222222222222,
            "#3e4989"
           ],
           [
            0.3333333333333333,
            "#31688e"
           ],
           [
            0.4444444444444444,
            "#26828e"
           ],
           [
            0.5555555555555556,
            "#1f9e89"
           ],
           [
            0.6666666666666666,
            "#35b779"
           ],
           [
            0.7777777777777778,
            "#6ece58"
           ],
           [
            0.8888888888888888,
            "#b5de2b"
           ],
           [
            1,
            "#fde725"
           ]
          ],
          "size": 6
         },
         "mode": "lines+markers",
         "name": "Cluster 3",
         "text": [
          "Cluster: 1",
          "Cluster: 2",
          "Cluster: 2",
          "Cluster: 3"
         ],
         "type": "scatter",
         "x": [
          1.8993410301410434,
          5.116266863254456,
          4.179129985637596,
          5.08465281345391
         ],
         "y": [
          -0.5127477024952805,
          -0.1345060889296456,
          0.84734124759129,
          -0.34589245185274486
         ]
        },
        {
         "line": {
          "color": "hsl(40, 70%, 50%)",
          "shape": "spline"
         },
         "marker": {
          "color": 1,
          "colorscale": [
           [
            0,
            "#440154"
           ],
           [
            0.1111111111111111,
            "#482878"
           ],
           [
            0.2222222222222222,
            "#3e4989"
           ],
           [
            0.3333333333333333,
            "#31688e"
           ],
           [
            0.4444444444444444,
            "#26828e"
           ],
           [
            0.5555555555555556,
            "#1f9e89"
           ],
           [
            0.6666666666666666,
            "#35b779"
           ],
           [
            0.7777777777777778,
            "#6ece58"
           ],
           [
            0.8888888888888888,
            "#b5de2b"
           ],
           [
            1,
            "#fde725"
           ]
          ],
          "size": 6
         },
         "mode": "lines+markers",
         "name": "Cluster 1",
         "text": [
          "Cluster: 5",
          "Cluster: 5",
          "Cluster: 4",
          "Cluster: 5"
         ],
         "type": "scatter",
         "x": [
          -2.74651675284246,
          -3.0906128321587287,
          -2.879817862422635,
          -2.961786903560159
         ],
         "y": [
          -0.9829907712624949,
          -1.124739498313356,
          -1.176083482011425,
          -1.1170162361709874
         ]
        },
        {
         "line": {
          "color": "hsl(40, 70%, 50%)",
          "shape": "spline"
         },
         "marker": {
          "color": 1,
          "colorscale": [
           [
            0,
            "#440154"
           ],
           [
            0.1111111111111111,
            "#482878"
           ],
           [
            0.2222222222222222,
            "#3e4989"
           ],
           [
            0.3333333333333333,
            "#31688e"
           ],
           [
            0.4444444444444444,
            "#26828e"
           ],
           [
            0.5555555555555556,
            "#1f9e89"
           ],
           [
            0.6666666666666666,
            "#35b779"
           ],
           [
            0.7777777777777778,
            "#6ece58"
           ],
           [
            0.8888888888888888,
            "#b5de2b"
           ],
           [
            1,
            "#fde725"
           ]
          ],
          "size": 6
         },
         "mode": "lines+markers",
         "name": "Cluster 1",
         "text": [
          "Cluster: 4",
          "Cluster: 4",
          "Cluster: 5",
          "Cluster: 4"
         ],
         "type": "scatter",
         "x": [
          -2.688268354782548,
          -2.4896289053073892,
          -2.850679477668891,
          -2.2932664244856644
         ],
         "y": [
          -1.298783305879643,
          -1.276831019440626,
          -1.1634076132850266,
          -0.8436734938559751
         ]
        },
        {
         "line": {
          "color": "hsl(160, 70%, 50%)",
          "shape": "spline"
         },
         "marker": {
          "color": 4,
          "colorscale": [
           [
            0,
            "#440154"
           ],
           [
            0.1111111111111111,
            "#482878"
           ],
           [
            0.2222222222222222,
            "#3e4989"
           ],
           [
            0.3333333333333333,
            "#31688e"
           ],
           [
            0.4444444444444444,
            "#26828e"
           ],
           [
            0.5555555555555556,
            "#1f9e89"
           ],
           [
            0.6666666666666666,
            "#35b779"
           ],
           [
            0.7777777777777778,
            "#6ece58"
           ],
           [
            0.8888888888888888,
            "#b5de2b"
           ],
           [
            1,
            "#fde725"
           ]
          ],
          "size": 6
         },
         "mode": "lines+markers",
         "name": "Cluster 4",
         "text": [
          "Cluster: 3",
          "Cluster: 3",
          "Cluster: 3",
          "Cluster: 4"
         ],
         "type": "scatter",
         "x": [
          0.9203171610283879,
          0.5558959473234106,
          0.42294609819288137,
          -0.4947343705151465
         ],
         "y": [
          -3.699403102878939,
          -3.5065998536077325,
          -4.302234458313935,
          -4.733509518498092
         ]
        },
        {
         "line": {
          "color": "hsl(120, 70%, 50%)",
          "shape": "spline"
         },
         "marker": {
          "color": 3,
          "colorscale": [
           [
            0,
            "#440154"
           ],
           [
            0.1111111111111111,
            "#482878"
           ],
           [
            0.2222222222222222,
            "#3e4989"
           ],
           [
            0.3333333333333333,
            "#31688e"
           ],
           [
            0.4444444444444444,
            "#26828e"
           ],
           [
            0.5555555555555556,
            "#1f9e89"
           ],
           [
            0.6666666666666666,
            "#35b779"
           ],
           [
            0.7777777777777778,
            "#6ece58"
           ],
           [
            0.8888888888888888,
            "#b5de2b"
           ],
           [
            1,
            "#fde725"
           ]
          ],
          "size": 6
         },
         "mode": "lines+markers",
         "name": "Cluster 3",
         "text": [
          "Cluster: 1",
          "Cluster: 1",
          "Cluster: 3",
          "Cluster: 1"
         ],
         "type": "scatter",
         "x": [
          1.1130723080106295,
          1.1130723080106295,
          5.497824268251537,
          1.1130723080106295
         ],
         "y": [
          -0.7346325781588989,
          -0.7346325781588989,
          -2.484264519829193,
          -0.7346325781588989
         ]
        },
        {
         "line": {
          "color": "hsl(80, 70%, 50%)",
          "shape": "spline"
         },
         "marker": {
          "color": 2,
          "colorscale": [
           [
            0,
            "#440154"
           ],
           [
            0.1111111111111111,
            "#482878"
           ],
           [
            0.2222222222222222,
            "#3e4989"
           ],
           [
            0.3333333333333333,
            "#31688e"
           ],
           [
            0.4444444444444444,
            "#26828e"
           ],
           [
            0.5555555555555556,
            "#1f9e89"
           ],
           [
            0.6666666666666666,
            "#35b779"
           ],
           [
            0.7777777777777778,
            "#6ece58"
           ],
           [
            0.8888888888888888,
            "#b5de2b"
           ],
           [
            1,
            "#fde725"
           ]
          ],
          "size": 6
         },
         "mode": "lines+markers",
         "name": "Cluster 2",
         "text": [
          "Cluster: 0",
          "Cluster: 0",
          "Cluster: 0",
          "Cluster: 0"
         ],
         "type": "scatter",
         "x": [
          -1.9500505384461058,
          -2.4738883197301345,
          -2.234135346259603,
          -2.758863381099972
         ],
         "y": [
          2.5573888426266613,
          2.1110682691148464,
          1.7588240909563098,
          1.5645649659688614
         ]
        },
        {
         "line": {
          "color": "hsl(160, 70%, 50%)",
          "shape": "spline"
         },
         "marker": {
          "color": 4,
          "colorscale": [
           [
            0,
            "#440154"
           ],
           [
            0.1111111111111111,
            "#482878"
           ],
           [
            0.2222222222222222,
            "#3e4989"
           ],
           [
            0.3333333333333333,
            "#31688e"
           ],
           [
            0.4444444444444444,
            "#26828e"
           ],
           [
            0.5555555555555556,
            "#1f9e89"
           ],
           [
            0.6666666666666666,
            "#35b779"
           ],
           [
            0.7777777777777778,
            "#6ece58"
           ],
           [
            0.8888888888888888,
            "#b5de2b"
           ],
           [
            1,
            "#fde725"
           ]
          ],
          "size": 6
         },
         "mode": "lines+markers",
         "name": "Cluster 4",
         "text": [
          "Cluster: 1",
          "Cluster: 1",
          "Cluster: 4",
          "Cluster: 1"
         ],
         "type": "scatter",
         "x": [
          -0.5420074591977754,
          0.809394194583546,
          -0.7233150345713545,
          -0.011049842976717903
         ],
         "y": [
          -1.095062313174023,
          0.24932153829422,
          -0.9047613108903081,
          -0.4829800895673723
         ]
        },
        {
         "line": {
          "color": "hsl(120, 70%, 50%)",
          "shape": "spline"
         },
         "marker": {
          "color": 3,
          "colorscale": [
           [
            0,
            "#440154"
           ],
           [
            0.1111111111111111,
            "#482878"
           ],
           [
            0.2222222222222222,
            "#3e4989"
           ],
           [
            0.3333333333333333,
            "#31688e"
           ],
           [
            0.4444444444444444,
            "#26828e"
           ],
           [
            0.5555555555555556,
            "#1f9e89"
           ],
           [
            0.6666666666666666,
            "#35b779"
           ],
           [
            0.7777777777777778,
            "#6ece58"
           ],
           [
            0.8888888888888888,
            "#b5de2b"
           ],
           [
            1,
            "#fde725"
           ]
          ],
          "size": 6
         },
         "mode": "lines+markers",
         "name": "Cluster 3",
         "text": [
          "Cluster: 2",
          "Cluster: 3",
          "Cluster: 2",
          "Cluster: 2"
         ],
         "type": "scatter",
         "x": [
          3.8491501581975274,
          3.3235153950697214,
          3.9166317092003813,
          4.153205208367059
         ],
         "y": [
          -0.39496234742206054,
          -0.5497128835254506,
          -0.4271872517294899,
          0.09643588415665019
         ]
        },
        {
         "line": {
          "color": "hsl(120, 70%, 50%)",
          "shape": "spline"
         },
         "marker": {
          "color": 3,
          "colorscale": [
           [
            0,
            "#440154"
           ],
           [
            0.1111111111111111,
            "#482878"
           ],
           [
            0.2222222222222222,
            "#3e4989"
           ],
           [
            0.3333333333333333,
            "#31688e"
           ],
           [
            0.4444444444444444,
            "#26828e"
           ],
           [
            0.5555555555555556,
            "#1f9e89"
           ],
           [
            0.6666666666666666,
            "#35b779"
           ],
           [
            0.7777777777777778,
            "#6ece58"
           ],
           [
            0.8888888888888888,
            "#b5de2b"
           ],
           [
            1,
            "#fde725"
           ]
          ],
          "size": 6
         },
         "mode": "lines+markers",
         "name": "Cluster 3",
         "text": [
          "Cluster: 3",
          "Cluster: 3",
          "Cluster: 3",
          "Cluster: 2"
         ],
         "type": "scatter",
         "x": [
          2.941526322255199,
          2.7779879546099715,
          2.5655437528510476,
          3.0417235438193573
         ],
         "y": [
          -0.635728155277811,
          -1.4053287473852696,
          -0.9725075596186024,
          -0.23264475473707932
         ]
        },
        {
         "line": {
          "color": "hsl(80, 70%, 50%)",
          "shape": "spline"
         },
         "marker": {
          "color": 2,
          "colorscale": [
           [
            0,
            "#440154"
           ],
           [
            0.1111111111111111,
            "#482878"
           ],
           [
            0.2222222222222222,
            "#3e4989"
           ],
           [
            0.3333333333333333,
            "#31688e"
           ],
           [
            0.4444444444444444,
            "#26828e"
           ],
           [
            0.5555555555555556,
            "#1f9e89"
           ],
           [
            0.6666666666666666,
            "#35b779"
           ],
           [
            0.7777777777777778,
            "#6ece58"
           ],
           [
            0.8888888888888888,
            "#b5de2b"
           ],
           [
            1,
            "#fde725"
           ]
          ],
          "size": 6
         },
         "mode": "lines+markers",
         "name": "Cluster 2",
         "text": [
          "Cluster: 0",
          "Cluster: 0",
          "Cluster: 0",
          "Cluster: 0"
         ],
         "type": "scatter",
         "x": [
          -1.7728082298564412,
          -1.365597703699341,
          -1.8261834237840642,
          -1.4481951743576376
         ],
         "y": [
          1.3813553117919968,
          1.723160480550522,
          1.1954020009456114,
          1.519161865794156
         ]
        },
        {
         "line": {
          "color": "hsl(120, 70%, 50%)",
          "shape": "spline"
         },
         "marker": {
          "color": 3,
          "colorscale": [
           [
            0,
            "#440154"
           ],
           [
            0.1111111111111111,
            "#482878"
           ],
           [
            0.2222222222222222,
            "#3e4989"
           ],
           [
            0.3333333333333333,
            "#31688e"
           ],
           [
            0.4444444444444444,
            "#26828e"
           ],
           [
            0.5555555555555556,
            "#1f9e89"
           ],
           [
            0.6666666666666666,
            "#35b779"
           ],
           [
            0.7777777777777778,
            "#6ece58"
           ],
           [
            0.8888888888888888,
            "#b5de2b"
           ],
           [
            1,
            "#fde725"
           ]
          ],
          "size": 6
         },
         "mode": "lines+markers",
         "name": "Cluster 3",
         "text": [
          "Cluster: 2",
          "Cluster: 2",
          "Cluster: 2",
          "Cluster: 3"
         ],
         "type": "scatter",
         "x": [
          5.979863861198508,
          5.879210059078695,
          5.499478879240312,
          5.398916359697401
         ],
         "y": [
          -0.7126538769397461,
          -1.0068191168917462,
          -0.9110248930626348,
          -0.9949669005628041
         ]
        },
        {
         "line": {
          "color": "hsl(80, 70%, 50%)",
          "shape": "spline"
         },
         "marker": {
          "color": 2,
          "colorscale": [
           [
            0,
            "#440154"
           ],
           [
            0.1111111111111111,
            "#482878"
           ],
           [
            0.2222222222222222,
            "#3e4989"
           ],
           [
            0.3333333333333333,
            "#31688e"
           ],
           [
            0.4444444444444444,
            "#26828e"
           ],
           [
            0.5555555555555556,
            "#1f9e89"
           ],
           [
            0.6666666666666666,
            "#35b779"
           ],
           [
            0.7777777777777778,
            "#6ece58"
           ],
           [
            0.8888888888888888,
            "#b5de2b"
           ],
           [
            1,
            "#fde725"
           ]
          ],
          "size": 6
         },
         "mode": "lines+markers",
         "name": "Cluster 2",
         "text": [
          "Cluster: 0",
          "Cluster: 0",
          "Cluster: 0",
          "Cluster: 0"
         ],
         "type": "scatter",
         "x": [
          -2.1782981192887947,
          -2.1746265401931613,
          -2.0592533216601647,
          -2.109283582793942
         ],
         "y": [
          1.8845268813015421,
          1.8944016128453411,
          2.1750649778001714,
          1.1973632696298242
         ]
        },
        {
         "line": {
          "color": "hsl(40, 70%, 50%)",
          "shape": "spline"
         },
         "marker": {
          "color": 1,
          "colorscale": [
           [
            0,
            "#440154"
           ],
           [
            0.1111111111111111,
            "#482878"
           ],
           [
            0.2222222222222222,
            "#3e4989"
           ],
           [
            0.3333333333333333,
            "#31688e"
           ],
           [
            0.4444444444444444,
            "#26828e"
           ],
           [
            0.5555555555555556,
            "#1f9e89"
           ],
           [
            0.6666666666666666,
            "#35b779"
           ],
           [
            0.7777777777777778,
            "#6ece58"
           ],
           [
            0.8888888888888888,
            "#b5de2b"
           ],
           [
            1,
            "#fde725"
           ]
          ],
          "size": 6
         },
         "mode": "lines+markers",
         "name": "Cluster 1",
         "text": [
          "Cluster: 4",
          "Cluster: 5",
          "Cluster: 4",
          "Cluster: 4"
         ],
         "type": "scatter",
         "x": [
          -3.4661026478289667,
          -4.12358018781588,
          -2.4308269293521723,
          -3.125668125010345
         ],
         "y": [
          -2.8407777039975852,
          -3.187176272890868,
          -2.5249870700511035,
          -2.912448612656788
         ]
        },
        {
         "line": {
          "color": "hsl(160, 70%, 50%)",
          "shape": "spline"
         },
         "marker": {
          "color": 4,
          "colorscale": [
           [
            0,
            "#440154"
           ],
           [
            0.1111111111111111,
            "#482878"
           ],
           [
            0.2222222222222222,
            "#3e4989"
           ],
           [
            0.3333333333333333,
            "#31688e"
           ],
           [
            0.4444444444444444,
            "#26828e"
           ],
           [
            0.5555555555555556,
            "#1f9e89"
           ],
           [
            0.6666666666666666,
            "#35b779"
           ],
           [
            0.7777777777777778,
            "#6ece58"
           ],
           [
            0.8888888888888888,
            "#b5de2b"
           ],
           [
            1,
            "#fde725"
           ]
          ],
          "size": 6
         },
         "mode": "lines+markers",
         "name": "Cluster 4",
         "text": [
          "Cluster: 4",
          "Cluster: 4",
          "Cluster: 4",
          "Cluster: 1"
         ],
         "type": "scatter",
         "x": [
          -0.3927040094797971,
          -0.15680425009604926,
          -0.46092521130469993,
          0.22278393167814142
         ],
         "y": [
          -1.716850421114505,
          -1.776878988244571,
          -1.8978985416784981,
          -0.7638538548551954
         ]
        },
        {
         "line": {
          "color": "hsl(80, 70%, 50%)",
          "shape": "spline"
         },
         "marker": {
          "color": 2,
          "colorscale": [
           [
            0,
            "#440154"
           ],
           [
            0.1111111111111111,
            "#482878"
           ],
           [
            0.2222222222222222,
            "#3e4989"
           ],
           [
            0.3333333333333333,
            "#31688e"
           ],
           [
            0.4444444444444444,
            "#26828e"
           ],
           [
            0.5555555555555556,
            "#1f9e89"
           ],
           [
            0.6666666666666666,
            "#35b779"
           ],
           [
            0.7777777777777778,
            "#6ece58"
           ],
           [
            0.8888888888888888,
            "#b5de2b"
           ],
           [
            1,
            "#fde725"
           ]
          ],
          "size": 6
         },
         "mode": "lines+markers",
         "name": "Cluster 2",
         "text": [
          "Cluster: 5",
          "Cluster: 5",
          "Cluster: 5",
          "Cluster: 0"
         ],
         "type": "scatter",
         "x": [
          -2.1533099472854786,
          -2.20408159430394,
          -1.6599367399635192,
          -1.6387393340833434
         ],
         "y": [
          0.8827578774596635,
          0.9844957730861617,
          0.6778933544862848,
          1.449426942624419
         ]
        },
        {
         "line": {
          "color": "hsl(120, 70%, 50%)",
          "shape": "spline"
         },
         "marker": {
          "color": 3,
          "colorscale": [
           [
            0,
            "#440154"
           ],
           [
            0.1111111111111111,
            "#482878"
           ],
           [
            0.2222222222222222,
            "#3e4989"
           ],
           [
            0.3333333333333333,
            "#31688e"
           ],
           [
            0.4444444444444444,
            "#26828e"
           ],
           [
            0.5555555555555556,
            "#1f9e89"
           ],
           [
            0.6666666666666666,
            "#35b779"
           ],
           [
            0.7777777777777778,
            "#6ece58"
           ],
           [
            0.8888888888888888,
            "#b5de2b"
           ],
           [
            1,
            "#fde725"
           ]
          ],
          "size": 6
         },
         "mode": "lines+markers",
         "name": "Cluster 3",
         "text": [
          "Cluster: 1",
          "Cluster: 2",
          "Cluster: 1",
          "Cluster: 2"
         ],
         "type": "scatter",
         "x": [
          1.7641487444371395,
          4.2652146591725995,
          1.834768955714817,
          5.491119730491759
         ],
         "y": [
          0.8240908604718051,
          1.2632939619716304,
          0.6287763757571595,
          2.4558304560310225
         ]
        },
        {
         "line": {
          "color": "hsl(120, 70%, 50%)",
          "shape": "spline"
         },
         "marker": {
          "color": 3,
          "colorscale": [
           [
            0,
            "#440154"
           ],
           [
            0.1111111111111111,
            "#482878"
           ],
           [
            0.2222222222222222,
            "#3e4989"
           ],
           [
            0.3333333333333333,
            "#31688e"
           ],
           [
            0.4444444444444444,
            "#26828e"
           ],
           [
            0.5555555555555556,
            "#1f9e89"
           ],
           [
            0.6666666666666666,
            "#35b779"
           ],
           [
            0.7777777777777778,
            "#6ece58"
           ],
           [
            0.8888888888888888,
            "#b5de2b"
           ],
           [
            1,
            "#fde725"
           ]
          ],
          "size": 6
         },
         "mode": "lines+markers",
         "name": "Cluster 3",
         "text": [
          "Cluster: 2",
          "Cluster: 2",
          "Cluster: 1",
          "Cluster: 2"
         ],
         "type": "scatter",
         "x": [
          4.052262244274939,
          2.69854232548001,
          0.4284210463788959,
          2.6918001617880707
         ],
         "y": [
          6.390601391462422,
          4.0965723552046995,
          1.4772996290745686,
          2.303668761890835
         ]
        },
        {
         "line": {
          "color": "hsl(80, 70%, 50%)",
          "shape": "spline"
         },
         "marker": {
          "color": 2,
          "colorscale": [
           [
            0,
            "#440154"
           ],
           [
            0.1111111111111111,
            "#482878"
           ],
           [
            0.2222222222222222,
            "#3e4989"
           ],
           [
            0.3333333333333333,
            "#31688e"
           ],
           [
            0.4444444444444444,
            "#26828e"
           ],
           [
            0.5555555555555556,
            "#1f9e89"
           ],
           [
            0.6666666666666666,
            "#35b779"
           ],
           [
            0.7777777777777778,
            "#6ece58"
           ],
           [
            0.8888888888888888,
            "#b5de2b"
           ],
           [
            1,
            "#fde725"
           ]
          ],
          "size": 6
         },
         "mode": "lines+markers",
         "name": "Cluster 2",
         "text": [
          "Cluster: 0",
          "Cluster: 0",
          "Cluster: 0",
          "Cluster: 0"
         ],
         "type": "scatter",
         "x": [
          -2.439126224198962,
          -3.688587458956963,
          -2.240760979496467,
          -3.0319573925851415
         ],
         "y": [
          1.1874679879870615,
          1.509324766607667,
          1.5663557533664931,
          1.5451377081532347
         ]
        },
        {
         "line": {
          "color": "hsl(40, 70%, 50%)",
          "shape": "spline"
         },
         "marker": {
          "color": 1,
          "colorscale": [
           [
            0,
            "#440154"
           ],
           [
            0.1111111111111111,
            "#482878"
           ],
           [
            0.2222222222222222,
            "#3e4989"
           ],
           [
            0.3333333333333333,
            "#31688e"
           ],
           [
            0.4444444444444444,
            "#26828e"
           ],
           [
            0.5555555555555556,
            "#1f9e89"
           ],
           [
            0.6666666666666666,
            "#35b779"
           ],
           [
            0.7777777777777778,
            "#6ece58"
           ],
           [
            0.8888888888888888,
            "#b5de2b"
           ],
           [
            1,
            "#fde725"
           ]
          ],
          "size": 6
         },
         "mode": "lines+markers",
         "name": "Cluster 1",
         "text": [
          "Cluster: 4",
          "Cluster: 4",
          "Cluster: 4",
          "Cluster: 4"
         ],
         "type": "scatter",
         "x": [
          -1.8248440428675503,
          -1.7962189414020988,
          -1.8170836880819166,
          -1.597489024852378
         ],
         "y": [
          -0.9719272081152748,
          -0.763877990263772,
          -0.07079277677901402,
          -0.2517516753355917
         ]
        },
        {
         "line": {
          "color": "hsl(160, 70%, 50%)",
          "shape": "spline"
         },
         "marker": {
          "color": 4,
          "colorscale": [
           [
            0,
            "#440154"
           ],
           [
            0.1111111111111111,
            "#482878"
           ],
           [
            0.2222222222222222,
            "#3e4989"
           ],
           [
            0.3333333333333333,
            "#31688e"
           ],
           [
            0.4444444444444444,
            "#26828e"
           ],
           [
            0.5555555555555556,
            "#1f9e89"
           ],
           [
            0.6666666666666666,
            "#35b779"
           ],
           [
            0.7777777777777778,
            "#6ece58"
           ],
           [
            0.8888888888888888,
            "#b5de2b"
           ],
           [
            1,
            "#fde725"
           ]
          ],
          "size": 6
         },
         "mode": "lines+markers",
         "name": "Cluster 4",
         "text": [
          "Cluster: 1",
          "Cluster: 1",
          "Cluster: 4",
          "Cluster: 1"
         ],
         "type": "scatter",
         "x": [
          0.2943438045909556,
          0.3750466879692083,
          0.10169789844696027,
          0.4656567717396752
         ],
         "y": [
          -2.7497501620511757,
          -3.0545717325811914,
          -3.070305844741221,
          -2.9994257681539462
         ]
        },
        {
         "line": {
          "color": "hsl(120, 70%, 50%)",
          "shape": "spline"
         },
         "marker": {
          "color": 3,
          "colorscale": [
           [
            0,
            "#440154"
           ],
           [
            0.1111111111111111,
            "#482878"
           ],
           [
            0.2222222222222222,
            "#3e4989"
           ],
           [
            0.3333333333333333,
            "#31688e"
           ],
           [
            0.4444444444444444,
            "#26828e"
           ],
           [
            0.5555555555555556,
            "#1f9e89"
           ],
           [
            0.6666666666666666,
            "#35b779"
           ],
           [
            0.7777777777777778,
            "#6ece58"
           ],
           [
            0.8888888888888888,
            "#b5de2b"
           ],
           [
            1,
            "#fde725"
           ]
          ],
          "size": 6
         },
         "mode": "lines+markers",
         "name": "Cluster 3",
         "text": [
          "Cluster: 2",
          "Cluster: 3",
          "Cluster: 3",
          "Cluster: 3"
         ],
         "type": "scatter",
         "x": [
          4.707273546621078,
          4.164039477765778,
          4.557966516485257,
          3.8710593425205864
         ],
         "y": [
          -0.3244747789306644,
          -0.5973041449750623,
          -1.1962529317151176,
          -1.4050971356797632
         ]
        },
        {
         "line": {
          "color": "hsl(120, 70%, 50%)",
          "shape": "spline"
         },
         "marker": {
          "color": 3,
          "colorscale": [
           [
            0,
            "#440154"
           ],
           [
            0.1111111111111111,
            "#482878"
           ],
           [
            0.2222222222222222,
            "#3e4989"
           ],
           [
            0.3333333333333333,
            "#31688e"
           ],
           [
            0.4444444444444444,
            "#26828e"
           ],
           [
            0.5555555555555556,
            "#1f9e89"
           ],
           [
            0.6666666666666666,
            "#35b779"
           ],
           [
            0.7777777777777778,
            "#6ece58"
           ],
           [
            0.8888888888888888,
            "#b5de2b"
           ],
           [
            1,
            "#fde725"
           ]
          ],
          "size": 6
         },
         "mode": "lines+markers",
         "name": "Cluster 3",
         "text": [
          "Cluster: 3",
          "Cluster: 3",
          "Cluster: 2",
          "Cluster: 3"
         ],
         "type": "scatter",
         "x": [
          1.9978388658447237,
          1.7238854438471276,
          2.653150494900563,
          2.9023535383953414
         ],
         "y": [
          -0.04146817980362943,
          0.04681446222406591,
          0.5962772907539193,
          0.02910546164956116
         ]
        },
        {
         "line": {
          "color": "hsl(40, 70%, 50%)",
          "shape": "spline"
         },
         "marker": {
          "color": 1,
          "colorscale": [
           [
            0,
            "#440154"
           ],
           [
            0.1111111111111111,
            "#482878"
           ],
           [
            0.2222222222222222,
            "#3e4989"
           ],
           [
            0.3333333333333333,
            "#31688e"
           ],
           [
            0.4444444444444444,
            "#26828e"
           ],
           [
            0.5555555555555556,
            "#1f9e89"
           ],
           [
            0.6666666666666666,
            "#35b779"
           ],
           [
            0.7777777777777778,
            "#6ece58"
           ],
           [
            0.8888888888888888,
            "#b5de2b"
           ],
           [
            1,
            "#fde725"
           ]
          ],
          "size": 6
         },
         "mode": "lines+markers",
         "name": "Cluster 1",
         "text": [
          "Cluster: 1",
          "Cluster: 4",
          "Cluster: 4",
          "Cluster: 4"
         ],
         "type": "scatter",
         "x": [
          -1.2257069369087332,
          -1.4074868115600532,
          -3.142360222712989,
          -2.1718971902727793
         ],
         "y": [
          -1.0087890095675398,
          -1.6231890719430373,
          -2.084474732096358,
          -1.5073911711440475
         ]
        },
        {
         "line": {
          "color": "hsl(160, 70%, 50%)",
          "shape": "spline"
         },
         "marker": {
          "color": 4,
          "colorscale": [
           [
            0,
            "#440154"
           ],
           [
            0.1111111111111111,
            "#482878"
           ],
           [
            0.2222222222222222,
            "#3e4989"
           ],
           [
            0.3333333333333333,
            "#31688e"
           ],
           [
            0.4444444444444444,
            "#26828e"
           ],
           [
            0.5555555555555556,
            "#1f9e89"
           ],
           [
            0.6666666666666666,
            "#35b779"
           ],
           [
            0.7777777777777778,
            "#6ece58"
           ],
           [
            0.8888888888888888,
            "#b5de2b"
           ],
           [
            1,
            "#fde725"
           ]
          ],
          "size": 6
         },
         "mode": "lines+markers",
         "name": "Cluster 4",
         "text": [
          "Cluster: 3",
          "Cluster: 3",
          "Cluster: 3",
          "Cluster: 3"
         ],
         "type": "scatter",
         "x": [
          0.7140823824807155,
          0.6042296809773819,
          0.6220148561557884,
          -0.09395760869048313
         ],
         "y": [
          -1.9214263757247054,
          -2.015636770291195,
          -2.2085575217115707,
          -2.608774148166989
         ]
        },
        {
         "line": {
          "color": "hsl(160, 70%, 50%)",
          "shape": "spline"
         },
         "marker": {
          "color": 4,
          "colorscale": [
           [
            0,
            "#440154"
           ],
           [
            0.1111111111111111,
            "#482878"
           ],
           [
            0.2222222222222222,
            "#3e4989"
           ],
           [
            0.3333333333333333,
            "#31688e"
           ],
           [
            0.4444444444444444,
            "#26828e"
           ],
           [
            0.5555555555555556,
            "#1f9e89"
           ],
           [
            0.6666666666666666,
            "#35b779"
           ],
           [
            0.7777777777777778,
            "#6ece58"
           ],
           [
            0.8888888888888888,
            "#b5de2b"
           ],
           [
            1,
            "#fde725"
           ]
          ],
          "size": 6
         },
         "mode": "lines+markers",
         "name": "Cluster 4",
         "text": [
          "Cluster: 3",
          "Cluster: 3",
          "Cluster: 4",
          "Cluster: 3"
         ],
         "type": "scatter",
         "x": [
          0.5204873094454056,
          1.5928287384802853,
          -0.4653354131835717,
          2.8078396129518857
         ],
         "y": [
          -2.6247375745326647,
          -1.565268816726917,
          -2.524701703206319,
          -1.1855466333652507
         ]
        },
        {
         "line": {
          "color": "hsl(160, 70%, 50%)",
          "shape": "spline"
         },
         "marker": {
          "color": 4,
          "colorscale": [
           [
            0,
            "#440154"
           ],
           [
            0.1111111111111111,
            "#482878"
           ],
           [
            0.2222222222222222,
            "#3e4989"
           ],
           [
            0.3333333333333333,
            "#31688e"
           ],
           [
            0.4444444444444444,
            "#26828e"
           ],
           [
            0.5555555555555556,
            "#1f9e89"
           ],
           [
            0.6666666666666666,
            "#35b779"
           ],
           [
            0.7777777777777778,
            "#6ece58"
           ],
           [
            0.8888888888888888,
            "#b5de2b"
           ],
           [
            1,
            "#fde725"
           ]
          ],
          "size": 6
         },
         "mode": "lines+markers",
         "name": "Cluster 4",
         "text": [
          "Cluster: 3",
          "Cluster: 3",
          "Cluster: 4",
          "Cluster: 3"
         ],
         "type": "scatter",
         "x": [
          0.25469098453661393,
          0.9251758780422693,
          -0.7479841477871007,
          0.33991168474985684
         ],
         "y": [
          -1.417095636420133,
          -0.9244755884986814,
          -1.7355049797358484,
          -1.2015664942172435
         ]
        },
        {
         "line": {
          "color": "hsl(120, 70%, 50%)",
          "shape": "spline"
         },
         "marker": {
          "color": 3,
          "colorscale": [
           [
            0,
            "#440154"
           ],
           [
            0.1111111111111111,
            "#482878"
           ],
           [
            0.2222222222222222,
            "#3e4989"
           ],
           [
            0.3333333333333333,
            "#31688e"
           ],
           [
            0.4444444444444444,
            "#26828e"
           ],
           [
            0.5555555555555556,
            "#1f9e89"
           ],
           [
            0.6666666666666666,
            "#35b779"
           ],
           [
            0.7777777777777778,
            "#6ece58"
           ],
           [
            0.8888888888888888,
            "#b5de2b"
           ],
           [
            1,
            "#fde725"
           ]
          ],
          "size": 6
         },
         "mode": "lines+markers",
         "name": "Cluster 3",
         "text": [
          "Cluster: 3",
          "Cluster: 3",
          "Cluster: 3",
          "Cluster: 3"
         ],
         "type": "scatter",
         "x": [
          3.188119599167522,
          2.688682149935499,
          2.8806863641130067,
          2.6153154406311314
         ],
         "y": [
          -0.5280453335351305,
          -0.21280908779002006,
          -0.5327996626308578,
          -0.2683764011427296
         ]
        },
        {
         "line": {
          "color": "hsl(80, 70%, 50%)",
          "shape": "spline"
         },
         "marker": {
          "color": 2,
          "colorscale": [
           [
            0,
            "#440154"
           ],
           [
            0.1111111111111111,
            "#482878"
           ],
           [
            0.2222222222222222,
            "#3e4989"
           ],
           [
            0.3333333333333333,
            "#31688e"
           ],
           [
            0.4444444444444444,
            "#26828e"
           ],
           [
            0.5555555555555556,
            "#1f9e89"
           ],
           [
            0.6666666666666666,
            "#35b779"
           ],
           [
            0.7777777777777778,
            "#6ece58"
           ],
           [
            0.8888888888888888,
            "#b5de2b"
           ],
           [
            1,
            "#fde725"
           ]
          ],
          "size": 6
         },
         "mode": "lines+markers",
         "name": "Cluster 2",
         "text": [
          "Cluster: 0",
          "Cluster: 0",
          "Cluster: 0",
          "Cluster: 0"
         ],
         "type": "scatter",
         "x": [
          -2.2241355961723372,
          -1.9223219768205968,
          -1.6172868410186432,
          -2.2978137233283134
         ],
         "y": [
          2.268296028206541,
          2.210085499899899,
          1.8085824251078115,
          1.3760693939848914
         ]
        },
        {
         "line": {
          "color": "hsl(80, 70%, 50%)",
          "shape": "spline"
         },
         "marker": {
          "color": 2,
          "colorscale": [
           [
            0,
            "#440154"
           ],
           [
            0.1111111111111111,
            "#482878"
           ],
           [
            0.2222222222222222,
            "#3e4989"
           ],
           [
            0.3333333333333333,
            "#31688e"
           ],
           [
            0.4444444444444444,
            "#26828e"
           ],
           [
            0.5555555555555556,
            "#1f9e89"
           ],
           [
            0.6666666666666666,
            "#35b779"
           ],
           [
            0.7777777777777778,
            "#6ece58"
           ],
           [
            0.8888888888888888,
            "#b5de2b"
           ],
           [
            1,
            "#fde725"
           ]
          ],
          "size": 6
         },
         "mode": "lines+markers",
         "name": "Cluster 2",
         "text": [
          "Cluster: 5",
          "Cluster: 1",
          "Cluster: 5",
          "Cluster: 4"
         ],
         "type": "scatter",
         "x": [
          -2.750821422624427,
          -2.2753994275867266,
          -3.239023311412029,
          -1.848626136237811
         ],
         "y": [
          0.15826811460705165,
          0.3476729594821421,
          -0.7720155976048491,
          -0.3109059137740412
         ]
        },
        {
         "line": {
          "color": "hsl(80, 70%, 50%)",
          "shape": "spline"
         },
         "marker": {
          "color": 2,
          "colorscale": [
           [
            0,
            "#440154"
           ],
           [
            0.1111111111111111,
            "#482878"
           ],
           [
            0.2222222222222222,
            "#3e4989"
           ],
           [
            0.3333333333333333,
            "#31688e"
           ],
           [
            0.4444444444444444,
            "#26828e"
           ],
           [
            0.5555555555555556,
            "#1f9e89"
           ],
           [
            0.6666666666666666,
            "#35b779"
           ],
           [
            0.7777777777777778,
            "#6ece58"
           ],
           [
            0.8888888888888888,
            "#b5de2b"
           ],
           [
            1,
            "#fde725"
           ]
          ],
          "size": 6
         },
         "mode": "lines+markers",
         "name": "Cluster 2",
         "text": [
          "Cluster: 0",
          "Cluster: 5",
          "Cluster: 5",
          "Cluster: 5"
         ],
         "type": "scatter",
         "x": [
          -1.6597964763753736,
          -3.1018485406077168,
          -4.200183741629456,
          -3.0227182602264766
         ],
         "y": [
          2.041148020592102,
          0.8490017238527457,
          0.19819529646575582,
          0.9773744227171085
         ]
        },
        {
         "line": {
          "color": "hsl(120, 70%, 50%)",
          "shape": "spline"
         },
         "marker": {
          "color": 3,
          "colorscale": [
           [
            0,
            "#440154"
           ],
           [
            0.1111111111111111,
            "#482878"
           ],
           [
            0.2222222222222222,
            "#3e4989"
           ],
           [
            0.3333333333333333,
            "#31688e"
           ],
           [
            0.4444444444444444,
            "#26828e"
           ],
           [
            0.5555555555555556,
            "#1f9e89"
           ],
           [
            0.6666666666666666,
            "#35b779"
           ],
           [
            0.7777777777777778,
            "#6ece58"
           ],
           [
            0.8888888888888888,
            "#b5de2b"
           ],
           [
            1,
            "#fde725"
           ]
          ],
          "size": 6
         },
         "mode": "lines+markers",
         "name": "Cluster 3",
         "text": [
          "Cluster: 2",
          "Cluster: 3",
          "Cluster: 3",
          "Cluster: 3"
         ],
         "type": "scatter",
         "x": [
          3.8714346359283556,
          3.7391298526212684,
          3.070373754809727,
          2.76229892214429
         ],
         "y": [
          -0.18688974966973748,
          -1.0225593584516404,
          -1.1685179072297878,
          -1.75836890350587
         ]
        },
        {
         "line": {
          "color": "hsl(80, 70%, 50%)",
          "shape": "spline"
         },
         "marker": {
          "color": 2,
          "colorscale": [
           [
            0,
            "#440154"
           ],
           [
            0.1111111111111111,
            "#482878"
           ],
           [
            0.2222222222222222,
            "#3e4989"
           ],
           [
            0.3333333333333333,
            "#31688e"
           ],
           [
            0.4444444444444444,
            "#26828e"
           ],
           [
            0.5555555555555556,
            "#1f9e89"
           ],
           [
            0.6666666666666666,
            "#35b779"
           ],
           [
            0.7777777777777778,
            "#6ece58"
           ],
           [
            0.8888888888888888,
            "#b5de2b"
           ],
           [
            1,
            "#fde725"
           ]
          ],
          "size": 6
         },
         "mode": "lines+markers",
         "name": "Cluster 2",
         "text": [
          "Cluster: 0",
          "Cluster: 5",
          "Cluster: 0",
          "Cluster: 5"
         ],
         "type": "scatter",
         "x": [
          -3.5050743049482422,
          -4.215204463259366,
          -2.897195476439871,
          -3.059311972446389
         ],
         "y": [
          1.6770926575289644,
          1.2755529609242866,
          1.4633718948605907,
          0.38239438247685725
         ]
        },
        {
         "line": {
          "color": "hsl(80, 70%, 50%)",
          "shape": "spline"
         },
         "marker": {
          "color": 2,
          "colorscale": [
           [
            0,
            "#440154"
           ],
           [
            0.1111111111111111,
            "#482878"
           ],
           [
            0.2222222222222222,
            "#3e4989"
           ],
           [
            0.3333333333333333,
            "#31688e"
           ],
           [
            0.4444444444444444,
            "#26828e"
           ],
           [
            0.5555555555555556,
            "#1f9e89"
           ],
           [
            0.6666666666666666,
            "#35b779"
           ],
           [
            0.7777777777777778,
            "#6ece58"
           ],
           [
            0.8888888888888888,
            "#b5de2b"
           ],
           [
            1,
            "#fde725"
           ]
          ],
          "size": 6
         },
         "mode": "lines+markers",
         "name": "Cluster 2",
         "text": [
          "Cluster: 2",
          "Cluster: 1",
          "Cluster: 5",
          "Cluster: 1"
         ],
         "type": "scatter",
         "x": [
          2.558185776667937,
          -1.4231595344135841,
          -2.8406897942546045,
          -1.4231595344135841
         ],
         "y": [
          1.5569312233240087,
          0.2476618275100941,
          -0.22664899922352824,
          0.2476618275100941
         ]
        },
        {
         "line": {
          "color": "hsl(80, 70%, 50%)",
          "shape": "spline"
         },
         "marker": {
          "color": 2,
          "colorscale": [
           [
            0,
            "#440154"
           ],
           [
            0.1111111111111111,
            "#482878"
           ],
           [
            0.2222222222222222,
            "#3e4989"
           ],
           [
            0.3333333333333333,
            "#31688e"
           ],
           [
            0.4444444444444444,
            "#26828e"
           ],
           [
            0.5555555555555556,
            "#1f9e89"
           ],
           [
            0.6666666666666666,
            "#35b779"
           ],
           [
            0.7777777777777778,
            "#6ece58"
           ],
           [
            0.8888888888888888,
            "#b5de2b"
           ],
           [
            1,
            "#fde725"
           ]
          ],
          "size": 6
         },
         "mode": "lines+markers",
         "name": "Cluster 2",
         "text": [
          "Cluster: 0",
          "Cluster: 0",
          "Cluster: 2",
          "Cluster: 0"
         ],
         "type": "scatter",
         "x": [
          -0.0264413652212524,
          -3.1871506994375705,
          2.2942214140862522,
          -3.1871506994375705
         ],
         "y": [
          2.643286233110374,
          2.315113208858475,
          3.7416667972529427,
          2.315113208858475
         ]
        },
        {
         "line": {
          "color": "hsl(40, 70%, 50%)",
          "shape": "spline"
         },
         "marker": {
          "color": 1,
          "colorscale": [
           [
            0,
            "#440154"
           ],
           [
            0.1111111111111111,
            "#482878"
           ],
           [
            0.2222222222222222,
            "#3e4989"
           ],
           [
            0.3333333333333333,
            "#31688e"
           ],
           [
            0.4444444444444444,
            "#26828e"
           ],
           [
            0.5555555555555556,
            "#1f9e89"
           ],
           [
            0.6666666666666666,
            "#35b779"
           ],
           [
            0.7777777777777778,
            "#6ece58"
           ],
           [
            0.8888888888888888,
            "#b5de2b"
           ],
           [
            1,
            "#fde725"
           ]
          ],
          "size": 6
         },
         "mode": "lines+markers",
         "name": "Cluster 1",
         "text": [
          "Cluster: 4",
          "Cluster: 1",
          "Cluster: 4",
          "Cluster: 4"
         ],
         "type": "scatter",
         "x": [
          -1.4705698508741916,
          -1.6696748588103643,
          -2.0414089263530575,
          -1.3618789861419258
         ],
         "y": [
          -0.9185413681144514,
          -0.695647881913294,
          -0.6487707753522723,
          -1.5778969054669985
         ]
        },
        {
         "line": {
          "color": "hsl(120, 70%, 50%)",
          "shape": "spline"
         },
         "marker": {
          "color": 3,
          "colorscale": [
           [
            0,
            "#440154"
           ],
           [
            0.1111111111111111,
            "#482878"
           ],
           [
            0.2222222222222222,
            "#3e4989"
           ],
           [
            0.3333333333333333,
            "#31688e"
           ],
           [
            0.4444444444444444,
            "#26828e"
           ],
           [
            0.5555555555555556,
            "#1f9e89"
           ],
           [
            0.6666666666666666,
            "#35b779"
           ],
           [
            0.7777777777777778,
            "#6ece58"
           ],
           [
            0.8888888888888888,
            "#b5de2b"
           ],
           [
            1,
            "#fde725"
           ]
          ],
          "size": 6
         },
         "mode": "lines+markers",
         "name": "Cluster 3",
         "text": [
          "Cluster: 2",
          "Cluster: 3",
          "Cluster: 2",
          "Cluster: 2"
         ],
         "type": "scatter",
         "x": [
          3.5671163466687394,
          0.9289682157963837,
          3.9444710428873035,
          3.9894714102845557
         ],
         "y": [
          -0.2382787259650234,
          -1.4748450500698824,
          0.507409350692503,
          0.9825135577244468
         ]
        },
        {
         "line": {
          "color": "hsl(200, 70%, 50%)",
          "shape": "spline"
         },
         "marker": {
          "color": 5,
          "colorscale": [
           [
            0,
            "#440154"
           ],
           [
            0.1111111111111111,
            "#482878"
           ],
           [
            0.2222222222222222,
            "#3e4989"
           ],
           [
            0.3333333333333333,
            "#31688e"
           ],
           [
            0.4444444444444444,
            "#26828e"
           ],
           [
            0.5555555555555556,
            "#1f9e89"
           ],
           [
            0.6666666666666666,
            "#35b779"
           ],
           [
            0.7777777777777778,
            "#6ece58"
           ],
           [
            0.8888888888888888,
            "#b5de2b"
           ],
           [
            1,
            "#fde725"
           ]
          ],
          "size": 6
         },
         "mode": "lines+markers",
         "name": "Cluster 5",
         "text": [
          "Cluster: 4",
          "Cluster: 3",
          "Cluster: 4",
          "Cluster: 3"
         ],
         "type": "scatter",
         "x": [
          -0.07514896857679715,
          0.7685246124738114,
          -0.042562201075221184,
          0.20164612345972915
         ],
         "y": [
          -6.880577731627166,
          -6.5566729744187136,
          -6.887766778658582,
          -6.701059313303872
         ]
        },
        {
         "line": {
          "color": "hsl(80, 70%, 50%)",
          "shape": "spline"
         },
         "marker": {
          "color": 2,
          "colorscale": [
           [
            0,
            "#440154"
           ],
           [
            0.1111111111111111,
            "#482878"
           ],
           [
            0.2222222222222222,
            "#3e4989"
           ],
           [
            0.3333333333333333,
            "#31688e"
           ],
           [
            0.4444444444444444,
            "#26828e"
           ],
           [
            0.5555555555555556,
            "#1f9e89"
           ],
           [
            0.6666666666666666,
            "#35b779"
           ],
           [
            0.7777777777777778,
            "#6ece58"
           ],
           [
            0.8888888888888888,
            "#b5de2b"
           ],
           [
            1,
            "#fde725"
           ]
          ],
          "size": 6
         },
         "mode": "lines+markers",
         "name": "Cluster 2",
         "text": [
          "Cluster: 5",
          "Cluster: 5",
          "Cluster: 5",
          "Cluster: 5"
         ],
         "type": "scatter",
         "x": [
          -5.106968622655103,
          -5.881123350466656,
          -5.774141817073037,
          -4.678220058318765
         ],
         "y": [
          -0.359789793861824,
          1.0423093952023277,
          0.5937410819249803,
          1.8073766834718437
         ]
        }
       ],
       "layout": {
        "legend": {
         "font": {
          "size": 12
         },
         "title": {
          "font": {
           "size": 16
          },
          "text": "Cluster"
         }
        },
        "showlegend": true,
        "template": {
         "data": {
          "bar": [
           {
            "error_x": {
             "color": "#2a3f5f"
            },
            "error_y": {
             "color": "#2a3f5f"
            },
            "marker": {
             "line": {
              "color": "#E5ECF6",
              "width": 0.5
             },
             "pattern": {
              "fillmode": "overlay",
              "size": 10,
              "solidity": 0.2
             }
            },
            "type": "bar"
           }
          ],
          "barpolar": [
           {
            "marker": {
             "line": {
              "color": "#E5ECF6",
              "width": 0.5
             },
             "pattern": {
              "fillmode": "overlay",
              "size": 10,
              "solidity": 0.2
             }
            },
            "type": "barpolar"
           }
          ],
          "carpet": [
           {
            "aaxis": {
             "endlinecolor": "#2a3f5f",
             "gridcolor": "white",
             "linecolor": "white",
             "minorgridcolor": "white",
             "startlinecolor": "#2a3f5f"
            },
            "baxis": {
             "endlinecolor": "#2a3f5f",
             "gridcolor": "white",
             "linecolor": "white",
             "minorgridcolor": "white",
             "startlinecolor": "#2a3f5f"
            },
            "type": "carpet"
           }
          ],
          "choropleth": [
           {
            "colorbar": {
             "outlinewidth": 0,
             "ticks": ""
            },
            "type": "choropleth"
           }
          ],
          "contour": [
           {
            "colorbar": {
             "outlinewidth": 0,
             "ticks": ""
            },
            "colorscale": [
             [
              0,
              "#0d0887"
             ],
             [
              0.1111111111111111,
              "#46039f"
             ],
             [
              0.2222222222222222,
              "#7201a8"
             ],
             [
              0.3333333333333333,
              "#9c179e"
             ],
             [
              0.4444444444444444,
              "#bd3786"
             ],
             [
              0.5555555555555556,
              "#d8576b"
             ],
             [
              0.6666666666666666,
              "#ed7953"
             ],
             [
              0.7777777777777778,
              "#fb9f3a"
             ],
             [
              0.8888888888888888,
              "#fdca26"
             ],
             [
              1,
              "#f0f921"
             ]
            ],
            "type": "contour"
           }
          ],
          "contourcarpet": [
           {
            "colorbar": {
             "outlinewidth": 0,
             "ticks": ""
            },
            "type": "contourcarpet"
           }
          ],
          "heatmap": [
           {
            "colorbar": {
             "outlinewidth": 0,
             "ticks": ""
            },
            "colorscale": [
             [
              0,
              "#0d0887"
             ],
             [
              0.1111111111111111,
              "#46039f"
             ],
             [
              0.2222222222222222,
              "#7201a8"
             ],
             [
              0.3333333333333333,
              "#9c179e"
             ],
             [
              0.4444444444444444,
              "#bd3786"
             ],
             [
              0.5555555555555556,
              "#d8576b"
             ],
             [
              0.6666666666666666,
              "#ed7953"
             ],
             [
              0.7777777777777778,
              "#fb9f3a"
             ],
             [
              0.8888888888888888,
              "#fdca26"
             ],
             [
              1,
              "#f0f921"
             ]
            ],
            "type": "heatmap"
           }
          ],
          "heatmapgl": [
           {
            "colorbar": {
             "outlinewidth": 0,
             "ticks": ""
            },
            "colorscale": [
             [
              0,
              "#0d0887"
             ],
             [
              0.1111111111111111,
              "#46039f"
             ],
             [
              0.2222222222222222,
              "#7201a8"
             ],
             [
              0.3333333333333333,
              "#9c179e"
             ],
             [
              0.4444444444444444,
              "#bd3786"
             ],
             [
              0.5555555555555556,
              "#d8576b"
             ],
             [
              0.6666666666666666,
              "#ed7953"
             ],
             [
              0.7777777777777778,
              "#fb9f3a"
             ],
             [
              0.8888888888888888,
              "#fdca26"
             ],
             [
              1,
              "#f0f921"
             ]
            ],
            "type": "heatmapgl"
           }
          ],
          "histogram": [
           {
            "marker": {
             "pattern": {
              "fillmode": "overlay",
              "size": 10,
              "solidity": 0.2
             }
            },
            "type": "histogram"
           }
          ],
          "histogram2d": [
           {
            "colorbar": {
             "outlinewidth": 0,
             "ticks": ""
            },
            "colorscale": [
             [
              0,
              "#0d0887"
             ],
             [
              0.1111111111111111,
              "#46039f"
             ],
             [
              0.2222222222222222,
              "#7201a8"
             ],
             [
              0.3333333333333333,
              "#9c179e"
             ],
             [
              0.4444444444444444,
              "#bd3786"
             ],
             [
              0.5555555555555556,
              "#d8576b"
             ],
             [
              0.6666666666666666,
              "#ed7953"
             ],
             [
              0.7777777777777778,
              "#fb9f3a"
             ],
             [
              0.8888888888888888,
              "#fdca26"
             ],
             [
              1,
              "#f0f921"
             ]
            ],
            "type": "histogram2d"
           }
          ],
          "histogram2dcontour": [
           {
            "colorbar": {
             "outlinewidth": 0,
             "ticks": ""
            },
            "colorscale": [
             [
              0,
              "#0d0887"
             ],
             [
              0.1111111111111111,
              "#46039f"
             ],
             [
              0.2222222222222222,
              "#7201a8"
             ],
             [
              0.3333333333333333,
              "#9c179e"
             ],
             [
              0.4444444444444444,
              "#bd3786"
             ],
             [
              0.5555555555555556,
              "#d8576b"
             ],
             [
              0.6666666666666666,
              "#ed7953"
             ],
             [
              0.7777777777777778,
              "#fb9f3a"
             ],
             [
              0.8888888888888888,
              "#fdca26"
             ],
             [
              1,
              "#f0f921"
             ]
            ],
            "type": "histogram2dcontour"
           }
          ],
          "mesh3d": [
           {
            "colorbar": {
             "outlinewidth": 0,
             "ticks": ""
            },
            "type": "mesh3d"
           }
          ],
          "parcoords": [
           {
            "line": {
             "colorbar": {
              "outlinewidth": 0,
              "ticks": ""
             }
            },
            "type": "parcoords"
           }
          ],
          "pie": [
           {
            "automargin": true,
            "type": "pie"
           }
          ],
          "scatter": [
           {
            "fillpattern": {
             "fillmode": "overlay",
             "size": 10,
             "solidity": 0.2
            },
            "type": "scatter"
           }
          ],
          "scatter3d": [
           {
            "line": {
             "colorbar": {
              "outlinewidth": 0,
              "ticks": ""
             }
            },
            "marker": {
             "colorbar": {
              "outlinewidth": 0,
              "ticks": ""
             }
            },
            "type": "scatter3d"
           }
          ],
          "scattercarpet": [
           {
            "marker": {
             "colorbar": {
              "outlinewidth": 0,
              "ticks": ""
             }
            },
            "type": "scattercarpet"
           }
          ],
          "scattergeo": [
           {
            "marker": {
             "colorbar": {
              "outlinewidth": 0,
              "ticks": ""
             }
            },
            "type": "scattergeo"
           }
          ],
          "scattergl": [
           {
            "marker": {
             "colorbar": {
              "outlinewidth": 0,
              "ticks": ""
             }
            },
            "type": "scattergl"
           }
          ],
          "scattermapbox": [
           {
            "marker": {
             "colorbar": {
              "outlinewidth": 0,
              "ticks": ""
             }
            },
            "type": "scattermapbox"
           }
          ],
          "scatterpolar": [
           {
            "marker": {
             "colorbar": {
              "outlinewidth": 0,
              "ticks": ""
             }
            },
            "type": "scatterpolar"
           }
          ],
          "scatterpolargl": [
           {
            "marker": {
             "colorbar": {
              "outlinewidth": 0,
              "ticks": ""
             }
            },
            "type": "scatterpolargl"
           }
          ],
          "scatterternary": [
           {
            "marker": {
             "colorbar": {
              "outlinewidth": 0,
              "ticks": ""
             }
            },
            "type": "scatterternary"
           }
          ],
          "surface": [
           {
            "colorbar": {
             "outlinewidth": 0,
             "ticks": ""
            },
            "colorscale": [
             [
              0,
              "#0d0887"
             ],
             [
              0.1111111111111111,
              "#46039f"
             ],
             [
              0.2222222222222222,
              "#7201a8"
             ],
             [
              0.3333333333333333,
              "#9c179e"
             ],
             [
              0.4444444444444444,
              "#bd3786"
             ],
             [
              0.5555555555555556,
              "#d8576b"
             ],
             [
              0.6666666666666666,
              "#ed7953"
             ],
             [
              0.7777777777777778,
              "#fb9f3a"
             ],
             [
              0.8888888888888888,
              "#fdca26"
             ],
             [
              1,
              "#f0f921"
             ]
            ],
            "type": "surface"
           }
          ],
          "table": [
           {
            "cells": {
             "fill": {
              "color": "#EBF0F8"
             },
             "line": {
              "color": "white"
             }
            },
            "header": {
             "fill": {
              "color": "#C8D4E3"
             },
             "line": {
              "color": "white"
             }
            },
            "type": "table"
           }
          ]
         },
         "layout": {
          "annotationdefaults": {
           "arrowcolor": "#2a3f5f",
           "arrowhead": 0,
           "arrowwidth": 1
          },
          "autotypenumbers": "strict",
          "coloraxis": {
           "colorbar": {
            "outlinewidth": 0,
            "ticks": ""
           }
          },
          "colorscale": {
           "diverging": [
            [
             0,
             "#8e0152"
            ],
            [
             0.1,
             "#c51b7d"
            ],
            [
             0.2,
             "#de77ae"
            ],
            [
             0.3,
             "#f1b6da"
            ],
            [
             0.4,
             "#fde0ef"
            ],
            [
             0.5,
             "#f7f7f7"
            ],
            [
             0.6,
             "#e6f5d0"
            ],
            [
             0.7,
             "#b8e186"
            ],
            [
             0.8,
             "#7fbc41"
            ],
            [
             0.9,
             "#4d9221"
            ],
            [
             1,
             "#276419"
            ]
           ],
           "sequential": [
            [
             0,
             "#0d0887"
            ],
            [
             0.1111111111111111,
             "#46039f"
            ],
            [
             0.2222222222222222,
             "#7201a8"
            ],
            [
             0.3333333333333333,
             "#9c179e"
            ],
            [
             0.4444444444444444,
             "#bd3786"
            ],
            [
             0.5555555555555556,
             "#d8576b"
            ],
            [
             0.6666666666666666,
             "#ed7953"
            ],
            [
             0.7777777777777778,
             "#fb9f3a"
            ],
            [
             0.8888888888888888,
             "#fdca26"
            ],
            [
             1,
             "#f0f921"
            ]
           ],
           "sequentialminus": [
            [
             0,
             "#0d0887"
            ],
            [
             0.1111111111111111,
             "#46039f"
            ],
            [
             0.2222222222222222,
             "#7201a8"
            ],
            [
             0.3333333333333333,
             "#9c179e"
            ],
            [
             0.4444444444444444,
             "#bd3786"
            ],
            [
             0.5555555555555556,
             "#d8576b"
            ],
            [
             0.6666666666666666,
             "#ed7953"
            ],
            [
             0.7777777777777778,
             "#fb9f3a"
            ],
            [
             0.8888888888888888,
             "#fdca26"
            ],
            [
             1,
             "#f0f921"
            ]
           ]
          },
          "colorway": [
           "#636efa",
           "#EF553B",
           "#00cc96",
           "#ab63fa",
           "#FFA15A",
           "#19d3f3",
           "#FF6692",
           "#B6E880",
           "#FF97FF",
           "#FECB52"
          ],
          "font": {
           "color": "#2a3f5f"
          },
          "geo": {
           "bgcolor": "white",
           "lakecolor": "white",
           "landcolor": "#E5ECF6",
           "showlakes": true,
           "showland": true,
           "subunitcolor": "white"
          },
          "hoverlabel": {
           "align": "left"
          },
          "hovermode": "closest",
          "mapbox": {
           "style": "light"
          },
          "paper_bgcolor": "white",
          "plot_bgcolor": "#E5ECF6",
          "polar": {
           "angularaxis": {
            "gridcolor": "white",
            "linecolor": "white",
            "ticks": ""
           },
           "bgcolor": "#E5ECF6",
           "radialaxis": {
            "gridcolor": "white",
            "linecolor": "white",
            "ticks": ""
           }
          },
          "scene": {
           "xaxis": {
            "backgroundcolor": "#E5ECF6",
            "gridcolor": "white",
            "gridwidth": 2,
            "linecolor": "white",
            "showbackground": true,
            "ticks": "",
            "zerolinecolor": "white"
           },
           "yaxis": {
            "backgroundcolor": "#E5ECF6",
            "gridcolor": "white",
            "gridwidth": 2,
            "linecolor": "white",
            "showbackground": true,
            "ticks": "",
            "zerolinecolor": "white"
           },
           "zaxis": {
            "backgroundcolor": "#E5ECF6",
            "gridcolor": "white",
            "gridwidth": 2,
            "linecolor": "white",
            "showbackground": true,
            "ticks": "",
            "zerolinecolor": "white"
           }
          },
          "shapedefaults": {
           "line": {
            "color": "#2a3f5f"
           }
          },
          "ternary": {
           "aaxis": {
            "gridcolor": "white",
            "linecolor": "white",
            "ticks": ""
           },
           "baxis": {
            "gridcolor": "white",
            "linecolor": "white",
            "ticks": ""
           },
           "bgcolor": "#E5ECF6",
           "caxis": {
            "gridcolor": "white",
            "linecolor": "white",
            "ticks": ""
           }
          },
          "title": {
           "x": 0.05
          },
          "xaxis": {
           "automargin": true,
           "gridcolor": "white",
           "linecolor": "white",
           "ticks": "",
           "title": {
            "standoff": 15
           },
           "zerolinecolor": "white",
           "zerolinewidth": 2
          },
          "yaxis": {
           "automargin": true,
           "gridcolor": "white",
           "linecolor": "white",
           "ticks": "",
           "title": {
            "standoff": 15
           },
           "zerolinecolor": "white",
           "zerolinewidth": 2
          }
         }
        },
        "title": {
         "text": "2D PCA Plot of User Data by Week with Trajectory Clustering"
        },
        "xaxis": {
         "title": {
          "text": "PCA1"
         }
        },
        "yaxis": {
         "title": {
          "text": "PCA2"
         }
        }
       }
      }
     },
     "metadata": {},
     "output_type": "display_data"
    }
   ],
   "source": [
    "from scipy.cluster.hierarchy import linkage, fcluster\n",
    "from scipy.spatial.distance import pdist, squareform\n",
    "from fastdtw import fastdtw\n",
    "from scipy.spatial.distance import euclidean\n",
    "\n",
    "# Select a subset of unique CloudId values (e.g., the first 10 unique CloudIds)\n",
    "unique_cloud_ids = reduced_bio['CloudId'].unique()[:50]\n",
    "\n",
    "# Collect all user trajectories\n",
    "trajectories = []\n",
    "valid_cloud_ids = []\n",
    "for cloud_id in unique_cloud_ids:\n",
    "    user_data = reduced_bio[reduced_bio['CloudId'] == cloud_id]\n",
    "    trajectory = user_data[['PCA1', 'PCA2']].values\n",
    "    if len(trajectory) > 0:\n",
    "        trajectories.append(trajectory)\n",
    "        valid_cloud_ids.append(cloud_id)\n",
    "\n",
    "# Compute pairwise DTW distances\n",
    "n = len(trajectories)\n",
    "distance_matrix = np.zeros((n, n))\n",
    "for i in range(n):\n",
    "    for j in range(i + 1, n):\n",
    "        distance, path = fastdtw(trajectories[i], trajectories[j], dist=euclidean)\n",
    "        distance_matrix[i, j] = distance\n",
    "        distance_matrix[j, i] = distance\n",
    "\n",
    "# Perform hierarchical clustering\n",
    "Z = linkage(squareform(distance_matrix), method='ward')\n",
    "cluster_labels = fcluster(Z, t=5, criterion='maxclust')  # Adjust the number of clusters as needed\n",
    "\n",
    "# Initialize a new figure\n",
    "fig = go.Figure()\n",
    "\n",
    "# Plot the user trajectories with cluster colors\n",
    "for i, cloud_id in enumerate(valid_cloud_ids):\n",
    "    user_data = reduced_bio[reduced_bio['CloudId'] == cloud_id]\n",
    "    fig.add_trace(go.Scatter(\n",
    "        x=user_data['PCA1'],\n",
    "        y=user_data['PCA2'],\n",
    "        mode='lines+markers',\n",
    "        line_shape='spline',\n",
    "        text=user_data.apply(lambda row: '<br>'.join([f'{col}: {row[col]}' for col in ['Cluster']]), axis=1),\n",
    "        marker=dict(size=6, color=cluster_labels[i], colorscale='Viridis'),  # Set marker size to 6\n",
    "        line=dict(shape='spline', color=f'hsl({cluster_labels[i] * 40}, 70%, 50%)'),\n",
    "        name=f'Cluster {cluster_labels[i]}'\n",
    "    ))\n",
    "\n",
    "fig.update_layout(\n",
    "    title='2D PCA Plot of User Data by Week with Trajectory Clustering',\n",
    "    xaxis_title='PCA1',\n",
    "    yaxis_title='PCA2',\n",
    "    showlegend=True\n",
    ")\n",
    "\n",
    "# Add a legend to the plot\n",
    "fig.update_layout(\n",
    "    legend_title_text='Cluster',\n",
    "    legend_title_font_size=16,\n",
    "    legend_font_size=12\n",
    ")\n",
    "\n",
    "fig.show()"
   ]
  },
  {
   "cell_type": "code",
   "execution_count": 28,
   "metadata": {},
   "outputs": [
    {
     "data": {
      "application/vnd.plotly.v1+json": {
       "config": {
        "plotlyServerURL": "https://plot.ly"
       },
       "data": [
        {
         "line": {
          "color": "hsl(0, 70%, 50%)",
          "shape": "spline"
         },
         "marker": {
          "color": 0,
          "colorscale": [
           [
            0,
            "#440154"
           ],
           [
            0.1111111111111111,
            "#482878"
           ],
           [
            0.2222222222222222,
            "#3e4989"
           ],
           [
            0.3333333333333333,
            "#31688e"
           ],
           [
            0.4444444444444444,
            "#26828e"
           ],
           [
            0.5555555555555556,
            "#1f9e89"
           ],
           [
            0.6666666666666666,
            "#35b779"
           ],
           [
            0.7777777777777778,
            "#6ece58"
           ],
           [
            0.8888888888888888,
            "#b5de2b"
           ],
           [
            1,
            "#fde725"
           ]
          ],
          "size": 6
         },
         "mode": "lines+markers",
         "name": "Cluster 1",
         "type": "scatter",
         "x": [
          4.052262244274939,
          2.69854232548001,
          0.4284210463788959,
          2.6918001617880707
         ],
         "y": [
          6.390601391462422,
          4.0965723552046995,
          1.4772996290745686,
          2.303668761890835
         ]
        },
        {
         "line": {
          "color": "hsl(40, 70%, 50%)",
          "shape": "spline"
         },
         "marker": {
          "color": 1,
          "colorscale": [
           [
            0,
            "#440154"
           ],
           [
            0.1111111111111111,
            "#482878"
           ],
           [
            0.2222222222222222,
            "#3e4989"
           ],
           [
            0.3333333333333333,
            "#31688e"
           ],
           [
            0.4444444444444444,
            "#26828e"
           ],
           [
            0.5555555555555556,
            "#1f9e89"
           ],
           [
            0.6666666666666666,
            "#35b779"
           ],
           [
            0.7777777777777778,
            "#6ece58"
           ],
           [
            0.8888888888888888,
            "#b5de2b"
           ],
           [
            1,
            "#fde725"
           ]
          ],
          "size": 6
         },
         "mode": "lines+markers",
         "name": "Cluster 2",
         "type": "scatter",
         "x": [
          3.8491501581975274,
          3.3235153950697214,
          3.9166317092003813,
          4.153205208367059
         ],
         "y": [
          -0.39496234742206054,
          -0.5497128835254506,
          -0.4271872517294899,
          0.09643588415665019
         ]
        },
        {
         "line": {
          "color": "hsl(80, 70%, 50%)",
          "shape": "spline"
         },
         "marker": {
          "color": 2,
          "colorscale": [
           [
            0,
            "#440154"
           ],
           [
            0.1111111111111111,
            "#482878"
           ],
           [
            0.2222222222222222,
            "#3e4989"
           ],
           [
            0.3333333333333333,
            "#31688e"
           ],
           [
            0.4444444444444444,
            "#26828e"
           ],
           [
            0.5555555555555556,
            "#1f9e89"
           ],
           [
            0.6666666666666666,
            "#35b779"
           ],
           [
            0.7777777777777778,
            "#6ece58"
           ],
           [
            0.8888888888888888,
            "#b5de2b"
           ],
           [
            1,
            "#fde725"
           ]
          ],
          "size": 6
         },
         "mode": "lines+markers",
         "name": "Cluster 3",
         "type": "scatter",
         "x": [
          -0.3927040094797971,
          -0.15680425009604926,
          -0.46092521130469993,
          0.22278393167814142
         ],
         "y": [
          -1.716850421114505,
          -1.776878988244571,
          -1.8978985416784981,
          -0.7638538548551954
         ]
        },
        {
         "line": {
          "color": "hsl(120, 70%, 50%)",
          "shape": "spline"
         },
         "marker": {
          "color": 3,
          "colorscale": [
           [
            0,
            "#440154"
           ],
           [
            0.1111111111111111,
            "#482878"
           ],
           [
            0.2222222222222222,
            "#3e4989"
           ],
           [
            0.3333333333333333,
            "#31688e"
           ],
           [
            0.4444444444444444,
            "#26828e"
           ],
           [
            0.5555555555555556,
            "#1f9e89"
           ],
           [
            0.6666666666666666,
            "#35b779"
           ],
           [
            0.7777777777777778,
            "#6ece58"
           ],
           [
            0.8888888888888888,
            "#b5de2b"
           ],
           [
            1,
            "#fde725"
           ]
          ],
          "size": 6
         },
         "mode": "lines+markers",
         "name": "Cluster 4",
         "type": "scatter",
         "x": [
          -1.9218341403702714,
          -2.6992705868613194,
          -2.978426228137117,
          -2.4942093819355735
         ],
         "y": [
          2.0070136811007817,
          1.1537437190957187,
          0.838213287406931,
          0.5943957090816268
         ]
        },
        {
         "line": {
          "color": "hsl(160, 70%, 50%)",
          "shape": "spline"
         },
         "marker": {
          "color": 4,
          "colorscale": [
           [
            0,
            "#440154"
           ],
           [
            0.1111111111111111,
            "#482878"
           ],
           [
            0.2222222222222222,
            "#3e4989"
           ],
           [
            0.3333333333333333,
            "#31688e"
           ],
           [
            0.4444444444444444,
            "#26828e"
           ],
           [
            0.5555555555555556,
            "#1f9e89"
           ],
           [
            0.6666666666666666,
            "#35b779"
           ],
           [
            0.7777777777777778,
            "#6ece58"
           ],
           [
            0.8888888888888888,
            "#b5de2b"
           ],
           [
            1,
            "#fde725"
           ]
          ],
          "size": 6
         },
         "mode": "lines+markers",
         "name": "Cluster 5",
         "type": "scatter",
         "x": [
          -2.35880267479112,
          -2.2719711862362106,
          -2.8277997158845225,
          -2.6211111982926814
         ],
         "y": [
          -0.16942848186304674,
          -0.6085414325940167,
          -0.5719899767807564,
          -0.24204933248673013
         ]
        }
       ],
       "layout": {
        "legend": {
         "font": {
          "size": 12
         },
         "title": {
          "font": {
           "size": 16
          },
          "text": "Cluster"
         }
        },
        "showlegend": true,
        "template": {
         "data": {
          "bar": [
           {
            "error_x": {
             "color": "#2a3f5f"
            },
            "error_y": {
             "color": "#2a3f5f"
            },
            "marker": {
             "line": {
              "color": "#E5ECF6",
              "width": 0.5
             },
             "pattern": {
              "fillmode": "overlay",
              "size": 10,
              "solidity": 0.2
             }
            },
            "type": "bar"
           }
          ],
          "barpolar": [
           {
            "marker": {
             "line": {
              "color": "#E5ECF6",
              "width": 0.5
             },
             "pattern": {
              "fillmode": "overlay",
              "size": 10,
              "solidity": 0.2
             }
            },
            "type": "barpolar"
           }
          ],
          "carpet": [
           {
            "aaxis": {
             "endlinecolor": "#2a3f5f",
             "gridcolor": "white",
             "linecolor": "white",
             "minorgridcolor": "white",
             "startlinecolor": "#2a3f5f"
            },
            "baxis": {
             "endlinecolor": "#2a3f5f",
             "gridcolor": "white",
             "linecolor": "white",
             "minorgridcolor": "white",
             "startlinecolor": "#2a3f5f"
            },
            "type": "carpet"
           }
          ],
          "choropleth": [
           {
            "colorbar": {
             "outlinewidth": 0,
             "ticks": ""
            },
            "type": "choropleth"
           }
          ],
          "contour": [
           {
            "colorbar": {
             "outlinewidth": 0,
             "ticks": ""
            },
            "colorscale": [
             [
              0,
              "#0d0887"
             ],
             [
              0.1111111111111111,
              "#46039f"
             ],
             [
              0.2222222222222222,
              "#7201a8"
             ],
             [
              0.3333333333333333,
              "#9c179e"
             ],
             [
              0.4444444444444444,
              "#bd3786"
             ],
             [
              0.5555555555555556,
              "#d8576b"
             ],
             [
              0.6666666666666666,
              "#ed7953"
             ],
             [
              0.7777777777777778,
              "#fb9f3a"
             ],
             [
              0.8888888888888888,
              "#fdca26"
             ],
             [
              1,
              "#f0f921"
             ]
            ],
            "type": "contour"
           }
          ],
          "contourcarpet": [
           {
            "colorbar": {
             "outlinewidth": 0,
             "ticks": ""
            },
            "type": "contourcarpet"
           }
          ],
          "heatmap": [
           {
            "colorbar": {
             "outlinewidth": 0,
             "ticks": ""
            },
            "colorscale": [
             [
              0,
              "#0d0887"
             ],
             [
              0.1111111111111111,
              "#46039f"
             ],
             [
              0.2222222222222222,
              "#7201a8"
             ],
             [
              0.3333333333333333,
              "#9c179e"
             ],
             [
              0.4444444444444444,
              "#bd3786"
             ],
             [
              0.5555555555555556,
              "#d8576b"
             ],
             [
              0.6666666666666666,
              "#ed7953"
             ],
             [
              0.7777777777777778,
              "#fb9f3a"
             ],
             [
              0.8888888888888888,
              "#fdca26"
             ],
             [
              1,
              "#f0f921"
             ]
            ],
            "type": "heatmap"
           }
          ],
          "heatmapgl": [
           {
            "colorbar": {
             "outlinewidth": 0,
             "ticks": ""
            },
            "colorscale": [
             [
              0,
              "#0d0887"
             ],
             [
              0.1111111111111111,
              "#46039f"
             ],
             [
              0.2222222222222222,
              "#7201a8"
             ],
             [
              0.3333333333333333,
              "#9c179e"
             ],
             [
              0.4444444444444444,
              "#bd3786"
             ],
             [
              0.5555555555555556,
              "#d8576b"
             ],
             [
              0.6666666666666666,
              "#ed7953"
             ],
             [
              0.7777777777777778,
              "#fb9f3a"
             ],
             [
              0.8888888888888888,
              "#fdca26"
             ],
             [
              1,
              "#f0f921"
             ]
            ],
            "type": "heatmapgl"
           }
          ],
          "histogram": [
           {
            "marker": {
             "pattern": {
              "fillmode": "overlay",
              "size": 10,
              "solidity": 0.2
             }
            },
            "type": "histogram"
           }
          ],
          "histogram2d": [
           {
            "colorbar": {
             "outlinewidth": 0,
             "ticks": ""
            },
            "colorscale": [
             [
              0,
              "#0d0887"
             ],
             [
              0.1111111111111111,
              "#46039f"
             ],
             [
              0.2222222222222222,
              "#7201a8"
             ],
             [
              0.3333333333333333,
              "#9c179e"
             ],
             [
              0.4444444444444444,
              "#bd3786"
             ],
             [
              0.5555555555555556,
              "#d8576b"
             ],
             [
              0.6666666666666666,
              "#ed7953"
             ],
             [
              0.7777777777777778,
              "#fb9f3a"
             ],
             [
              0.8888888888888888,
              "#fdca26"
             ],
             [
              1,
              "#f0f921"
             ]
            ],
            "type": "histogram2d"
           }
          ],
          "histogram2dcontour": [
           {
            "colorbar": {
             "outlinewidth": 0,
             "ticks": ""
            },
            "colorscale": [
             [
              0,
              "#0d0887"
             ],
             [
              0.1111111111111111,
              "#46039f"
             ],
             [
              0.2222222222222222,
              "#7201a8"
             ],
             [
              0.3333333333333333,
              "#9c179e"
             ],
             [
              0.4444444444444444,
              "#bd3786"
             ],
             [
              0.5555555555555556,
              "#d8576b"
             ],
             [
              0.6666666666666666,
              "#ed7953"
             ],
             [
              0.7777777777777778,
              "#fb9f3a"
             ],
             [
              0.8888888888888888,
              "#fdca26"
             ],
             [
              1,
              "#f0f921"
             ]
            ],
            "type": "histogram2dcontour"
           }
          ],
          "mesh3d": [
           {
            "colorbar": {
             "outlinewidth": 0,
             "ticks": ""
            },
            "type": "mesh3d"
           }
          ],
          "parcoords": [
           {
            "line": {
             "colorbar": {
              "outlinewidth": 0,
              "ticks": ""
             }
            },
            "type": "parcoords"
           }
          ],
          "pie": [
           {
            "automargin": true,
            "type": "pie"
           }
          ],
          "scatter": [
           {
            "fillpattern": {
             "fillmode": "overlay",
             "size": 10,
             "solidity": 0.2
            },
            "type": "scatter"
           }
          ],
          "scatter3d": [
           {
            "line": {
             "colorbar": {
              "outlinewidth": 0,
              "ticks": ""
             }
            },
            "marker": {
             "colorbar": {
              "outlinewidth": 0,
              "ticks": ""
             }
            },
            "type": "scatter3d"
           }
          ],
          "scattercarpet": [
           {
            "marker": {
             "colorbar": {
              "outlinewidth": 0,
              "ticks": ""
             }
            },
            "type": "scattercarpet"
           }
          ],
          "scattergeo": [
           {
            "marker": {
             "colorbar": {
              "outlinewidth": 0,
              "ticks": ""
             }
            },
            "type": "scattergeo"
           }
          ],
          "scattergl": [
           {
            "marker": {
             "colorbar": {
              "outlinewidth": 0,
              "ticks": ""
             }
            },
            "type": "scattergl"
           }
          ],
          "scattermapbox": [
           {
            "marker": {
             "colorbar": {
              "outlinewidth": 0,
              "ticks": ""
             }
            },
            "type": "scattermapbox"
           }
          ],
          "scatterpolar": [
           {
            "marker": {
             "colorbar": {
              "outlinewidth": 0,
              "ticks": ""
             }
            },
            "type": "scatterpolar"
           }
          ],
          "scatterpolargl": [
           {
            "marker": {
             "colorbar": {
              "outlinewidth": 0,
              "ticks": ""
             }
            },
            "type": "scatterpolargl"
           }
          ],
          "scatterternary": [
           {
            "marker": {
             "colorbar": {
              "outlinewidth": 0,
              "ticks": ""
             }
            },
            "type": "scatterternary"
           }
          ],
          "surface": [
           {
            "colorbar": {
             "outlinewidth": 0,
             "ticks": ""
            },
            "colorscale": [
             [
              0,
              "#0d0887"
             ],
             [
              0.1111111111111111,
              "#46039f"
             ],
             [
              0.2222222222222222,
              "#7201a8"
             ],
             [
              0.3333333333333333,
              "#9c179e"
             ],
             [
              0.4444444444444444,
              "#bd3786"
             ],
             [
              0.5555555555555556,
              "#d8576b"
             ],
             [
              0.6666666666666666,
              "#ed7953"
             ],
             [
              0.7777777777777778,
              "#fb9f3a"
             ],
             [
              0.8888888888888888,
              "#fdca26"
             ],
             [
              1,
              "#f0f921"
             ]
            ],
            "type": "surface"
           }
          ],
          "table": [
           {
            "cells": {
             "fill": {
              "color": "#EBF0F8"
             },
             "line": {
              "color": "white"
             }
            },
            "header": {
             "fill": {
              "color": "#C8D4E3"
             },
             "line": {
              "color": "white"
             }
            },
            "type": "table"
           }
          ]
         },
         "layout": {
          "annotationdefaults": {
           "arrowcolor": "#2a3f5f",
           "arrowhead": 0,
           "arrowwidth": 1
          },
          "autotypenumbers": "strict",
          "coloraxis": {
           "colorbar": {
            "outlinewidth": 0,
            "ticks": ""
           }
          },
          "colorscale": {
           "diverging": [
            [
             0,
             "#8e0152"
            ],
            [
             0.1,
             "#c51b7d"
            ],
            [
             0.2,
             "#de77ae"
            ],
            [
             0.3,
             "#f1b6da"
            ],
            [
             0.4,
             "#fde0ef"
            ],
            [
             0.5,
             "#f7f7f7"
            ],
            [
             0.6,
             "#e6f5d0"
            ],
            [
             0.7,
             "#b8e186"
            ],
            [
             0.8,
             "#7fbc41"
            ],
            [
             0.9,
             "#4d9221"
            ],
            [
             1,
             "#276419"
            ]
           ],
           "sequential": [
            [
             0,
             "#0d0887"
            ],
            [
             0.1111111111111111,
             "#46039f"
            ],
            [
             0.2222222222222222,
             "#7201a8"
            ],
            [
             0.3333333333333333,
             "#9c179e"
            ],
            [
             0.4444444444444444,
             "#bd3786"
            ],
            [
             0.5555555555555556,
             "#d8576b"
            ],
            [
             0.6666666666666666,
             "#ed7953"
            ],
            [
             0.7777777777777778,
             "#fb9f3a"
            ],
            [
             0.8888888888888888,
             "#fdca26"
            ],
            [
             1,
             "#f0f921"
            ]
           ],
           "sequentialminus": [
            [
             0,
             "#0d0887"
            ],
            [
             0.1111111111111111,
             "#46039f"
            ],
            [
             0.2222222222222222,
             "#7201a8"
            ],
            [
             0.3333333333333333,
             "#9c179e"
            ],
            [
             0.4444444444444444,
             "#bd3786"
            ],
            [
             0.5555555555555556,
             "#d8576b"
            ],
            [
             0.6666666666666666,
             "#ed7953"
            ],
            [
             0.7777777777777778,
             "#fb9f3a"
            ],
            [
             0.8888888888888888,
             "#fdca26"
            ],
            [
             1,
             "#f0f921"
            ]
           ]
          },
          "colorway": [
           "#636efa",
           "#EF553B",
           "#00cc96",
           "#ab63fa",
           "#FFA15A",
           "#19d3f3",
           "#FF6692",
           "#B6E880",
           "#FF97FF",
           "#FECB52"
          ],
          "font": {
           "color": "#2a3f5f"
          },
          "geo": {
           "bgcolor": "white",
           "lakecolor": "white",
           "landcolor": "#E5ECF6",
           "showlakes": true,
           "showland": true,
           "subunitcolor": "white"
          },
          "hoverlabel": {
           "align": "left"
          },
          "hovermode": "closest",
          "mapbox": {
           "style": "light"
          },
          "paper_bgcolor": "white",
          "plot_bgcolor": "#E5ECF6",
          "polar": {
           "angularaxis": {
            "gridcolor": "white",
            "linecolor": "white",
            "ticks": ""
           },
           "bgcolor": "#E5ECF6",
           "radialaxis": {
            "gridcolor": "white",
            "linecolor": "white",
            "ticks": ""
           }
          },
          "scene": {
           "xaxis": {
            "backgroundcolor": "#E5ECF6",
            "gridcolor": "white",
            "gridwidth": 2,
            "linecolor": "white",
            "showbackground": true,
            "ticks": "",
            "zerolinecolor": "white"
           },
           "yaxis": {
            "backgroundcolor": "#E5ECF6",
            "gridcolor": "white",
            "gridwidth": 2,
            "linecolor": "white",
            "showbackground": true,
            "ticks": "",
            "zerolinecolor": "white"
           },
           "zaxis": {
            "backgroundcolor": "#E5ECF6",
            "gridcolor": "white",
            "gridwidth": 2,
            "linecolor": "white",
            "showbackground": true,
            "ticks": "",
            "zerolinecolor": "white"
           }
          },
          "shapedefaults": {
           "line": {
            "color": "#2a3f5f"
           }
          },
          "ternary": {
           "aaxis": {
            "gridcolor": "white",
            "linecolor": "white",
            "ticks": ""
           },
           "baxis": {
            "gridcolor": "white",
            "linecolor": "white",
            "ticks": ""
           },
           "bgcolor": "#E5ECF6",
           "caxis": {
            "gridcolor": "white",
            "linecolor": "white",
            "ticks": ""
           }
          },
          "title": {
           "x": 0.05
          },
          "xaxis": {
           "automargin": true,
           "gridcolor": "white",
           "linecolor": "white",
           "ticks": "",
           "title": {
            "standoff": 15
           },
           "zerolinecolor": "white",
           "zerolinewidth": 2
          },
          "yaxis": {
           "automargin": true,
           "gridcolor": "white",
           "linecolor": "white",
           "ticks": "",
           "title": {
            "standoff": 15
           },
           "zerolinecolor": "white",
           "zerolinewidth": 2
          }
         }
        },
        "title": {
         "text": "2D PCA Plot of User Data by Week with Representative Trajectories"
        },
        "xaxis": {
         "title": {
          "text": "PCA1"
         }
        },
        "yaxis": {
         "title": {
          "text": "PCA2"
         }
        }
       }
      }
     },
     "metadata": {},
     "output_type": "display_data"
    }
   ],
   "source": [
    "from scipy.cluster.hierarchy import linkage, fcluster\n",
    "from scipy.spatial.distance import pdist, squareform\n",
    "from fastdtw import fastdtw\n",
    "from scipy.spatial.distance import euclidean\n",
    "\n",
    "# Select a subset of unique CloudId values (e.g., the first 10 unique CloudIds)\n",
    "unique_cloud_ids = reduced_bio['CloudId'].unique()[:100]\n",
    "\n",
    "# Collect all user trajectories\n",
    "trajectories = []\n",
    "valid_cloud_ids = []\n",
    "for cloud_id in unique_cloud_ids:\n",
    "    user_data = reduced_bio[reduced_bio['CloudId'] == cloud_id]\n",
    "    trajectory = user_data[['PCA1', 'PCA2']].values\n",
    "    if len(trajectory) > 0:  # Filter out empty trajectories\n",
    "        trajectories.append(trajectory)\n",
    "        valid_cloud_ids.append(cloud_id)\n",
    "\n",
    "# Compute pairwise DTW distances\n",
    "n = len(trajectories)\n",
    "distance_matrix = np.zeros((n, n))\n",
    "for i in range(n):\n",
    "    for j in range(i + 1, n):\n",
    "        distance, path = fastdtw(trajectories[i], trajectories[j], dist=euclidean)\n",
    "        distance_matrix[i, j] = distance\n",
    "        distance_matrix[j, i] = distance\n",
    "\n",
    "# Perform hierarchical clustering\n",
    "Z = linkage(squareform(distance_matrix), method='ward')\n",
    "cluster_labels = fcluster(Z, t=5, criterion='maxclust')  # Adjust the number of clusters as needed\n",
    "\n",
    "# Compute representative trajectories (medoids)\n",
    "representative_trajectories = []\n",
    "for cluster in np.unique(cluster_labels):\n",
    "    cluster_indices = np.where(cluster_labels == cluster)[0]\n",
    "    cluster_trajectories = [trajectories[i] for i in cluster_indices]\n",
    "    \n",
    "    # Compute the medoid trajectory\n",
    "    medoid_index = np.argmin([np.sum([fastdtw(t1, t2, dist=euclidean)[0] for t2 in cluster_trajectories]) for t1 in cluster_trajectories])\n",
    "    representative_trajectories.append(cluster_trajectories[medoid_index])\n",
    "\n",
    "# Initialize a new figure\n",
    "fig = go.Figure()\n",
    "\n",
    "# Plot the representative trajectories with cluster colors\n",
    "for i, trajectory in enumerate(representative_trajectories):\n",
    "    fig.add_trace(go.Scatter(\n",
    "        x=trajectory[:, 0],\n",
    "        y=trajectory[:, 1],\n",
    "        mode='lines+markers',\n",
    "        line_shape='spline',\n",
    "        marker=dict(size=6, color=i, colorscale='Viridis'),  # Set marker size to 6\n",
    "        line=dict(shape='spline', color=f'hsl({i * 40}, 70%, 50%)'),\n",
    "        name=f'Cluster {i + 1}'\n",
    "    ))\n",
    "\n",
    "fig.update_layout(\n",
    "    title='2D PCA Plot of User Data by Week with Representative Trajectories',\n",
    "    xaxis_title='PCA1',\n",
    "    yaxis_title='PCA2',\n",
    "    showlegend=True\n",
    ")\n",
    "\n",
    "# Add a legend to the plot\n",
    "fig.update_layout(\n",
    "    legend_title_text='Cluster',\n",
    "    legend_title_font_size=16,\n",
    "    legend_font_size=12\n",
    ")\n",
    "\n",
    "fig.show()"
   ]
  },
  {
   "cell_type": "code",
   "execution_count": null,
   "metadata": {},
   "outputs": [],
   "source": []
  }
 ],
 "metadata": {
  "kernelspec": {
   "display_name": "umap",
   "language": "python",
   "name": "python3"
  },
  "language_info": {
   "codemirror_mode": {
    "name": "ipython",
    "version": 3
   },
   "file_extension": ".py",
   "mimetype": "text/x-python",
   "name": "python",
   "nbconvert_exporter": "python",
   "pygments_lexer": "ipython3",
   "version": "3.10.15"
  }
 },
 "nbformat": 4,
 "nbformat_minor": 2
}
