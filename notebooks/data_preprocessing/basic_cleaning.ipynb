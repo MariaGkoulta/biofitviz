{
 "cells": [
  {
   "cell_type": "code",
   "execution_count": 20,
   "metadata": {},
   "outputs": [],
   "source": [
    "import os\n",
    "import pandas as pd\n",
    "\n",
    "# Dictionary to store dataframes with filenames as keys\n",
    "dataframes = {}\n",
    "\n",
    "# Path to the data folder\n",
    "data_folder = 'data/'\n",
    "\n",
    "# Loop through all files in the data folder\n",
    "for filename in os.listdir(data_folder):\n",
    "    if filename.endswith('.csv'):\n",
    "        file_path = os.path.join(data_folder, filename)\n",
    "        df = pd.read_csv(file_path)\n",
    "        dataframes[filename[:-4]] = df\n"
   ]
  },
  {
   "cell_type": "markdown",
   "metadata": {},
   "source": [
    "- Data from 2022\n",
    "- Keep only users that have both biometrics and exercise data\n",
    "- Drop records where we dont have a timestamp\n",
    "- Drop duplicates"
   ]
  },
  {
   "cell_type": "code",
   "execution_count": 21,
   "metadata": {},
   "outputs": [],
   "source": [
    "import matplotlib.pyplot as plt\n",
    "import seaborn as sns"
   ]
  },
  {
   "cell_type": "code",
   "execution_count": 22,
   "metadata": {},
   "outputs": [
    {
     "data": {
      "text/html": [
       "<div>\n",
       "<style scoped>\n",
       "    .dataframe tbody tr th:only-of-type {\n",
       "        vertical-align: middle;\n",
       "    }\n",
       "\n",
       "    .dataframe tbody tr th {\n",
       "        vertical-align: top;\n",
       "    }\n",
       "\n",
       "    .dataframe thead th {\n",
       "        text-align: right;\n",
       "    }\n",
       "</style>\n",
       "<table border=\"1\" class=\"dataframe\">\n",
       "  <thead>\n",
       "    <tr style=\"text-align: right;\">\n",
       "      <th></th>\n",
       "      <th>CloudId</th>\n",
       "      <th>Gender</th>\n",
       "      <th>Age</th>\n",
       "      <th>PhysicalActivityMacroTypeName</th>\n",
       "      <th>ExerciseName</th>\n",
       "      <th>EquipmentName</th>\n",
       "      <th>DoneOnUTC</th>\n",
       "      <th>Duration_sec</th>\n",
       "      <th>Calories</th>\n",
       "      <th>MetsMin</th>\n",
       "    </tr>\n",
       "  </thead>\n",
       "  <tbody>\n",
       "    <tr>\n",
       "      <th>0</th>\n",
       "      <td>ed958cce9812f1b8607f8c8ab5836c1f450f858b</td>\n",
       "      <td>M</td>\n",
       "      <td>13</td>\n",
       "      <td>Cardio</td>\n",
       "      <td>Custom exercise in time</td>\n",
       "      <td>Bike Artis</td>\n",
       "      <td>2022-01-23 10:00:31.425 UTC</td>\n",
       "      <td>215</td>\n",
       "      <td>30.0</td>\n",
       "      <td>5.6</td>\n",
       "    </tr>\n",
       "    <tr>\n",
       "      <th>1</th>\n",
       "      <td>ed958cce9812f1b8607f8c8ab5836c1f450f858b</td>\n",
       "      <td>M</td>\n",
       "      <td>13</td>\n",
       "      <td>Cardio</td>\n",
       "      <td>GOAL exercise in time</td>\n",
       "      <td>Run Artis</td>\n",
       "      <td>2022-01-23 10:09:01.153 UTC</td>\n",
       "      <td>215</td>\n",
       "      <td>29.0</td>\n",
       "      <td>5.3</td>\n",
       "    </tr>\n",
       "    <tr>\n",
       "      <th>2</th>\n",
       "      <td>ed958cce9812f1b8607f8c8ab5836c1f450f858b</td>\n",
       "      <td>M</td>\n",
       "      <td>13</td>\n",
       "      <td>Isotonic</td>\n",
       "      <td>Leg curl</td>\n",
       "      <td>Leg Curl Biostr</td>\n",
       "      <td>2022-01-23 10:28:49.724 UTC</td>\n",
       "      <td>85</td>\n",
       "      <td>9.0</td>\n",
       "      <td>4.0</td>\n",
       "    </tr>\n",
       "    <tr>\n",
       "      <th>3</th>\n",
       "      <td>56a55ec8f237732fff2239735b469e346c8a5f6b</td>\n",
       "      <td>M</td>\n",
       "      <td>17</td>\n",
       "      <td>Cardio</td>\n",
       "      <td>GOAL exercise in time</td>\n",
       "      <td>Run</td>\n",
       "      <td>2022-01-23 08:52:44.24 UTC</td>\n",
       "      <td>600</td>\n",
       "      <td>90.0</td>\n",
       "      <td>8.4</td>\n",
       "    </tr>\n",
       "    <tr>\n",
       "      <th>4</th>\n",
       "      <td>926bd1a7bbf9ccd40101befc6d409e2aa5979fd2</td>\n",
       "      <td>F</td>\n",
       "      <td>17</td>\n",
       "      <td>Cardio</td>\n",
       "      <td>GOAL exercise in time</td>\n",
       "      <td>Run</td>\n",
       "      <td>2022-01-23 17:13:38.84 UTC</td>\n",
       "      <td>660</td>\n",
       "      <td>126.0</td>\n",
       "      <td>8.6</td>\n",
       "    </tr>\n",
       "    <tr>\n",
       "      <th>...</th>\n",
       "      <td>...</td>\n",
       "      <td>...</td>\n",
       "      <td>...</td>\n",
       "      <td>...</td>\n",
       "      <td>...</td>\n",
       "      <td>...</td>\n",
       "      <td>...</td>\n",
       "      <td>...</td>\n",
       "      <td>...</td>\n",
       "      <td>...</td>\n",
       "    </tr>\n",
       "    <tr>\n",
       "      <th>1039190</th>\n",
       "      <td>14b8cde284d65e69d081f4a683a95dcdd70b6d10</td>\n",
       "      <td>F</td>\n",
       "      <td>51</td>\n",
       "      <td>Isotonic</td>\n",
       "      <td>Hip mobility</td>\n",
       "      <td>Wellness Ball Active Sitting</td>\n",
       "      <td>2022-03-30 05:30:30.444 UTC</td>\n",
       "      <td>60</td>\n",
       "      <td>4.0</td>\n",
       "      <td>5.0</td>\n",
       "    </tr>\n",
       "    <tr>\n",
       "      <th>1039191</th>\n",
       "      <td>14b8cde284d65e69d081f4a683a95dcdd70b6d10</td>\n",
       "      <td>F</td>\n",
       "      <td>51</td>\n",
       "      <td>Isotonic</td>\n",
       "      <td>Ab stretch - legs bent</td>\n",
       "      <td>Wellness Ball Active Sitting</td>\n",
       "      <td>2022-03-30 05:26:44.718 UTC</td>\n",
       "      <td>60</td>\n",
       "      <td>2.0</td>\n",
       "      <td>2.5</td>\n",
       "    </tr>\n",
       "    <tr>\n",
       "      <th>1039192</th>\n",
       "      <td>14b8cde284d65e69d081f4a683a95dcdd70b6d10</td>\n",
       "      <td>F</td>\n",
       "      <td>51</td>\n",
       "      <td>Isotonic</td>\n",
       "      <td>Pelvic tilt &amp; low back mobility - feet lifted</td>\n",
       "      <td>Wellness Ball Active Sitting</td>\n",
       "      <td>2022-03-30 05:25:41.653 UTC</td>\n",
       "      <td>60</td>\n",
       "      <td>4.0</td>\n",
       "      <td>5.0</td>\n",
       "    </tr>\n",
       "    <tr>\n",
       "      <th>1039193</th>\n",
       "      <td>14b8cde284d65e69d081f4a683a95dcdd70b6d10</td>\n",
       "      <td>F</td>\n",
       "      <td>51</td>\n",
       "      <td>Isotonic</td>\n",
       "      <td>Anterior pelvic tilt - seated</td>\n",
       "      <td>Wellness Ball Active Sitting</td>\n",
       "      <td>2022-03-30 05:34:33.52 UTC</td>\n",
       "      <td>60</td>\n",
       "      <td>4.0</td>\n",
       "      <td>5.0</td>\n",
       "    </tr>\n",
       "    <tr>\n",
       "      <th>1039194</th>\n",
       "      <td>a5f88e9d67c799b70630fb91110e70e5d2410883</td>\n",
       "      <td>M</td>\n",
       "      <td>66</td>\n",
       "      <td>Isotonic</td>\n",
       "      <td>Posterior pelvic tilt - seated</td>\n",
       "      <td>Wellness Ball Active Sitting</td>\n",
       "      <td>2022-03-30 14:44:48.872 UTC</td>\n",
       "      <td>484</td>\n",
       "      <td>30.0</td>\n",
       "      <td>3.0</td>\n",
       "    </tr>\n",
       "  </tbody>\n",
       "</table>\n",
       "<p>1039195 rows × 10 columns</p>\n",
       "</div>"
      ],
      "text/plain": [
       "                                          CloudId Gender  Age  \\\n",
       "0        ed958cce9812f1b8607f8c8ab5836c1f450f858b      M   13   \n",
       "1        ed958cce9812f1b8607f8c8ab5836c1f450f858b      M   13   \n",
       "2        ed958cce9812f1b8607f8c8ab5836c1f450f858b      M   13   \n",
       "3        56a55ec8f237732fff2239735b469e346c8a5f6b      M   17   \n",
       "4        926bd1a7bbf9ccd40101befc6d409e2aa5979fd2      F   17   \n",
       "...                                           ...    ...  ...   \n",
       "1039190  14b8cde284d65e69d081f4a683a95dcdd70b6d10      F   51   \n",
       "1039191  14b8cde284d65e69d081f4a683a95dcdd70b6d10      F   51   \n",
       "1039192  14b8cde284d65e69d081f4a683a95dcdd70b6d10      F   51   \n",
       "1039193  14b8cde284d65e69d081f4a683a95dcdd70b6d10      F   51   \n",
       "1039194  a5f88e9d67c799b70630fb91110e70e5d2410883      M   66   \n",
       "\n",
       "        PhysicalActivityMacroTypeName  \\\n",
       "0                              Cardio   \n",
       "1                              Cardio   \n",
       "2                            Isotonic   \n",
       "3                              Cardio   \n",
       "4                              Cardio   \n",
       "...                               ...   \n",
       "1039190                      Isotonic   \n",
       "1039191                      Isotonic   \n",
       "1039192                      Isotonic   \n",
       "1039193                      Isotonic   \n",
       "1039194                      Isotonic   \n",
       "\n",
       "                                          ExerciseName  \\\n",
       "0                              Custom exercise in time   \n",
       "1                                GOAL exercise in time   \n",
       "2                                             Leg curl   \n",
       "3                                GOAL exercise in time   \n",
       "4                                GOAL exercise in time   \n",
       "...                                                ...   \n",
       "1039190                                   Hip mobility   \n",
       "1039191                         Ab stretch - legs bent   \n",
       "1039192  Pelvic tilt & low back mobility - feet lifted   \n",
       "1039193                  Anterior pelvic tilt - seated   \n",
       "1039194                 Posterior pelvic tilt - seated   \n",
       "\n",
       "                        EquipmentName                    DoneOnUTC  \\\n",
       "0                          Bike Artis  2022-01-23 10:00:31.425 UTC   \n",
       "1                           Run Artis  2022-01-23 10:09:01.153 UTC   \n",
       "2                     Leg Curl Biostr  2022-01-23 10:28:49.724 UTC   \n",
       "3                                 Run   2022-01-23 08:52:44.24 UTC   \n",
       "4                                 Run   2022-01-23 17:13:38.84 UTC   \n",
       "...                               ...                          ...   \n",
       "1039190  Wellness Ball Active Sitting  2022-03-30 05:30:30.444 UTC   \n",
       "1039191  Wellness Ball Active Sitting  2022-03-30 05:26:44.718 UTC   \n",
       "1039192  Wellness Ball Active Sitting  2022-03-30 05:25:41.653 UTC   \n",
       "1039193  Wellness Ball Active Sitting   2022-03-30 05:34:33.52 UTC   \n",
       "1039194  Wellness Ball Active Sitting  2022-03-30 14:44:48.872 UTC   \n",
       "\n",
       "         Duration_sec  Calories  MetsMin  \n",
       "0                 215      30.0      5.6  \n",
       "1                 215      29.0      5.3  \n",
       "2                  85       9.0      4.0  \n",
       "3                 600      90.0      8.4  \n",
       "4                 660     126.0      8.6  \n",
       "...               ...       ...      ...  \n",
       "1039190            60       4.0      5.0  \n",
       "1039191            60       2.0      2.5  \n",
       "1039192            60       4.0      5.0  \n",
       "1039193            60       4.0      5.0  \n",
       "1039194           484      30.0      3.0  \n",
       "\n",
       "[1039195 rows x 10 columns]"
      ]
     },
     "execution_count": 22,
     "metadata": {},
     "output_type": "execute_result"
    }
   ],
   "source": [
    "dataframes['ex1']"
   ]
  },
  {
   "cell_type": "code",
   "execution_count": 23,
   "metadata": {},
   "outputs": [
    {
     "name": "stdout",
     "output_type": "stream",
     "text": [
      "Columns in dataframe 'bio2':\n",
      "Index(['CloudId', 'Gender', 'Age', 'BiometricName', 'MeasureProvidedBy',\n",
      "       'MeasuredOnUTC', 'Value'],\n",
      "      dtype='object')\n",
      "\n",
      "Columns in dataframe 'bio1':\n",
      "Index(['CloudId', 'Gender', 'Age', 'BiometricName', 'MeasureProvidedBy',\n",
      "       'MeasuredOnUTC', 'Value'],\n",
      "      dtype='object')\n",
      "\n",
      "Columns in dataframe 'ex1':\n",
      "Index(['CloudId', 'Gender', 'Age', 'PhysicalActivityMacroTypeName',\n",
      "       'ExerciseName', 'EquipmentName', 'DoneOnUTC', 'Duration_sec',\n",
      "       'Calories', 'MetsMin'],\n",
      "      dtype='object')\n",
      "\n",
      "Columns in dataframe 'ex2':\n",
      "Index(['CloudId', 'Gender', 'Age', 'PhysicalActivityMacroTypeName',\n",
      "       'ExerciseName', 'ExerciseBodyPartName', 'ExerciseMusclesName',\n",
      "       'EquipmentName', 'DoneOnUTC', 'Duration_sec', 'Calories', 'METs'],\n",
      "      dtype='object')\n",
      "\n"
     ]
    }
   ],
   "source": [
    "for name, df in dataframes.items():\n",
    "    print(f\"Columns in dataframe '{name}':\")\n",
    "    print(df.columns)\n",
    "    print()"
   ]
  },
  {
   "cell_type": "markdown",
   "metadata": {},
   "source": [
    "### Check ranges"
   ]
  },
  {
   "cell_type": "code",
   "execution_count": 24,
   "metadata": {},
   "outputs": [
    {
     "name": "stdout",
     "output_type": "stream",
     "text": [
      "Time range for the combined dataframe: 2022-01-02 01:34:04.924000+00:00 to 2022-12-31 23:27:32.374000+00:00\n"
     ]
    }
   ],
   "source": [
    "# Concatenate the dataframes\n",
    "biometrics = pd.concat([dataframes['bio1'], dataframes['bio2']])\n",
    "\n",
    "# Convert the 'MeasuredOnUTC' column to datetime\n",
    "biometrics['MeasuredOnUTC'] = pd.to_datetime(biometrics['MeasuredOnUTC'], errors='coerce')\n",
    "\n",
    "# Drop rows with NaT in 'MeasuredOnUTC'\n",
    "biometrics = biometrics.dropna(subset=['MeasuredOnUTC'])\n",
    "\n",
    "# Get the time range\n",
    "time_range = (biometrics['MeasuredOnUTC'].min(), biometrics['MeasuredOnUTC'].max())\n",
    "\n",
    "print(f\"Time range for the combined dataframe: {time_range[0]} to {time_range[1]}\")"
   ]
  },
  {
   "cell_type": "code",
   "execution_count": 7,
   "metadata": {},
   "outputs": [
    {
     "name": "stdout",
     "output_type": "stream",
     "text": [
      "Time range for the combined dataframe: 2022-01-02 00:00:45.421000+00:00 to 2022-12-31 23:59:42.223000+00:00\n"
     ]
    }
   ],
   "source": [
    "# Concatenate the dataframes\n",
    "exercises = pd.concat([dataframes['ex1'], dataframes['ex2']])\n",
    "\n",
    "# Convert the 'MeasuredOnUTC' column to datetime\n",
    "exercises['DoneOnUTC'] = pd.to_datetime(exercises['DoneOnUTC'], errors='coerce')\n",
    "\n",
    "# Drop rows with NaT in 'MeasuredOnUTC'\n",
    "exercises = exercises.dropna(subset=['DoneOnUTC'])\n",
    "\n",
    "# Get the time range\n",
    "time_range = (exercises['DoneOnUTC'].min(), exercises['DoneOnUTC'].max())\n",
    "\n",
    "print(f\"Time range for the combined dataframe: {time_range[0]} to {time_range[1]}\")"
   ]
  },
  {
   "cell_type": "markdown",
   "metadata": {},
   "source": [
    "### Keep only users for which we have both biometrics and exercise data"
   ]
  },
  {
   "cell_type": "code",
   "execution_count": 25,
   "metadata": {},
   "outputs": [
    {
     "name": "stdout",
     "output_type": "stream",
     "text": [
      "Number of distinct users in exercises dataframe: 6360\n",
      "Number of distinct users in biometrics dataframe: 8312\n"
     ]
    }
   ],
   "source": [
    "# Count the number of distinct users in the exercises dataframe\n",
    "distinct_users_exercises = exercises['CloudId'].nunique()\n",
    "print(f\"Number of distinct users in exercises dataframe: {distinct_users_exercises}\")\n",
    "\n",
    "# Count the number of distinct users in the biometrics dataframe\n",
    "distinct_users_biometrics = biometrics['CloudId'].nunique()\n",
    "print(f\"Number of distinct users in biometrics dataframe: {distinct_users_biometrics}\")"
   ]
  },
  {
   "cell_type": "code",
   "execution_count": 26,
   "metadata": {},
   "outputs": [
    {
     "name": "stdout",
     "output_type": "stream",
     "text": [
      "Number of common users in both dataframes: 6360\n"
     ]
    }
   ],
   "source": [
    "# Find common users in both dataframes\n",
    "common_users = set(biometrics['CloudId']).intersection(set(exercises['CloudId']))\n",
    "\n",
    "# Filter both dataframes to keep only records with common users\n",
    "biometrics_common = biometrics[biometrics['CloudId'].isin(common_users)]\n",
    "exercises_common = exercises[exercises['CloudId'].isin(common_users)]\n",
    "\n",
    "# Count the number of common users\n",
    "num_common_users = len(common_users)\n",
    "print(f\"Number of common users in both dataframes: {num_common_users}\")"
   ]
  },
  {
   "cell_type": "code",
   "execution_count": 27,
   "metadata": {},
   "outputs": [
    {
     "name": "stdout",
     "output_type": "stream",
     "text": [
      "Filtered biometrics dataframe shape: (4900329, 7)\n",
      "Filtered exercises dataframe shape: (3315940, 13)\n"
     ]
    }
   ],
   "source": [
    "# Filter both dataframes to keep only records with common users\n",
    "biometrics_filtered = biometrics[biometrics['CloudId'].isin(common_users)]\n",
    "exercises_filtered = exercises[exercises['CloudId'].isin(common_users)]\n",
    "\n",
    "print(f\"Filtered biometrics dataframe shape: {biometrics_filtered.shape}\")\n",
    "print(f\"Filtered exercises dataframe shape: {exercises_filtered.shape}\")"
   ]
  },
  {
   "cell_type": "markdown",
   "metadata": {},
   "source": [
    "#### Drop duplicates"
   ]
  },
  {
   "cell_type": "code",
   "execution_count": 28,
   "metadata": {},
   "outputs": [
    {
     "name": "stdout",
     "output_type": "stream",
     "text": [
      "biometrics_filtered shape after removing duplicates: (4889207, 7)\n",
      "exercises_filtered shape after removing duplicates: (3315940, 13)\n"
     ]
    }
   ],
   "source": [
    "# Remove duplicated rows in biometrics_filtered\n",
    "biometrics_filtered = biometrics_filtered.drop_duplicates()\n",
    "\n",
    "# Remove duplicated rows in exercises_filtered\n",
    "exercises_filtered = exercises_filtered.drop_duplicates()\n",
    "\n",
    "print(f\"biometrics_filtered shape after removing duplicates: {biometrics_filtered.shape}\")\n",
    "print(f\"exercises_filtered shape after removing duplicates: {exercises_filtered.shape}\")"
   ]
  },
  {
   "cell_type": "code",
   "execution_count": 29,
   "metadata": {},
   "outputs": [
    {
     "name": "stdout",
     "output_type": "stream",
     "text": [
      "Updated exercises dataframe shape: (3315940, 13)\n",
      "Updated biometrics dataframe shape: (4889207, 7)\n"
     ]
    }
   ],
   "source": [
    "# Update exercises and biometrics with the filtered dataframes\n",
    "exercises = exercises_filtered\n",
    "biometrics = biometrics_filtered\n",
    "\n",
    "print(f\"Updated exercises dataframe shape: {exercises.shape}\")\n",
    "print(f\"Updated biometrics dataframe shape: {biometrics.shape}\")"
   ]
  },
  {
   "cell_type": "code",
   "execution_count": 30,
   "metadata": {},
   "outputs": [
    {
     "name": "stdout",
     "output_type": "stream",
     "text": [
      "6360\n",
      "6360\n"
     ]
    }
   ],
   "source": [
    "print(exercises['CloudId'].nunique())\n",
    "print(biometrics['CloudId'].nunique())"
   ]
  },
  {
   "cell_type": "markdown",
   "metadata": {},
   "source": [
    "### Handle null values"
   ]
  },
  {
   "cell_type": "code",
   "execution_count": 31,
   "metadata": {},
   "outputs": [
    {
     "name": "stdout",
     "output_type": "stream",
     "text": [
      "Null values in biometrics dataframe:\n",
      "CloudId                    0\n",
      "Gender                     0\n",
      "Age                        0\n",
      "BiometricName              0\n",
      "MeasureProvidedBy    4885732\n",
      "MeasuredOnUTC              0\n",
      "Value                      0\n",
      "dtype: int64\n",
      "\n",
      "Null values in exercises dataframe:\n",
      "CloudId                                0\n",
      "Gender                                 0\n",
      "Age                                    0\n",
      "PhysicalActivityMacroTypeName          0\n",
      "ExerciseName                           0\n",
      "EquipmentName                          3\n",
      "DoneOnUTC                              0\n",
      "Duration_sec                           0\n",
      "Calories                               3\n",
      "MetsMin                          2456592\n",
      "ExerciseBodyPartName              862737\n",
      "ExerciseMusclesName               863014\n",
      "METs                              870238\n",
      "dtype: int64\n"
     ]
    }
   ],
   "source": [
    "# Find the number of null values in each dataframe\n",
    "null_values_biometrics = biometrics.isnull().sum()\n",
    "null_values_exercises = exercises.isnull().sum()\n",
    "\n",
    "print(\"Null values in biometrics dataframe:\")\n",
    "print(null_values_biometrics)\n",
    "print(\"\\nNull values in exercises dataframe:\")\n",
    "print(null_values_exercises)"
   ]
  },
  {
   "cell_type": "code",
   "execution_count": 32,
   "metadata": {},
   "outputs": [],
   "source": [
    "# Save the biometrics dataframe to a CSV file\n",
    "biometrics.to_csv('biometrics_cleaned.csv', index=False)\n",
    "\n",
    "# Save the exercises dataframe to a CSV file\n",
    "exercises.to_csv('exercises_cleaned.csv', index=False)"
   ]
  }
 ],
 "metadata": {
  "kernelspec": {
   "display_name": "biofitviz",
   "language": "python",
   "name": "python3"
  },
  "language_info": {
   "codemirror_mode": {
    "name": "ipython",
    "version": 3
   },
   "file_extension": ".py",
   "mimetype": "text/x-python",
   "name": "python",
   "nbconvert_exporter": "python",
   "pygments_lexer": "ipython3",
   "version": "3.10.15"
  }
 },
 "nbformat": 4,
 "nbformat_minor": 2
}
